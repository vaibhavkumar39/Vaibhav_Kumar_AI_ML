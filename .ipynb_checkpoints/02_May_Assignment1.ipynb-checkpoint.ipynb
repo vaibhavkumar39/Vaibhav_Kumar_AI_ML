{
 "cells": [
  {
   "cell_type": "code",
   "execution_count": 1,
   "id": "4609d4a3",
   "metadata": {},
   "outputs": [
    {
     "name": "stdout",
     "output_type": "stream",
     "text": [
      "2 3\n",
      "3 2\n"
     ]
    }
   ],
   "source": [
    "\"\"\"\"1. Declare two variables, `x` and `y`, and assign them integer values. Swap the\n",
    "values of these variables without using any temporary variable.\"\"\"\n",
    "\n",
    "x=2 #Declaration of variable\n",
    "y=3\n",
    "print(x,y)\n",
    "x,y=y,x #Variable swapped by reallocating using commas\n",
    "print(x,y)"
   ]
  },
  {
   "cell_type": "code",
   "execution_count": 2,
   "id": "46810106",
   "metadata": {},
   "outputs": [
    {
     "name": "stdout",
     "output_type": "stream",
     "text": [
      "Enter the Length of rectangle :2\n",
      "Enter the width of rectangle :3\n",
      "6\n"
     ]
    }
   ],
   "source": [
    "\"\"\"\n",
    "2. Create a program that calculates the area of a rectangle. Take the length and\n",
    "width as inputs from the user and store them in variables. Calculate and\n",
    "display the area.\n",
    "\"\"\"\n",
    "length=int(input(\"Enter the Length of rectangle :\")) #length and wdth variable declared\n",
    "width=int(input(\"Enter the width of rectangle :\"))\n",
    "area=length*width  #formula of area\n",
    "print(area)"
   ]
  },
  {
   "cell_type": "code",
   "execution_count": 3,
   "id": "540b729f",
   "metadata": {},
   "outputs": [
    {
     "name": "stdout",
     "output_type": "stream",
     "text": [
      "Enter the tempreature in celcius :2\n",
      "35.6\n"
     ]
    }
   ],
   "source": [
    "\"\"\"\n",
    "3. Write a Python program that converts temperatures from Celsius to\n",
    "Fahrenheit. Take the temperature in Celsius as input, store it in a variable,\n",
    "convert it to Fahrenheit.\"\"\"\n",
    "celciustemp=float(input(\"Enter the tempreature in celcius :\")) #variable that store temp. in celcius\n",
    "fahrenheittemp=(celciustemp * 1.8) + 32 #converting celcius into farhenhiet by usiing formula\n",
    "print(fahrenheittemp)"
   ]
  }
 ],
 "metadata": {
  "kernelspec": {
   "display_name": "Python 3 (ipykernel)",
   "language": "python",
   "name": "python3"
  },
  "language_info": {
   "codemirror_mode": {
    "name": "ipython",
    "version": 3
   },
   "file_extension": ".py",
   "mimetype": "text/x-python",
   "name": "python",
   "nbconvert_exporter": "python",
   "pygments_lexer": "ipython3",
   "version": "3.11.7"
  }
 },
 "nbformat": 4,
 "nbformat_minor": 5
}
