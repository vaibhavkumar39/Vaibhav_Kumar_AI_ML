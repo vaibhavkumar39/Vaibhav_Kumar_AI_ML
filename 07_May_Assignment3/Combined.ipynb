{
 "cells": [
  {
   "cell_type": "code",
   "execution_count": 1,
   "id": "4ef935dd",
   "metadata": {},
   "outputs": [
    {
     "name": "stdout",
     "output_type": "stream",
     "text": [
      "It is zero\n"
     ]
    }
   ],
   "source": [
    "#1. Write a Python program that checks if a given number is positive, negative, or zero.\n",
    "num=0\n",
    "if num<0:\n",
    "    print(\"Negative number\")\n",
    "elif num>0:\n",
    "    print(\"Posiive number\")\n",
    "elif num==0:\n",
    "    print(\"It is zero\")"
   ]
  },
  {
   "cell_type": "code",
   "execution_count": 3,
   "id": "6fc04a54",
   "metadata": {},
   "outputs": [
    {
     "name": "stdout",
     "output_type": "stream",
     "text": [
      "Not eligible\n"
     ]
    }
   ],
   "source": [
    "#2. Create a program to determine if a person is eligible to vote based on their age.\n",
    "num=17\n",
    "if num<18:\n",
    "    print(\"Not eligible\")\n",
    "elif num>=18:\n",
    "    print(\"Eligible to vote\")"
   ]
  },
  {
   "cell_type": "code",
   "execution_count": 5,
   "id": "9e25a255",
   "metadata": {},
   "outputs": [
    {
     "name": "stdout",
     "output_type": "stream",
     "text": [
      "Enter value A: 35.3\n",
      "Enter value B: 35.2\n",
      "35.3 iss bigger\n"
     ]
    }
   ],
   "source": [
    "#3. Write a program to find the maximum of two given numbers using conditional statements.\n",
    "a=float(input(\"Enter value A: \"))\n",
    "b=float(input(\"Enter value B: \"))\n",
    "if a>b:\n",
    "    print(f\"{a} iss bigger\")\n",
    "else:\n",
    "    print(f\"{b} is bigger\")"
   ]
  },
  {
   "cell_type": "code",
   "execution_count": 7,
   "id": "52d4b7c6",
   "metadata": {},
   "outputs": [
    {
     "name": "stdout",
     "output_type": "stream",
     "text": [
      "Grades of student are\n",
      "Fail\n"
     ]
    }
   ],
   "source": [
    "#4. Develop a program that calculates the grade of a student based on their exam score.\n",
    "marks = 29\n",
    "print(\"Grades of student are\")\n",
    "if marks>=90:\n",
    "    print(\"A++\")\n",
    "elif marks>=80:\n",
    "    print(\"A+\")\n",
    "elif marks>=70:\n",
    "    print(\"B\")\n",
    "elif marks>=60:\n",
    "    print(\"C\")\n",
    "elif marks>=50:\n",
    "    print(\"D\")\n",
    "elif marks>=30:\n",
    "    print(\"E\")\n",
    "else:\n",
    "    print(\"Fail\")"
   ]
  },
  {
   "cell_type": "code",
   "execution_count": 9,
   "id": "78addb37",
   "metadata": {},
   "outputs": [
    {
     "name": "stdout",
     "output_type": "stream",
     "text": [
      "Enter a year: 1947\n",
      "is not a Leap Year\n"
     ]
    }
   ],
   "source": [
    "# 5. Create a program that checks if a year is a leap year or not.\n",
    "year = int(input(\"Enter a year: \"))\n",
    "if (year%4==0):\n",
    "    if (year%100==0):\n",
    "        if (year%400==0):\n",
    "            print(\"is a Leap Year\")\n",
    "        else:\n",
    "            print(\"NOT a Leap Year\")\n",
    "    else:\n",
    "        print(\"is a Leap Year\")\n",
    "else:\n",
    "    print(\"is not a Leap Year\")"
   ]
  },
  {
   "cell_type": "code",
   "execution_count": null,
   "id": "1df4fd8d",
   "metadata": {},
   "outputs": [],
   "source": [
    "# 6. Write a program to classify a triangle based on its sides' lengths.\n",
    "a=float(input(\"Enter length of side 1: \"))\n",
    "b=float(input(\"Enter length of side 2: \"))\n",
    "c=float(input(\"Enter length of side 3: \"))\n",
    "if a==b==c:\n",
    "    print(\"It is an Equilateral triangle\")\n",
    "elif a==b or b==c or a==c:\n",
    "    print(\"It is an Isosceles triangle\")\n",
    "elif a!=b!=c:\n",
    "    print(\"It is an Scalane triangle\")"
   ]
  },
  {
   "cell_type": "code",
   "execution_count": 10,
   "id": "923028a7",
   "metadata": {},
   "outputs": [
    {
     "name": "stdout",
     "output_type": "stream",
     "text": [
      "Enter any number1:4\n",
      "Enter any number2: 5\n",
      "Enter any number3: 2\n",
      "5.0 is the largest\n"
     ]
    }
   ],
   "source": [
    "# 7. Build a program that determines the largest of three given numbers.\n",
    "a=float(input(\"Enter any number1:\"))\n",
    "b=float(input(\"Enter any number2: \"))\n",
    "c=float(input(\"Enter any number3: \"))\n",
    "if a<c and b<c:\n",
    "    print(f\"{c} is the largest\")\n",
    "elif b<a and c<a:\n",
    "    print(f\"{a} is the largest\")\n",
    "elif a<b and c<b:\n",
    "    print(f\"{b} is the largest\")"
   ]
  },
  {
   "cell_type": "code",
   "execution_count": 15,
   "id": "22cea088",
   "metadata": {},
   "outputs": [
    {
     "name": "stdout",
     "output_type": "stream",
     "text": [
      "Enter any character: e\n",
      "It is a vowel\n"
     ]
    }
   ],
   "source": [
    "# 8. Develop a program that checks whether a character is a vowel or a consonant.\n",
    "character=input(\"Enter any character: \")\n",
    "vowels=\"aeiou\"\n",
    "if len(character)==1:\n",
    "    if character.isalpha():\n",
    "        if character.lower() in vowels:\n",
    "            print(\"It is a vowel\")\n",
    "        else:\n",
    "            print(\"It is a consonant\")\n",
    "    else:\n",
    "        print(\"Not a letter\")\n",
    "else:\n",
    "    print(\"Please add a single character\")"
   ]
  },
  {
   "cell_type": "code",
   "execution_count": 29,
   "id": "84062324",
   "metadata": {},
   "outputs": [
    {
     "name": "stdout",
     "output_type": "stream",
     "text": [
      "Enter cost of items seperated by commas: 1000,2000\n",
      "Price after discount is: 2700.0\n"
     ]
    }
   ],
   "source": [
    "# 9. Create a program to calculate the total cost of a shopping cart based on discounts.\n",
    "items=input(\"Enter cost of items seperated by commas: \").split(\",\")\n",
    "items=[float(x) for x in items]\n",
    "total=sum(items)\n",
    "disc=0\n",
    "if total>=1000:\n",
    "    disc=total*(1-(10 / 100))\n",
    "    print(f\"Price after discount is: {disc}\")\n",
    "elif total>=2000:\n",
    "    disc=total*(1-(25 / 100))\n",
    "    print(f\"Price after discount is: {disc}\")\n",
    "elif total>=3000:\n",
    "    disc=total*(1-(40 / 100))\n",
    "    print(f\"Price after discount is: {disc}\")"
   ]
  },
  {
   "cell_type": "code",
   "execution_count": 17,
   "id": "32883d32",
   "metadata": {},
   "outputs": [
    {
     "name": "stdout",
     "output_type": "stream",
     "text": [
      "Enter any number23\n",
      "23.0 is odd\n"
     ]
    }
   ],
   "source": [
    "# 10. Write a program that checks if a given number is even or odd.\n",
    "n=float(input(\"Enter any number\"))\n",
    "if n%2==0:\n",
    "    print(n,\"is even\")\n",
    "else:\n",
    "    print(n,\"is odd\")"
   ]
  },
  {
   "cell_type": "code",
   "execution_count": 30,
   "id": "b00c7c9c",
   "metadata": {},
   "outputs": [
    {
     "name": "stdout",
     "output_type": "stream",
     "text": [
      "Enter coefficient a: 23\n",
      "Enter coefficient b: 45\n",
      "Enter coefficient c: 32\n",
      "Root 1 : -0.98 + 0.66i\n",
      "Root 2 : -0.98 + 0.66i\n"
     ]
    }
   ],
   "source": [
    "# 11. Write a program that calculates the roots of a quadratic equation .\n",
    "import math\n",
    "a = float(input(\"Enter coefficient a: \"))\n",
    "b = float(input(\"Enter coefficient b: \"))\n",
    "c = float(input(\"Enter coefficient c: \"))\n",
    "d = b**2 - 4*a*c\n",
    "if d > 0:\n",
    "    root1 = (-b+math.sqrt(d))/(2*a)\n",
    "    root2 = (-b-math.sqrt(d))/(2*a)\n",
    "    print(\"Root 1 :\", root1)\n",
    "    print(\"Root 2 :\", root2)\n",
    "elif d == 0:\n",
    "    root = -b / (2*a)\n",
    "    print(\"Root :\", root)\n",
    "else:\n",
    "    root1 = -b / (2*a)\n",
    "    root2 = math.sqrt(-d) / (2*a)\n",
    "    print(f\"Root 1 : {root1:.2f} + {root2:.2f}i\") \n",
    "    print(f\"Root 2 : {root1:.2f} + {root2:.2f}i\") "
   ]
  },
  {
   "cell_type": "code",
   "execution_count": 32,
   "id": "5bb5f7ea",
   "metadata": {},
   "outputs": [
    {
     "name": "stdout",
     "output_type": "stream",
     "text": [
      "Enter a number: 3\n",
      "Wednesday\n"
     ]
    }
   ],
   "source": [
    "# 12. Create a program that determines the day of the week based on the day number (1-7).\n",
    "week=[\"Monday\",\"Tuesday\",\"Wednesday\",\"Thursday\",\"Friday\",\"Saturday\",\"Sunday\"]\n",
    "num=int(input(\"Enter a number: \"))\n",
    "if num<=7 and num>0:\n",
    "    for i in range(1,len(week)+1):\n",
    "        if i==num:\n",
    "            print(week[i-1])"
   ]
  },
  {
   "cell_type": "code",
   "execution_count": 34,
   "id": "0b37cd92",
   "metadata": {},
   "outputs": [
    {
     "name": "stdout",
     "output_type": "stream",
     "text": [
      "Enter a number: 3\n",
      "Factorial of 3 is 6\n"
     ]
    }
   ],
   "source": [
    "# 13. Develop a program that calculates the factorial of a given number using recursion.\n",
    "def fact(n):\n",
    "    if n==0:\n",
    "        return 1\n",
    "    return n*fact(n-1)\n",
    "n = int(input(\"Enter a number: \"))\n",
    "if num < 0:\n",
    "    print(\"Factorial is not defined for negative numbers.\")\n",
    "else:\n",
    "    print(\"Factorial of\", num, \"is\", fact(n))"
   ]
  },
  {
   "cell_type": "code",
   "execution_count": 35,
   "id": "8d886e55",
   "metadata": {},
   "outputs": [
    {
     "name": "stdout",
     "output_type": "stream",
     "text": [
      "Enter any number1:45\n",
      "Enter any number2: 32\n",
      "Enter any number3: 89\n",
      "89.0 is the largest\n"
     ]
    }
   ],
   "source": [
    "# 14. Write a program to find the largest among three numbers without using the `max()` function.\n",
    "a=float(input(\"Enter any number1:\"))\n",
    "b=float(input(\"Enter any number2: \"))\n",
    "c=float(input(\"Enter any number3: \"))\n",
    "if a<c and b<c:\n",
    "    print(f\"{c} is the largest\")\n",
    "elif b<a and c<a:\n",
    "    print(f\"{a} is the largest\")\n",
    "elif a<b and c<b:\n",
    "    print(f\"{b} is the largest\")"
   ]
  },
  {
   "cell_type": "code",
   "execution_count": null,
   "id": "74ba28ac",
   "metadata": {},
   "outputs": [],
   "source": [
    "# 15. Create a program that simulates a basic ATM transaction menu.\n"
   ]
  },
  {
   "cell_type": "code",
   "execution_count": 38,
   "id": "b4790d26",
   "metadata": {},
   "outputs": [
    {
     "name": "stdout",
     "output_type": "stream",
     "text": [
      "String is palindrome\n"
     ]
    }
   ],
   "source": [
    "# 16. Build a program that checks if a given string is a palindrome or not.\n",
    "string1=\"tenet\"\n",
    "string2=string1[::-1]\n",
    "if string2==string1:\n",
    "    print(\"String is palindrome\")\n",
    "else:\n",
    "    print(\"String is not palindrome\")"
   ]
  },
  {
   "cell_type": "code",
   "execution_count": null,
   "id": "f7054588",
   "metadata": {},
   "outputs": [],
   "source": [
    "# 17. Write a program that calculates the average of a list of numbers, excluding the smallest and largest values.\n"
   ]
  },
  {
   "cell_type": "code",
   "execution_count": null,
   "id": "cc04ac85",
   "metadata": {},
   "outputs": [],
   "source": [
    "# 18. Develop a program that converts a given temperature from Celsius to Fahrenheit.\n"
   ]
  },
  {
   "cell_type": "code",
   "execution_count": null,
   "id": "1c4c2c3a",
   "metadata": {},
   "outputs": [],
   "source": [
    "# 19. Create a program that simulates a basic calculator for addition, subtraction, multiplication, and division.\n"
   ]
  },
  {
   "cell_type": "code",
   "execution_count": null,
   "id": "c6a1d0b0",
   "metadata": {},
   "outputs": [],
   "source": [
    "# 20. Write a program that determines the roots of a cubic equation using the Cardano formula.\n"
   ]
  },
  {
   "cell_type": "code",
   "execution_count": null,
   "id": "d86cc82b",
   "metadata": {},
   "outputs": [],
   "source": [
    "# 21. Create a program that calculates the income tax based on the user's income and tax brackets.\n"
   ]
  },
  {
   "cell_type": "code",
   "execution_count": null,
   "id": "c8dab27c",
   "metadata": {},
   "outputs": [],
   "source": [
    "# 22. Write a program that simulates a rock-paper-scissors game against the computer.\n"
   ]
  },
  {
   "cell_type": "code",
   "execution_count": null,
   "id": "8b577855",
   "metadata": {},
   "outputs": [],
   "source": [
    "# 23. Develop a program that generates a random password based on user preferences (length, complexity).\n"
   ]
  },
  {
   "cell_type": "code",
   "execution_count": null,
   "id": "10ff9f31",
   "metadata": {},
   "outputs": [],
   "source": [
    "# 24. Create a program that implements a simple text-based adventure game with branching scenarios.\n"
   ]
  },
  {
   "cell_type": "code",
   "execution_count": null,
   "id": "0f55eda1",
   "metadata": {},
   "outputs": [],
   "source": [
    "# 25. Build a program that solves a linear equation for x, considering different cases.\n"
   ]
  },
  {
   "cell_type": "code",
   "execution_count": null,
   "id": "f492a6aa",
   "metadata": {},
   "outputs": [],
   "source": [
    "# 26. Write a program that simulates a basic quiz game with multiple-choice questions and scoring.\n"
   ]
  },
  {
   "cell_type": "code",
   "execution_count": 40,
   "id": "282f3118",
   "metadata": {},
   "outputs": [
    {
     "name": "stdout",
     "output_type": "stream",
     "text": [
      "Enter year1975\n",
      "Year is prime number\n"
     ]
    }
   ],
   "source": [
    "# 27. Develop a program that determines whether a given year is a prime number or not.\n",
    "year=int(input(\"Enter year\"))\n",
    "for i in range(2,int(year**0.5)+1):\n",
    "    if year%i==0:\n",
    "        print(\"Year is not prime number\")\n",
    "        break\n",
    "    else:\n",
    "        print(\"Year is prime number\")\n",
    "        break"
   ]
  },
  {
   "cell_type": "code",
   "execution_count": null,
   "id": "aa322dc3",
   "metadata": {},
   "outputs": [],
   "source": [
    "# 28. Create a program that sorts three numbers in ascending order using conditional statements.\n"
   ]
  },
  {
   "cell_type": "code",
   "execution_count": null,
   "id": "38012ba8",
   "metadata": {},
   "outputs": [],
   "source": [
    "# 29. Build a program that determines the roots of a quartic equation using numerical methods.\n"
   ]
  },
  {
   "cell_type": "code",
   "execution_count": null,
   "id": "af24a0ca",
   "metadata": {},
   "outputs": [],
   "source": [
    "# 30. Write a program that calculates the BMI (Body Mass Index) and provides health recommendations based on the user's input.\n"
   ]
  }
 ],
 "metadata": {
  "kernelspec": {
   "display_name": "Python 3 (ipykernel)",
   "language": "python",
   "name": "python3"
  },
  "language_info": {
   "codemirror_mode": {
    "name": "ipython",
    "version": 3
   },
   "file_extension": ".py",
   "mimetype": "text/x-python",
   "name": "python",
   "nbconvert_exporter": "python",
   "pygments_lexer": "ipython3",
   "version": "3.11.7"
  }
 },
 "nbformat": 4,
 "nbformat_minor": 5
}
