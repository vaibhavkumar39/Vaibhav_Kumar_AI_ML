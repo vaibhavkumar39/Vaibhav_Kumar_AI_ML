{
 "cells": [
  {
   "cell_type": "code",
   "execution_count": 1,
   "id": "4ef935dd",
   "metadata": {},
   "outputs": [
    {
     "name": "stdout",
     "output_type": "stream",
     "text": [
      "It is zero\n"
     ]
    }
   ],
   "source": [
    "#1. Write a Python program that checks if a given number is positive, negative, or zero.\n",
    "num=0\n",
    "if num<0:\n",
    "    print(\"Negative number\")\n",
    "elif num>0:\n",
    "    print(\"Posiive number\")\n",
    "elif num==0:\n",
    "    print(\"It is zero\")"
   ]
  },
  {
   "cell_type": "code",
   "execution_count": 3,
   "id": "6fc04a54",
   "metadata": {},
   "outputs": [
    {
     "name": "stdout",
     "output_type": "stream",
     "text": [
      "Not eligible\n"
     ]
    }
   ],
   "source": [
    "#2. Create a program to determine if a person is eligible to vote based on their age.\n",
    "num=17\n",
    "if num<18:\n",
    "    print(\"Not eligible\")\n",
    "elif num>=18:\n",
    "    print(\"Eligible to vote\")"
   ]
  },
  {
   "cell_type": "code",
   "execution_count": 5,
   "id": "9e25a255",
   "metadata": {},
   "outputs": [
    {
     "name": "stdout",
     "output_type": "stream",
     "text": [
      "Enter value A: 35.3\n",
      "Enter value B: 35.2\n",
      "35.3 iss bigger\n"
     ]
    }
   ],
   "source": [
    "#3. Write a program to find the maximum of two given numbers using conditional statements.\n",
    "a=float(input(\"Enter value A: \"))\n",
    "b=float(input(\"Enter value B: \"))\n",
    "if a>b:\n",
    "    print(f\"{a} iss bigger\")\n",
    "else:\n",
    "    print(f\"{b} is bigger\")"
   ]
  },
  {
   "cell_type": "code",
   "execution_count": 7,
   "id": "52d4b7c6",
   "metadata": {},
   "outputs": [
    {
     "name": "stdout",
     "output_type": "stream",
     "text": [
      "Grades of student are\n",
      "Fail\n"
     ]
    }
   ],
   "source": [
    "#4. Develop a program that calculates the grade of a student based on their exam score.\n",
    "marks = 29\n",
    "print(\"Grades of student are\")\n",
    "if marks>=90:\n",
    "    print(\"A++\")\n",
    "elif marks>=80:\n",
    "    print(\"A+\")\n",
    "elif marks>=70:\n",
    "    print(\"B\")\n",
    "elif marks>=60:\n",
    "    print(\"C\")\n",
    "elif marks>=50:\n",
    "    print(\"D\")\n",
    "elif marks>=30:\n",
    "    print(\"E\")\n",
    "else:\n",
    "    print(\"Fail\")"
   ]
  },
  {
   "cell_type": "code",
   "execution_count": 9,
   "id": "78addb37",
   "metadata": {},
   "outputs": [
    {
     "name": "stdout",
     "output_type": "stream",
     "text": [
      "Enter a year: 1947\n",
      "is not a Leap Year\n"
     ]
    }
   ],
   "source": [
    "# 5. Create a program that checks if a year is a leap year or not.\n",
    "year = int(input(\"Enter a year: \"))\n",
    "if (year%4==0):\n",
    "    if (year%100==0):\n",
    "        if (year%400==0):\n",
    "            print(\"is a Leap Year\")\n",
    "        else:\n",
    "            print(\"NOT a Leap Year\")\n",
    "    else:\n",
    "        print(\"is a Leap Year\")\n",
    "else:\n",
    "    print(\"is not a Leap Year\")"
   ]
  },
  {
   "cell_type": "code",
   "execution_count": 86,
   "id": "1df4fd8d",
   "metadata": {},
   "outputs": [
    {
     "name": "stdout",
     "output_type": "stream",
     "text": [
      "Enter length of side 1: 23\n",
      "Enter length of side 2: 43\n",
      "Enter length of side 3: 22\n",
      "It is an Scalane triangle\n"
     ]
    }
   ],
   "source": [
    "# 6. Write a program to classify a triangle based on its sides' lengths.\n",
    "a=float(input(\"Enter length of side 1: \"))\n",
    "b=float(input(\"Enter length of side 2: \"))\n",
    "c=float(input(\"Enter length of side 3: \"))\n",
    "if a==b==c:\n",
    "    print(\"It is an Equilateral triangle\")\n",
    "elif a==b or b==c or a==c:\n",
    "    print(\"It is an Isosceles triangle\")\n",
    "elif a!=b!=c:\n",
    "    print(\"It is an Scalane triangle\")"
   ]
  },
  {
   "cell_type": "code",
   "execution_count": 10,
   "id": "923028a7",
   "metadata": {},
   "outputs": [
    {
     "name": "stdout",
     "output_type": "stream",
     "text": [
      "Enter any number1:4\n",
      "Enter any number2: 5\n",
      "Enter any number3: 2\n",
      "5.0 is the largest\n"
     ]
    }
   ],
   "source": [
    "# 7. Build a program that determines the largest of three given numbers.\n",
    "a=float(input(\"Enter any number1:\"))\n",
    "b=float(input(\"Enter any number2: \"))\n",
    "c=float(input(\"Enter any number3: \"))\n",
    "if a<c and b<c:\n",
    "    print(f\"{c} is the largest\")\n",
    "elif b<a and c<a:\n",
    "    print(f\"{a} is the largest\")\n",
    "elif a<b and c<b:\n",
    "    print(f\"{b} is the largest\")"
   ]
  },
  {
   "cell_type": "code",
   "execution_count": 15,
   "id": "22cea088",
   "metadata": {},
   "outputs": [
    {
     "name": "stdout",
     "output_type": "stream",
     "text": [
      "Enter any character: e\n",
      "It is a vowel\n"
     ]
    }
   ],
   "source": [
    "# 8. Develop a program that checks whether a character is a vowel or a consonant.\n",
    "character=input(\"Enter any character: \")\n",
    "vowels=\"aeiou\"\n",
    "if len(character)==1:\n",
    "    if character.isalpha():\n",
    "        if character.lower() in vowels:\n",
    "            print(\"It is a vowel\")\n",
    "        else:\n",
    "            print(\"It is a consonant\")\n",
    "    else:\n",
    "        print(\"Not a letter\")\n",
    "else:\n",
    "    print(\"Please add a single character\")"
   ]
  },
  {
   "cell_type": "code",
   "execution_count": 29,
   "id": "84062324",
   "metadata": {},
   "outputs": [
    {
     "name": "stdout",
     "output_type": "stream",
     "text": [
      "Enter cost of items seperated by commas: 1000,2000\n",
      "Price after discount is: 2700.0\n"
     ]
    }
   ],
   "source": [
    "# 9. Create a program to calculate the total cost of a shopping cart based on discounts.\n",
    "items=input(\"Enter cost of items seperated by commas: \").split(\",\")\n",
    "items=[float(x) for x in items]\n",
    "total=sum(items)\n",
    "disc=0\n",
    "if total>=1000:\n",
    "    disc=total*(1-(10 / 100))\n",
    "    print(f\"Price after discount is: {disc}\")\n",
    "elif total>=2000:\n",
    "    disc=total*(1-(25 / 100))\n",
    "    print(f\"Price after discount is: {disc}\")\n",
    "elif total>=3000:\n",
    "    disc=total*(1-(40 / 100))\n",
    "    print(f\"Price after discount is: {disc}\")"
   ]
  },
  {
   "cell_type": "code",
   "execution_count": 17,
   "id": "32883d32",
   "metadata": {},
   "outputs": [
    {
     "name": "stdout",
     "output_type": "stream",
     "text": [
      "Enter any number23\n",
      "23.0 is odd\n"
     ]
    }
   ],
   "source": [
    "# 10. Write a program that checks if a given number is even or odd.\n",
    "n=float(input(\"Enter any number\"))\n",
    "if n%2==0:\n",
    "    print(n,\"is even\")\n",
    "else:\n",
    "    print(n,\"is odd\")"
   ]
  },
  {
   "cell_type": "code",
   "execution_count": 30,
   "id": "b00c7c9c",
   "metadata": {},
   "outputs": [
    {
     "name": "stdout",
     "output_type": "stream",
     "text": [
      "Enter coefficient a: 23\n",
      "Enter coefficient b: 45\n",
      "Enter coefficient c: 32\n",
      "Root 1 : -0.98 + 0.66i\n",
      "Root 2 : -0.98 + 0.66i\n"
     ]
    }
   ],
   "source": [
    "# 11. Write a program that calculates the roots of a quadratic equation .\n",
    "import math\n",
    "a = float(input(\"Enter coefficient a: \"))\n",
    "b = float(input(\"Enter coefficient b: \"))\n",
    "c = float(input(\"Enter coefficient c: \"))\n",
    "d = b**2 - 4*a*c\n",
    "if d > 0:\n",
    "    root1 = (-b+math.sqrt(d))/(2*a)\n",
    "    root2 = (-b-math.sqrt(d))/(2*a)\n",
    "    print(\"Root 1 :\", root1)\n",
    "    print(\"Root 2 :\", root2)\n",
    "elif d == 0:\n",
    "    root = -b / (2*a)\n",
    "    print(\"Root :\", root)\n",
    "else:\n",
    "    root1 = -b / (2*a)\n",
    "    root2 = math.sqrt(-d) / (2*a)\n",
    "    print(f\"Root 1 : {root1:.2f} + {root2:.2f}i\") \n",
    "    print(f\"Root 2 : {root1:.2f} + {root2:.2f}i\") "
   ]
  },
  {
   "cell_type": "code",
   "execution_count": 32,
   "id": "5bb5f7ea",
   "metadata": {},
   "outputs": [
    {
     "name": "stdout",
     "output_type": "stream",
     "text": [
      "Enter a number: 3\n",
      "Wednesday\n"
     ]
    }
   ],
   "source": [
    "# 12. Create a program that determines the day of the week based on the day number (1-7).\n",
    "week=[\"Monday\",\"Tuesday\",\"Wednesday\",\"Thursday\",\"Friday\",\"Saturday\",\"Sunday\"]\n",
    "num=int(input(\"Enter a number: \"))\n",
    "if num<=7 and num>0:\n",
    "    for i in range(1,len(week)+1):\n",
    "        if i==num:\n",
    "            print(week[i-1])"
   ]
  },
  {
   "cell_type": "code",
   "execution_count": 34,
   "id": "0b37cd92",
   "metadata": {},
   "outputs": [
    {
     "name": "stdout",
     "output_type": "stream",
     "text": [
      "Enter a number: 3\n",
      "Factorial of 3 is 6\n"
     ]
    }
   ],
   "source": [
    "# 13. Develop a program that calculates the factorial of a given number using recursion.\n",
    "def fact(n):\n",
    "    if n==0:\n",
    "        return 1\n",
    "    return n*fact(n-1)\n",
    "n = int(input(\"Enter a number: \"))\n",
    "if num < 0:\n",
    "    print(\"Factorial is not defined for negative numbers.\")\n",
    "else:\n",
    "    print(\"Factorial of\", num, \"is\", fact(n))"
   ]
  },
  {
   "cell_type": "code",
   "execution_count": 13,
   "id": "8d886e55",
   "metadata": {},
   "outputs": [
    {
     "name": "stdout",
     "output_type": "stream",
     "text": [
      "Enter any number1: 12\n",
      "Enter any number2: 23\n",
      "Enter any number3: 45\n",
      "45.0 is the largest\n"
     ]
    }
   ],
   "source": [
    "# 14. Write a program to find the largest among three numbers without using the `max()` function.\n",
    "a=float(input(\"Enter any number1: \"))\n",
    "b=float(input(\"Enter any number2: \"))\n",
    "c=float(input(\"Enter any number3: \"))\n",
    "if a<c and b<c:\n",
    "    print(f\"{c} is the largest\")\n",
    "elif b<a and c<a:\n",
    "    print(f\"{a} is the largest\")\n",
    "elif a<b and c<b:\n",
    "    print(f\"{b} is the largest\")"
   ]
  },
  {
   "cell_type": "code",
   "execution_count": 3,
   "id": "5d6abfc5",
   "metadata": {},
   "outputs": [
    {
     "name": "stdout",
     "output_type": "stream",
     "text": [
      "Welcome to the ATM\n",
      "1. Check balance\n",
      "2. Withdraw money\n",
      "3. Exit\n",
      "\n",
      "\n",
      "Enter the option number you want to perform: 2\n",
      "\n",
      "Enter the amount you want to withdraw:\n",
      "1200\n",
      "₹1200 debited. Total balance: ₹6300\n",
      "Enter the option number you want to perform: 1\n",
      "Your current balance is: ₹6300\n",
      "Enter the option number you want to perform: 3\n",
      "Thank you for using the ATM. Goodbye!\n"
     ]
    }
   ],
   "source": [
    "## 15. Create a program that simulates a basic ATM transaction menu.\n",
    "print(\"Welcome to the ATM\")\n",
    "print(\"1. Check balance\")\n",
    "print(\"2. Withdraw money\")\n",
    "print(\"3. Exit\")\n",
    "print(\"\\n\")\n",
    "balance = 7500\n",
    "def opt():\n",
    "    option = int(input(\"Enter the option number you want to perform: \"))\n",
    "    return option\n",
    "def withdraw():\n",
    "    global balance \n",
    "    print(\"\\nEnter the amount you want to withdraw:\")\n",
    "    amount = int(input())\n",
    "    if balance < amount:\n",
    "        print(\"Insufficient balance.\")\n",
    "    else:\n",
    "        balance -= amount\n",
    "        print(f\"₹{amount} debited. Total balance: ₹{balance}\")\n",
    "def check_balance():\n",
    "    print(f\"Your current balance is: ₹{balance}\")\n",
    "while True:\n",
    "    option = opt()\n",
    "    if option < 1 or option > 3:\n",
    "        print(\"Invalid Input\")\n",
    "        continue \n",
    "    if option == 1:\n",
    "        check_balance()\n",
    "    elif option == 2:\n",
    "        withdraw()\n",
    "    elif option == 3:\n",
    "        print(\"Thank you for using the ATM. Goodbye!\")\n",
    "        break"
   ]
  },
  {
   "cell_type": "code",
   "execution_count": 38,
   "id": "b4790d26",
   "metadata": {},
   "outputs": [
    {
     "name": "stdout",
     "output_type": "stream",
     "text": [
      "String is palindrome\n"
     ]
    }
   ],
   "source": [
    "# 16. Build a program that checks if a given string is a palindrome or not.\n",
    "string1=\"tenet\"\n",
    "string2=string1[::-1]\n",
    "if string2==string1:\n",
    "    print(\"String is palindrome\")\n",
    "else:\n",
    "    print(\"String is not palindrome\")"
   ]
  },
  {
   "cell_type": "code",
   "execution_count": 11,
   "id": "f7054588",
   "metadata": {},
   "outputs": [
    {
     "name": "stdout",
     "output_type": "stream",
     "text": [
      "7.0\n"
     ]
    }
   ],
   "source": [
    "# 17. Write a program that calculates the average of a list of numbers, excluding the smallest and largest values.\n",
    "list1 = [12, 3, 4, 5, 6, 7, 8, 9, 10]\n",
    "list1.pop(list1.index(min(list1)))\n",
    "list1.pop(list1.index(max(list1)))\n",
    "avg=sum(list1)/len(list1)\n",
    "print(avg)"
   ]
  },
  {
   "cell_type": "code",
   "execution_count": 14,
   "id": "cc04ac85",
   "metadata": {},
   "outputs": [
    {
     "name": "stdout",
     "output_type": "stream",
     "text": [
      "Enter tempreauture in celcius: 23\n",
      "Tempreature in fahrenheit:  44.65\n"
     ]
    }
   ],
   "source": [
    "# 18. Develop a program that converts a given temperature from Celsius to Fahrenheit.\n",
    "ctemp=float(input(\"Enter tempreauture in celcius: \"))\n",
    "ftemp=(ctemp*0.55)+32\n",
    "print(\"Tempreature in fahrenheit: \",ftemp)"
   ]
  },
  {
   "cell_type": "code",
   "execution_count": 11,
   "id": "1c4c2c3a",
   "metadata": {},
   "outputs": [
    {
     "name": "stdout",
     "output_type": "stream",
     "text": [
      "Enter value 1: 12\n",
      "Enter value 2: 34\n",
      "Enter operator(+,-,/,*): +\n",
      "Result:  46.0\n"
     ]
    }
   ],
   "source": [
    "# 19. Create a program that simulates a basic calculator for addition, subtraction, multiplication, and division.\n",
    "value1=float(input(\"Enter value 1: \"))\n",
    "value2=float(input(\"Enter value 2: \"))\n",
    "operator=input(\"Enter operator(+,-,/,*): \")\n",
    "result=0\n",
    "if operator==\"+\":\n",
    "    result=value1+value2\n",
    "elif operator==\"-\":\n",
    "    result=value1-value2\n",
    "elif operator==\"*\":\n",
    "    result=value1*value2\n",
    "elif operator==\"/\":\n",
    "    result=value1/value2\n",
    "print(\"Result: \",result)"
   ]
  },
  {
   "cell_type": "code",
   "execution_count": 16,
   "id": "c6a1d0b0",
   "metadata": {},
   "outputs": [
    {
     "name": "stdout",
     "output_type": "stream",
     "text": [
      "Enter coefficient a: 34\n",
      "Enter coefficient b: 34\n",
      "Enter coefficient c: 2\n",
      "Enter constant d: 56\n",
      "Real Root: 0.3019+1.1002j\n"
     ]
    }
   ],
   "source": [
    "# 20. Write a program that determines the roots of a cubic equation using the Cardano formula.\n",
    "import math\n",
    "a = float(input(\"Enter coefficient a: \"))\n",
    "b = float(input(\"Enter coefficient b: \"))\n",
    "c = float(input(\"Enter coefficient c: \"))\n",
    "d = float(input(\"Enter constant d: \"))\n",
    "p = (3*a*c - b**2) / (3*a**2)\n",
    "q = (2*b**3 - 9*a*b*c + 27*a**2*d) / (27*a**3)\n",
    "discriminant = (q**2) / 4 + (p**3) / 27\n",
    "if discriminant > 0:\n",
    "    u = ((-q / 2) + math.sqrt(discriminant))**(1/3)\n",
    "    v = ((-q / 2) - math.sqrt(discriminant))**(1/3)\n",
    "    x1 = u + v - (b / (3*a))\n",
    "    print(f\"Real Root: {x1:.4f}\")\n",
    "elif discriminant == 0:\n",
    "    u = (-q / 2)**(1/3)\n",
    "    x1 = 2*u - (b / (3*a))\n",
    "    x2 = -u - (b / (3*a))\n",
    "    print(f\"Root 1: {x1:.4f}\")\n",
    "    print(f\"Root 2 and 3: {x2:.4f}\")\n",
    "else:\n",
    "    r = math.sqrt(- (p**3) / 27)\n",
    "    phi = math.acos(-q / (2 * math.sqrt(- (p**3) / 27)))\n",
    "    t = 2 * math.sqrt(-p / 3)\n",
    "    x1 = t * math.cos(phi / 3) - (b / (3*a))\n",
    "    x2 = t * math.cos((phi + 2*math.pi) / 3) - (b / (3*a))\n",
    "    x3 = t * math.cos((phi + 4*math.pi) / 3) - (b / (3*a))\n",
    "    print(f\"Root 1: {x1:.4f}\")\n",
    "    print(f\"Root 2: {x2:.4f}\")\n",
    "    print(f\"Root 3: {x3:.4f}\")"
   ]
  },
  {
   "cell_type": "code",
   "execution_count": 23,
   "id": "d86cc82b",
   "metadata": {},
   "outputs": [
    {
     "name": "stdout",
     "output_type": "stream",
     "text": [
      "Enter your Annual income: 12000000\n",
      "Payable tax: ₹2880000.0\n"
     ]
    }
   ],
   "source": [
    "# 21. Create a program that calculates the income tax based on the user's income and tax brackets.\n",
    "income=float(input(\"Enter your Annual income: \"))\n",
    "incometax=0\n",
    "if income<400000: \n",
    "    print(\"No Tax payable\")\n",
    "elif 400000<=income<800000:\n",
    "    incometax=income-400000\n",
    "    tax=incometax*(5/100)\n",
    "    print(f\"Payable tax: ₹{tax}\")\n",
    "elif 800000<=income<1200000:\n",
    "    incometax=income-800000\n",
    "    tax=incometax*(10/100)\n",
    "    print(f\"Payable tax: ₹{tax}\")\n",
    "elif 1200000<=income<1600000:\n",
    "    incometax=income-1200000\n",
    "    tax=incometax*(15/100)\n",
    "    print(f\"Payable tax: ₹{tax}\")\n",
    "elif 1600000<=income<2000000:\n",
    "    incometax=income-1600000\n",
    "    tax=incometax*(20/100)\n",
    "    print(f\"Payable tax: ₹{tax}\")\n",
    "elif 2000000<=income<2400000:\n",
    "    incometax=income-2000000\n",
    "    tax=incometax*(25/100)\n",
    "    print(f\"Payable tax: ₹{tax}\")\n",
    "elif 2400000<=income:\n",
    "    incometax=income-2400000\n",
    "    tax=incometax*(30/100)\n",
    "    print(f\"Payable tax: ₹{tax}\")"
   ]
  },
  {
   "cell_type": "code",
   "execution_count": 93,
   "id": "c8dab27c",
   "metadata": {},
   "outputs": [
    {
     "name": "stdout",
     "output_type": "stream",
     "text": [
      "Enter rock, paper, or scissors: paper\n",
      "Computer chose: scissors\n",
      "Computer wins!\n"
     ]
    }
   ],
   "source": [
    "# 22. Write a program that simulates a rock-paper-scissors game against the computer.\n",
    "import random\n",
    "option = [\"rock\", \"paper\", \"scissors\"]\n",
    "user = input(\"Enter rock, paper, or scissors: \").lower()\n",
    "computer = random.choice(option)\n",
    "print(\"Computer chose:\", computer)\n",
    "if user == computer:\n",
    "    print(\"It's a tie!\")\n",
    "elif (user == \"rock\" and computer == \"scissors\") or (user == \"paper\" and computer == \"rock\") or (user == \"scissors\" and computer == \"paper\"):\n",
    "    print(\"You win!\")\n",
    "elif user in option:\n",
    "    print(\"Computer wins!\")\n",
    "else:\n",
    "    print(\"Invalid input.\")\n"
   ]
  },
  {
   "cell_type": "code",
   "execution_count": 84,
   "id": "8b577855",
   "metadata": {},
   "outputs": [
    {
     "name": "stdout",
     "output_type": "stream",
     "text": [
      "HQ7??w10Dw`a\n"
     ]
    }
   ],
   "source": [
    "# 23. Develop a program that generates a random password based on user preferences (length, complexity).\n",
    "import random\n",
    "import string\n",
    "alphabet = [x for x in string.ascii_letters]\n",
    "numeric=[str(x) for x in range(0,10)]\n",
    "excluded=[\"'\", '\"', '/', '\\\\','(',')']\n",
    "specialchar=[x for x in string.punctuation if x not in excluded]\n",
    "\n",
    "length=12\n",
    "password=alphabet+numeric+specialchar\n",
    "while True:\n",
    "    passwordstring=''.join(random.choice(password) for i in range(length))\n",
    "    if passwordstring[0].isalpha:\n",
    "        print(passwordstring)\n",
    "        break"
   ]
  },
  {
   "cell_type": "code",
   "execution_count": 96,
   "id": "10ff9f31",
   "metadata": {},
   "outputs": [
    {
     "name": "stdout",
     "output_type": "stream",
     "text": [
      "Welcome to the Adventure!\n",
      "You are standing at the entrance of an old temple.\n",
      "\n",
      "Do you want to enter the temple or go back?\n",
      "a) Enter the temple \n",
      "b) Go back\n",
      "Your choice: a\n",
      "\n",
      "You step inside the temple and hear a mysterious voice.\n",
      "What do you do?\n",
      "a) Follow the sound \n",
      "b) Stay where you are\n",
      "Your choice: a\n",
      "\n",
      "You discover a hidden shrine and ancient treasure!\n",
      "You win!\n"
     ]
    }
   ],
   "source": [
    "# 24. Create a program that implements a simple text-based adventure game with branching scenarios.\n",
    "print(\"Welcome to the Adventure!\")\n",
    "print(\"You are standing at the entrance of an old temple.\")\n",
    "print(\"\\nDo you want to enter the temple or go back?\")\n",
    "print(\"a) Enter the temple \\nb) Go back\")\n",
    "choice1=input(\"Your choice: \").lower()\n",
    "if choice1==\"a\":\n",
    "    print(\"\\nYou step inside the temple and hear a mysterious voice.\")\n",
    "    print(\"What do you do?\")\n",
    "    print(\"a) Follow the sound \\nb) Stay where you are\")\n",
    "    choice2=input(\"Your choice: \").lower()\n",
    "    if choice2==\"a\":\n",
    "        print(\"\\nYou discover a hidden shrine and ancient treasure!\")\n",
    "        print(\"You win!\")\n",
    "    elif choice2==\"b\":\n",
    "        print(\"\\nThe lights go out and you're trapped inside.\")\n",
    "        print(\"Game over.\")\n",
    "    else:\n",
    "        print(\"Invalid choice.\")\n",
    "elif choice1==\"b\":\n",
    "    print(\"\\nYou choose to leave peacefully. Nothing happens.\")\n",
    "    print(\"Game over.\")\n",
    "\n",
    "else:\n",
    "    print(\"Invalid choice.\")"
   ]
  },
  {
   "cell_type": "code",
   "execution_count": 91,
   "id": "0f55eda1",
   "metadata": {},
   "outputs": [
    {
     "name": "stdout",
     "output_type": "stream",
     "text": [
      "Enter coefficient a: 2\n",
      "Enter constant b: 3\n",
      "Value of x is -1.5\n"
     ]
    }
   ],
   "source": [
    "# 25. Build a program that solves a linear equation for x, considering different cases.\n",
    "a = float(input(\"Enter coefficient a: \"))\n",
    "b = float(input(\"Enter constant b: \"))\n",
    "if a == 0:\n",
    "    if b == 0:\n",
    "        print(\"Infinite solutions\")\n",
    "    else:\n",
    "        print(\"No solution\")\n",
    "else:\n",
    "    x = -b / a\n",
    "    print(\"Value of x is\", x)"
   ]
  },
  {
   "cell_type": "code",
   "execution_count": 95,
   "id": "f492a6aa",
   "metadata": {},
   "outputs": [
    {
     "name": "stdout",
     "output_type": "stream",
     "text": [
      "Question 1: Who was the first Prime Minister of India?\n",
      "a) Mahatma Gandhi\n",
      "b) Jawaharlal Nehru\n",
      "c) Sardar Patel\n",
      "d) Dr. B.R. Ambedkar\n",
      "Your answer: a\n",
      "Wrong. The correct answer is b) Jawaharlal Nehru.\n",
      "\n",
      "Question 2: Which is the national animal of India?\n",
      "a) Elephant\n",
      "b) Lion\n",
      "c) Tiger\n",
      "d) Peacock\n",
      "Your answer: c\n",
      "Correct!\n",
      "\n",
      "Question 3: In which year did India gain independence?\n",
      "a) 1945\n",
      "b) 1946\n",
      "c) 1947\n",
      "d) 1950\n",
      "Your answer: c\n",
      "Correct!\n",
      "\n",
      "Your final score is: 2 out of 3\n"
     ]
    }
   ],
   "source": [
    "# 26. Write a program that simulates a basic quiz game with multiple-choice questions and scoring.\n",
    "score = 0\n",
    "print(\"Question 1: Who was the first Prime Minister of India?\")\n",
    "print(\"a) Mahatma Gandhi\\nb) Jawaharlal Nehru\\nc) Sardar Patel\\nd) Dr. B.R. Ambedkar\")\n",
    "ans1=input(\"Your answer: \").lower()\n",
    "if ans1==\"b\":\n",
    "    score+=1\n",
    "    print(\"Correct!\")\n",
    "else:\n",
    "    print(\"Wrong. The correct answer is b) Jawaharlal Nehru.\")\n",
    "print(\"\\nQuestion 2: Which is the national animal of India?\")\n",
    "print(\"a) Elephant\\nb) Lion\\nc) Tiger\\nd) Peacock\")\n",
    "ans2=input(\"Your answer: \").lower()\n",
    "if ans2==\"c\":\n",
    "    score+=1\n",
    "    print(\"Correct!\")\n",
    "else:\n",
    "    print(\"Wrong. The correct answer is c) Tiger.\")\n",
    "print(\"\\nQuestion 3: In which year did India gain independence?\")\n",
    "print(\"a) 1945\\nb) 1946\\nc) 1947\\nd) 1950\")\n",
    "ans3=input(\"Your answer: \").lower()\n",
    "if ans3==\"c\":\n",
    "    score+=1\n",
    "    print(\"Correct!\")\n",
    "else:\n",
    "    print(\"Wrong. The correct answer is c) 1947.\")\n",
    "print(\"\\nYour final score is:\", score, \"out of 3\")"
   ]
  },
  {
   "cell_type": "code",
   "execution_count": 40,
   "id": "282f3118",
   "metadata": {},
   "outputs": [
    {
     "name": "stdout",
     "output_type": "stream",
     "text": [
      "Enter year1975\n",
      "Year is prime number\n"
     ]
    }
   ],
   "source": [
    "# 27. Develop a program that determines whether a given year is a prime number or not.\n",
    "year=int(input(\"Enter year\"))\n",
    "for i in range(2,int(year**0.5)+1):\n",
    "    if year%i==0:\n",
    "        print(\"Year is not prime number\")\n",
    "        break\n",
    "    else:\n",
    "        print(\"Year is prime number\")\n",
    "        break"
   ]
  },
  {
   "cell_type": "code",
   "execution_count": 4,
   "id": "aa322dc3",
   "metadata": {},
   "outputs": [
    {
     "name": "stdout",
     "output_type": "stream",
     "text": [
      "Ascending order [2, 3, 9]\n"
     ]
    }
   ],
   "source": [
    "# 28. Create a program that sorts three numbers in ascending order using conditional statements.\n",
    "a=9\n",
    "b=2\n",
    "c=3\n",
    "list1=[]\n",
    "if a<b and b<c:\n",
    "    list1.append(a)\n",
    "    if b<c:\n",
    "        list1.append(b)\n",
    "        list1.append(c)\n",
    "    else:\n",
    "        list1.append(c)\n",
    "        list1.append(b)\n",
    "elif b<a and b<c:\n",
    "    list1.append(b)\n",
    "    if a<c:\n",
    "        list1.append(a)\n",
    "        list1.append(c)\n",
    "    else:\n",
    "        list1.append(c)\n",
    "        list1.append(a)\n",
    "elif c<a and c<b:\n",
    "    list1.append(c)\n",
    "    if a<b:\n",
    "        list1.append(a)\n",
    "        list1.append(b)\n",
    "    else:\n",
    "        list1.append(b)\n",
    "        list1.append(a)\n",
    "print(\"Ascending order\",list1)"
   ]
  },
  {
   "cell_type": "code",
   "execution_count": 85,
   "id": "38012ba8",
   "metadata": {},
   "outputs": [
    {
     "name": "stdout",
     "output_type": "stream",
     "text": [
      "Enter coefficient a: 23\n",
      "Enter coefficient b: 33\n",
      "Enter coefficient c: 45\n",
      "Root 1 : -0.72 + 1.20i\n",
      "Root 2 : -0.72 + 1.20i\n"
     ]
    }
   ],
   "source": [
    "# 29. Build a program that determines the roots of a quartic equation using numerical methods.\n",
    "import math\n",
    "a = float(input(\"Enter coefficient a: \"))\n",
    "b = float(input(\"Enter coefficient b: \"))\n",
    "c = float(input(\"Enter coefficient c: \"))\n",
    "d = b**2 - 4*a*c\n",
    "if d > 0:\n",
    "    root1 = (-b+math.sqrt(d))/(2*a)\n",
    "    root2 = (-b-math.sqrt(d))/(2*a)\n",
    "    print(\"Root 1 :\", root1)\n",
    "    print(\"Root 2 :\", root2)\n",
    "elif d == 0:\n",
    "    root = -b / (2*a)\n",
    "    print(\"Root :\", root)\n",
    "else:\n",
    "    root1 = -b / (2*a)\n",
    "    root2 = math.sqrt(-d) / (2*a)\n",
    "    print(f\"Root 1 : {root1:.2f} + {root2:.2f}i\") \n",
    "    print(f\"Root 2 : {root1:.2f} + {root2:.2f}i\") "
   ]
  },
  {
   "cell_type": "code",
   "execution_count": 94,
   "id": "af24a0ca",
   "metadata": {},
   "outputs": [
    {
     "name": "stdout",
     "output_type": "stream",
     "text": [
      "Enter your weight(kilograms)34\n",
      "Enter your height(meters)1.75\n",
      "Person is underweight\n"
     ]
    }
   ],
   "source": [
    "# 30. Write a program that calculates the BMI (Body Mass Index) and provides health recommendations based on the user's input.\n",
    "weight=float(input(\"Enter your weight(kilograms)\"))\n",
    "height=float(input(\"Enter your height(meters)\"))\n",
    "bmi=weight/(height)**2\n",
    "if 18.5<bmi<25:\n",
    "    print(\"Person is normal\")\n",
    "elif bmi<18.5:\n",
    "    print(\"Person is underweight\")\n",
    "elif 25<bmi:\n",
    "    print(\"Person is overweight\")"
   ]
  }
 ],
 "metadata": {
  "kernelspec": {
   "display_name": "Python 3 (ipykernel)",
   "language": "python",
   "name": "python3"
  },
  "language_info": {
   "codemirror_mode": {
    "name": "ipython",
    "version": 3
   },
   "file_extension": ".py",
   "mimetype": "text/x-python",
   "name": "python",
   "nbconvert_exporter": "python",
   "pygments_lexer": "ipython3",
   "version": "3.11.7"
  }
 },
 "nbformat": 4,
 "nbformat_minor": 5
}
