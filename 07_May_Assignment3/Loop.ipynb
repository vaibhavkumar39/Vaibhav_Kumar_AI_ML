{
 "cells": [
  {
   "cell_type": "code",
   "execution_count": 1,
   "id": "5218d776",
   "metadata": {},
   "outputs": [
    {
     "name": "stdout",
     "output_type": "stream",
     "text": [
      "1\n",
      "2\n",
      "3\n",
      "4\n",
      "5\n",
      "6\n",
      "7\n",
      "8\n",
      "9\n",
      "10\n"
     ]
    }
   ],
   "source": [
    "#1. Write a Python program to print the numbers from 1 to 10 using a `for` loop.\n",
    "for i in range(1,11):\n",
    "    print(i)"
   ]
  },
  {
   "cell_type": "code",
   "execution_count": 14,
   "id": "35fae1c3",
   "metadata": {},
   "outputs": [
    {
     "name": "stdout",
     "output_type": "stream",
     "text": [
      "21\n"
     ]
    }
   ],
   "source": [
    "#2. Create a program that calculates the sum of all numbers in a list using a `for` loop.\n",
    "list=[1, 2, 3, 4, 5, 6]\n",
    "sum=0\n",
    "for i in list:\n",
    "    sum+=i\n",
    "print(sum)"
   ]
  },
  {
   "cell_type": "code",
   "execution_count": 22,
   "id": "f879d9c1",
   "metadata": {},
   "outputs": [
    {
     "name": "stdout",
     "output_type": "stream",
     "text": [
      "e\n",
      "d\n",
      "c\n",
      "b\n",
      "a\n"
     ]
    }
   ],
   "source": [
    "#3. Write a program to print the characters of a string in reverse order using a `for` loop.\n",
    "string = \"abcde\"\n",
    "length = len(string) \n",
    "for i in range(length - 1, -1, -1): \n",
    "    print(string[i])\n",
    "    "
   ]
  },
  {
   "cell_type": "code",
   "execution_count": 25,
   "id": "e60d7868",
   "metadata": {},
   "outputs": [
    {
     "name": "stdout",
     "output_type": "stream",
     "text": [
      "factorial of 10 is 3628800\n"
     ]
    }
   ],
   "source": [
    "#4. Develop a program that finds the factorial of a given number using a `for` loop.\n",
    "fact=1\n",
    "n=10\n",
    "for i in range(1,n+1):\n",
    "    fact=fact*i\n",
    "print(f\"factorial of {n} is {fact}\")"
   ]
  },
  {
   "cell_type": "code",
   "execution_count": 61,
   "id": "ce3c3715",
   "metadata": {},
   "outputs": [
    {
     "name": "stdout",
     "output_type": "stream",
     "text": [
      "6*1=6\n",
      "6*2=12\n",
      "6*3=18\n",
      "6*4=24\n",
      "6*5=30\n",
      "6*6=36\n",
      "6*7=42\n",
      "6*8=48\n",
      "6*9=54\n",
      "6*10=60\n"
     ]
    }
   ],
   "source": [
    "#5. Create a program to print the multiplication table of a given number using a `for` loop.\n",
    "n=6\n",
    "for index,num in enumerate(range(n,(n*10)+1,n)):\n",
    "    print(f\"{n}*{index+1}={n*(index+1)}\")"
   ]
  },
  {
   "cell_type": "code",
   "execution_count": null,
   "id": "2ceccab8",
   "metadata": {},
   "outputs": [],
   "source": [
    "#6. Write a program that counts the number of even and odd numbers in a list using a `for` loop.\n"
   ]
  },
  {
   "cell_type": "code",
   "execution_count": null,
   "id": "2bef2d9e",
   "metadata": {},
   "outputs": [],
   "source": [
    "#7. Develop a program that prints the squares of numbers from 1 to 5 using a `for` loop.\n"
   ]
  },
  {
   "cell_type": "code",
   "execution_count": null,
   "id": "6687caa4",
   "metadata": {},
   "outputs": [],
   "source": [
    "#8. Create a program to find the length of a string without using the `len()` function.\n"
   ]
  },
  {
   "cell_type": "code",
   "execution_count": null,
   "id": "ed39feb5",
   "metadata": {},
   "outputs": [],
   "source": [
    "#9. Write a program that calculates the average of a list of numbers using a `for` loop.\n"
   ]
  },
  {
   "cell_type": "code",
   "execution_count": null,
   "id": "d3b9d61d",
   "metadata": {},
   "outputs": [],
   "source": [
    "#10. Develop a program that prints the first `n` Fibonacci numbers using a `for` loop."
   ]
  },
  {
   "cell_type": "code",
   "execution_count": null,
   "id": "1e8da679",
   "metadata": {},
   "outputs": [],
   "source": [
    "#11. Write a program to check if a given list contains any duplicates using a `for` loop.\n",
    "\n"
   ]
  },
  {
   "cell_type": "code",
   "execution_count": null,
   "id": "3b214fa5",
   "metadata": {},
   "outputs": [],
   "source": [
    "#12. Create a program that prints the prime numbers in a given range using a `for` loop.\n"
   ]
  },
  {
   "cell_type": "code",
   "execution_count": null,
   "id": "44d60735",
   "metadata": {},
   "outputs": [],
   "source": [
    "#13. Develop a program that counts the number of vowels in a string using a `for` loop.\n"
   ]
  },
  {
   "cell_type": "code",
   "execution_count": null,
   "id": "502ba7b5",
   "metadata": {},
   "outputs": [],
   "source": [
    "#14. Write a program to find the maximum element in a 2D list using a nested `for` loop.\n"
   ]
  },
  {
   "cell_type": "code",
   "execution_count": null,
   "id": "64e884e9",
   "metadata": {},
   "outputs": [],
   "source": [
    "#15. Create a program that removes all occurrences of a specific element from a list using a `for` loop.\n"
   ]
  },
  {
   "cell_type": "code",
   "execution_count": null,
   "id": "ba1309b0",
   "metadata": {},
   "outputs": [],
   "source": [
    "#16. Develop a program that generates a multiplication table for numbers from 1 to 5 using a nested `for` loop.\n"
   ]
  },
  {
   "cell_type": "code",
   "execution_count": null,
   "id": "433ac402",
   "metadata": {},
   "outputs": [],
   "source": [
    "#17. Write a program that converts a list of Fahrenheit temperatures to Celsius using a `for` loop.\n"
   ]
  },
  {
   "cell_type": "code",
   "execution_count": null,
   "id": "c6779c39",
   "metadata": {},
   "outputs": [],
   "source": [
    "#18. Create a program to print the common elements from two lists using a `for` loop.\n"
   ]
  },
  {
   "cell_type": "code",
   "execution_count": null,
   "id": "f84f6a5c",
   "metadata": {},
   "outputs": [],
   "source": [
    "#19. Develop a program that prints the pattern of right-angled triangles using a `for` loop. Use ‘*’ to draw the pattern\n"
   ]
  },
  {
   "cell_type": "code",
   "execution_count": null,
   "id": "17aabe87",
   "metadata": {},
   "outputs": [],
   "source": [
    "#20. Write a program to find the greatest common divisor (GCD) of two numbers using a `for` loop.\n"
   ]
  },
  {
   "cell_type": "code",
   "execution_count": null,
   "id": "ad6246eb",
   "metadata": {},
   "outputs": [],
   "source": [
    "#21. Create a program that calculates the sum of the digits of numbers in a list using a list comprehension.\n"
   ]
  },
  {
   "cell_type": "code",
   "execution_count": null,
   "id": "52ecf456",
   "metadata": {},
   "outputs": [],
   "source": [
    "#22. Write a program to find the prime factors of a given number using a `for` loop and list comprehension.\n"
   ]
  },
  {
   "cell_type": "code",
   "execution_count": null,
   "id": "e40ed930",
   "metadata": {},
   "outputs": [],
   "source": [
    "#23. Develop a program that extracts unique elements from a list and stores them in a new list using a list comprehension.\n"
   ]
  },
  {
   "cell_type": "code",
   "execution_count": null,
   "id": "aba4e49c",
   "metadata": {},
   "outputs": [],
   "source": [
    "#24. Create a program that generates a list of all palindromic numbers up to a specified limit using a list comprehension.\n"
   ]
  },
  {
   "cell_type": "code",
   "execution_count": null,
   "id": "ec1742b6",
   "metadata": {},
   "outputs": [],
   "source": [
    "#25. Write a program to flatten a nested list using list comprehension.\n"
   ]
  },
  {
   "cell_type": "code",
   "execution_count": null,
   "id": "1774cbe0",
   "metadata": {},
   "outputs": [],
   "source": [
    "#26. Develop a program that computes the sum of even and odd numbers in a list separately using list comprehension.\n"
   ]
  },
  {
   "cell_type": "code",
   "execution_count": null,
   "id": "a40840fd",
   "metadata": {},
   "outputs": [],
   "source": [
    "#27. Create a program that generates a list of squares of odd numbers between 1 and 10 using list comprehension.\n"
   ]
  },
  {
   "cell_type": "code",
   "execution_count": null,
   "id": "93dffe55",
   "metadata": {},
   "outputs": [],
   "source": [
    "#28. Write a program that combines two lists into a dictionary using list comprehension.\n"
   ]
  },
  {
   "cell_type": "code",
   "execution_count": null,
   "id": "2eaa30f8",
   "metadata": {},
   "outputs": [],
   "source": [
    "#29. Develop a program that extracts the vowels from a string and stores them in a list using list comprehension.\n"
   ]
  },
  {
   "cell_type": "code",
   "execution_count": null,
   "id": "87d9260d",
   "metadata": {},
   "outputs": [],
   "source": [
    "#30. Create a program that removes all non-numeric characters from a list of strings using list comprehension."
   ]
  }
 ],
 "metadata": {
  "kernelspec": {
   "display_name": "Python 3 (ipykernel)",
   "language": "python",
   "name": "python3"
  },
  "language_info": {
   "codemirror_mode": {
    "name": "ipython",
    "version": 3
   },
   "file_extension": ".py",
   "mimetype": "text/x-python",
   "name": "python",
   "nbconvert_exporter": "python",
   "pygments_lexer": "ipython3",
   "version": "3.11.7"
  }
 },
 "nbformat": 4,
 "nbformat_minor": 5
}
