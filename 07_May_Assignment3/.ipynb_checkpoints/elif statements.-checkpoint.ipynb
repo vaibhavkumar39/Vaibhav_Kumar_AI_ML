{
 "cells": [
  {
   "cell_type": "code",
   "execution_count": 15,
   "id": "5a6d480c",
   "metadata": {},
   "outputs": [
    {
     "name": "stdout",
     "output_type": "stream",
     "text": [
      "Enter any number :-3\n",
      "negative\n"
     ]
    }
   ],
   "source": [
    "#24. Create a program that determines whether a given number is positive, negative, or zero using elif statements.\n",
    "n=int(input(\"Enter any number :\"))\n",
    "if n<0:\n",
    "    print(\"negative\")\n",
    "elif n==0:\n",
    "    print(\"zero\")\n",
    "elif n>0:\n",
    "    print(\"positive\")"
   ]
  },
  {
   "cell_type": "code",
   "execution_count": 20,
   "id": "45fca655",
   "metadata": {},
   "outputs": [
    {
     "name": "stdout",
     "output_type": "stream",
     "text": [
      "Enter any character :e\n",
      "is in lowercase\n"
     ]
    }
   ],
   "source": [
    "#25. Write a Python script to determine the type of a character (uppercase, lowercase, or special) using elif statements.\n",
    "n=input(\"Enter any character :\")\n",
    "if n.isupper():\n",
    "    print(\"is in uppercase\")\n",
    "elif n.islower():\n",
    "    print(\"is in lowercase\")\n",
    "else:\n",
    "    print(\"it is a special character or a number\")"
   ]
  },
  {
   "cell_type": "code",
   "execution_count": 5,
   "id": "fca2fc5d",
   "metadata": {},
   "outputs": [
    {
     "name": "stdout",
     "output_type": "stream",
     "text": [
      "Enter amount :2000\n",
      "1800.0\n"
     ]
    }
   ],
   "source": [
    "#26. Implement a program to calculate the discounted price based on different purchase amounts using elif statements.\n",
    "discountedprice=0\n",
    "purchase=float(input(\"Enter amount :\"))\n",
    "if purchase>1000:\n",
    "    discountedprice=purchase*(1-(10/100))\n",
    "    print(discountedprice)\n",
    "elif purchase>=2000:\n",
    "    discountedprice=purchase*(1-(20/100))\n",
    "    print(discountedprice)\n",
    "elif purchase>=3000:\n",
    "    discountedprice=purchase*(1-(30/100))\n",
    "    print(discountedprice)"
   ]
  },
  {
   "cell_type": "code",
   "execution_count": 17,
   "id": "f5aa1da5",
   "metadata": {},
   "outputs": [
    {
     "name": "stdout",
     "output_type": "stream",
     "text": [
      "Enter units: 500\n",
      "Your bill is : 3500.0\n"
     ]
    }
   ],
   "source": [
    "#27. Develop a program to calculate the electricity bill based on different consumption slabs using elif statements.\n",
    "units=float(input(\"Enter units: \"))\n",
    "bill=0\n",
    "rateperunit=0\n",
    "\n",
    "if units<=100:\n",
    "    rateperunit=3\n",
    "elif 200>units>100:\n",
    "    rateperunit=5\n",
    "elif units>200:\n",
    "    rateperunit=7\n",
    "bill=units*rateperunit\n",
    "print(f\"Your bill is : {bill}\")"
   ]
  },
  {
   "cell_type": "code",
   "execution_count": 1,
   "id": "570574f9",
   "metadata": {},
   "outputs": [
    {
     "name": "stdout",
     "output_type": "stream",
     "text": [
      "Enter angle a: 90\n",
      "Enter angle b: 90\n",
      "Enter angle c: 90\n",
      "Enter angle d: 90\n",
      "Enter side a: 7\n",
      "Enter side b: 8\n",
      "Enter side c: 7\n",
      "Enter side d: 8\n",
      "rectangle\n"
     ]
    }
   ],
   "source": [
    "# 28. Create a program to determine the type of quadrilateral based on its angles and sides using elif statements.\n",
    "anglea=float(input(\"Enter angle a: \"))\n",
    "angleb=float(input(\"Enter angle b: \"))\n",
    "anglec=float(input(\"Enter angle c: \"))\n",
    "angled=float(input(\"Enter angle d: \"))\n",
    "sidea=float(input(\"Enter side a: \"))\n",
    "sideb=float(input(\"Enter side b: \"))\n",
    "sidec=float(input(\"Enter side c: \"))\n",
    "sided=float(input(\"Enter side d: \"))\n",
    "if anglea+angleb+anglec+angled!=360:\n",
    "    print(\"not a quadilateral\")\n",
    "elif anglea==angleb==anglec==angled==90 and sidea==sideb==sidec==sided:\n",
    "    print(\"square\")\n",
    "elif anglea==angleb==anglec==angled==90 and sidea==sidec and sided==sideb:\n",
    "    print(\"rectangle\")\n",
    "elif anglea==anglec and angleb==angled and sidea==sidec and sided==sideb:\n",
    "    print(\"paralellogram\")"
   ]
  },
  {
   "cell_type": "code",
   "execution_count": 4,
   "id": "ec18456d",
   "metadata": {},
   "outputs": [
    {
     "name": "stdout",
     "output_type": "stream",
     "text": [
      "Enter the month: january\n",
      "Winter\n"
     ]
    }
   ],
   "source": [
    "#29. Write a Python script to determine the season based on a user-provided month using elif statements.\n",
    "month = input(\"Enter the month: \").lower()\n",
    "if month in (\"december\", \"january\", \"february\"):\n",
    "    print(\"Winter\")\n",
    "elif month in (\"march\", \"april\", \"may\"):\n",
    "    print(\"Spring\")\n",
    "elif month in (\"june\", \"july\", \"august\"):\n",
    "    print(\"Summer\")\n",
    "elif month in (\"september\", \"october\", \"november\"):\n",
    "    print(\"Autumn (Fall)\")\n",
    "else:\n",
    "    print(\"Invalid month entered.\")"
   ]
  },
  {
   "cell_type": "code",
   "execution_count": 5,
   "id": "2c0a7eb0",
   "metadata": {},
   "outputs": [
    {
     "name": "stdout",
     "output_type": "stream",
     "text": [
      "Enter a year: 1950\n",
      "is NOT a Leap Year\n"
     ]
    }
   ],
   "source": [
    "#30. Implement a program to determine the type of a year (leap or common) and month (30 or 31 days) using elif statements.\n",
    "year = int(input(\"Enter a year: \"))\n",
    "if (year%4==0):\n",
    "    if (year%100==0):\n",
    "        if (year%400==0):\n",
    "            print(\"is a Leap Year\")\n",
    "        else:\n",
    "            print(\"NOT a Leap Year\")\n",
    "    else:\n",
    "        print(\"is a Leap Year\")\n",
    "else:\n",
    "    print(\"is NOT a Leap Year\")"
   ]
  }
 ],
 "metadata": {
  "kernelspec": {
   "display_name": "Python 3 (ipykernel)",
   "language": "python",
   "name": "python3"
  },
  "language_info": {
   "codemirror_mode": {
    "name": "ipython",
    "version": 3
   },
   "file_extension": ".py",
   "mimetype": "text/x-python",
   "name": "python",
   "nbconvert_exporter": "python",
   "pygments_lexer": "ipython3",
   "version": "3.11.7"
  }
 },
 "nbformat": 4,
 "nbformat_minor": 5
}
