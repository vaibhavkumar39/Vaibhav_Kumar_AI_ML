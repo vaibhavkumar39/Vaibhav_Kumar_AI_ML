{
 "cells": [
  {
   "cell_type": "code",
   "execution_count": 44,
   "id": "3dc40deb",
   "metadata": {},
   "outputs": [
    {
     "name": "stdout",
     "output_type": "stream",
     "text": [
      "Positive number\n"
     ]
    }
   ],
   "source": [
    "#1. Write a Python program to check if a given number is positive or negative.\n",
    "num=43\n",
    "if num<0:\n",
    "    print(\"Negative number\")\n",
    "elif num>0:\n",
    "    print(\"Positive number\")"
   ]
  },
  {
   "cell_type": "code",
   "execution_count": 2,
   "id": "a0d68682",
   "metadata": {},
   "outputs": [
    {
     "name": "stdout",
     "output_type": "stream",
     "text": [
      "Eligible to vote\n"
     ]
    }
   ],
   "source": [
    "#2. Create a program that determines if a person is eligible to vote based on their age.\n",
    "num=35\n",
    "if num<18:\n",
    "    print(\"Not eligible\")\n",
    "elif num>=18:\n",
    "    print(\"Eligible to vote\")"
   ]
  },
  {
   "cell_type": "code",
   "execution_count": 4,
   "id": "8d8be30a",
   "metadata": {},
   "outputs": [
    {
     "name": "stdout",
     "output_type": "stream",
     "text": [
      "5 is bigger than 2\n"
     ]
    }
   ],
   "source": [
    "#3. Develop a program to find the maximum of two numbers using if-else statements.\n",
    "a=2\n",
    "b=5\n",
    "if a>b:\n",
    "    print(f\"{a} is bigger than {b}\")\n",
    "elif b>a:\n",
    "    print(f\"{b} is bigger than {a}\")\n",
    "elif a==b:\n",
    "    print(f\"{a} and  {b} are same\")"
   ]
  },
  {
   "cell_type": "code",
   "execution_count": 10,
   "id": "7d97f1dc",
   "metadata": {},
   "outputs": [
    {
     "name": "stdout",
     "output_type": "stream",
     "text": [
      "not a leap year\n"
     ]
    }
   ],
   "source": [
    "#4. Write a Python script to classify a given year as a leap year or not.\n",
    "year=2025\n",
    "if (year%4==0 and year%100!=0) or (year%400==0):\n",
    "    print(\"leap year\")\n",
    "else:\n",
    "    print(\"not a leap year\")"
   ]
  },
  {
   "cell_type": "code",
   "execution_count": 35,
   "id": "23ddae41",
   "metadata": {},
   "outputs": [
    {
     "name": "stdout",
     "output_type": "stream",
     "text": [
      "It is a vowel\n"
     ]
    }
   ],
   "source": [
    "#5. Create a program that checks whether a character is a vowel or a consonant.\n",
    "character=\"e\"\n",
    "vowels=\"aeiou\"\n",
    "if character.isalpha():\n",
    "    if character.lower() in vowels:\n",
    "        print(\"It is a vowel\")\n",
    "    else:\n",
    "        print(\"It is a consonant\")\n",
    "else:\n",
    "    print(\"Not a letter\")"
   ]
  },
  {
   "cell_type": "code",
   "execution_count": 37,
   "id": "c7bd12cd",
   "metadata": {},
   "outputs": [
    {
     "name": "stdout",
     "output_type": "stream",
     "text": [
      "2 is even\n"
     ]
    }
   ],
   "source": [
    "#6. Implement a program to determine whether a given number is even or odd.\n",
    "n=2\n",
    "if n%2==0:\n",
    "    print(n,\"is even\")\n",
    "else:\n",
    "    print(n,\"is odd\")"
   ]
  },
  {
   "cell_type": "code",
   "execution_count": 42,
   "id": "a26d9754",
   "metadata": {},
   "outputs": [
    {
     "name": "stdout",
     "output_type": "stream",
     "text": [
      "absolute value: 43\n"
     ]
    }
   ],
   "source": [
    "#7. Write a Python function to calculate the absolute value of a number without using the `abs()` function.\n",
    "n=-43\n",
    "if n>=0:\n",
    "    print(\"absolute value:\",n)\n",
    "elif n<0:\n",
    "    print(\"absolute value:\",-1*n)"
   ]
  },
  {
   "cell_type": "code",
   "execution_count": 11,
   "id": "2e23e824",
   "metadata": {},
   "outputs": [
    {
     "name": "stdout",
     "output_type": "stream",
     "text": [
      "Enter any number1:34\n",
      "Enter any number2: 45\n",
      "Enter any number3: 64\n",
      "64.0 is the largest\n"
     ]
    }
   ],
   "source": [
    "#8. Develop a program that determines the largest of three given numbers using if-else statements.\n",
    "a=float(input(\"Enter any number1:\"))\n",
    "b=float(input(\"Enter any number2: \"))\n",
    "c=float(input(\"Enter any number3: \"))\n",
    "if a<c and b<c:\n",
    "    print(f\"{c} is the largest\")\n",
    "elif b<a and c<a:\n",
    "    print(f\"{a} is the largest\")\n",
    "elif a<b and c<b:\n",
    "    print(f\"{b} is the largest\")"
   ]
  },
  {
   "cell_type": "code",
   "execution_count": 9,
   "id": "9f220d0b",
   "metadata": {},
   "outputs": [
    {
     "name": "stdout",
     "output_type": "stream",
     "text": [
      "String is palindrome\n"
     ]
    }
   ],
   "source": [
    "#9. Create a program that checks if a given string is a palindrome.\n",
    "string1=\"naman\"\n",
    "string2=string[::-1]\n",
    "if string2==string1:\n",
    "    print(\"String is palindrome\")\n",
    "else:\n",
    "    print(\"String is not palindrome\")"
   ]
  },
  {
   "cell_type": "code",
   "execution_count": 13,
   "id": "38934c00",
   "metadata": {},
   "outputs": [
    {
     "name": "stdout",
     "output_type": "stream",
     "text": [
      "Grades of student are\n",
      "A++\n"
     ]
    }
   ],
   "source": [
    "#10. Write a Python program to calculate the grade based on a student's score.\n",
    "marks = 98\n",
    "print(\"Grades of student are\")\n",
    "if marks>=90:\n",
    "    print(\"A++\")\n",
    "elif marks>=80:\n",
    "    print(\"A+\")\n",
    "elif marks>=70:\n",
    "    print(\"B\")\n",
    "elif marks>=60:\n",
    "    print(\"C\")\n",
    "elif marks>=50:\n",
    "    print(\"D\")\n",
    "elif marks>=30:\n",
    "    print(\"E\")\n",
    "else:\n",
    "    print(\"Fail\")"
   ]
  }
 ],
 "metadata": {
  "kernelspec": {
   "display_name": "Python 3 (ipykernel)",
   "language": "python",
   "name": "python3"
  },
  "language_info": {
   "codemirror_mode": {
    "name": "ipython",
    "version": 3
   },
   "file_extension": ".py",
   "mimetype": "text/x-python",
   "name": "python",
   "nbconvert_exporter": "python",
   "pygments_lexer": "ipython3",
   "version": "3.11.7"
  }
 },
 "nbformat": 4,
 "nbformat_minor": 5
}
