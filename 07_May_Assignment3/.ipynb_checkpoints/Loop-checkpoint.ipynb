{
 "cells": [
  {
   "cell_type": "code",
   "execution_count": 1,
   "id": "5218d776",
   "metadata": {},
   "outputs": [
    {
     "name": "stdout",
     "output_type": "stream",
     "text": [
      "1\n",
      "2\n",
      "3\n",
      "4\n",
      "5\n",
      "6\n",
      "7\n",
      "8\n",
      "9\n",
      "10\n"
     ]
    }
   ],
   "source": [
    "#1. Write a Python program to print the numbers from 1 to 10 using a `for` loop.\n",
    "for i in range(1,11):\n",
    "    print(i)"
   ]
  },
  {
   "cell_type": "code",
   "execution_count": 14,
   "id": "35fae1c3",
   "metadata": {},
   "outputs": [
    {
     "name": "stdout",
     "output_type": "stream",
     "text": [
      "21\n"
     ]
    }
   ],
   "source": [
    "#2. Create a program that calculates the sum of all numbers in a list using a `for` loop.\n",
    "list=[1, 2, 3, 4, 5, 6]\n",
    "sum=0\n",
    "for i in list:\n",
    "    sum+=i\n",
    "print(sum)"
   ]
  },
  {
   "cell_type": "code",
   "execution_count": 22,
   "id": "f879d9c1",
   "metadata": {},
   "outputs": [
    {
     "name": "stdout",
     "output_type": "stream",
     "text": [
      "e\n",
      "d\n",
      "c\n",
      "b\n",
      "a\n"
     ]
    }
   ],
   "source": [
    "#3. Write a program to print the characters of a string in reverse order using a `for` loop.\n",
    "string = \"abcde\"\n",
    "length = len(string) \n",
    "for i in range(length - 1, -1, -1): \n",
    "    print(string[i])\n",
    "    "
   ]
  },
  {
   "cell_type": "code",
   "execution_count": 25,
   "id": "e60d7868",
   "metadata": {},
   "outputs": [
    {
     "name": "stdout",
     "output_type": "stream",
     "text": [
      "factorial of 10 is 3628800\n"
     ]
    }
   ],
   "source": [
    "#4. Develop a program that finds the factorial of a given number using a `for` loop.\n",
    "fact=1\n",
    "n=10\n",
    "for i in range(1,n+1):\n",
    "    fact=fact*i\n",
    "print(f\"factorial of {n} is {fact}\")"
   ]
  },
  {
   "cell_type": "code",
   "execution_count": 61,
   "id": "ce3c3715",
   "metadata": {},
   "outputs": [
    {
     "name": "stdout",
     "output_type": "stream",
     "text": [
      "6*1=6\n",
      "6*2=12\n",
      "6*3=18\n",
      "6*4=24\n",
      "6*5=30\n",
      "6*6=36\n",
      "6*7=42\n",
      "6*8=48\n",
      "6*9=54\n",
      "6*10=60\n"
     ]
    }
   ],
   "source": [
    "#5. Create a program to print the multiplication table of a given number using a `for` loop.\n",
    "n=6\n",
    "for index,num in enumerate(range(n,(n*10)+1,n)):\n",
    "    print(f\"{n}*{index+1}={n*(index+1)}\")"
   ]
  },
  {
   "cell_type": "code",
   "execution_count": 11,
   "id": "2ceccab8",
   "metadata": {},
   "outputs": [
    {
     "name": "stdout",
     "output_type": "stream",
     "text": [
      "Number of even numbers: 4\n",
      "Number of odd numbers: 5\n"
     ]
    }
   ],
   "source": [
    "#6. Write a program that counts the number of even and odd numbers in a list using a `for` loop.\n",
    "list1=[1,2,3,4,5,6,7,8,9]\n",
    "countev=0\n",
    "countod=0\n",
    "for i in list1:\n",
    "    if i%2==0:\n",
    "        countev+=1\n",
    "    else:\n",
    "        countod+=1\n",
    "print(f\"Number of even numbers: {countev}\")\n",
    "print(f\"Number of odd numbers: {countod}\")        "
   ]
  },
  {
   "cell_type": "code",
   "execution_count": 13,
   "id": "2bef2d9e",
   "metadata": {},
   "outputs": [
    {
     "name": "stdout",
     "output_type": "stream",
     "text": [
      "[1, 4, 9, 16]\n"
     ]
    }
   ],
   "source": [
    "#7. Develop a program that prints the squares of numbers from 1 to 5 using a `for` loop.\n",
    "list1=[x**2 for x in range(1,5)]\n",
    "print(list1)"
   ]
  },
  {
   "cell_type": "code",
   "execution_count": 22,
   "id": "6687caa4",
   "metadata": {},
   "outputs": [
    {
     "name": "stdout",
     "output_type": "stream",
     "text": [
      "Length of string: 5\n"
     ]
    }
   ],
   "source": [
    "#8. Create a program to find the length of a string without using the `len()` function.\n",
    "string=\"abcde\"\n",
    "count=0\n",
    "for i in string:\n",
    "    count+=1\n",
    "print(\"Length of string:\",count)"
   ]
  },
  {
   "cell_type": "code",
   "execution_count": 27,
   "id": "ed39feb5",
   "metadata": {},
   "outputs": [
    {
     "name": "stdout",
     "output_type": "stream",
     "text": [
      "The average is:  5.0\n"
     ]
    }
   ],
   "source": [
    "#9. Write a program that calculates the average of a list of numbers using a `for` loop.\n",
    "list1=[1,2,3,4,5,6,7,8,9]\n",
    "total=0\n",
    "for i in list1:\n",
    "    total+=i\n",
    "avg=total/len(list1)\n",
    "print(\"The average is: \",avg)"
   ]
  },
  {
   "cell_type": "code",
   "execution_count": 39,
   "id": "d3b9d61d",
   "metadata": {},
   "outputs": [
    {
     "name": "stdout",
     "output_type": "stream",
     "text": [
      "[0, 1, 1, 2, 3, 5, 8, 13, 21, 34]\n"
     ]
    }
   ],
   "source": [
    "#10. Develop a program that prints the first `n` Fibonacci numbers using a `for` loop.\n",
    "fib=[0,1]\n",
    "num=0\n",
    "n=10\n",
    "for i in range(2,n):\n",
    "    num=fib[i-1]+fib[i-2]\n",
    "    fib.append(num)\n",
    "print(fib)"
   ]
  },
  {
   "cell_type": "code",
   "execution_count": 64,
   "id": "1e8da679",
   "metadata": {},
   "outputs": [
    {
     "name": "stdout",
     "output_type": "stream",
     "text": [
      "List has duplicates\n"
     ]
    }
   ],
   "source": [
    "#11. Write a program to check if a given list contains any duplicates using a `for` loop.\n",
    "list1=[1,2,3,4,5,6,6,7,7,8,9]\n",
    "list2=[]\n",
    "found=False\n",
    "for i in list1:\n",
    "    if i in list2:\n",
    "        found=True\n",
    "    else:\n",
    "        list2.append(i)\n",
    "if found:\n",
    "    print(\"List has duplicates\")\n",
    "else:\n",
    "    print(\"List do not have duplicates\")"
   ]
  },
  {
   "cell_type": "code",
   "execution_count": 67,
   "id": "3b214fa5",
   "metadata": {},
   "outputs": [
    {
     "name": "stdout",
     "output_type": "stream",
     "text": [
      "[2, 3, 5, 7]\n"
     ]
    }
   ],
   "source": [
    "#12. Create a program that prints the prime numbers in a given range using a `for` loop.\n",
    "n = 10\n",
    "list1 = []\n",
    "for i in range(2, n):\n",
    "    is_prime=True\n",
    "    for j in range(2,int(i**0.5)+1):\n",
    "        if i%j==0:\n",
    "            is_prime=False\n",
    "            break\n",
    "    if is_prime:\n",
    "        list1.append(i)\n",
    "print(list1)\n"
   ]
  },
  {
   "cell_type": "code",
   "execution_count": 71,
   "id": "44d60735",
   "metadata": {},
   "outputs": [
    {
     "name": "stdout",
     "output_type": "stream",
     "text": [
      "5\n"
     ]
    }
   ],
   "source": [
    "#13. Develop a program that counts the number of vowels in a string using a `for` loop.\n",
    "string=\"abcdeoefghi\"\n",
    "vowels=\"aeiou\"\n",
    "count=0\n",
    "for i in string:\n",
    "    for j in vowels:\n",
    "        if j in i:\n",
    "            count+=1\n",
    "print(count)"
   ]
  },
  {
   "cell_type": "code",
   "execution_count": 81,
   "id": "502ba7b5",
   "metadata": {},
   "outputs": [
    {
     "name": "stdout",
     "output_type": "stream",
     "text": [
      "Maximum number in the list is  8\n"
     ]
    }
   ],
   "source": [
    "#14. Write a program to find the maximum element in a 2D list using a nested `for` loop.\n",
    "list1=[[1,2,3,8,4],[3,4,5,6,1]]\n",
    "list2=[]\n",
    "for i in list1:\n",
    "    for j in i:\n",
    "        list2.append(j)\n",
    "print(\"Maximum number in the list is \",max(list2))"
   ]
  },
  {
   "cell_type": "code",
   "execution_count": 26,
   "id": "64e884e9",
   "metadata": {},
   "outputs": [
    {
     "name": "stdout",
     "output_type": "stream",
     "text": [
      "[1, 3, 4, 5, 6, 7]\n"
     ]
    }
   ],
   "source": [
    "#15. Create a program that removes all occurrences of a specific element from a list using a `for` loop.\n",
    "list1=[1,2,3,4,5,6,7,2,2,2,2]\n",
    "n=2\n",
    "for i in list1[:]:\n",
    "    if i==n:\n",
    "        list1.remove(i)\n",
    "print(list1)"
   ]
  },
  {
   "cell_type": "code",
   "execution_count": 27,
   "id": "ba1309b0",
   "metadata": {},
   "outputs": [
    {
     "name": "stdout",
     "output_type": "stream",
     "text": [
      "1*1=1\n",
      "1*2=2\n",
      "1*3=3\n",
      "1*4=4\n",
      "1*5=5\n",
      "1*6=6\n",
      "1*7=7\n",
      "1*8=8\n",
      "1*9=9\n",
      "1*10=10\n",
      "2*1=2\n",
      "2*2=4\n",
      "2*3=6\n",
      "2*4=8\n",
      "2*5=10\n",
      "2*6=12\n",
      "2*7=14\n",
      "2*8=16\n",
      "2*9=18\n",
      "2*10=20\n",
      "3*1=3\n",
      "3*2=6\n",
      "3*3=9\n",
      "3*4=12\n",
      "3*5=15\n",
      "3*6=18\n",
      "3*7=21\n",
      "3*8=24\n",
      "3*9=27\n",
      "3*10=30\n",
      "4*1=4\n",
      "4*2=8\n",
      "4*3=12\n",
      "4*4=16\n",
      "4*5=20\n",
      "4*6=24\n",
      "4*7=28\n",
      "4*8=32\n",
      "4*9=36\n",
      "4*10=40\n",
      "5*1=5\n",
      "5*2=10\n",
      "5*3=15\n",
      "5*4=20\n",
      "5*5=25\n",
      "5*6=30\n",
      "5*7=35\n",
      "5*8=40\n",
      "5*9=45\n",
      "5*10=50\n"
     ]
    }
   ],
   "source": [
    "#16. Develop a program that generates a multiplication table for numbers from 1 to 5 using a nested `for` loop.\n",
    "for i in range(1,6):\n",
    "    for j in range(1,11):\n",
    "        print(f\"{i}*{j}={i*j}\")"
   ]
  },
  {
   "cell_type": "code",
   "execution_count": 1,
   "id": "433ac402",
   "metadata": {},
   "outputs": [
    {
     "name": "stdout",
     "output_type": "stream",
     "text": [
      "Enter tempreature list seperated by commas(,) in Fahrenheit: 22,39,19\n",
      "22.0 °F = -5.5 °C\n",
      "39.0 °F = 3.8500000000000005 °C\n",
      "19.0 °F = -7.15 °C\n"
     ]
    }
   ],
   "source": [
    "#17. Write a program that converts a list of Fahrenheit temperatures to Celsius using a `for` loop.\n",
    "htemp=input(\"Enter tempreature list seperated by commas(,) in Fahrenheit: \")\n",
    "list1=[float(x) for x in htemp.split(\",\")]\n",
    "list2=[]\n",
    "for i in list1:\n",
    "    ctemp =(i-32)*0.55\n",
    "    list2.append(ctemp)\n",
    "for i in range(len(list1)):\n",
    "    print(list1[i], \"°F =\", list2[i], \"°C\")"
   ]
  },
  {
   "cell_type": "code",
   "execution_count": 21,
   "id": "c6779c39",
   "metadata": {},
   "outputs": [
    {
     "name": "stdout",
     "output_type": "stream",
     "text": [
      "Common elements:  {1, 2, 3, 4}\n"
     ]
    }
   ],
   "source": [
    "#18. Create a program to print the common elements from two lists using a `for` loop.\n",
    "list1=[1,2,3,4,2]\n",
    "list2=[3,1,4,2]\n",
    "l=[]\n",
    "for i in list1:\n",
    "    if i in list2:\n",
    "        l.append(i)\n",
    "        n=set(l)\n",
    "print(\"Common elements: \",n)"
   ]
  },
  {
   "cell_type": "code",
   "execution_count": 27,
   "id": "f84f6a5c",
   "metadata": {},
   "outputs": [
    {
     "name": "stdout",
     "output_type": "stream",
     "text": [
      "\n",
      "*\n",
      "**\n",
      "***\n",
      "****\n",
      "*****\n",
      "******\n",
      "*******\n",
      "********\n",
      "*********\n"
     ]
    }
   ],
   "source": [
    "#19. Develop a program that prints the pattern of right-angled triangles using a `for` loop. Use ‘*’ to draw the pattern\n",
    "for i in range(10):\n",
    "    print(\"*\"*i)"
   ]
  },
  {
   "cell_type": "code",
   "execution_count": 95,
   "id": "17aabe87",
   "metadata": {},
   "outputs": [
    {
     "name": "stdout",
     "output_type": "stream",
     "text": [
      "Greatest common divisor of two is 4\n"
     ]
    }
   ],
   "source": [
    "#20. Write a program to find the greatest common divisor (GCD) of two numbers using a `for` loop.\n",
    "n1=100\n",
    "n2=4\n",
    "l1=[x for x in range(1,n1+1) if n1%x==0]\n",
    "l2=[x for x in range(1,n2+1) if n2%x==0]\n",
    "common=[]\n",
    "for i in l1:\n",
    "    for j in l2:\n",
    "        l=set()\n",
    "        common.append(j)\n",
    "common=set(common)\n",
    "print(\"Greatest common divisor of two is\",max(common))"
   ]
  },
  {
   "cell_type": "code",
   "execution_count": 45,
   "id": "ad6246eb",
   "metadata": {},
   "outputs": [
    {
     "name": "stdout",
     "output_type": "stream",
     "text": [
      "[6, 15, 24]\n"
     ]
    }
   ],
   "source": [
    "#21. Create a program that calculates the sum of the digits of numbers in a list using a list comprehension.\n",
    "list1 = [123, 456, 789]\n",
    "list2 = []\n",
    "for i in list1:\n",
    "    add = 0 \n",
    "    for j in str(i):  \n",
    "        add += int(j) \n",
    "    list2.append(add)\n",
    "print(list2)"
   ]
  },
  {
   "cell_type": "code",
   "execution_count": 5,
   "id": "52ecf456",
   "metadata": {},
   "outputs": [
    {
     "name": "stdout",
     "output_type": "stream",
     "text": [
      "Prime factors of 84 : [2, 3, 7]\n"
     ]
    }
   ],
   "source": [
    "#22. Write a program to find the prime factors of a given number using a `for` loop and list comprehension.\n",
    "n=84\n",
    "list1 = [x for x in range(2,n+1) if n%x==0]\n",
    "list2 = []\n",
    "for i in list1:\n",
    "    prime = True\n",
    "    for j in range(2, int(i**0.5) + 1):\n",
    "        if i % j == 0:\n",
    "            prime = False\n",
    "            break\n",
    "    if prime:\n",
    "        list2.append(i)\n",
    "print(\"Prime factors of\", n, \":\", list2)"
   ]
  },
  {
   "cell_type": "code",
   "execution_count": 32,
   "id": "e40ed930",
   "metadata": {},
   "outputs": [
    {
     "name": "stdout",
     "output_type": "stream",
     "text": [
      "Unique element in list [1, 2, 3, 5, 6, 7, 8, 9]\n"
     ]
    }
   ],
   "source": [
    "#23. Develop a program that extracts unique elements from a list and stores them in a new list using a list comprehension.\n",
    "list1=[1,2,3,4,4,4,5,6,7,8,9]\n",
    "list2=[]\n",
    "\n",
    "for i in list1:    \n",
    "    if list1.count(i)==1:\n",
    "        list2.append(i)\n",
    "print(\"Unique element in list\",list2)"
   ]
  },
  {
   "cell_type": "code",
   "execution_count": 51,
   "id": "aba4e49c",
   "metadata": {},
   "outputs": [
    {
     "name": "stdout",
     "output_type": "stream",
     "text": [
      "[0, 1, 2, 3, 4, 5, 6, 7, 8, 9, 11, 22, 33, 44]\n"
     ]
    }
   ],
   "source": [
    "#24. Create a program that generates a list of all palindromic numbers up to a specified limit using a list comprehension.\n",
    "n=50\n",
    "list1=[x for x in range(n+1)]\n",
    "st1=str(list1)\n",
    "palindrome=[]\n",
    "for i in list1:\n",
    "    if str(i)[::-1]==str(i):\n",
    "        palindrome.append(i)\n",
    "print(palindrome)"
   ]
  },
  {
   "cell_type": "code",
   "execution_count": 54,
   "id": "ec1742b6",
   "metadata": {},
   "outputs": [
    {
     "name": "stdout",
     "output_type": "stream",
     "text": [
      "[1, 2, 3, 4, 5, 6, 7, 8]\n"
     ]
    }
   ],
   "source": [
    "#25. Write a program to flatten a nested list using list comprehension.\n",
    "list1=[[1,2,3,4],[5,6,7,8]]\n",
    "list2=[]\n",
    "for i in list1:\n",
    "    for j in i:\n",
    "        list2.append(j)\n",
    "print(list2)"
   ]
  },
  {
   "cell_type": "code",
   "execution_count": 60,
   "id": "1774cbe0",
   "metadata": {},
   "outputs": [
    {
     "name": "stdout",
     "output_type": "stream",
     "text": [
      "Sum of even number:  6\n",
      "Sum of even number:  9\n"
     ]
    }
   ],
   "source": [
    "#26. Develop a program that computes the sum of even and odd numbers in a list separately using list comprehension.\n",
    "n=5\n",
    "list1=[x for x in range(n+1)]\n",
    "even=[x for x in list1 if x%2==0]\n",
    "odd=[x for x in list1 if x%2!=0]\n",
    "addev=0\n",
    "for i in even:\n",
    "    addev+=i\n",
    "print(\"Sum of even number: \",addev)\n",
    "addod=0\n",
    "for j in odd:\n",
    "    addod+=j\n",
    "print(\"Sum of even number: \",addod)"
   ]
  },
  {
   "cell_type": "code",
   "execution_count": 61,
   "id": "a40840fd",
   "metadata": {},
   "outputs": [
    {
     "name": "stdout",
     "output_type": "stream",
     "text": [
      "[1, 9, 25, 49, 81]\n"
     ]
    }
   ],
   "source": [
    "#27. Create a program that generates a list of squares of odd numbers between 1 and 10 using list comprehension.\n",
    "odd=[x**2 for x in range(1,11) if x%2!=0]\n",
    "print(odd)"
   ]
  },
  {
   "cell_type": "code",
   "execution_count": 62,
   "id": "93dffe55",
   "metadata": {},
   "outputs": [
    {
     "name": "stdout",
     "output_type": "stream",
     "text": [
      "{1: 6, 2: 7, 3: 8, 4: 9}\n"
     ]
    }
   ],
   "source": [
    "#28. Write a program that combines two lists into a dictionary using list comprehension.\n",
    "list1 = [1, 2, 3, 4, 5]\n",
    "list2 = [6, 7, 8, 9]\n",
    "dictionary = {}\n",
    "for i in range(min(len(list1), len(list2))):\n",
    "    dictionary[list1[i]] = list2[i]\n",
    "print(dictionary)"
   ]
  },
  {
   "cell_type": "code",
   "execution_count": 65,
   "id": "2eaa30f8",
   "metadata": {},
   "outputs": [
    {
     "name": "stdout",
     "output_type": "stream",
     "text": [
      "['a', 'e', 'i', 'o']\n"
     ]
    }
   ],
   "source": [
    "#29. Develop a program that extracts the vowels from a string and stores them in a list using list comprehension.\n",
    "string=\"abcdefghijklmnop\"\n",
    "vowels=\"aeiou\"\n",
    "list1=[]\n",
    "for i in string:\n",
    "    for j in vowels:\n",
    "        if j in i:\n",
    "            list1.append(i)\n",
    "print(list1)"
   ]
  },
  {
   "cell_type": "code",
   "execution_count": 79,
   "id": "87d9260d",
   "metadata": {},
   "outputs": [
    {
     "name": "stdout",
     "output_type": "stream",
     "text": [
      "Numeric values only: [9, 8, 0, 6, 9]\n"
     ]
    }
   ],
   "source": [
    "#30. Create a program that removes all non-numeric characters from a list of strings using list comprehension.\n",
    "list1 = [\"s\", \"d\", \"i\", 9, 8, 0, 6, \"e\",\"9\"]\n",
    "numeric_list = []\n",
    "for i in list1:\n",
    "    if isinstance(i, int):\n",
    "        numeric_list.append(i)\n",
    "    elif isinstance(i, str) and i.isdigit():\n",
    "        numeric_list.append(int(i))\n",
    "\n",
    "print(\"Numeric values only:\", numeric_list)"
   ]
  }
 ],
 "metadata": {
  "kernelspec": {
   "display_name": "Python 3 (ipykernel)",
   "language": "python",
   "name": "python3"
  },
  "language_info": {
   "codemirror_mode": {
    "name": "ipython",
    "version": 3
   },
   "file_extension": ".py",
   "mimetype": "text/x-python",
   "name": "python",
   "nbconvert_exporter": "python",
   "pygments_lexer": "ipython3",
   "version": "3.11.7"
  }
 },
 "nbformat": 4,
 "nbformat_minor": 5
}
