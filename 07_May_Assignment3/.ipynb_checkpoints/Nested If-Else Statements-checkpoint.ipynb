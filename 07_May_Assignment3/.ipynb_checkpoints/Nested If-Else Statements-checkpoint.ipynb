{
 "cells": [
  {
   "cell_type": "code",
   "execution_count": 5,
   "id": "e8928e6f",
   "metadata": {},
   "outputs": [
    {
     "name": "stdout",
     "output_type": "stream",
     "text": [
      "Enter any number1:34\n",
      "Enter any number2: 54\n",
      "Enter any number3: 21\n",
      "54.0 is the largest\n"
     ]
    }
   ],
   "source": [
    "#11. Write a program to find the largest among three numbers using nested if-else statements.\n",
    "a=float(input(\"Enter any number1:\"))\n",
    "b=float(input(\"Enter any number2: \"))\n",
    "c=float(input(\"Enter any number3: \"))\n",
    "if a<c and b<c:\n",
    "    print(f\"{c} is the largest\")\n",
    "elif b<a and c<a:\n",
    "    print(f\"{a} is the largest\")\n",
    "elif a<b and c<b:\n",
    "    print(f\"{b} is the largest\")"
   ]
  },
  {
   "cell_type": "code",
   "execution_count": 10,
   "id": "b02c49ce",
   "metadata": {},
   "outputs": [
    {
     "name": "stdout",
     "output_type": "stream",
     "text": [
      "Enter length of side 1: 12\n",
      "Enter length of side 2: 12\n",
      "Enter length of side 3: 12\n",
      "It is an Equilateral triangle\n"
     ]
    }
   ],
   "source": [
    "#12. Implement a program to determine if a triangle is equilateral, isosceles, or scalene.\n",
    "a=float(input(\"Enter length of side 1: \"))\n",
    "b=float(input(\"Enter length of side 2: \"))\n",
    "c=float(input(\"Enter length of side 3: \"))\n",
    "if a==b==c:\n",
    "    print(\"It is an Equilateral triangle\")\n",
    "elif a==b or b==c or a==c:\n",
    "    print(\"It is an Isosceles triangle\")\n",
    "elif a!=b!=c:\n",
    "    print(\"It is an Scalane triangle\")"
   ]
  },
  {
   "cell_type": "code",
   "execution_count": 5,
   "id": "31ae2df1",
   "metadata": {},
   "outputs": [
    {
     "name": "stdout",
     "output_type": "stream",
     "text": [
      "leap year\n"
     ]
    }
   ],
   "source": [
    "#13. Develop a program that checks if a year is a leap year and also if it is a century year.\n",
    "year=2024\n",
    "if (year%4==0 and year%100!=0) or (year%400==0):\n",
    "    print(\"leap year\")\n",
    "else:\n",
    "    print(\"not a leap year\")"
   ]
  },
  {
   "cell_type": "code",
   "execution_count": 7,
   "id": "4a1a0c61",
   "metadata": {},
   "outputs": [
    {
     "name": "stdout",
     "output_type": "stream",
     "text": [
      "Negative number\n"
     ]
    }
   ],
   "source": [
    "#14. Write a Python script to determine if a number is positive, negative, or zero.\n",
    "num=-12\n",
    "if num<0:\n",
    "    print(\"Negative number\")\n",
    "elif num>0:\n",
    "    print(\"Posiive number\")\n",
    "elif num==0:\n",
    "    print(\"It is zero\")"
   ]
  },
  {
   "cell_type": "code",
   "execution_count": 10,
   "id": "42bce2de",
   "metadata": {},
   "outputs": [
    {
     "name": "stdout",
     "output_type": "stream",
     "text": [
      "Person is teenager\n"
     ]
    }
   ],
   "source": [
    "#15. Create a program to check if a person is a teenager (between 13 and 19 years old).\n",
    "age=19\n",
    "if 13<=age<=19:\n",
    "    print(\"Person is teenager\")\n",
    "else:\n",
    "    print(\"Person is not teenager\")"
   ]
  },
  {
   "cell_type": "code",
   "execution_count": 17,
   "id": "482b38be",
   "metadata": {},
   "outputs": [
    {
     "name": "stdout",
     "output_type": "stream",
     "text": [
      "It is a acute angle\n"
     ]
    }
   ],
   "source": [
    "#16. Develop a program that determines the type of angle based on its measure (acute, obtuse, or right).\n",
    "angle=35\n",
    "if angle==90:\n",
    "    print(\"It is a right angle\")\n",
    "elif angle==360:\n",
    "    print(\"It is a full angle\")\n",
    "elif angle==180:\n",
    "    print(\"It is a straight angle\")\n",
    "elif angle<90:\n",
    "    print(\"It is a acute angle\")\n",
    "elif 90<angle<180:\n",
    "    print(\"It is a obtuse angle\")\n",
    "elif 180<angle<360:\n",
    "    print(\"It is a straight angle\")"
   ]
  },
  {
   "cell_type": "code",
   "execution_count": 60,
   "id": "11536fc7",
   "metadata": {},
   "outputs": [
    {
     "name": "stdout",
     "output_type": "stream",
     "text": [
      "Enter coefficient a: 4\n",
      "Enter coefficient b: 4\n",
      "Enter coefficient c: 4\n",
      "Root 1 : -0.50 + 0.87i\n",
      "Root 2 : -0.50 + 0.87i\n"
     ]
    }
   ],
   "source": [
    "#17. Write a Python program to calculate the roots of a quadratic equation.\n",
    "import math\n",
    "a = float(input(\"Enter coefficient a: \"))\n",
    "b = float(input(\"Enter coefficient b: \"))\n",
    "c = float(input(\"Enter coefficient c: \"))\n",
    "d = b**2 - 4*a*c\n",
    "if d > 0:\n",
    "    root1 = (-b+math.sqrt(d))/(2*a)\n",
    "    root2 = (-b-math.sqrt(d))/(2*a)\n",
    "    print(\"Root 1 :\", root1)\n",
    "    print(\"Root 2 :\", root2)\n",
    "elif d == 0:\n",
    "    root = -b / (2*a)\n",
    "    print(\"Root :\", root)\n",
    "else:\n",
    "    root1 = -b / (2*a)\n",
    "    root2 = math.sqrt(-d) / (2*a)\n",
    "    print(f\"Root 1 : {root1:.2f} + {root2:.2f}i\") \n",
    "    print(f\"Root 2 : {root1:.2f} + {root2:.2f}i\") \n"
   ]
  },
  {
   "cell_type": "code",
   "execution_count": 51,
   "id": "0de9e7e9",
   "metadata": {},
   "outputs": [
    {
     "name": "stdout",
     "output_type": "stream",
     "text": [
      "Wednesday\n"
     ]
    }
   ],
   "source": [
    "#18. Implement a program to determine the day of the week based on a user-provided number (1 for Monday, 2 for Tuesday, etc.).\n",
    "week=[\"Monday\",\"Tuesday\",\"Wednesday\",\"Thursday\",\"Friday\",\"Saturday\",\"Sunday\"]\n",
    "num=3\n",
    "for i in range(1,len(week)+1):\n",
    "    if i==num:\n",
    "        print(week[i-1])"
   ]
  },
  {
   "cell_type": "code",
   "execution_count": 53,
   "id": "219a7617",
   "metadata": {},
   "outputs": [
    {
     "name": "stdout",
     "output_type": "stream",
     "text": [
      "not a leap year\n"
     ]
    }
   ],
   "source": [
    "#19. Create a program that determines if a year is a leap year and also if it is evenly divisible by 400.\n",
    "year=2025\n",
    "if (year%4==0 and year%100!=0) or (year%400==0):\n",
    "    print(\"leap year\")\n",
    "else:\n",
    "    print(\"not a leap year\")\n",
    "if year%400==0:\n",
    "    print(\"It is divisible by 400\")"
   ]
  },
  {
   "cell_type": "code",
   "execution_count": 54,
   "id": "ad6c4259",
   "metadata": {},
   "outputs": [
    {
     "name": "stdout",
     "output_type": "stream",
     "text": [
      "It is a prime number\n"
     ]
    }
   ],
   "source": [
    "#20. Develop a program that checks if a given number is prime or not using nested if-else statements. Elif Statements:\n",
    "n=7\n",
    "for i in range(2,int(n**0.5)+1):\n",
    "    if n%i==0:\n",
    "        print(\"Not prime number\")\n",
    "    else:\n",
    "        print(\"It is a prime number\")\n",
    "    "
   ]
  },
  {
   "cell_type": "code",
   "execution_count": 62,
   "id": "e861f53c",
   "metadata": {},
   "outputs": [
    {
     "name": "stdout",
     "output_type": "stream",
     "text": [
      "Grades of student are\n",
      "B\n"
     ]
    }
   ],
   "source": [
    "#21. Write a Python program to assign grades based on different ranges of scores using elif statements.\n",
    "marks = 70\n",
    "print(\"Grades of student are\")\n",
    "if marks>=90:\n",
    "    print(\"A++\")\n",
    "elif marks>=80:\n",
    "    print(\"A+\")\n",
    "elif marks>=70:\n",
    "    print(\"B\")\n",
    "elif marks>=60:\n",
    "    print(\"C\")\n",
    "elif marks>=50:\n",
    "    print(\"D\")\n",
    "elif marks>=30:\n",
    "    print(\"E\")\n",
    "else:\n",
    "    print(\"Fail\")\n"
   ]
  },
  {
   "cell_type": "code",
   "execution_count": 45,
   "id": "bf66dcfe",
   "metadata": {},
   "outputs": [
    {
     "name": "stdout",
     "output_type": "stream",
     "text": [
      "Right angled triangle\n"
     ]
    }
   ],
   "source": [
    "#22. Implement a program to determine the type of a triangle based on its angles.\n",
    "a=90\n",
    "b=45\n",
    "c=45\n",
    "if a+b+c==180 and a!=0 and b!=0 and c!=0:\n",
    "    if a<90 and b<90 and c<90:\n",
    "        print(\"Acute triangle\")\n",
    "    elif a==90 or b==90 or c==90:\n",
    "        print(\"Right angled triangle\")\n",
    "    elif a>90 and b>90 and c>90:\n",
    "        print(\"Obtuse triangle\")\n",
    "else:\n",
    "    print(\"Not a valid triangle\")\n"
   ]
  },
  {
   "cell_type": "code",
   "execution_count": 47,
   "id": "67a02b64",
   "metadata": {},
   "outputs": [
    {
     "name": "stdout",
     "output_type": "stream",
     "text": [
      "Enter your weight(kilograms)45\n",
      "Enter your height(meters)1.75\n",
      "Person is underweight\n"
     ]
    }
   ],
   "source": [
    "#23. Develop a program to categorize a given person's BMI into underweight, normal, overweight, or obese using\n",
    "weight=float(input(\"Enter your weight(kilograms)\"))\n",
    "height=float(input(\"Enter your height(meters)\"))\n",
    "bmi=weight/(height)**2\n",
    "if 18.5<bmi<25:\n",
    "    print(\"Person is normal\")\n",
    "elif bmi<18.5:\n",
    "    print(\"Person is underweight\")\n",
    "elif 25<bmi:\n",
    "    print(\"Person is overweight\")"
   ]
  }
 ],
 "metadata": {
  "kernelspec": {
   "display_name": "Python 3 (ipykernel)",
   "language": "python",
   "name": "python3"
  },
  "language_info": {
   "codemirror_mode": {
    "name": "ipython",
    "version": 3
   },
   "file_extension": ".py",
   "mimetype": "text/x-python",
   "name": "python",
   "nbconvert_exporter": "python",
   "pygments_lexer": "ipython3",
   "version": "3.11.7"
  }
 },
 "nbformat": 4,
 "nbformat_minor": 5
}
