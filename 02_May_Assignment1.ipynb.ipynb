{
 "cells": [
  {
   "cell_type": "code",
   "execution_count": 1,
   "id": "4609d4a3",
   "metadata": {},
   "outputs": [
    {
     "name": "stdout",
     "output_type": "stream",
     "text": [
      "2 3\n",
      "3 2\n"
     ]
    }
   ],
   "source": [
    "\"\"\"\"1. Declare two variables, `x` and `y`, and assign them integer values. Swap the\n",
    "values of these variables without using any temporary variable.\"\"\"\n",
    "\n",
    "x=2 #Declaration of variable\n",
    "y=3\n",
    "print(x,y)\n",
    "x,y=y,x #Variable swapped by reallocating using commas\n",
    "print(x,y)"
   ]
  },
  {
   "cell_type": "code",
   "execution_count": 2,
   "id": "46810106",
   "metadata": {},
   "outputs": [
    {
     "name": "stdout",
     "output_type": "stream",
     "text": [
      "Enter the Length of rectangle :2\n",
      "Enter the width of rectangle :3\n",
      "6\n"
     ]
    }
   ],
   "source": [
    "\"\"\"\n",
    "2. Create a program that calculates the area of a rectangle. Take the length and\n",
    "width as inputs from the user and store them in variables. Calculate and\n",
    "display the area.\n",
    "\"\"\"\n",
    "length=int(input(\"Enter the Length of rectangle :\")) #length and wdth variable declared\n",
    "width=int(input(\"Enter the width of rectangle :\"))\n",
    "area=length*width  #formula of area\n",
    "print(area)"
   ]
  },
  {
   "cell_type": "code",
   "execution_count": 1,
   "id": "540b729f",
   "metadata": {},
   "outputs": [
    {
     "name": "stdout",
     "output_type": "stream",
     "text": [
      "Enter the tempreature in celcius :2\n",
      "35.6\n"
     ]
    }
   ],
   "source": [
    "\"\"\"\n",
    "3. Write a Python program that converts temperatures from Celsius to\n",
    "Fahrenheit. Take the temperature in Celsius as input, store it in a variable,\n",
    "convert it to Fahrenheit.\"\"\"\n",
    "celciustemp=float(input(\"Enter the tempreature in celcius :\")) #variable that store temp. in celcius\n",
    "fahrenheittemp=(celciustemp * 1.8) + 32 #converting celcius into farhenhiet by usiing formula\n",
    "print(fahrenheittemp)"
   ]
  },
  {
   "cell_type": "code",
   "execution_count": 9,
   "id": "57feb9d9",
   "metadata": {},
   "outputs": [
    {
     "name": "stdout",
     "output_type": "stream",
     "text": [
      "Enter the string you want to apply the function :sfsf\n"
     ]
    },
    {
     "data": {
      "text/plain": [
       "'String in uppercase :SFSF'"
      ]
     },
     "execution_count": 9,
     "metadata": {},
     "output_type": "execute_result"
    }
   ],
   "source": [
    "def upperFunction(string):\n",
    "    output = \"\"\n",
    "    for i in string:\n",
    "        if 'a' <= i <= 'z':\n",
    "            output += chr(ord(i) - 32)\n",
    "        else:\n",
    "            output += i\n",
    "    return f\"String in uppercase :{output}\"\n",
    "string=input(\"Enter the string you want to apply the function :\")\n",
    "upperFunction(string)"
   ]
  },
  {
   "cell_type": "code",
   "execution_count": 12,
   "id": "6475b293",
   "metadata": {},
   "outputs": [
    {
     "name": "stdout",
     "output_type": "stream",
     "text": [
      "Enter the string you want to apply the function :scsCSSSS\n"
     ]
    },
    {
     "data": {
      "text/plain": [
       "'String in lowercase :scscssss'"
      ]
     },
     "execution_count": 12,
     "metadata": {},
     "output_type": "execute_result"
    }
   ],
   "source": [
    "def lowerFunction(string):\n",
    "    output = \"\"\n",
    "    for i in string:\n",
    "        if 'A' <= i <= 'Z':\n",
    "            output += chr(ord(i) + 32)\n",
    "        else:\n",
    "            output += i\n",
    "    return f\"String in lowercase :{output}\"\n",
    "string=input(\"Enter the string you want to apply the function :\")\n",
    "lowerFunction(string)"
   ]
  },
  {
   "cell_type": "code",
   "execution_count": 27,
   "id": "3a6eb879",
   "metadata": {},
   "outputs": [
    {
     "name": "stdout",
     "output_type": "stream",
     "text": [
      "Enter the string you want to apply the function : c cc \n"
     ]
    },
    {
     "data": {
      "text/plain": [
       "'String with Strip function :c cc'"
      ]
     },
     "execution_count": 27,
     "metadata": {},
     "output_type": "execute_result"
    }
   ],
   "source": [
    "def stripFunction(string):\n",
    "    x = 0\n",
    "    y = len(string) - 1\n",
    "    while x <= y and string[x] == ' ':\n",
    "        x += 1\n",
    "    while y >= x and string[y] == ' ':\n",
    "        y -= 1\n",
    "    return f\"String with Strip function :{string[x:y+1]}\"\n",
    "string=input(\"Enter the string you want to apply the function :\")\n",
    "stripFunction(string)"
   ]
  },
  {
   "cell_type": "code",
   "execution_count": 26,
   "id": "0bd05082",
   "metadata": {},
   "outputs": [
    {
     "name": "stdout",
     "output_type": "stream",
     "text": [
      "Enter the string you want to apply the function : cddc\n"
     ]
    },
    {
     "data": {
      "text/plain": [
       "'String with Left Strip function :cddc'"
      ]
     },
     "execution_count": 26,
     "metadata": {},
     "output_type": "execute_result"
    }
   ],
   "source": [
    "def lstripFunc(string):\n",
    "    x = 0\n",
    "    while x < len(string) and string[x] == ' ':\n",
    "        x += 1\n",
    "    return f\"String with Left Strip function :{string[x:]}\"\n",
    "string=input(\"Enter the string you want to apply the function :\")\n",
    "lstripFunc(string)"
   ]
  },
  {
   "cell_type": "code",
   "execution_count": 25,
   "id": "f1df9618",
   "metadata": {},
   "outputs": [
    {
     "name": "stdout",
     "output_type": "stream",
     "text": [
      "Enter the string you want to apply the function :sdd \n"
     ]
    },
    {
     "data": {
      "text/plain": [
       "'String with Right Strip function :sdd'"
      ]
     },
     "execution_count": 25,
     "metadata": {},
     "output_type": "execute_result"
    }
   ],
   "source": [
    "def rstripFunc(string):\n",
    "    y = len(string) - 1\n",
    "    while y >= 0 and string[y] == ' ':\n",
    "        y -= 1\n",
    "    return f\"String with Right Strip function :{string[:y+1]}\"\n",
    "string=input(\"Enter the string you want to apply the function :\")\n",
    "rstripFunc(string)"
   ]
  },
  {
   "cell_type": "code",
   "execution_count": 30,
   "id": "eab8e6c0",
   "metadata": {},
   "outputs": [
    {
     "name": "stdout",
     "output_type": "stream",
     "text": [
      "Enter the string you want to apply the function :ecnecn\n",
      "Enter the old text which you want to be replaced :e\n",
      "Enter the new text you want to place :xxxxxx\n"
     ]
    },
    {
     "data": {
      "text/plain": [
       "'String with Right Strip function :xxxxxxcnxxxxxxcn'"
      ]
     },
     "execution_count": 30,
     "metadata": {},
     "output_type": "execute_result"
    }
   ],
   "source": [
    "def replaceFunc(string, x, y):\n",
    "    output = \"\"\n",
    "    i = 0\n",
    "    while i < len(string):\n",
    "        if string[i:i+len(x)] == x:\n",
    "            output += y\n",
    "            i += len(x)\n",
    "        else:\n",
    "            output += string[i]\n",
    "            i += 1\n",
    "    return f\"String with Right Strip function :{output}\"\n",
    "string=input(\"Enter the string you want to apply the function :\")\n",
    "x=input(\"Enter the old text which you want to be replaced :\")\n",
    "y=input(\"Enter the new text you want to place :\")\n",
    "replaceFunc(string, x, y)"
   ]
  },
  {
   "cell_type": "code",
   "execution_count": 2,
   "id": "bb1c753b",
   "metadata": {},
   "outputs": [
    {
     "name": "stdout",
     "output_type": "stream",
     "text": [
      "Enter the string you want to apply the function :bu\n",
      "Enter the seperating element :in\n"
     ]
    },
    {
     "data": {
      "text/plain": [
       "\"The splitted string is :['bu']\""
      ]
     },
     "execution_count": 2,
     "metadata": {},
     "output_type": "execute_result"
    }
   ],
   "source": [
    "def splitFunc(string, sep):\n",
    "    output = []\n",
    "    x = \"\"\n",
    "    i = 0\n",
    "    while i < len(string):\n",
    "        if string[i:i+len(sep)] == sep:\n",
    "            output.append(x)\n",
    "            x = \"\"\n",
    "            i += len(sep)\n",
    "        else:\n",
    "            x += string[i]\n",
    "            i += 1\n",
    "    output.append(x)\n",
    "    return f\"The splitted string is :{output}\"\n",
    "string=input(\"Enter the string you want to apply the function :\")\n",
    "sep=input(\"Enter the seperating element :\")\n",
    "splitFunc(string, sep)"
   ]
  }
 ],
 "metadata": {
  "kernelspec": {
   "display_name": "Python 3 (ipykernel)",
   "language": "python",
   "name": "python3"
  },
  "language_info": {
   "codemirror_mode": {
    "name": "ipython",
    "version": 3
   },
   "file_extension": ".py",
   "mimetype": "text/x-python",
   "name": "python",
   "nbconvert_exporter": "python",
   "pygments_lexer": "ipython3",
   "version": "3.11.7"
  }
 },
 "nbformat": 4,
 "nbformat_minor": 5
}
