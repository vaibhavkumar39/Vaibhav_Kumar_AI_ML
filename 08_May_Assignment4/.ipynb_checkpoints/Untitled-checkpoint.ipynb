{
 "cells": [
  {
   "cell_type": "code",
   "execution_count": 1,
   "id": "dff2115c",
   "metadata": {},
   "outputs": [
    {
     "name": "stdout",
     "output_type": "stream",
     "text": [
      "Enter a password: d34242@44\n",
      "Password is valid.\n"
     ]
    }
   ],
   "source": [
    "def check_password(password):\n",
    "    not_allowed = ['/', '\\\\', '=', \"'\", '\"', ' ']\n",
    "    if len(password) < 8 or len(password) > 32:\n",
    "        print(\"Password must be between 8 and 32 characters.\")\n",
    "        return\n",
    "    if not ((password[0] >= 'A' and password[0] <= 'Z') or (password[0] >= 'a' and password[0] <= 'z')):\n",
    "        print(\"First character must be a letter.\")\n",
    "        return\n",
    "    for char in password:\n",
    "        if char in not_allowed:\n",
    "            print(\"Password contains invalid character:\", char)\n",
    "            return\n",
    "    print(\"Password is valid.\")\n",
    "password = input(\"Enter a password: \")\n",
    "check_password(password)"
   ]
  }
 ],
 "metadata": {
  "kernelspec": {
   "display_name": "Python 3 (ipykernel)",
   "language": "python",
   "name": "python3"
  },
  "language_info": {
   "codemirror_mode": {
    "name": "ipython",
    "version": 3
   },
   "file_extension": ".py",
   "mimetype": "text/x-python",
   "name": "python",
   "nbconvert_exporter": "python",
   "pygments_lexer": "ipython3",
   "version": "3.11.7"
  }
 },
 "nbformat": 4,
 "nbformat_minor": 5
}
