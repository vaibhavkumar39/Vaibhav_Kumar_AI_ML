{
 "cells": [
  {
   "cell_type": "code",
   "execution_count": 1,
   "id": "d4f95906",
   "metadata": {},
   "outputs": [
    {
     "name": "stdout",
     "output_type": "stream",
     "text": [
      "Enter password: 12jnjsw\n",
      "Out of range or not in range\n",
      "Suggested Password:  NMD55X>C!zO0.>4oSN]MIcwXf\n"
     ]
    }
   ],
   "source": [
    "\"\"\"\n",
    "17.Accept a string as input. Your task is to determine if the input string is a valid password or not. For a \n",
    "string to be a valid password, it must satisfy all the conditions given below:\n",
    "(1) It should have at least 8 and at most 32 characters\n",
    "(2) It should start with an uppercase or lowercase letter\n",
    "(3) It should not have any of these characters: / \\ = ' \"\n",
    "(4) It should not have spaces\n",
    "It could have any character that is not mentioned in the list of characters to be avoided\n",
    "\"\"\"\n",
    "import string\n",
    "import random\n",
    "alphabet = [x for x in string.ascii_letters]\n",
    "numeric = [str(x) for x in range(0, 10)]\n",
    "excluded = [\"'\", '\"', '/', '\\\\', \" \"]\n",
    "specialchar = [x for x in string.punctuation if x not in excluded]\n",
    "passwordchars = alphabet + numeric + specialchar\n",
    "password = input(\"Enter password: \") \n",
    "def makepassword():\n",
    "    if len(password) > 8 and len(password) < 32:\n",
    "        if password[0].isalpha():\n",
    "            print(password, \"is a valid password\")\n",
    "            return True\n",
    "        else:\n",
    "            print(\"The first character should be an alphabet.\")\n",
    "            return False\n",
    "    else:\n",
    "        print(\"Out of range or not in range\")\n",
    "        return False\n",
    "makepasswordresult = makepassword()\n",
    "def suggestpassword():\n",
    "    while True:\n",
    "        if makepasswordresult == False:\n",
    "            newpassword = \"\".join(random.choice(passwordchars) for i in range(8, 33))\n",
    "            if newpassword[0].isalpha():\n",
    "                print(\"Suggested Password: \", newpassword)    \n",
    "                break\n",
    "suggestpassword()\n"
   ]
  }
 ],
 "metadata": {
  "kernelspec": {
   "display_name": "Python 3 (ipykernel)",
   "language": "python",
   "name": "python3"
  },
  "language_info": {
   "codemirror_mode": {
    "name": "ipython",
    "version": 3
   },
   "file_extension": ".py",
   "mimetype": "text/x-python",
   "name": "python",
   "nbconvert_exporter": "python",
   "pygments_lexer": "ipython3",
   "version": "3.11.7"
  }
 },
 "nbformat": 4,
 "nbformat_minor": 5
}
