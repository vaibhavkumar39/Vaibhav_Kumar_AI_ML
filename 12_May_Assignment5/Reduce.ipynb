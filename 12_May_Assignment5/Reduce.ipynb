{
 "cells": [
  {
   "cell_type": "code",
   "execution_count": 3,
   "id": "10108504",
   "metadata": {},
   "outputs": [
    {
     "name": "stdout",
     "output_type": "stream",
     "text": [
      "55\n"
     ]
    }
   ],
   "source": [
    "#1. What is the `reduce()` function in Python, and what module should you import to use it? Provide an example of its basic usage.\n",
    "\"\"\"\n",
    "Answer: Reduce is used to apply a function step by step to elements in a list and provide a single output.\n",
    "To use it we have to import reduce from functools library.\n",
    "syntax: \n",
    "from functools import reduce\n",
    "\n",
    "rd=reduce(function,iterable)\n",
    "\"\"\"\n",
    "from functools import reduce\n",
    "l1=[1,2,3,4,5,6,7,8,9,10]\n",
    "op=(reduce(lambda x,y:x+y,l1))\n",
    "print(op)"
   ]
  },
  {
   "cell_type": "code",
   "execution_count": 7,
   "id": "52e2ef48",
   "metadata": {},
   "outputs": [
    {
     "name": "stdout",
     "output_type": "stream",
     "text": [
      "3628800\n"
     ]
    }
   ],
   "source": [
    "#2. Write a Python program that uses the `reduce()` function to find the product of all elements in a list.\n",
    "from functools import reduce\n",
    "l1=[1,2,3,4,5,6,7,8,9,10]\n",
    "op=(reduce(lambda x,y:x*y,l1))\n",
    "print(op)"
   ]
  },
  {
   "cell_type": "code",
   "execution_count": 18,
   "id": "012ba038",
   "metadata": {},
   "outputs": [
    {
     "name": "stdout",
     "output_type": "stream",
     "text": [
      "70\n"
     ]
    }
   ],
   "source": [
    "#3. Create a Python program that uses `reduce()` to find the maximum element in a list of numbers.\n",
    "from functools import reduce\n",
    "l1=[1,2,3,4,5,6,7,8,70,9,10]\n",
    "op=reduce(max,l1)\n",
    "print(op)"
   ]
  },
  {
   "cell_type": "code",
   "execution_count": 20,
   "id": "bb2d7c0e",
   "metadata": {},
   "outputs": [
    {
     "name": "stdout",
     "output_type": "stream",
     "text": [
      "abcdefghi\n"
     ]
    }
   ],
   "source": [
    "#4. How can you use the `reduce()` function to concatenate a list of strings into a single string?\n",
    "from functools import reduce\n",
    "l1=[\"abc\",\"def\",\"ghi\"]\n",
    "op=reduce(lambda x,y:x+y,l1)\n",
    "print(op)"
   ]
  },
  {
   "cell_type": "code",
   "execution_count": 30,
   "id": "83844ac9",
   "metadata": {},
   "outputs": [
    {
     "name": "stdout",
     "output_type": "stream",
     "text": [
      "120\n"
     ]
    }
   ],
   "source": [
    "##### 5. Write a Python program that calculates the factorial of a number using the `reduce()` function.\n",
    "from functools import reduce\n",
    "num=5\n",
    "op=reduce(lambda x,y:x*y,range(1,num+1))\n",
    "print(op)"
   ]
  },
  {
   "cell_type": "code",
   "execution_count": 31,
   "id": "2bb98981",
   "metadata": {},
   "outputs": [
    {
     "name": "stdout",
     "output_type": "stream",
     "text": [
      "2\n"
     ]
    }
   ],
   "source": [
    "#6. Create a Python program that uses `reduce()` to find the GCD (Greatest Common Divisor) of a list of numbers.\n",
    "from functools import reduce\n",
    "import math\n",
    "l1=[12,6,34,42]\n",
    "op=reduce(math.gcd, l1)\n",
    "print(op)"
   ]
  },
  {
   "cell_type": "code",
   "execution_count": 1,
   "id": "4e9866b7",
   "metadata": {},
   "outputs": [
    {
     "name": "stdout",
     "output_type": "stream",
     "text": [
      "36\n"
     ]
    }
   ],
   "source": [
    "#7. Write a Python program that uses the `reduce()` function to find the sum of the digits of a given number.\n",
    "from functools import reduce\n",
    "num = 4352958\n",
    "digits = [int(x) for x in str(num)]\n",
    "sum1 = reduce(lambda x, y: x + y, digits)\n",
    "print(sum1)"
   ]
  }
 ],
 "metadata": {
  "kernelspec": {
   "display_name": "Python 3 (ipykernel)",
   "language": "python",
   "name": "python3"
  },
  "language_info": {
   "codemirror_mode": {
    "name": "ipython",
    "version": 3
   },
   "file_extension": ".py",
   "mimetype": "text/x-python",
   "name": "python",
   "nbconvert_exporter": "python",
   "pygments_lexer": "ipython3",
   "version": "3.11.7"
  }
 },
 "nbformat": 4,
 "nbformat_minor": 5
}
