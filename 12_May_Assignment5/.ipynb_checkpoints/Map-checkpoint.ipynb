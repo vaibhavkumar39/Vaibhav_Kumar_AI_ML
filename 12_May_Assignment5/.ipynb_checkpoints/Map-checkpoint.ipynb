{
 "cells": [
  {
   "cell_type": "code",
   "execution_count": 1,
   "id": "37426df0",
   "metadata": {},
   "outputs": [
    {
     "name": "stdout",
     "output_type": "stream",
     "text": [
      "[8, 16, 24, 32, 40, 48, 56, 64, 72]\n"
     ]
    }
   ],
   "source": [
    "#1. Explain the purpose of the `map()` function in Python and provide an example of how it can be used to apply a function to each element of an iterable.\n",
    "\n",
    "#Answer:Map function is used to apply a function to each item in an iterable like list or tuple without using an external loop.\n",
    "l=[1,2,3,4,5,6,7,8,9]\n",
    "def multiplyBy8(x):\n",
    "    return x*8\n",
    "l1=list(map(multiplyBy8,l))\n",
    "print(l1)"
   ]
  },
  {
   "cell_type": "code",
   "execution_count": 7,
   "id": "31b42f2c",
   "metadata": {},
   "outputs": [
    {
     "name": "stdout",
     "output_type": "stream",
     "text": [
      "[1, 4, 9, 16, 25, 36, 49, 64, 81]\n"
     ]
    }
   ],
   "source": [
    "#2. Write a Python program that uses the `map()` function to square each element of a list of numbers.\n",
    "l=[1,2,3,4,5,6,7,8,9]\n",
    "l1=list(map(lambda x : x**2,l))\n",
    "print(l1)"
   ]
  },
  {
   "cell_type": "code",
   "execution_count": 16,
   "id": "9fe738c3",
   "metadata": {},
   "outputs": [
    {
     "name": "stdout",
     "output_type": "stream",
     "text": [
      "Using list comprehension [2, 4, 6, 8]\n",
      "Using map [2, 4, 6, 8]\n"
     ]
    }
   ],
   "source": [
    "#3. How does the `map()` function differ from a list comprehension in Python, and when would you choose one over the other?\n",
    "#Answer \n",
    "\"\"\"\n",
    "map():\n",
    "1.It uses a function to iterate over an elements of list.\n",
    "2.Can support multilple iterable at a time.\n",
    "3.Syntax: l1=map(function,iterable)\n",
    "4.Used where : 1.Already a function defined to apply.\n",
    "               2.When working with multiple iterable.\n",
    "list comprehension:\n",
    "1.It uses expression to make a list either using a previous list or using comprehension.\n",
    "2.It can not support multiple list at a time for comprehension.\n",
    "3.Syntax: l1=[ expression to make list ]\n",
    "4.Used where : 1.When you need to apply a simple expression.\n",
    "               2.When you need to add condition to the elements to the new list you are making.\n",
    "\"\"\"\n",
    "l1=[x for x in range(1,10) if x%2==0]\n",
    "print(\"Using list comprehension\",l1)\n",
    "\n",
    "l2=list(map(lambda x:x if x%2==0 else None,l1))\n",
    "print(\"Using map\",l2)"
   ]
  },
  {
   "cell_type": "code",
   "execution_count": 24,
   "id": "36846983",
   "metadata": {},
   "outputs": [
    {
     "name": "stdout",
     "output_type": "stream",
     "text": [
      "['VINAY', 'SURAJ', 'NITIN']\n"
     ]
    }
   ],
   "source": [
    "#4. Create a Python program that uses the `map()` function to convert a list of names to uppercase.\n",
    "l1=[\"vinay\",\"suraj\",\"nitin\"]\n",
    "l2=list(map(str.upper,l1))\n",
    "print(l2)"
   ]
  },
  {
   "cell_type": "code",
   "execution_count": 26,
   "id": "79803fe7",
   "metadata": {},
   "outputs": [
    {
     "name": "stdout",
     "output_type": "stream",
     "text": [
      "[3, 4, 5]\n"
     ]
    }
   ],
   "source": [
    "#5. Write a Python program that uses the `map()` function to calculate the length of each word in a list of strings.\n",
    "l1=[\"abc\",\"defg\",\"hight\"]\n",
    "l2=list(map(len,l1))\n",
    "print(l2)"
   ]
  },
  {
   "cell_type": "code",
   "execution_count": 41,
   "id": "040c57b9",
   "metadata": {},
   "outputs": [
    {
     "name": "stdout",
     "output_type": "stream",
     "text": [
      "[7, 9, 11, 13, 15]\n"
     ]
    }
   ],
   "source": [
    "#6. How can you use the `map()` function to apply a custom function to elements of multiple lists simultaneously in Python?\n",
    "def add(x,y):\n",
    "    return x+y\n",
    "l1 = [1,2,3,4,5,6]\n",
    "l2 = [6,7,8,9,10]\n",
    "result = list(map(add,l1,l2))\n",
    "print(result)"
   ]
  },
  {
   "cell_type": "code",
   "execution_count": 48,
   "id": "34135a28",
   "metadata": {},
   "outputs": [
    {
     "name": "stdout",
     "output_type": "stream",
     "text": [
      "[33.8, 35.6, 37.4, 39.2, 41.0, 42.8]\n"
     ]
    }
   ],
   "source": [
    "#7. Create a Python program that uses `map()` to convert a list of temperatures from Celsius to Fahrenheit.\n",
    "l1=[1,2,3,4,5,6]\n",
    "l2=list(map(lambda c:(c*9/5)+32,l1))\n",
    "print(l2)"
   ]
  },
  {
   "cell_type": "code",
   "execution_count": 49,
   "id": "834a4df5",
   "metadata": {},
   "outputs": [
    {
     "name": "stdout",
     "output_type": "stream",
     "text": [
      "[1, 34, 56, 36]\n"
     ]
    }
   ],
   "source": [
    "#8. Write a Python program that uses the `map()` function to round each element of a list of floating-point numbers to the nearest integer.\n",
    "l1=[1.2,34.4,56.4,35.6]\n",
    "l2=list(map(round,l1))\n",
    "print(l2)"
   ]
  }
 ],
 "metadata": {
  "kernelspec": {
   "display_name": "Python 3 (ipykernel)",
   "language": "python",
   "name": "python3"
  },
  "language_info": {
   "codemirror_mode": {
    "name": "ipython",
    "version": 3
   },
   "file_extension": ".py",
   "mimetype": "text/x-python",
   "name": "python",
   "nbconvert_exporter": "python",
   "pygments_lexer": "ipython3",
   "version": "3.11.7"
  }
 },
 "nbformat": 4,
 "nbformat_minor": 5
}
