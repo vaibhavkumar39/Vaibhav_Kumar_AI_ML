{
 "cells": [
  {
   "cell_type": "code",
   "execution_count": 29,
   "id": "f34c7835",
   "metadata": {},
   "outputs": [
    {
     "name": "stdout",
     "output_type": "stream",
     "text": [
      "[90, 91, 92, 93, 94, 95, 96, 97, 98, 99, 100, 101, 102, 103, 104, 105, 106, 107, 108, 109, 110, 111, 112, 113, 114, 115, 116, 117, 118, 119, 120, 121, 122, 123, 124, 125, 126, 127, 128, 129, 130]\n",
      "\n",
      "(i.)\n",
      "Mean: 110.0\n",
      "Median: 110\n",
      "\n",
      "(ii.)\n",
      "Mode: [90, 91, 92, 93, 94, 95, 96, 97, 98, 99, 100, 101, 102, 103, 104, 105, 106, 107, 108, 109, 110, 111, 112, 113, 114, 115, 116, 117, 118, 119, 120, 121, 122, 123, 124, 125, 126, 127, 128, 129, 130]\n"
     ]
    }
   ],
   "source": [
    "\"\"\"\n",
    "1. Generate a list of 100 integers containing values between 90 to 130 and store it in the variable `int_list`. After generating the list, find the following:    \n",
    "(i) Write a Python function to calculate the mean of a given list of numbers. Create a function to find the median of a list of numbers.      \n",
    "(ii) Develop a program to compute the mode of a list of integers.    \n",
    "(iii) Implement a function to calculate the weighted mean of a list of values and their corresponding weights.      \t\n",
    "(iv) Write a Python function to find the geometric mean of a list of positive numbers.      \n",
    "(v) Create a program to calculate the harmonic mean of a list of values.      \n",
    "(vi) Build a function to determine the midrange of a list of numbers (average of the minimum and maximum).     \n",
    " (vii) Implement a Python program to find the trimmed mean of a list, excluding a certain percentage of outliers.\n",
    "\"\"\"\n",
    "from functools import reduce\n",
    "int_list=[x for x in range(90,131)]\n",
    "print(int_list)\n",
    "print(\"\\n(i.)\")\n",
    "def mean(num):\n",
    "    return sum(num)/len(num)\n",
    "def median(num):\n",
    "    num=sorted(num)\n",
    "    n=len(num)\n",
    "    mid=n//2 \n",
    "    if n%2==0:\n",
    "        return (num[mid-1]+num[mid])/2\n",
    "    else:\n",
    "        return num[mid]\n",
    "def mode(num):\n",
    "    l1=[]\n",
    "    max_count=0\n",
    "    for x in num:\n",
    "        count=num.count(x)  \n",
    "        if count>max_count:  \n",
    "            max_count=count\n",
    "            l1=[x]\n",
    "        elif count==max_count:\n",
    "            if x not in l1:\n",
    "                l1.append(x)\n",
    "    return l1\n",
    "    \n",
    "num=[6,7,8,9,7,7]\n",
    "mean = mean(int_list)\n",
    "median=median(int_list)\n",
    "mode=mode(int_list)\n",
    "print(\"Mean:\", mean)\n",
    "print(\"Median:\", median)\n",
    "\n",
    "print(\"\\n(ii.)\")\n",
    "print(\"Mode:\", mode)"
   ]
  },
  {
   "cell_type": "code",
   "execution_count": null,
   "id": "8f62f779",
   "metadata": {},
   "outputs": [],
   "source": [
    "\"\"\"\n",
    "2. Generate a list of 500 integers containing values between 200 to 300 and store it in the variable `int_list2`. After generating the list, find the following:   \n",
    "(i) Compare the given list of visualization for the given data:          1. Frequency & Gaussian distribution     2. Frequency smoothened KDE plot     3. Gaussian distribution & smoothened KDE plot   \n",
    "(ii) Write a Python function to calculate the range of a given list of numbers.   \n",
    "(iii) Create a program to find the variance and standard deviation of a list of numbers.   \n",
    "(iv) Implement a function to compute the interquartile range (IQR) of a list of values.   \n",
    "(v) Build a program to calculate the coefficient of variation for a dataset.      \n",
    "(vi) Write a Python function to find the mean absolute deviation (MAD) of a list of numbers.  \n",
    " (vii) Create a program to calculate the quartile deviation of a list of values.      \n",
    "(viii) Implement a function to find the range-based coefficient of dispersion for a dataset.\n",
    "\"\"\"\n"
   ]
  },
  {
   "cell_type": "code",
   "execution_count": null,
   "id": "71ea0c92",
   "metadata": {},
   "outputs": [],
   "source": [
    "#3. Write a Python class representing a discrete random variable with methods to calculate its expected  value and variance.\n"
   ]
  },
  {
   "cell_type": "code",
   "execution_count": null,
   "id": "d10d7b87",
   "metadata": {},
   "outputs": [],
   "source": [
    "#4. Implement a program to simulate the rolling of a fair six-sided die and calculate the expected value and variance of the outcomes.\n"
   ]
  },
  {
   "cell_type": "code",
   "execution_count": null,
   "id": "62472955",
   "metadata": {},
   "outputs": [],
   "source": [
    "#5. Create a Python function to generate random samples from a given probability distribution (e.g., binomial, Poisson) and calculate their mean and variance.\n"
   ]
  },
  {
   "cell_type": "code",
   "execution_count": null,
   "id": "eeed8d92",
   "metadata": {},
   "outputs": [],
   "source": [
    "#6. Write a Python script to generate random numbers from a Gaussian (normal) distribution and compute the mean, variance, and standard deviation of the samples.\n"
   ]
  },
  {
   "cell_type": "code",
   "execution_count": null,
   "id": "f41e2cf6",
   "metadata": {},
   "outputs": [],
   "source": [
    "\"\"\"\n",
    "7.  Use seaborn library to load tips dataset. Find the following from the dataset for the columns total_bill and tip`:\n",
    "(i) Write a Python function that calculates their skewness.   \n",
    "(ii) Create a program that determines whether the columns exhibit positive skewness, negative skewness, or is approximately symmetric.   \n",
    "(iii) Write a function that calculates the covariance between two columns.  \n",
    "(iv) Implement a Python program that calculates the Pearson correlation coefficient between two columns.\n",
    "(v) Write a script to visualize the correlation between two specific columns in a Pandas DataFrame using scatter plots.\n",
    "\"\"\"\n"
   ]
  },
  {
   "cell_type": "code",
   "execution_count": null,
   "id": "366cbe65",
   "metadata": {},
   "outputs": [],
   "source": [
    "#8 . Write a Python function to calculate the probability density function (PDF) of a continuous random variable for a given normal distribution. \n"
   ]
  },
  {
   "cell_type": "code",
   "execution_count": null,
   "id": "655243d9",
   "metadata": {},
   "outputs": [],
   "source": [
    "#9. Create a program to calculate the cumulative distribution function (CDF) of exponential distribution. \n"
   ]
  },
  {
   "cell_type": "code",
   "execution_count": null,
   "id": "dafc6c19",
   "metadata": {},
   "outputs": [],
   "source": [
    "#10.Write a Python function to calculate the probability mass function (PMF) of Poisson distribution.\n"
   ]
  }
 ],
 "metadata": {
  "kernelspec": {
   "display_name": "Python 3 (ipykernel)",
   "language": "python",
   "name": "python3"
  },
  "language_info": {
   "codemirror_mode": {
    "name": "ipython",
    "version": 3
   },
   "file_extension": ".py",
   "mimetype": "text/x-python",
   "name": "python",
   "nbconvert_exporter": "python",
   "pygments_lexer": "ipython3",
   "version": "3.11.7"
  }
 },
 "nbformat": 4,
 "nbformat_minor": 5
}
