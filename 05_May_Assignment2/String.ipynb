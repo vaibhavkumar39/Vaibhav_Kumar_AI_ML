{
 "cells": [
  {
   "cell_type": "code",
   "execution_count": 2,
   "id": "6dbb5329",
   "metadata": {},
   "outputs": [
    {
     "name": "stdout",
     "output_type": "stream",
     "text": [
      "Enter a string to be reversedjjjjkk\n",
      "kkjjjj\n"
     ]
    }
   ],
   "source": [
    "#1. Write a program to reverse a string.\n",
    "string=input(\"Enter a string to be reversed :)\n",
    "string2=string[::-1]\n",
    "print(string2)"
   ]
  },
  {
   "cell_type": "code",
   "execution_count": 4,
   "id": "3550ecbe",
   "metadata": {},
   "outputs": [
    {
     "name": "stdout",
     "output_type": "stream",
     "text": [
      "Enter a string to be reversedHHJJ\n",
      "Not a palindrome\n"
     ]
    }
   ],
   "source": [
    "#2. Check if a string is a palindrome.\n",
    "string=input(\"Enter a string to check :\")\n",
    "string2=string[::-1]\n",
    "if string==string2:\n",
    "    print(\"It is a palindrome\")\n",
    "else:\n",
    "    print(\"Not a palindrome\")"
   ]
  },
  {
   "cell_type": "code",
   "execution_count": 7,
   "id": "e9b0f829",
   "metadata": {},
   "outputs": [
    {
     "name": "stdout",
     "output_type": "stream",
     "text": [
      "Enter a string to be reversed :sc\n",
      "SC\n"
     ]
    }
   ],
   "source": [
    "#3. Convert a string to uppercase.\n",
    "string=input(\"Enter a string to covert in uppercase :\")\n",
    "print(string.upper())"
   ]
  },
  {
   "cell_type": "code",
   "execution_count": null,
   "id": "e396aa28",
   "metadata": {},
   "outputs": [
    {
     "name": "stdout",
     "output_type": "stream",
     "text": [
      "Enter a string to covert in lowercase :GG\n"
     ]
    }
   ],
   "source": [
    "#4. Convert a string to lowercase.\n",
    "string=input(\"Enter a string to covert in lowercase :\")\n",
    "print(string.lower())"
   ]
  },
  {
   "cell_type": "code",
   "execution_count": 33,
   "id": "f88abf02",
   "metadata": {},
   "outputs": [
    {
     "name": "stdout",
     "output_type": "stream",
     "text": [
      "Enter a string to count :eee\n",
      "3\n"
     ]
    }
   ],
   "source": [
    "#5. Count the number of vowels in a string.\n",
    "vowel=\"aeiou\"\n",
    "count=0\n",
    "string=str(input(\"Enter a string to count :\"))\n",
    "string.lower()\n",
    "for i in string:\n",
    "    if i in vowel:\n",
    "        count+=1\n",
    "print(count)"
   ]
  },
  {
   "cell_type": "code",
   "execution_count": 36,
   "id": "77657626",
   "metadata": {},
   "outputs": [
    {
     "name": "stdout",
     "output_type": "stream",
     "text": [
      "Enter a string to count :eerrt\n",
      "3\n"
     ]
    }
   ],
   "source": [
    "#6. Count the number of consonants in a string.\n",
    "vowel=\"aeiou\"\n",
    "count=0\n",
    "string=str(input(\"Enter a string to count :\"))\n",
    "string.lower()\n",
    "for i in string:\n",
    "    if i not in vowel:\n",
    "        count+=1\n",
    "print(count)"
   ]
  },
  {
   "cell_type": "code",
   "execution_count": 52,
   "id": "2f1e633e",
   "metadata": {},
   "outputs": [
    {
     "name": "stdout",
     "output_type": "stream",
     "text": [
      "Enter a string to remove space: f f f\n",
      "String without spaces: fff\n"
     ]
    }
   ],
   "source": [
    "#7. Remove all whitespaces from a string.\n",
    "string = input(\"Enter a string to remove space: \")\n",
    "string2 = \"\"\n",
    "space = \" \"\n",
    "for i in string:\n",
    "    if i != space: \n",
    "        string2 += i  \n",
    "print(\"String without spaces:\", string2)"
   ]
  },
  {
   "cell_type": "code",
   "execution_count": 6,
   "id": "708e1514",
   "metadata": {},
   "outputs": [
    {
     "name": "stdout",
     "output_type": "stream",
     "text": [
      "Enter a string to find length: sss\n",
      "The length of the string is 3\n"
     ]
    }
   ],
   "source": [
    "#8. Find the length of a string without using the `len()` function.\n",
    "length=0\n",
    "string = str(input(\"Enter a string to find length: \"))\n",
    "for i in string:\n",
    "    length+=1\n",
    "print(f\"The length of the string is {length}\")"
   ]
  },
  {
   "cell_type": "code",
   "execution_count": 21,
   "id": "99b4d94b",
   "metadata": {},
   "outputs": [
    {
     "name": "stdout",
     "output_type": "stream",
     "text": [
      "Enter a string: How are you\n",
      "Enter word you want to find: ARE\n",
      "available\n"
     ]
    }
   ],
   "source": [
    "#9. Check if a string contains a specific word.\n",
    "string = str(input(\"Enter a string: \"))\n",
    "string2= str(input(\"Enter word you want to find: \"))\n",
    "string=string.lower()\n",
    "string2=string2.lower()\n",
    "if string2 in string:\n",
    "    print(\"available\")\n",
    "else:\n",
    "    print(\"Not available\")"
   ]
  },
  {
   "cell_type": "code",
   "execution_count": 25,
   "id": "594f9c54",
   "metadata": {},
   "outputs": [
    {
     "name": "stdout",
     "output_type": "stream",
     "text": [
      "Enter a string: Hi i am here\n",
      "Enter word you want to replace: am\n",
      "Enter word you want to insert: was\n",
      "Your Replaced string is: Hi i was here\n"
     ]
    }
   ],
   "source": [
    "#10. Replace a word in a string with another word.\n",
    "string = str(input(\"Enter a string: \"))\n",
    "string2= str(input(\"Enter word you want to replace: \"))\n",
    "string3= str(input(\"Enter word you want to insert: \"))\n",
    "string4=string.replace(string2,string3)\n",
    "print(f\"Your Replaced string is: {string4}\")"
   ]
  },
  {
   "cell_type": "code",
   "execution_count": 27,
   "id": "4f9851df",
   "metadata": {},
   "outputs": [
    {
     "name": "stdout",
     "output_type": "stream",
     "text": [
      "Enter a string: Hi Hi what are you doing\n",
      "Enter word you want to count: Hi\n",
      "The occurence of Hi in string is: 2\n"
     ]
    }
   ],
   "source": [
    "#11. Count the occurrences of a word in a string.\n",
    "string = str(input(\"Enter a string: \"))\n",
    "string2= str(input(\"Enter word you want to count: \"))\n",
    "string3=string.count(string2)\n",
    "print(f\"The occurence of {string2} in string is: {string3}\")"
   ]
  },
  {
   "cell_type": "code",
   "execution_count": 1,
   "id": "c684b5bf",
   "metadata": {},
   "outputs": [
    {
     "name": "stdout",
     "output_type": "stream",
     "text": [
      "Enter a string: abcd cdba\n",
      "Enter word you want to find: cd\n",
      "The first index occurence of cd in string is: 2\n"
     ]
    }
   ],
   "source": [
    "#12. Find the first occurrence of a word in a string.\n",
    "string = str(input(\"Enter a string: \"))\n",
    "string2= str(input(\"Enter word you want to find: \"))\n",
    "string3=string.find(string2)\n",
    "print(f\"The first index occurence of {string2} in string is: {string3}\")"
   ]
  },
  {
   "cell_type": "code",
   "execution_count": 2,
   "id": "102b0c96",
   "metadata": {},
   "outputs": [
    {
     "name": "stdout",
     "output_type": "stream",
     "text": [
      "Enter a string: abcd cdba\n",
      "Enter word you want to find: cd\n",
      "The last index occurence of cd in string is: 5\n"
     ]
    }
   ],
   "source": [
    "#13. Find the last occurrence of a word in a string.\n",
    "string = str(input(\"Enter a string: \"))\n",
    "string2= str(input(\"Enter word you want to find: \"))\n",
    "string3=string.rfind(string2)\n",
    "print(f\"The last index occurence of {string2} in string is: {string3}\")"
   ]
  },
  {
   "cell_type": "code",
   "execution_count": 2,
   "id": "6b4bfee6",
   "metadata": {},
   "outputs": [
    {
     "name": "stdout",
     "output_type": "stream",
     "text": [
      "Enter a string: abc def ghi\n",
      "['abc', 'def', 'ghi']\n"
     ]
    }
   ],
   "source": [
    "#14. Split a string into a list of words.\n",
    "string = str(input(\"Enter a string: \")).split(\" \")\n",
    "print(string)"
   ]
  },
  {
   "cell_type": "code",
   "execution_count": 12,
   "id": "d60ce7c9",
   "metadata": {},
   "outputs": [
    {
     "name": "stdout",
     "output_type": "stream",
     "text": [
      "Enter items in list (seperated by commas): Hi,!,How,are,you,?\n",
      "Here is your list: ['Hi', '!', 'How', 'are', 'you', '?']\n",
      "Here is the converted string: Hi ! How are you ?\n"
     ]
    }
   ],
   "source": [
    "#15. Join a list of words into a string.\n",
    "list1=input(\"Enter items in list (seperated by commas): \").split(\",\")\n",
    "print(f\"Here is your list: {list1}\")\n",
    "string=\" \".join(list1)\n",
    "print(f\"Here is the converted string: {string}\")"
   ]
  },
  {
   "cell_type": "code",
   "execution_count": 18,
   "id": "3ec504b1",
   "metadata": {},
   "outputs": [
    {
     "name": "stdout",
     "output_type": "stream",
     "text": [
      "Enter the string: Hi there How are you\n",
      "Hi_there_How_are_you\n"
     ]
    }
   ],
   "source": [
    "#16. Convert a string where words are separated by spaces to one where words are separated by underscores.\n",
    "string=input(\"Enter the string: \")\n",
    "string=string.split(\" \")\n",
    "string=\"_\".join(string)\n",
    "print(string)"
   ]
  },
  {
   "cell_type": "code",
   "execution_count": 23,
   "id": "9748a885",
   "metadata": {},
   "outputs": [],
   "source": [
    "#17. Check if a string starts with a specific word or phrase.\n",
    "string=input(\"Enter the string: \")\n",
    "string=string.lower()\n",
    "word=input(\"Enter the word or phrase you want to check: \")\n",
    "s1=string.index(\" \")\n",
    "s2=string[0:s1]\n",
    "if word==s2:\n",
    "    print(\"Yes it is\")\n",
    "else:\n",
    "    print(\"No it is not\")"
   ]
  },
  {
   "cell_type": "code",
   "execution_count": null,
   "id": "e032117b",
   "metadata": {},
   "outputs": [],
   "source": [
    "#18. Check if a string ends with a specific word or phrase.\n",
    "string=input(\"Enter the string: \")\n",
    "string=string.lower()\n",
    "word=input(\"Enter the word or phrase you want to check: \")\n",
    "s1=string.rindex(\" \")\n",
    "s2=string[s1+1:]\n",
    "if word==s2:\n",
    "    print(\"Yes it is\")\n",
    "else:\n",
    "    print(\"No it is not\")"
   ]
  },
  {
   "cell_type": "code",
   "execution_count": 24,
   "id": "0a47b7f3",
   "metadata": {},
   "outputs": [
    {
     "name": "stdout",
     "output_type": "stream",
     "text": [
      "Enter the string: hi there \n",
      "Hi There \n"
     ]
    }
   ],
   "source": [
    "#19. Convert a string to title case (e.g., \"hello world\" to \"Hello World\").\n",
    "string=input(\"Enter the string: \")\n",
    "print(string.title())"
   ]
  },
  {
   "cell_type": "code",
   "execution_count": 26,
   "id": "51e27576",
   "metadata": {},
   "outputs": [
    {
     "name": "stdout",
     "output_type": "stream",
     "text": [
      "Enter your string here: Hi there i am going to Spain and Indonasia\n",
      "Longest word in the string is:  Indonasia\n"
     ]
    }
   ],
   "source": [
    "#20. Find the longest word in a string.\n",
    "string=input(\"Enter your string here: \")\n",
    "string=[x for x in string.split(\" \")]\n",
    "st2=[]\n",
    "for i in string:\n",
    "    length=len(i)\n",
    "    st2.append(length)\n",
    "st3=max(st2)\n",
    "st4=st2.index(st3)\n",
    "print(\"Longest word in the string is: \",string[st4])"
   ]
  },
  {
   "cell_type": "code",
   "execution_count": 2,
   "id": "584d3e0f",
   "metadata": {},
   "outputs": [
    {
     "name": "stdout",
     "output_type": "stream",
     "text": [
      "Enter your string here: Hi there i am going to Spain and Indonasia\n",
      "Shortest word in the string is:  i\n"
     ]
    }
   ],
   "source": [
    "#21. Find the shortest word in a string.\n",
    "string=input(\"Enter your string here: \")\n",
    "string=[x for x in string.split(\" \")]\n",
    "st2=[]\n",
    "for i in string:\n",
    "    length=len(i)\n",
    "    st2.append(length)\n",
    "st3=min(st2)\n",
    "st4=st2.index(st3)\n",
    "print(\"Shortest word in the string is: \",string[st4])"
   ]
  },
  {
   "cell_type": "code",
   "execution_count": 4,
   "id": "d1009a9a",
   "metadata": {},
   "outputs": [
    {
     "name": "stdout",
     "output_type": "stream",
     "text": [
      "Enter your string here: Hi there how are you\n",
      "['you', 'are', 'how', 'there', 'Hi']\n"
     ]
    }
   ],
   "source": [
    "#22. Reverse the order of words in a string.\n",
    "string=input(\"Enter your string here: \")\n",
    "string=[x for x in string.split(\" \")]\n",
    "string=string[::-1]\n",
    "print(string)"
   ]
  },
  {
   "cell_type": "code",
   "execution_count": 6,
   "id": "23ad92b1",
   "metadata": {},
   "outputs": [
    {
     "name": "stdout",
     "output_type": "stream",
     "text": [
      "Enter your string here: Dddd44\n",
      "It is alphanumeric\n"
     ]
    }
   ],
   "source": [
    "#23. Check if a string is alphanumeric.\n",
    "string = input(\"Enter your string here: \")\n",
    "if string.isalnum():\n",
    "    print(\"It is alphanumeric\")\n",
    "else:\n",
    "    print(\"It is not alphanumeric\")"
   ]
  },
  {
   "cell_type": "code",
   "execution_count": 8,
   "id": "7940b368",
   "metadata": {},
   "outputs": [
    {
     "name": "stdout",
     "output_type": "stream",
     "text": [
      "Enter your string here: 3b2b4bb5b5k2\n",
      "['3', '2', '4', '5', '5', '2']\n"
     ]
    }
   ],
   "source": [
    "#24. Extract all digits from a string.\n",
    "string = input(\"Enter your string here: \")\n",
    "n2=[]\n",
    "for i in string:\n",
    "    if i.isnumeric():\n",
    "        n2.append(i)\n",
    "        continue\n",
    "print(n2)"
   ]
  },
  {
   "cell_type": "code",
   "execution_count": 9,
   "id": "4630481b",
   "metadata": {},
   "outputs": [
    {
     "name": "stdout",
     "output_type": "stream",
     "text": [
      "Enter your string here: 1234ddff5gg5\n",
      "['d', 'd', 'f', 'f', 'g', 'g']\n"
     ]
    }
   ],
   "source": [
    "#25. Extract all alphabets from a string.\n",
    "string = input(\"Enter your string here: \")\n",
    "a2=[]\n",
    "for i in string:\n",
    "    if i.isalpha():\n",
    "        a2.append(i)\n",
    "        continue\n",
    "print(a2)"
   ]
  },
  {
   "cell_type": "code",
   "execution_count": 3,
   "id": "a838761c",
   "metadata": {},
   "outputs": [
    {
     "name": "stdout",
     "output_type": "stream",
     "text": [
      "Number of uppercase: 4\n"
     ]
    }
   ],
   "source": [
    "#26. Count the number of uppercase letters in a string.\n",
    "string = \"fi ffD D D Fff\"\n",
    "count = 0\n",
    "for i in string:\n",
    "    if i.isupper(): \n",
    "        count += 1\n",
    "print(f\"Number of uppercase: {count}\")"
   ]
  },
  {
   "cell_type": "code",
   "execution_count": 5,
   "id": "6b0d18a6",
   "metadata": {},
   "outputs": [
    {
     "name": "stdout",
     "output_type": "stream",
     "text": [
      "Number of uppercase: 6\n"
     ]
    }
   ],
   "source": [
    "#27. Count the number of lowercase letters in a string.\n",
    "string = \"fi ffD D D Fff\"\n",
    "count = 0\n",
    "for i in string:\n",
    "    if i.islower(): \n",
    "        count += 1\n",
    "print(f\"Number of uppercase: {count}\")"
   ]
  },
  {
   "cell_type": "code",
   "execution_count": 7,
   "id": "f345ec71",
   "metadata": {},
   "outputs": [
    {
     "name": "stdout",
     "output_type": "stream",
     "text": [
      "Your string: Hi how ARE YOu\n",
      "After Changing cases: hI HOW are yoU\n"
     ]
    }
   ],
   "source": [
    "#28. Swap the case of each character in a string.\n",
    "string = \"Hi how ARE YOu\"\n",
    "fn=[x for x in range(len(string)) if string[x]==\" \"]\n",
    "st1=[]\n",
    "for i in string:\n",
    "    if i.islower():\n",
    "        i=i.upper()\n",
    "        st1.append(i)\n",
    "    elif i.isupper():\n",
    "        i=i.lower()\n",
    "        st1.append(i)\n",
    "    elif i==\" \":\n",
    "        st1.append(\" \")\n",
    "st1=\"\".join(st1)\n",
    "print(f\"Your string: {string}\")\n",
    "print(f\"After Changing cases: {st1}\")"
   ]
  },
  {
   "cell_type": "code",
   "execution_count": 6,
   "id": "d894bc98",
   "metadata": {},
   "outputs": [
    {
     "name": "stdout",
     "output_type": "stream",
     "text": [
      "['Hi', 'how', 'are', 'you']\n",
      "Hi are you\n"
     ]
    }
   ],
   "source": [
    "#29. Remove a specific word from a string.\n",
    "string = \"Hi how are you\"\n",
    "st1=string.split(\" \")\n",
    "print(st1)\n",
    "rem=\"how\"\n",
    "st2=[x for x in st1 if x!=rem]\n",
    "st2=\" \".join(st2)\n",
    "print(st2)"
   ]
  },
  {
   "cell_type": "code",
   "execution_count": 19,
   "id": "84567152",
   "metadata": {},
   "outputs": [
    {
     "name": "stdout",
     "output_type": "stream",
     "text": [
      "Valid email\n"
     ]
    }
   ],
   "source": [
    "#30. Check if a string is a valid email address.\n",
    "import re\n",
    "email = \"vaibhav@gmail.org\"\n",
    "valid = re.match(r'^[a-zA-Z0-9._%+-]+@[a-zA-Z0-9.-]+\\.[a-zA-Z]{2,}$', email)\n",
    "if valid:\n",
    "    print(\"Valid email\")\n",
    "else:\n",
    "    print(\"Invalid email\")"
   ]
  },
  {
   "cell_type": "code",
   "execution_count": null,
   "id": "b71270e5",
   "metadata": {},
   "outputs": [],
   "source": [
    "#31. Extract the username from an email address string.\n"
   ]
  },
  {
   "cell_type": "code",
   "execution_count": null,
   "id": "e52136b8",
   "metadata": {},
   "outputs": [],
   "source": [
    "#32. Extract the domain name from an email address string.\n"
   ]
  },
  {
   "cell_type": "code",
   "execution_count": null,
   "id": "f512f450",
   "metadata": {},
   "outputs": [],
   "source": [
    "#33. Replace multiple spaces in a string with a single space.\n"
   ]
  },
  {
   "cell_type": "code",
   "execution_count": null,
   "id": "f4ff09d2",
   "metadata": {},
   "outputs": [],
   "source": [
    "#34. Check if a string is a valid URL.\n"
   ]
  },
  {
   "cell_type": "code",
   "execution_count": null,
   "id": "4d14e161",
   "metadata": {},
   "outputs": [],
   "source": [
    "#35. Extract the protocol (http or https) from a URL string.\n"
   ]
  },
  {
   "cell_type": "code",
   "execution_count": null,
   "id": "aee886ce",
   "metadata": {},
   "outputs": [],
   "source": [
    "#36. Find the frequency of each character in a string.\n"
   ]
  },
  {
   "cell_type": "code",
   "execution_count": null,
   "id": "b7859717",
   "metadata": {},
   "outputs": [],
   "source": [
    "#37. Remove all punctuation from a string.\n"
   ]
  },
  {
   "cell_type": "code",
   "execution_count": null,
   "id": "46785b86",
   "metadata": {},
   "outputs": [],
   "source": [
    "#38. Check if a string contains only digits.\n"
   ]
  },
  {
   "cell_type": "code",
   "execution_count": null,
   "id": "a5f3d56a",
   "metadata": {},
   "outputs": [],
   "source": [
    "#39. Check if a string contains only alphabets.\n"
   ]
  },
  {
   "cell_type": "code",
   "execution_count": null,
   "id": "75dd9994",
   "metadata": {},
   "outputs": [],
   "source": [
    "#40. Convert a string to a list of characters.\n"
   ]
  }
 ],
 "metadata": {
  "kernelspec": {
   "display_name": "Python 3 (ipykernel)",
   "language": "python",
   "name": "python3"
  },
  "language_info": {
   "codemirror_mode": {
    "name": "ipython",
    "version": 3
   },
   "file_extension": ".py",
   "mimetype": "text/x-python",
   "name": "python",
   "nbconvert_exporter": "python",
   "pygments_lexer": "ipython3",
   "version": "3.11.7"
  }
 },
 "nbformat": 4,
 "nbformat_minor": 5
}
