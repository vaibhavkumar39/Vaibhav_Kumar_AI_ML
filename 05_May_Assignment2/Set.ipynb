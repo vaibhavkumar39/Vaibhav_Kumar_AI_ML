{
 "cells": [
  {
   "cell_type": "code",
   "execution_count": 1,
   "id": "bbd409b8",
   "metadata": {},
   "outputs": [
    {
     "name": "stdout",
     "output_type": "stream",
     "text": [
      "{1, 2, 3, 4, 5}\n"
     ]
    }
   ],
   "source": [
    "#1. Create a set with integers from 1 to 5.\n",
    "set1={x for x in range(1,6)}\n",
    "print(set1)"
   ]
  },
  {
   "cell_type": "code",
   "execution_count": 7,
   "id": "64d702af",
   "metadata": {},
   "outputs": [
    {
     "name": "stdout",
     "output_type": "stream",
     "text": [
      "{1, 2, 3, 4, 5, 6}\n",
      "{1, 2, 3, 4, 5, 6, 8}\n"
     ]
    }
   ],
   "source": [
    "#2. Add an element to a set.\n",
    "set1={1,2,3,4,5,6}\n",
    "print(set1)\n",
    "set1.add(8)\n",
    "print(set1)"
   ]
  },
  {
   "cell_type": "code",
   "execution_count": 13,
   "id": "6f91a271",
   "metadata": {},
   "outputs": [
    {
     "name": "stdout",
     "output_type": "stream",
     "text": [
      "{2, 3, 4, 5, 6}\n"
     ]
    }
   ],
   "source": [
    "#3. Remove an element from a set.\n",
    "set1={1,2,3,4,5,6}\n",
    "set1.pop()\n",
    "print(set1)"
   ]
  },
  {
   "cell_type": "code",
   "execution_count": 22,
   "id": "e4ff9b1d",
   "metadata": {},
   "outputs": [
    {
     "name": "stdout",
     "output_type": "stream",
     "text": [
      "Enter items in set (seperating by commas): t,y,g,w,4,v\n",
      "Enter element you want to check: w\n",
      "Available\n"
     ]
    }
   ],
   "source": [
    "#4. Check if an element exists in a set.\n",
    "set1=input(\"Enter items in set (seperating by commas): \")\n",
    "set1=set(set1.split(\",\"))\n",
    "element=input(\"Enter element you want to check: \")\n",
    "if element in set1:\n",
    "    print(\"Available\")\n",
    "else:\n",
    "    print(\"Not available\")"
   ]
  },
  {
   "cell_type": "code",
   "execution_count": 35,
   "id": "42622886",
   "metadata": {},
   "outputs": [
    {
     "name": "stdout",
     "output_type": "stream",
     "text": [
      "Enter items in set (seperating by commas): a,b,c,d,1,2\n",
      "6\n"
     ]
    }
   ],
   "source": [
    "#5. Find the length of a set without using the `len()` function.\n",
    "set1=input(\"Enter items in set (seperating by commas): \")\n",
    "set1=set(set1.split(\",\"))\n",
    "count=0\n",
    "for i in set1:\n",
    "    count+=1\n",
    "print(count)"
   ]
  },
  {
   "cell_type": "code",
   "execution_count": 42,
   "id": "24c9ec0b",
   "metadata": {},
   "outputs": [
    {
     "name": "stdout",
     "output_type": "stream",
     "text": [
      "set()\n"
     ]
    }
   ],
   "source": [
    "#6. Clear all elements from a set.\n",
    "set1={2,3,4,5}\n",
    "set1.clear()\n",
    "print(set1)"
   ]
  },
  {
   "cell_type": "code",
   "execution_count": 44,
   "id": "35ef7d78",
   "metadata": {},
   "outputs": [
    {
     "name": "stdout",
     "output_type": "stream",
     "text": [
      "{2, 4, 6, 8, 10}\n"
     ]
    }
   ],
   "source": [
    "#7. Create a set of even numbers from 1 to 10.\n",
    "set1={x for x in range(1,11) if x%2==0}\n",
    "print(set1)"
   ]
  },
  {
   "cell_type": "code",
   "execution_count": 45,
   "id": "537f706e",
   "metadata": {},
   "outputs": [
    {
     "name": "stdout",
     "output_type": "stream",
     "text": [
      "{1, 3, 5, 7, 9}\n"
     ]
    }
   ],
   "source": [
    "#8. Create a set of odd numbers from 1 to 10.\n",
    "set1={x for x in range(1,11) if x%2!=0}\n",
    "print(set1)"
   ]
  },
  {
   "cell_type": "code",
   "execution_count": 47,
   "id": "d8ded0f8",
   "metadata": {},
   "outputs": [
    {
     "name": "stdout",
     "output_type": "stream",
     "text": [
      "{1, 2, 3, 4, 5, 6, 7}\n"
     ]
    }
   ],
   "source": [
    "#9. Find the union of two sets.\n",
    "set1={1,2,3,4,5}\n",
    "set2={4,5,6,7}\n",
    "set3 = set1.union(set2)\n",
    "print(set3)"
   ]
  },
  {
   "cell_type": "code",
   "execution_count": 52,
   "id": "eef8b444",
   "metadata": {},
   "outputs": [
    {
     "name": "stdout",
     "output_type": "stream",
     "text": [
      "{4, 5}\n"
     ]
    }
   ],
   "source": [
    "#10. Find the intersection of two sets.\n",
    "set1={1,2,3,4,5}\n",
    "set2={4,5,6,7}\n",
    "set3=set1.intersection(set2)\n",
    "print(set3)"
   ]
  },
  {
   "cell_type": "code",
   "execution_count": 53,
   "id": "9a191aca",
   "metadata": {},
   "outputs": [
    {
     "name": "stdout",
     "output_type": "stream",
     "text": [
      "{1, 2, 3}\n"
     ]
    }
   ],
   "source": [
    "#11. Find the difference between two sets.\n",
    "set1={1,2,3,4,5}\n",
    "set2={4,5,6,7}\n",
    "set3=set1.difference(set2)\n",
    "print(set3)"
   ]
  },
  {
   "cell_type": "code",
   "execution_count": 9,
   "id": "661fa4f9",
   "metadata": {},
   "outputs": [
    {
     "name": "stdout",
     "output_type": "stream",
     "text": [
      "Is a Subset\n"
     ]
    }
   ],
   "source": [
    "#12. Check if a set is a subset of another set.\n",
    "set1 = {1, 2, 3, 4, 5}\n",
    "set2 = {1, 2, 3}\n",
    "if set2.issubset(set1):\n",
    "    print(\"Is a Subset\")\n",
    "else:\n",
    "    print(\"Not a subset\")"
   ]
  },
  {
   "cell_type": "code",
   "execution_count": 15,
   "id": "8f871ea7",
   "metadata": {},
   "outputs": [
    {
     "name": "stdout",
     "output_type": "stream",
     "text": [
      "Set 2 Is a Superset of set 1\n"
     ]
    }
   ],
   "source": [
    "#13. Check if a set is a superset of another set.\n",
    "set1 = {1, 2, 3, 4, 5}\n",
    "set2 = {1, 2, 3}\n",
    "if set1.issuperset(set2):\n",
    "    print(\"Set 2 Is a Superset of set 1\")\n",
    "else:\n",
    "    print(\"Set 2 Is not a Superset of set 1\")"
   ]
  },
  {
   "cell_type": "code",
   "execution_count": 17,
   "id": "c274ff92",
   "metadata": {},
   "outputs": [
    {
     "name": "stdout",
     "output_type": "stream",
     "text": [
      "{1, 2, 3, 4, 5}\n"
     ]
    }
   ],
   "source": [
    "#14. Create a set from a list.\n",
    "list1= [1, 2, 3, 4, 5]\n",
    "set1={x for x in list1}\n",
    "print(set1)"
   ]
  },
  {
   "cell_type": "code",
   "execution_count": 18,
   "id": "bd8b01cc",
   "metadata": {},
   "outputs": [
    {
     "name": "stdout",
     "output_type": "stream",
     "text": [
      "[1, 2, 3, 4, 5]\n"
     ]
    }
   ],
   "source": [
    "#15. Convert a set to a list.\n",
    "set1= {1, 2, 3, 4, 5}\n",
    "list1=[x for x in list1]\n",
    "print(list1)"
   ]
  },
  {
   "cell_type": "code",
   "execution_count": 24,
   "id": "53e7e503",
   "metadata": {},
   "outputs": [
    {
     "name": "stdout",
     "output_type": "stream",
     "text": [
      "{2, 3, 4, 5}\n"
     ]
    }
   ],
   "source": [
    "#16. Remove a random element from a set.\n",
    "import random\n",
    "set1= {1, 2, 3, 4, 5}\n",
    "ran=random.randint(0,len(set1))\n",
    "set1.remove(ran)\n",
    "print(set1)"
   ]
  },
  {
   "cell_type": "code",
   "execution_count": 28,
   "id": "da366d57",
   "metadata": {},
   "outputs": [
    {
     "name": "stdout",
     "output_type": "stream",
     "text": [
      "{2, 3, 4, 5}\n"
     ]
    }
   ],
   "source": [
    "#17. Pop an element from a set.\n",
    "set1= {1, 2, 3, 4, 5}\n",
    "set1.pop()\n",
    "print(set1)"
   ]
  },
  {
   "cell_type": "code",
   "execution_count": 29,
   "id": "5035fbc2",
   "metadata": {},
   "outputs": [
    {
     "name": "stdout",
     "output_type": "stream",
     "text": [
      "No common element\n"
     ]
    }
   ],
   "source": [
    "#18. Check if two sets have no elements in common.\n",
    "set1 = {1, 2, 3}\n",
    "set2 = {4, 5, 6}\n",
    "if set1.isdisjoint(set2):\n",
    "    print(\"No common element\")\n",
    "else:\n",
    "    print(\"Common elements available\")"
   ]
  },
  {
   "cell_type": "code",
   "execution_count": 42,
   "id": "730cb5ab",
   "metadata": {},
   "outputs": [
    {
     "name": "stdout",
     "output_type": "stream",
     "text": [
      "{1, 2, 4, 5, 6}\n"
     ]
    }
   ],
   "source": [
    "#19. Find the symmetric difference between two sets.\n",
    "set1 = {1, 2, 3}\n",
    "set2 = {3,4, 5, 6}\n",
    "set3=set()\n",
    "for i in set1:\n",
    "    if i not in set2:\n",
    "        set3.add(i)\n",
    "for j in set2:\n",
    "    if j not in set1:\n",
    "        set3.add(j)   \n",
    "print(set3)"
   ]
  },
  {
   "cell_type": "code",
   "execution_count": 43,
   "id": "052eb4e9",
   "metadata": {},
   "outputs": [
    {
     "name": "stdout",
     "output_type": "stream",
     "text": [
      "{1, 2, 3, 4, 5, 6}\n"
     ]
    }
   ],
   "source": [
    "#20. Update a set with elements from another set.\n",
    "set1 = {1, 2, 3}\n",
    "set2 = {3,4, 5, 6}\n",
    "set1.update(set2)\n",
    "print(set1)"
   ]
  },
  {
   "cell_type": "code",
   "execution_count": 60,
   "id": "3e9c13d8",
   "metadata": {},
   "outputs": [
    {
     "name": "stdout",
     "output_type": "stream",
     "text": [
      "{2, 3, 5, 7, 11}\n"
     ]
    }
   ],
   "source": [
    "#21. Create a set of the first 5 prime numbers.\n",
    "set1 = set()\n",
    "x = 2  \n",
    "while len(set1) < 5:\n",
    "    prime = True\n",
    "    for i in range(2, x): \n",
    "        if x % i == 0:\n",
    "            prime = False\n",
    "            break\n",
    "    if prime:\n",
    "        set1.add(x)\n",
    "    x += 1\n",
    "print(set1)"
   ]
  },
  {
   "cell_type": "code",
   "execution_count": 65,
   "id": "5f318d27",
   "metadata": {},
   "outputs": [
    {
     "name": "stdout",
     "output_type": "stream",
     "text": [
      "yes\n"
     ]
    }
   ],
   "source": [
    "#22. Check if two sets are identical.\n",
    "set1={1,2,3}\n",
    "set2={1,2,3}\n",
    "if set1==set2:\n",
    "    print(\"Identical\")\n",
    "else:\n",
    "    print(\"Not identical\")"
   ]
  },
  {
   "cell_type": "code",
   "execution_count": 67,
   "id": "12a55afa",
   "metadata": {},
   "outputs": [
    {
     "name": "stdout",
     "output_type": "stream",
     "text": [
      "frozenset({1, 2, 3, 4, 5})\n"
     ]
    }
   ],
   "source": [
    "#23. Create a frozen set.\n",
    "set1 = frozenset([1, 2, 3, 4, 5])\n",
    "print(set1)"
   ]
  },
  {
   "cell_type": "code",
   "execution_count": 69,
   "id": "2c239282",
   "metadata": {},
   "outputs": [
    {
     "data": {
      "text/plain": [
       "False"
      ]
     },
     "execution_count": 69,
     "metadata": {},
     "output_type": "execute_result"
    }
   ],
   "source": [
    "#24. Check if a set is disjoint with another set.\n",
    "set1 = {1, 2, 3}\n",
    "set2 = {3,4, 5, 6}\n",
    "set1.isdisjoint(set2)"
   ]
  },
  {
   "cell_type": "code",
   "execution_count": 71,
   "id": "45029898",
   "metadata": {},
   "outputs": [
    {
     "name": "stdout",
     "output_type": "stream",
     "text": [
      "{1, 4, 9, 16, 25}\n"
     ]
    }
   ],
   "source": [
    "#25. Create a set of squares of numbers from 1 to 5.\n",
    "set1={x**2 for x in range(1,6)}\n",
    "print(set1)"
   ]
  },
  {
   "cell_type": "code",
   "execution_count": 81,
   "id": "4def0e1f",
   "metadata": {},
   "outputs": [
    {
     "name": "stdout",
     "output_type": "stream",
     "text": [
      "{8, 2, 4, 6}\n"
     ]
    }
   ],
   "source": [
    "#26. Filter out all even numbers from a set.\n",
    "set1={1,2,3,4,5,6,7,8,9}\n",
    "set2={x for x in set1 if x %2== 0}\n",
    "print(set2)"
   ]
  },
  {
   "cell_type": "code",
   "execution_count": 82,
   "id": "749bd74c",
   "metadata": {},
   "outputs": [
    {
     "name": "stdout",
     "output_type": "stream",
     "text": [
      "{2, 4, 6, 8, 10, 12, 14, 16, 18}\n"
     ]
    }
   ],
   "source": [
    "#27. Multiply all elements in a set by 2.\n",
    "set1={1,2,3,4,5,6,7,8,9}\n",
    "set2={x*2 for x in set1}\n",
    "print(set2)"
   ]
  },
  {
   "cell_type": "code",
   "execution_count": 94,
   "id": "a565549b",
   "metadata": {},
   "outputs": [
    {
     "name": "stdout",
     "output_type": "stream",
     "text": [
      "{99, 69, 39, 74, 48, 16, 18, 23, 88, 57, 31}\n"
     ]
    }
   ],
   "source": [
    "#28. Create a set of random numbers.\n",
    "import random\n",
    "set1={random.randint(1,100) for x in range(11)}\n",
    "print(set1)"
   ]
  },
  {
   "cell_type": "code",
   "execution_count": 98,
   "id": "38901724",
   "metadata": {},
   "outputs": [
    {
     "name": "stdout",
     "output_type": "stream",
     "text": [
      "Empty\n"
     ]
    }
   ],
   "source": [
    "#29. Check if a set is empty.\n",
    "set1={}\n",
    "if set1:\n",
    "    print(\"Not empty\")\n",
    "else:\n",
    "    print(\"Empty\")"
   ]
  },
  {
   "cell_type": "code",
   "execution_count": 101,
   "id": "26cc7497",
   "metadata": {},
   "outputs": [
    {
     "name": "stdout",
     "output_type": "stream",
     "text": [
      "frozenset({1, 2, 3, frozenset({1, 2})})\n"
     ]
    }
   ],
   "source": [
    "#30. Create a nested set (hint: use frozenset).\n",
    "set1 = frozenset({1, 2, 3, frozenset({1, 2})})\n",
    "print(set1)"
   ]
  },
  {
   "cell_type": "code",
   "execution_count": 1,
   "id": "abc53b78",
   "metadata": {},
   "outputs": [
    {
     "name": "stdout",
     "output_type": "stream",
     "text": [
      "{1, 2, 4, 5}\n"
     ]
    }
   ],
   "source": [
    "#31. Remove an element from a set using the discard method.\n",
    "set1 = {1, 2, 3, 4, 5}\n",
    "set1.discard(3)\n",
    "print(set1)"
   ]
  },
  {
   "cell_type": "code",
   "execution_count": 11,
   "id": "14173451",
   "metadata": {},
   "outputs": [
    {
     "name": "stdout",
     "output_type": "stream",
     "text": [
      "are equal\n"
     ]
    }
   ],
   "source": [
    "#32. Compare two sets.\n",
    "set1={1,2,3,4,5}\n",
    "set2={1,2,3,4,5}\n",
    "if set1==set2:\n",
    "    print(\"are equal\")\n",
    "else:\n",
    "    print(\"not equal\")"
   ]
  },
  {
   "cell_type": "code",
   "execution_count": 14,
   "id": "f46ebdf8",
   "metadata": {},
   "outputs": [
    {
     "name": "stdout",
     "output_type": "stream",
     "text": [
      "{'how', 'Hi', 'are', 'you', 'there'}\n"
     ]
    }
   ],
   "source": [
    "#33. Create a set from a string.\n",
    "string=\"Hi there how are you\"\n",
    "set1={x for x in string.split(\" \")}\n",
    "print(set1)"
   ]
  },
  {
   "cell_type": "code",
   "execution_count": 21,
   "id": "3a6c9f0f",
   "metadata": {},
   "outputs": [
    {
     "name": "stdout",
     "output_type": "stream",
     "text": [
      "{1, 2, 3, 4, 5}\n"
     ]
    }
   ],
   "source": [
    "#34. Convert a set of strings to a set of integers.\n",
    "set1={\"1\",\"2\",\"3\",\"4\",\"5\"}\n",
    "set2={int(x) for x in set1}\n",
    "print(set2)"
   ]
  },
  {
   "cell_type": "code",
   "execution_count": 22,
   "id": "49d30c43",
   "metadata": {},
   "outputs": [
    {
     "name": "stdout",
     "output_type": "stream",
     "text": [
      "{'4', '1', '3', '2', '5'}\n"
     ]
    }
   ],
   "source": [
    "#35. Convert a set of integers to a set of strings.\n",
    "set1={1, 2, 3, 4, 5}\n",
    "set2={str(x) for x in set1}\n",
    "print(set2)"
   ]
  },
  {
   "cell_type": "code",
   "execution_count": 25,
   "id": "236402e7",
   "metadata": {},
   "outputs": [
    {
     "name": "stdout",
     "output_type": "stream",
     "text": [
      "{1, 2, 3, 4, 5, 6, 7}\n"
     ]
    }
   ],
   "source": [
    "#36. Create a set from a tuple.\n",
    "tuple1=(1,2,3,4,5,6,7)\n",
    "print(set(tuple1))"
   ]
  },
  {
   "cell_type": "code",
   "execution_count": 26,
   "id": "a944bbc6",
   "metadata": {},
   "outputs": [
    {
     "name": "stdout",
     "output_type": "stream",
     "text": [
      "(1, 2, 3, 4, 5, 6, 7)\n"
     ]
    }
   ],
   "source": [
    "#37. Convert a set to a tuple.\n",
    "set1={1, 2, 3, 4, 5, 6, 7}\n",
    "print(tuple(set1))"
   ]
  },
  {
   "cell_type": "code",
   "execution_count": 27,
   "id": "b44c6aab",
   "metadata": {},
   "outputs": [
    {
     "name": "stdout",
     "output_type": "stream",
     "text": [
      "7\n"
     ]
    }
   ],
   "source": [
    "#38. Find the maximum value in a set.\n",
    "set1={1, 2, 3, 4, 5, 6, 7}\n",
    "print(max(set1))"
   ]
  },
  {
   "cell_type": "code",
   "execution_count": 28,
   "id": "b30b75e6",
   "metadata": {},
   "outputs": [
    {
     "name": "stdout",
     "output_type": "stream",
     "text": [
      "1\n"
     ]
    }
   ],
   "source": [
    "#39. Find the minimum value in a set.\n",
    "set1={1, 2, 3, 4, 5, 6, 7}\n",
    "print(min(set1))"
   ]
  },
  {
   "cell_type": "code",
   "execution_count": 6,
   "id": "27a26ac9",
   "metadata": {},
   "outputs": [
    {
     "name": "stdout",
     "output_type": "stream",
     "text": [
      "Enter elements separated by commas: hi,f,r,e,w,\n",
      "{'', 'hi', 'w', 'r', 'e', 'f'}\n"
     ]
    }
   ],
   "source": [
    "#40. Create a set from user input.\n",
    "set1 = set()\n",
    "elements = input(\"Enter elements separated by commas: \").split(\",\")\n",
    "for i in elements:\n",
    "    set1.add(i)\n",
    "print(set1)"
   ]
  },
  {
   "cell_type": "code",
   "execution_count": 11,
   "id": "f3d81ca6",
   "metadata": {},
   "outputs": [
    {
     "name": "stdout",
     "output_type": "stream",
     "text": [
      "intersection is there\n"
     ]
    }
   ],
   "source": [
    "#41. Check if the intersection of two sets is empty.\n",
    "set1={1,3,4,5}\n",
    "set2={1,2}\n",
    "set3=set1.intersection(set2)\n",
    "if set3:\n",
    "    print(\"intersection is there\")\n",
    "else:\n",
    "    print(\"intersection is not there\")"
   ]
  },
  {
   "cell_type": "code",
   "execution_count": 17,
   "id": "890d5a2a",
   "metadata": {},
   "outputs": [
    {
     "name": "stdout",
     "output_type": "stream",
     "text": [
      "{1, 2, 3, 5, 8}\n"
     ]
    }
   ],
   "source": [
    "#42. Create a set of the first 5 Fibonacci numbers.\n",
    "set1=set()\n",
    "n=5\n",
    "fib=[0,1]\n",
    "while len(set1)<n:\n",
    "    fib2=fib[-1]+fib[-2]\n",
    "    set1.add(fib2)\n",
    "    fib.append(fib2)\n",
    "print(set1)"
   ]
  },
  {
   "cell_type": "code",
   "execution_count": 18,
   "id": "80a9f87d",
   "metadata": {},
   "outputs": [
    {
     "name": "stdout",
     "output_type": "stream",
     "text": [
      "{1, 2, 3, 4, 5}\n"
     ]
    }
   ],
   "source": [
    "#43. Remove duplicates from a list using sets.\n",
    "list1=[1,2,3,3,4,5]\n",
    "set1=set(list1)\n",
    "print(set1)"
   ]
  },
  {
   "cell_type": "code",
   "execution_count": 19,
   "id": "ce51a6d8",
   "metadata": {},
   "outputs": [
    {
     "name": "stdout",
     "output_type": "stream",
     "text": [
      "Have same element\n"
     ]
    }
   ],
   "source": [
    "#44. Check if two sets have the same elements, regardless of their count.\n",
    "set1={1,2,3,4,5}\n",
    "set2={1,2,3,4,5}\n",
    "if set1==set2:\n",
    "    print(\"Have same element\")\n",
    "else:\n",
    "    print(\"dont have same element\")"
   ]
  },
  {
   "cell_type": "code",
   "execution_count": 20,
   "id": "69522887",
   "metadata": {},
   "outputs": [
    {
     "name": "stdout",
     "output_type": "stream",
     "text": [
      "{1, 2, 4, 8, 16}\n"
     ]
    }
   ],
   "source": [
    "#45. Create a set of the first `n` powers of 2.\n",
    "n=5\n",
    "set1={2**x for x in range(n)}\n",
    "print(set1)"
   ]
  },
  {
   "cell_type": "code",
   "execution_count": 22,
   "id": "924529f8",
   "metadata": {},
   "outputs": [
    {
     "name": "stdout",
     "output_type": "stream",
     "text": [
      "{2, 3, 4, 5, 6}\n"
     ]
    }
   ],
   "source": [
    "#46. Find the common elements between a set and a list.\n",
    "set1={1,2,3,4,5,6}\n",
    "set2={2,3,4,5,6,7}\n",
    "set3=set2.intersection(set1)\n",
    "print(set3)"
   ]
  },
  {
   "cell_type": "code",
   "execution_count": 27,
   "id": "20bdc264",
   "metadata": {},
   "outputs": [
    {
     "name": "stdout",
     "output_type": "stream",
     "text": [
      "{1, 3, 6, 10, 15}\n"
     ]
    }
   ],
   "source": [
    "#47. Create a set of the first `n` triangular numbers.\n",
    "n = 5 \n",
    "set1 = set()\n",
    "for i in range(1, n + 1):\n",
    "    num = i * (i + 1) // 2  \n",
    "    set1.add(num)\n",
    "print(set1)"
   ]
  },
  {
   "cell_type": "code",
   "execution_count": 30,
   "id": "e0ac758b",
   "metadata": {},
   "outputs": [
    {
     "name": "stdout",
     "output_type": "stream",
     "text": [
      "yes\n"
     ]
    }
   ],
   "source": [
    "#48. Check if a set contains another set as a subset.\n",
    "set1 = {1, 2, 3, 4, 5, 6, 7}\n",
    "set2 = {5, 6, 7}\n",
    "if set2.issubset(set1):\n",
    "    print(\"yes\")\n",
    "else:\n",
    "    print(\"no\")"
   ]
  },
  {
   "cell_type": "code",
   "execution_count": 40,
   "id": "21274ef2",
   "metadata": {},
   "outputs": [
    {
     "name": "stdout",
     "output_type": "stream",
     "text": [
      "[1, 0, 1, 0, 1, 0, 1, 0, 1, 0]\n"
     ]
    }
   ],
   "source": [
    "#49. Create a set of alternating 1s and 0s of length `n`.\n",
    "n = 10\n",
    "set1 = [1 if i % 2 == 0 else 0 for i in range(n)]\n",
    "print(set1)"
   ]
  },
  {
   "cell_type": "code",
   "execution_count": 33,
   "id": "14da167f",
   "metadata": {},
   "outputs": [
    {
     "name": "stdout",
     "output_type": "stream",
     "text": [
      "{1, 2, 3, 4, 5, 6}\n"
     ]
    }
   ],
   "source": [
    "#50. Merge multiple sets into one.\n",
    "set1={1,2,3}\n",
    "set2={4,5,6}\n",
    "for x in set2:\n",
    "    set1.add(x)\n",
    "print(set1)"
   ]
  }
 ],
 "metadata": {
  "kernelspec": {
   "display_name": "Python 3 (ipykernel)",
   "language": "python",
   "name": "python3"
  },
  "language_info": {
   "codemirror_mode": {
    "name": "ipython",
    "version": 3
   },
   "file_extension": ".py",
   "mimetype": "text/x-python",
   "name": "python",
   "nbconvert_exporter": "python",
   "pygments_lexer": "ipython3",
   "version": "3.11.7"
  }
 },
 "nbformat": 4,
 "nbformat_minor": 5
}
