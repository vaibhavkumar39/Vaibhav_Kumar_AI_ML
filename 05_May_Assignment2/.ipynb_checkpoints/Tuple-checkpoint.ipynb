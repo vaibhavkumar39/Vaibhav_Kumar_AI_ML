{
 "cells": [
  {
   "cell_type": "code",
   "execution_count": 3,
   "id": "86da5972",
   "metadata": {},
   "outputs": [
    {
     "name": "stdout",
     "output_type": "stream",
     "text": [
      "(1, 2, 3, 4, 5)\n"
     ]
    }
   ],
   "source": [
    "#1. Create a tuple with integers from 1 to 5.\n",
    "tuple1=tuple(x for x in range(1,6))\n",
    "print(tuple1)"
   ]
  },
  {
   "cell_type": "code",
   "execution_count": 5,
   "id": "2933ca4a",
   "metadata": {},
   "outputs": [
    {
     "name": "stdout",
     "output_type": "stream",
     "text": [
      "3\n"
     ]
    }
   ],
   "source": [
    "#2. Access the third element of a tuple.\n",
    "tuple1=(1,2,3,4,5,6)\n",
    "print(tuple1[2])"
   ]
  },
  {
   "cell_type": "code",
   "execution_count": 8,
   "id": "7ecd1e07",
   "metadata": {},
   "outputs": [
    {
     "name": "stdout",
     "output_type": "stream",
     "text": [
      "Enter elements into Tuple (seperating by commas): f,g,w,s,g,e\n",
      "6\n"
     ]
    }
   ],
   "source": [
    "#3. Find the length of a tuple without using the `len()` function.\n",
    "count=0\n",
    "tuple1=input(\"Enter elements into Tuple (seperating by commas): \")\n",
    "tuple1=tuple1.split(\",\")\n",
    "for i in tuple1:\n",
    "    count+=1\n",
    "print(count)"
   ]
  },
  {
   "cell_type": "code",
   "execution_count": 34,
   "id": "163ba65a",
   "metadata": {},
   "outputs": [
    {
     "name": "stdout",
     "output_type": "stream",
     "text": [
      "Enter elements into Tuple (seperating by commas): 1,2,3,3,3,4,5,6,6\n",
      "Enter element you want to find occurences: 3\n",
      "Number of occurences of 3 in tuple is: 3\n"
     ]
    }
   ],
   "source": [
    "#4. Count the occurrences of an element in a tuple.\n",
    "tuple1=input(\"Enter elements into Tuple (seperating by commas): \")\n",
    "tuple1=tuple1.split(\",\")\n",
    "element=input(\"Enter element you want to find occurences: \")\n",
    "count=tuple1.count(element)\n",
    "print(f\"Number of occurences of {element} in tuple is: {count}\")"
   ]
  },
  {
   "cell_type": "code",
   "execution_count": 27,
   "id": "49f241ab",
   "metadata": {},
   "outputs": [
    {
     "name": "stdout",
     "output_type": "stream",
     "text": [
      "Enter elements into Tuple (seperating by commas): 1,2,3,3,4,5,6,5\n",
      "Enter element you want to find first occurence index: 5\n",
      "5\n"
     ]
    }
   ],
   "source": [
    "#5. Find the index of the first occurrence of an element in a tuple.\n",
    "tuple1=input(\"Enter elements into Tuple (seperating by commas): \")\n",
    "tuple1=tuple1.lower()\n",
    "tuple1=tuple1.split(\",\")\n",
    "element=input(\"Enter element you want to find first occurence index: \")\n",
    "element=element.lower()\n",
    "index=tuple1.index(element)\n",
    "print(index)"
   ]
  },
  {
   "cell_type": "code",
   "execution_count": 26,
   "id": "1744c044",
   "metadata": {},
   "outputs": [
    {
     "name": "stdout",
     "output_type": "stream",
     "text": [
      "Enter elements into Tuple (seperating by commas): 3,4,2,5\n",
      "Enter element you want to find: 2\n",
      "Available\n"
     ]
    }
   ],
   "source": [
    "#6. Check if an element exists in a tuple.\n",
    "tuple1=input(\"Enter elements into Tuple (seperating by commas): \")\n",
    "tuple1=tuple1.lower()\n",
    "tuple1=tuple1.split(\",\")\n",
    "element=input(\"Enter element you want to find: \")\n",
    "element=element.lower()\n",
    "if element in tuple1:\n",
    "    print(\"Available\")\n",
    "else:\n",
    "    print(\"Not available\")"
   ]
  },
  {
   "cell_type": "code",
   "execution_count": 2,
   "id": "93f7254f",
   "metadata": {},
   "outputs": [
    {
     "name": "stdout",
     "output_type": "stream",
     "text": [
      "Enter elements into Tuple (seperating by commas): 1,2,3,4\n",
      "('1', '2', '3', '4')\n",
      "['1', '2', '3', '4']\n"
     ]
    }
   ],
   "source": [
    "#7. Convert a tuple to a list.\n",
    "tuple1=input(\"Enter elements into Tuple (seperating by commas): \")\n",
    "tuple1=tuple(tuple1.split(\",\"))\n",
    "list1=[x for x in tuple1]\n",
    "print(tuple1)\n",
    "print(list1)"
   ]
  },
  {
   "cell_type": "code",
   "execution_count": 6,
   "id": "f01a19bb",
   "metadata": {},
   "outputs": [
    {
     "name": "stdout",
     "output_type": "stream",
     "text": [
      "Enter elements into List (seperating by commas): 1,2,3,4,5\n",
      "['1', '2', '3', '4', '5']\n",
      "('1', '2', '3', '4', '5')\n"
     ]
    }
   ],
   "source": [
    "#8. Convert a list to a tuple.\n",
    "list1=input(\"Enter elements into List (seperating by commas): \")\n",
    "list1=list(list1.split(\",\"))\n",
    "tuple1=tuple(x for x in list1)\n",
    "print(list1)\n",
    "print(tuple1)"
   ]
  },
  {
   "cell_type": "code",
   "execution_count": null,
   "id": "8c4d541f",
   "metadata": {},
   "outputs": [],
   "source": [
    "#9. Unpack the elements of a tuple into variables.\n",
    "#Doubt in this"
   ]
  },
  {
   "cell_type": "code",
   "execution_count": 7,
   "id": "8f362d38",
   "metadata": {},
   "outputs": [
    {
     "name": "stdout",
     "output_type": "stream",
     "text": [
      "(2, 4, 6, 8, 10)\n"
     ]
    }
   ],
   "source": [
    "#10. Create a tuple of even numbers from 1 to 10.\n",
    "tuple1=tuple(x for x in range(1,11) if x%2==0)\n",
    "print(tuple1)"
   ]
  },
  {
   "cell_type": "code",
   "execution_count": 8,
   "id": "dc0d0dac",
   "metadata": {},
   "outputs": [
    {
     "name": "stdout",
     "output_type": "stream",
     "text": [
      "(1, 3, 5, 7, 9)\n"
     ]
    }
   ],
   "source": [
    "#11. Create a tuple of odd numbers from 1 to 10.\n",
    "tuple1=tuple(x for x in range(1,11) if x%2!=0)\n",
    "print(tuple1)"
   ]
  },
  {
   "cell_type": "code",
   "execution_count": 9,
   "id": "2cf4d838",
   "metadata": {},
   "outputs": [
    {
     "name": "stdout",
     "output_type": "stream",
     "text": [
      "(1, 2, 3, 4, 5, 6, 7, 8)\n"
     ]
    }
   ],
   "source": [
    "#12. Concatenate two tuples.\n",
    "tuple1=(1,2,3,4)\n",
    "tuple2=(5,6,7,8)\n",
    "tuple3=tuple1+tuple2\n",
    "print(tuple3)"
   ]
  },
  {
   "cell_type": "code",
   "execution_count": 10,
   "id": "d06ce621",
   "metadata": {},
   "outputs": [
    {
     "name": "stdout",
     "output_type": "stream",
     "text": [
      "(1, 2, 3, 4, 1, 2, 3, 4, 1, 2, 3, 4)\n"
     ]
    }
   ],
   "source": [
    "#13. Repeat a tuple three times.\n",
    "tuple1=(1,2,3,4)\n",
    "tuple1=tuple1*3\n",
    "print(tuple1)"
   ]
  },
  {
   "cell_type": "code",
   "execution_count": 22,
   "id": "17edef58",
   "metadata": {},
   "outputs": [
    {
     "name": "stdout",
     "output_type": "stream",
     "text": [
      "Empty\n"
     ]
    }
   ],
   "source": [
    "#14. Check if a tuple is empty.\n",
    "tuple1=()\n",
    "if tuple1:\n",
    "    print(\"Not Empty\")\n",
    "else:\n",
    "    print(\"Empty\")"
   ]
  },
  {
   "cell_type": "code",
   "execution_count": 23,
   "id": "49fe1be6",
   "metadata": {},
   "outputs": [
    {
     "name": "stdout",
     "output_type": "stream",
     "text": [
      "(1, 2, 3, 4, (3, 4))\n"
     ]
    }
   ],
   "source": [
    "#15. Create a nested tuple.\n",
    "tuple1=(1,2,3,4,(3,4))\n",
    "print(tuple1)"
   ]
  },
  {
   "cell_type": "code",
   "execution_count": 6,
   "id": "55e2717e",
   "metadata": {},
   "outputs": [
    {
     "name": "stdout",
     "output_type": "stream",
     "text": [
      "3\n"
     ]
    }
   ],
   "source": [
    "#16. Access the first element of a nested tuple.\n",
    "tuple1=(1,2,3,4,(3,4))\n",
    "print(tuple1[4][0])"
   ]
  },
  {
   "cell_type": "code",
   "execution_count": 8,
   "id": "a0ba618c",
   "metadata": {},
   "outputs": [
    {
     "name": "stdout",
     "output_type": "stream",
     "text": [
      "(3,)\n"
     ]
    }
   ],
   "source": [
    "#17. Create a tuple with a single element.\n",
    "tuple1=(3,)\n",
    "print(tuple1)"
   ]
  },
  {
   "cell_type": "code",
   "execution_count": 14,
   "id": "a3a708c3",
   "metadata": {},
   "outputs": [
    {
     "name": "stdout",
     "output_type": "stream",
     "text": [
      "False\n",
      "True\n"
     ]
    }
   ],
   "source": [
    "#18. Compare two tuples.\n",
    "tuple1=(1,2,3,4)\n",
    "tuple2=(4,5,6,7)\n",
    "print(tuple1==tuple2)\n",
    "print(tuple1<tuple2)"
   ]
  },
  {
   "cell_type": "code",
   "execution_count": 22,
   "id": "fcefa9bb",
   "metadata": {},
   "outputs": [],
   "source": [
    "#19. Delete a tuple.\n",
    "tuple1=(1,2,3,4)\n",
    "del tuple1"
   ]
  },
  {
   "cell_type": "code",
   "execution_count": 25,
   "id": "36c19b64",
   "metadata": {},
   "outputs": [
    {
     "name": "stdout",
     "output_type": "stream",
     "text": [
      "(1, 2, 3)\n",
      "(4, 5, 6, 7)\n"
     ]
    }
   ],
   "source": [
    "#20. Slice a tuple.\n",
    "tuple1=(1,2,3,4,5,6,7)\n",
    "tuple2=tuple1[:3]\n",
    "tuple3=tuple1[3:]\n",
    "print(tuple2)\n",
    "print(tuple3)"
   ]
  },
  {
   "cell_type": "code",
   "execution_count": 26,
   "id": "ccd33050",
   "metadata": {},
   "outputs": [
    {
     "name": "stdout",
     "output_type": "stream",
     "text": [
      "7\n"
     ]
    }
   ],
   "source": [
    "#21. Find the maximum value in a tuple.\n",
    "tuple1=(1,2,3,4,5,6,7)\n",
    "print(max(tuple1))"
   ]
  },
  {
   "cell_type": "code",
   "execution_count": 27,
   "id": "515d4f1d",
   "metadata": {},
   "outputs": [
    {
     "name": "stdout",
     "output_type": "stream",
     "text": [
      "1\n"
     ]
    }
   ],
   "source": [
    "#22. Find the minimum value in a tuple.\n",
    "tuple1=(1,2,3,4,5,6,7)\n",
    "print(min(tuple1))"
   ]
  },
  {
   "cell_type": "code",
   "execution_count": 28,
   "id": "181f8655",
   "metadata": {},
   "outputs": [
    {
     "name": "stdout",
     "output_type": "stream",
     "text": [
      "('h', 'i', ' ', 'h', 'o', 'w', ' ', 'a', 'r', 'e', ' ', 'y', 'o', 'u')\n"
     ]
    }
   ],
   "source": [
    "#23. Convert a string to a tuple of characters.\n",
    "string=\"hi how are you\"\n",
    "tuple1=tuple(string)\n",
    "print(tuple1)"
   ]
  },
  {
   "cell_type": "code",
   "execution_count": 36,
   "id": "a7d0b5dc",
   "metadata": {},
   "outputs": [
    {
     "name": "stdout",
     "output_type": "stream",
     "text": [
      "hi how are you\n"
     ]
    }
   ],
   "source": [
    "#24. Convert a tuple of characters to a string.\n",
    "tuple1 = ('h', 'i', ' ', 'h', 'o', 'w', ' ', 'a', 'r', 'e', ' ', 'y', 'o', 'u')\n",
    "string = ''.join(tuple1) \n",
    "print(string)"
   ]
  },
  {
   "cell_type": "code",
   "execution_count": 39,
   "id": "7bdb0c63",
   "metadata": {},
   "outputs": [
    {
     "name": "stdout",
     "output_type": "stream",
     "text": [
      "(1, 2, 3, '4', 'f', 3.14, True)\n"
     ]
    }
   ],
   "source": [
    "#25. Create a tuple from multiple data types.\n",
    "tuple1=(1,2,3,\"4\",\"f\", 3.14, True)\n",
    "print(tuple1)"
   ]
  },
  {
   "cell_type": "code",
   "execution_count": 41,
   "id": "51701525",
   "metadata": {},
   "outputs": [],
   "source": [
    "#26. Check if two tuples are identical.\n",
    "tuple1=(1,2,3)\n",
    "tuple2=(1,2,3)\n",
    "if tuple1==tuple2:\n",
    "    print(\"identical\")\n",
    "else:\n",
    "    print(\"not identical\")"
   ]
  },
  {
   "cell_type": "code",
   "execution_count": 52,
   "id": "cfb379cc",
   "metadata": {},
   "outputs": [
    {
     "name": "stdout",
     "output_type": "stream",
     "text": [
      "(2, 3, 4, 5, 6, 7)\n"
     ]
    }
   ],
   "source": [
    "#27. Sort the elements of a tuple.\n",
    "tuple1=(4,3,2,5,6,7)\n",
    "list1=list(tuple1)\n",
    "list1=sorted(list1)\n",
    "tuple1=tuple(list1)\n",
    "print(tuple1)"
   ]
  },
  {
   "cell_type": "code",
   "execution_count": 6,
   "id": "883c6966",
   "metadata": {},
   "outputs": [
    {
     "name": "stdout",
     "output_type": "stream",
     "text": [
      "('1', '2', '3', '4', '5', '6')\n"
     ]
    }
   ],
   "source": [
    "#28. Convert a tuple of integers to a tuple of strings.\n",
    "tuple1 = (1, 2, 3, 4, 5, 6)\n",
    "tuple2 = tuple(str(x) for x in tuple1)\n",
    "print(tuple2)"
   ]
  },
  {
   "cell_type": "code",
   "execution_count": 7,
   "id": "e6f38ff5",
   "metadata": {},
   "outputs": [
    {
     "name": "stdout",
     "output_type": "stream",
     "text": [
      "(1, 2, 3, 4, 5, 6)\n"
     ]
    }
   ],
   "source": [
    "#29. Convert a tuple of strings to a tuple of integers.\n",
    "tuple1 = ('1', '2', '3', '4', '5', '6')\n",
    "tuple2 = tuple(int(x) for x in tuple1)\n",
    "print(tuple2)"
   ]
  },
  {
   "cell_type": "code",
   "execution_count": 10,
   "id": "942ed6a2",
   "metadata": {},
   "outputs": [
    {
     "name": "stdout",
     "output_type": "stream",
     "text": [
      "(1, 2, 3, 4, 4, 5, 6, 7)\n"
     ]
    }
   ],
   "source": [
    "#30. Merge two tuples.\n",
    "tuple1=(1,2,3,4)\n",
    "tuple2=(4,5,6,7)\n",
    "tuple1=tuple1+tuple2\n",
    "print(tuple1)"
   ]
  },
  {
   "cell_type": "markdown",
   "id": "549a57fd",
   "metadata": {},
   "source": [
    "# 31. Flatten a nested tuple.\n",
    "tuple1=(1,2,3,4,(5,6,7))\n",
    "tuple2=tuple(x[0][0] for x in tuple1)\n",
    "print(tuple2)"
   ]
  },
  {
   "cell_type": "code",
   "execution_count": 1,
   "id": "25d69929",
   "metadata": {},
   "outputs": [
    {
     "name": "stdout",
     "output_type": "stream",
     "text": [
      "(2, 3, 5, 7, 11)\n"
     ]
    }
   ],
   "source": [
    "# 32. Create a tuple of the first 5 prime numbers.\n",
    "primes = []\n",
    "x = 2\n",
    "while len(primes) < 5:\n",
    "    pe = True\n",
    "    for i in range(2,x):\n",
    "        if x % i == 0:\n",
    "            pe = False\n",
    "            break\n",
    "    if pe:\n",
    "        primes.append(x)\n",
    "    x += 1\n",
    "tuple1 = tuple(primes)\n",
    "print(tuple1)"
   ]
  },
  {
   "cell_type": "code",
   "execution_count": 17,
   "id": "0f2a414e",
   "metadata": {},
   "outputs": [
    {
     "name": "stdout",
     "output_type": "stream",
     "text": [
      "It is a palindrome\n"
     ]
    }
   ],
   "source": [
    "#33. Check if a tuple is a palindrome.\n",
    "tuple1=(\"m\",\"a\",\"d\",\"a\",\"m\")\n",
    "tuple2=tuple1[::-1]\n",
    "if tuple1==tuple2:\n",
    "    print(\"It is a palindrome\")\n",
    "else:\n",
    "    print(\"It is not a palindrome\")"
   ]
  },
  {
   "cell_type": "code",
   "execution_count": 21,
   "id": "335f6d5c",
   "metadata": {},
   "outputs": [
    {
     "name": "stdout",
     "output_type": "stream",
     "text": [
      "(1, 4, 9, 16, 25)\n"
     ]
    }
   ],
   "source": [
    "#34. Create a tuple of squares of numbers from 1 to 5.\n",
    "tuple1=tuple(x**2 for x in range(1,6))\n",
    "print(tuple1)"
   ]
  },
  {
   "cell_type": "code",
   "execution_count": 26,
   "id": "a0b21d97",
   "metadata": {},
   "outputs": [
    {
     "name": "stdout",
     "output_type": "stream",
     "text": [
      "(2, 4, 6, 8)\n"
     ]
    }
   ],
   "source": [
    "#35. Filter out all even numbers from a tuple.\n",
    "tuple1=(1,2,3,4,5,6,7,8,9)\n",
    "tuple2=tuple(x for x in tuple1 if x%2==0)\n",
    "print(tuple2)"
   ]
  },
  {
   "cell_type": "code",
   "execution_count": 24,
   "id": "7a383314",
   "metadata": {},
   "outputs": [
    {
     "name": "stdout",
     "output_type": "stream",
     "text": [
      "(2, 4, 6, 8, 10)\n"
     ]
    }
   ],
   "source": [
    "#36. Multiply all elements in a tuple by 2.\n",
    "tuple1=(1,2,3,4,5)\n",
    "tuple2=tuple(x*2 for x in tuple1)\n",
    "print(tuple2)"
   ]
  },
  {
   "cell_type": "code",
   "execution_count": 33,
   "id": "9eca3c34",
   "metadata": {},
   "outputs": [
    {
     "name": "stdout",
     "output_type": "stream",
     "text": [
      "(5, 18, 14, 10, 13, 11, 6, 1, 10, 5)\n"
     ]
    }
   ],
   "source": [
    "#37. Create a tuple of random numbers.\n",
    "import random\n",
    "tuple1=tuple(random.randint(0,20) for x in range(0,10))\n",
    "print(tuple1)"
   ]
  },
  {
   "cell_type": "code",
   "execution_count": 36,
   "id": "3e9620eb",
   "metadata": {},
   "outputs": [
    {
     "name": "stdout",
     "output_type": "stream",
     "text": [
      "not sorted\n"
     ]
    }
   ],
   "source": [
    "#38. Check if a tuple is sorted.\n",
    "tuple1=(6,4,8,2,3,5,1,9)\n",
    "tuple2=tuple(sorted(tuple1))\n",
    "if tuple1==tuple2:\n",
    "    print(\"sorted\")\n",
    "else:\n",
    "    print(\"not sorted\")"
   ]
  },
  {
   "cell_type": "code",
   "execution_count": 5,
   "id": "41afbf69",
   "metadata": {},
   "outputs": [
    {
     "name": "stdout",
     "output_type": "stream",
     "text": [
      "(3, 4, 5, 6, 1, 2)\n"
     ]
    }
   ],
   "source": [
    "#39. Rotate a tuple to the left by `n` positions.\n",
    "tuple1=(1,2,3,4,5,6)\n",
    "n = 2\n",
    "tuple2 = tuple1[n:] + tuple1[:n]\n",
    "print(tuple2)"
   ]
  },
  {
   "cell_type": "code",
   "execution_count": 8,
   "id": "a76d56af",
   "metadata": {},
   "outputs": [
    {
     "name": "stdout",
     "output_type": "stream",
     "text": [
      "(5, 6, 1, 2, 3, 4)\n"
     ]
    }
   ],
   "source": [
    "#40. Rotate a tuple to the right by `n` positions.\n",
    "tuple1=(1,2,3,4,5,6)\n",
    "n = 2\n",
    "tuple2 = tuple1[-n:] + tuple1[:-n]\n",
    "print(tuple2)"
   ]
  },
  {
   "cell_type": "code",
   "execution_count": 22,
   "id": "c2c50d04",
   "metadata": {},
   "outputs": [
    {
     "name": "stdout",
     "output_type": "stream",
     "text": [
      "(0, 1, 1, 2, 3)\n"
     ]
    }
   ],
   "source": [
    "#41. Create a tuple of the first 5 Fibonacci numbers.\n",
    "fib = [0, 1]\n",
    "while len(fib) < 5:\n",
    "    fib.append(fib[-1] + fib[-2])\n",
    "print(tuple(fib))"
   ]
  },
  {
   "cell_type": "code",
   "execution_count": 23,
   "id": "ebdde294",
   "metadata": {},
   "outputs": [
    {
     "name": "stdout",
     "output_type": "stream",
     "text": [
      "Enter tuple valuehi there\n",
      "hi there\n"
     ]
    }
   ],
   "source": [
    "#42. Create a tuple from user input.\n",
    "tuple1=input(\"Enter tuple value\")\n",
    "print(tuple1)"
   ]
  },
  {
   "cell_type": "code",
   "execution_count": 26,
   "id": "37aac134",
   "metadata": {},
   "outputs": [
    {
     "name": "stdout",
     "output_type": "stream",
     "text": [
      "(1, 2, 6, 4, 5, 3, 7, 8, 9)\n"
     ]
    }
   ],
   "source": [
    "#43. Swap two elements in a tuple.\n",
    "tuple1=(1,2,3,4,5,6,7,8,9)\n",
    "tuple1=list(tuple1)\n",
    "tuple1[2],tuple1[5]=tuple1[5],tuple1[2]\n",
    "print(tuple(tuple1))"
   ]
  },
  {
   "cell_type": "code",
   "execution_count": 28,
   "id": "e51a8eac",
   "metadata": {},
   "outputs": [
    {
     "name": "stdout",
     "output_type": "stream",
     "text": [
      "(0, 9, 8, 7, 6, 5, 4, 3, 2, 1)\n"
     ]
    }
   ],
   "source": [
    "#44. Reverse the elements of a tuple.\n",
    "tuple1=(1,2,3,4,5,6,7,8,9,0)\n",
    "tuple1=tuple1[::-1]\n",
    "print(tuple1)"
   ]
  },
  {
   "cell_type": "code",
   "execution_count": 30,
   "id": "8a11c2dc",
   "metadata": {},
   "outputs": [
    {
     "name": "stdout",
     "output_type": "stream",
     "text": [
      "(1, 2, 4, 8, 16, 32)\n"
     ]
    }
   ],
   "source": [
    "#45. Create a tuple of the first `n` powers of 2.\n",
    "n=5\n",
    "tuple1=(2**n for n in range(n+1))\n",
    "print(tuple(tuple1))"
   ]
  },
  {
   "cell_type": "code",
   "execution_count": 35,
   "id": "317ff7c4",
   "metadata": {},
   "outputs": [
    {
     "name": "stdout",
     "output_type": "stream",
     "text": [
      "there\n"
     ]
    }
   ],
   "source": [
    "#46. Find the longest string in a tuple of strings.\n",
    "tuple1 = (\"hi\", \"how\", \"are\", \"you\", \"there\")\n",
    "length = []\n",
    "for i in tuple1:\n",
    "    length.append(len(i))\n",
    "mx = max(length)\n",
    "index = length.index(mx)\n",
    "print(tuple1[index])"
   ]
  },
  {
   "cell_type": "code",
   "execution_count": 36,
   "id": "7e167c3f",
   "metadata": {},
   "outputs": [
    {
     "name": "stdout",
     "output_type": "stream",
     "text": [
      "hi\n"
     ]
    }
   ],
   "source": [
    "#47. Find the shortest string in a tuple of strings.\n",
    "tuple1 = (\"hi\", \"how\", \"are\", \"you\", \"there\")\n",
    "length = []\n",
    "for i in tuple1:\n",
    "    length.append(len(i))\n",
    "mn = min(length)\n",
    "index = length.index(mn)\n",
    "print(tuple1[index])\n"
   ]
  },
  {
   "cell_type": "code",
   "execution_count": 38,
   "id": "579ae44a",
   "metadata": {},
   "outputs": [
    {
     "name": "stdout",
     "output_type": "stream",
     "text": [
      "(1, 3, 6, 10, 15)\n"
     ]
    }
   ],
   "source": [
    "#48. Create a tuple of the first `n` triangular numbers.\n",
    "n=5\n",
    "tuple1=(i*(i+1)//2 for i in range(1, n + 1))\n",
    "print(tuple(tuple1))"
   ]
  },
  {
   "cell_type": "code",
   "execution_count": 57,
   "id": "7b395784",
   "metadata": {},
   "outputs": [
    {
     "name": "stdout",
     "output_type": "stream",
     "text": [
      "yes it contains subsequence\n"
     ]
    }
   ],
   "source": [
    "#49. Check if a tuple contains another tuple as a subsequence.\n",
    "tuple1 = (1, 2, 3, 4)\n",
    "tuple2 = (2, 3)\n",
    "sub = False\n",
    "for i in range(len(tuple1) - len(tuple2) + 1):\n",
    "    if tuple1[i:i+len(tuple2)] == tuple2:\n",
    "        sub = True\n",
    "        break\n",
    "if sub:\n",
    "    print(\"yes it contains subsequence\")\n",
    "else:\n",
    "    print(\"no it dont contains subsequence\")"
   ]
  },
  {
   "cell_type": "code",
   "execution_count": 52,
   "id": "b7618f21",
   "metadata": {},
   "outputs": [
    {
     "name": "stdout",
     "output_type": "stream",
     "text": [
      "(1, 0, 1, 0, 1, 0, 1, 0, 1, 0)\n"
     ]
    }
   ],
   "source": [
    "#50. Create a tuple of alternating 1s and 0s of length `n`.\n",
    "n=10\n",
    "list1=[]\n",
    "index= 0\n",
    "for i in range(n):\n",
    "    index=i%2\n",
    "    if index==0:\n",
    "        list1.append(1)\n",
    "    else:\n",
    "        list1.append(0)\n",
    "print(tuple(list1))"
   ]
  }
 ],
 "metadata": {
  "kernelspec": {
   "display_name": "Python 3 (ipykernel)",
   "language": "python",
   "name": "python3"
  },
  "language_info": {
   "codemirror_mode": {
    "name": "ipython",
    "version": 3
   },
   "file_extension": ".py",
   "mimetype": "text/x-python",
   "name": "python",
   "nbconvert_exporter": "python",
   "pygments_lexer": "ipython3",
   "version": "3.11.7"
  }
 },
 "nbformat": 4,
 "nbformat_minor": 5
}
