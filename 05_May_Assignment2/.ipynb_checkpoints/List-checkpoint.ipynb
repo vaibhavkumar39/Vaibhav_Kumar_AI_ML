{
 "cells": [
  {
   "cell_type": "code",
   "execution_count": 4,
   "id": "8067c283",
   "metadata": {},
   "outputs": [
    {
     "name": "stdout",
     "output_type": "stream",
     "text": [
      "[1, 2, 3, 4, 5, 6, 7, 8, 9, 10]\n"
     ]
    }
   ],
   "source": [
    "#1. Create a list with integers from 1 to 10.\n",
    "lists=[i for i in range(1,11)]\n",
    "print(lists)"
   ]
  },
  {
   "cell_type": "code",
   "execution_count": 7,
   "id": "145ba19e",
   "metadata": {},
   "outputs": [
    {
     "name": "stdout",
     "output_type": "stream",
     "text": [
      "Enter items in list (separated by commas): ss,s,s,s,s\n",
      "5\n"
     ]
    }
   ],
   "source": [
    "#2. Find the length of a list without using the `len()` function.\n",
    "lists = input(\"Enter items in list (separated by commas): \").split(\",\")\n",
    "length=0\n",
    "for i in lists:\n",
    "    length+=1\n",
    "print(length)"
   ]
  },
  {
   "cell_type": "code",
   "execution_count": 9,
   "id": "fa0ca5b5",
   "metadata": {},
   "outputs": [
    {
     "name": "stdout",
     "output_type": "stream",
     "text": [
      "Enter items in list (separated by commas): 1,2,3,4\n",
      "Insert items to list(separated by commas): 5,6\n",
      "['1', '2', '3', '4', '5', '6']\n"
     ]
    }
   ],
   "source": [
    "#3. Append an element to the end of a list.\n",
    "list1=input(\"Enter items in list (separated by commas): \").split(\",\")\n",
    "list2=input(\"Insert items to list(separated by commas): \").split(\",\")\n",
    "list1=list1+list2\n",
    "print(list1)"
   ]
  },
  {
   "cell_type": "code",
   "execution_count": 3,
   "id": "64799d94",
   "metadata": {},
   "outputs": [
    {
     "name": "stdout",
     "output_type": "stream",
     "text": [
      "Enter items in list (separated by commas): 1,2,4,5\n",
      "Enter index where you want to insert: 2\n",
      "Enter element what you want to insert: 3\n",
      "['1', '2', '3', '4', '5']\n"
     ]
    }
   ],
   "source": [
    "#4. Insert an element at a specific index in a list.\n",
    "lists = input(\"Enter items in list (separated by commas): \").split(\",\")\n",
    "index=int(input(\"Enter index where you want to insert: \"))\n",
    "element=input(\"Enter element what you want to insert: \")\n",
    "part1=lists[:index]\n",
    "part2=lists[index:]\n",
    "part1=part1+[element]\n",
    "lists=part1+part2\n",
    "print(lists)"
   ]
  },
  {
   "cell_type": "code",
   "execution_count": 11,
   "id": "3b2d7ad5",
   "metadata": {},
   "outputs": [
    {
     "name": "stdout",
     "output_type": "stream",
     "text": [
      "Enter items in list (separated by commas): 1,2,3,4,5\n",
      "Enter element you want to remove: 3\n",
      "['1', '2', '4', '5']\n"
     ]
    }
   ],
   "source": [
    "#5. Remove an element from a list by its value.\n",
    "lists = input(\"Enter items in list (separated by commas): \").split(\",\")\n",
    "element=input(\"Enter element you want to remove: \")\n",
    "index=lists.index(element)\n",
    "lists.pop(index)\n",
    "print(lists)"
   ]
  },
  {
   "cell_type": "code",
   "execution_count": 13,
   "id": "e04bf773",
   "metadata": {},
   "outputs": [
    {
     "name": "stdout",
     "output_type": "stream",
     "text": [
      "Enter items in list (separated by commas): 1,2,3,4,5,6\n",
      "Enter element you want to remove: 3\n",
      "['1', '2', '3', '5', '6']\n"
     ]
    }
   ],
   "source": [
    "#6. Remove an element from a list by its index.\n",
    "lists = input(\"Enter items in list (separated by commas): \").split(\",\")\n",
    "index=int(input(\"Enter element you want to remove: \"))\n",
    "lists.pop(index)\n",
    "print(lists)"
   ]
  },
  {
   "cell_type": "code",
   "execution_count": 16,
   "id": "701adc42",
   "metadata": {},
   "outputs": [
    {
     "name": "stdout",
     "output_type": "stream",
     "text": [
      "Enter items in list (separated by commas): w,e,r,T\n",
      "Enter element you want to check: t\n",
      "['w', 'e', 'r', 't']\n",
      "t\n",
      "Available\n"
     ]
    }
   ],
   "source": [
    "#7. Check if an element exists in a list.\n",
    "lists = input(\"Enter items in list (separated by commas): \").split(\",\")\n",
    "lists=[x.lower() for x in lists]\n",
    "element=input(\"Enter element you want to check: \")\n",
    "element=element.lower()\n",
    "print(lists)\n",
    "print(element)\n",
    "\n",
    "if element in lists:\n",
    "    print(\"Available\")\n",
    "else:\n",
    "    print(\"Not available\")"
   ]
  },
  {
   "cell_type": "code",
   "execution_count": 17,
   "id": "6170e2de",
   "metadata": {},
   "outputs": [
    {
     "name": "stdout",
     "output_type": "stream",
     "text": [
      "Enter items in list (separated by commas): 1,2,3,4\n",
      "Enter element you want to check: 3\n",
      "2\n"
     ]
    }
   ],
   "source": [
    "#8. Find the index of the first occurrence of an element in a list.\n",
    "lists = input(\"Enter items in list (separated by commas): \").split(\",\")\n",
    "element=input(\"Enter element you want to check: \")\n",
    "index=lists.index(element)\n",
    "print(f\"Index of first occurence of element you want to find: {index}\")"
   ]
  },
  {
   "cell_type": "code",
   "execution_count": 26,
   "id": "5f7c3fa3",
   "metadata": {},
   "outputs": [
    {
     "name": "stdout",
     "output_type": "stream",
     "text": [
      "Enter items in list (separated by commas): e,e,e,r,r,r\n",
      "Enter element you want to check: r\n",
      "Number of occurence of element you want to find: 3\n"
     ]
    }
   ],
   "source": [
    "#9. Count the occurrences of an element in a list.\n",
    "lists = input(\"Enter items in list (separated by commas): \").split(\",\")\n",
    "lists=[x.lower() for x in lists]\n",
    "element=input(\"Enter element you want to check: \")\n",
    "element=element.lower()\n",
    "count=lists.count(element)\n",
    "print(f\"Number of occurence of element you want to find: {count}\")"
   ]
  },
  {
   "cell_type": "code",
   "execution_count": 28,
   "id": "3ea82931",
   "metadata": {},
   "outputs": [
    {
     "name": "stdout",
     "output_type": "stream",
     "text": [
      "Enter items in list (separated by commas): 1,2,3,4\n",
      "Your reversed string is: ['4', '3', '2', '1']\n"
     ]
    }
   ],
   "source": [
    "#10. Reverse the order of elements in a list.\n",
    "lists = input(\"Enter items in list (separated by commas): \").split(\",\")\n",
    "lists=lists[::-1]\n",
    "print(f\"Your reversed string is: {lists}\")"
   ]
  },
  {
   "cell_type": "code",
   "execution_count": 33,
   "id": "7a136c6f",
   "metadata": {},
   "outputs": [
    {
     "name": "stdout",
     "output_type": "stream",
     "text": [
      "Enter items in list (separated by commas): 2,3,1,4\n",
      "['1', '2', '3', '4']\n"
     ]
    }
   ],
   "source": [
    "#11. Sort a list in ascending order.\n",
    "lists = input(\"Enter items in list (separated by commas): \").split(\",\")\n",
    "lists.sort()\n",
    "print(f\"List in ascending order: {lists})"
   ]
  },
  {
   "cell_type": "code",
   "execution_count": 34,
   "id": "f192b921",
   "metadata": {},
   "outputs": [
    {
     "name": "stdout",
     "output_type": "stream",
     "text": [
      "Enter items in list (separated by commas): 3,45,1\n",
      "['45', '3', '1']\n"
     ]
    }
   ],
   "source": [
    "#12. Sort a list in descending order.\n",
    "lists = input(\"Enter items in list (separated by commas): \").split(\",\")\n",
    "lists.sort(reverse=True)\n",
    "print(f\"List in descending order: {lists})"
   ]
  },
  {
   "cell_type": "code",
   "execution_count": 36,
   "id": "e27582f7",
   "metadata": {},
   "outputs": [
    {
     "name": "stdout",
     "output_type": "stream",
     "text": [
      "[2, 4, 6, 8, 10, 12, 14, 16, 18, 20]\n"
     ]
    }
   ],
   "source": [
    "#13. Create a list of even numbers from 1 to 20.\n",
    "lists=[x for x in range(1, 21) if x % 2 == 0]\n",
    "print(lists)"
   ]
  },
  {
   "cell_type": "code",
   "execution_count": 38,
   "id": "971b195a",
   "metadata": {},
   "outputs": [
    {
     "name": "stdout",
     "output_type": "stream",
     "text": [
      "[1, 3, 5, 7, 9, 11, 13, 15, 17, 19]\n"
     ]
    }
   ],
   "source": [
    "#14. Create a list of odd numbers from 1 to 20.\n",
    "lists=[x for x in range(1, 21) if x % 2 != 0]\n",
    "print(lists)"
   ]
  },
  {
   "cell_type": "code",
   "execution_count": 45,
   "id": "0d3d700d",
   "metadata": {},
   "outputs": [
    {
     "name": "stdout",
     "output_type": "stream",
     "text": [
      "Enter items in list (separated by commas): 1,2,4\n",
      "7\n"
     ]
    }
   ],
   "source": [
    "#15. Find the sum of all elements in a list.\n",
    "lists = input(\"Enter items in list (separated by commas): \").split(\",\")\n",
    "lists=[int(x) for x in lists]\n",
    "lists=sum(lists)\n",
    "print(lists)"
   ]
  },
  {
   "cell_type": "code",
   "execution_count": 1,
   "id": "c7ebba5b",
   "metadata": {},
   "outputs": [
    {
     "name": "stdout",
     "output_type": "stream",
     "text": [
      "Enter items in list (separated by commas): 3,4,2,5,6,6,6,44\n",
      "44\n"
     ]
    }
   ],
   "source": [
    "#16. Find the maximum value in a list.\n",
    "lists = input(\"Enter items in list (separated by commas): \").split(\",\")\n",
    "lists=[int(x) for x in lists]\n",
    "lists=max(lists)\n",
    "print(lists)"
   ]
  },
  {
   "cell_type": "code",
   "execution_count": 2,
   "id": "59db0515",
   "metadata": {},
   "outputs": [
    {
     "name": "stdout",
     "output_type": "stream",
     "text": [
      "Enter items in list (separated by commas): 4,5,6,3,7,8,1\n",
      "1\n"
     ]
    }
   ],
   "source": [
    "#17. Find the minimum value in a list.\n",
    "lists = input(\"Enter items in list (separated by commas): \").split(\",\")\n",
    "lists=[int(x) for x in lists]\n",
    "lists=min(lists)\n",
    "print(lists)"
   ]
  },
  {
   "cell_type": "code",
   "execution_count": 3,
   "id": "38b5250f",
   "metadata": {},
   "outputs": [
    {
     "name": "stdout",
     "output_type": "stream",
     "text": [
      "[1, 4, 9, 16, 25, 36, 49, 64, 81, 100]\n"
     ]
    }
   ],
   "source": [
    "#18. Create a list of squares of numbers from 1 to 10.\n",
    "lists=[x**2 for x in range(1,11)]\n",
    "print(lists)"
   ]
  },
  {
   "cell_type": "code",
   "execution_count": 19,
   "id": "4f787c1d",
   "metadata": {},
   "outputs": [
    {
     "name": "stdout",
     "output_type": "stream",
     "text": [
      "[73, 26, 100, 50, 55]\n"
     ]
    }
   ],
   "source": [
    "#19. Create a list of random numbers.\n",
    "import random\n",
    "lists=[random.randint(1, 100)  for x in range(5)]\n",
    "print(lists)"
   ]
  },
  {
   "cell_type": "code",
   "execution_count": 23,
   "id": "ce0c73fc",
   "metadata": {},
   "outputs": [
    {
     "name": "stdout",
     "output_type": "stream",
     "text": [
      "[2, 3, 4, 5, 1]\n"
     ]
    }
   ],
   "source": [
    "#20. Remove duplicates from a list.\n",
    "lists=[2,3,4,5,1,4,4,3]\n",
    "new=[]\n",
    "for i in lists:\n",
    "    if i not in new:\n",
    "        new.append(i)\n",
    "print(new)"
   ]
  },
  {
   "cell_type": "code",
   "execution_count": 24,
   "id": "829f30ec",
   "metadata": {},
   "outputs": [
    {
     "name": "stdout",
     "output_type": "stream",
     "text": [
      "[4, 5]\n"
     ]
    }
   ],
   "source": [
    "#21. Find the common elements between two lists.\n",
    "list1=[1,2,3,4,5]\n",
    "list2=[4,5,6,7,8]\n",
    "new=[]\n",
    "for i in list1:\n",
    "    if i in list2:\n",
    "        new.append(i)\n",
    "print(new)"
   ]
  },
  {
   "cell_type": "code",
   "execution_count": 36,
   "id": "85ef4f95",
   "metadata": {},
   "outputs": [
    {
     "name": "stdout",
     "output_type": "stream",
     "text": [
      "[1, 2, 3, 6, 7, 8]\n"
     ]
    }
   ],
   "source": [
    "#22. Find the difference between two lists.\n",
    "list1=[1,2,3,4,5]\n",
    "list2=[4,5,6,7,8]\n",
    "new=[]\n",
    "for i in list1:\n",
    "    if i not in list2:\n",
    "        new.append(i)\n",
    "for i in list2:\n",
    "    if i not in list1:\n",
    "        new.append(i)\n",
    "print(new)"
   ]
  },
  {
   "cell_type": "code",
   "execution_count": 39,
   "id": "94e1c6db",
   "metadata": {},
   "outputs": [
    {
     "name": "stdout",
     "output_type": "stream",
     "text": [
      "[1, 2, 3, 4, 5, 4, 5, 6, 7, 8]\n"
     ]
    }
   ],
   "source": [
    "#23. Merge two lists.\n",
    "list1=[1,2,3,4,5]\n",
    "list2=[4,5,6,7,8]\n",
    "new=list1+list2\n",
    "print(new)"
   ]
  },
  {
   "cell_type": "code",
   "execution_count": 44,
   "id": "4ab56d42",
   "metadata": {},
   "outputs": [
    {
     "name": "stdout",
     "output_type": "stream",
     "text": [
      "[2, 4, 6, 8, 10, 12, 14, 16]\n"
     ]
    }
   ],
   "source": [
    "#24. Multiply all elements in a list by 2.\n",
    "list1=[1,2,3,4,5,6,7,8]\n",
    "new=[x*2 for x in list1]\n",
    "print(new)"
   ]
  },
  {
   "cell_type": "code",
   "execution_count": 45,
   "id": "c9e05833",
   "metadata": {},
   "outputs": [
    {
     "name": "stdout",
     "output_type": "stream",
     "text": [
      "[2, 4, 6, 8]\n"
     ]
    }
   ],
   "source": [
    "#25. Filter out all even numbers from a list.\n",
    "list1=[1,2,3,4,5,6,7,8]\n",
    "new=[x for x in list1 if x%2==0]\n",
    "print(new)"
   ]
  },
  {
   "cell_type": "code",
   "execution_count": 1,
   "id": "31b4d4bd",
   "metadata": {},
   "outputs": [
    {
     "name": "stdout",
     "output_type": "stream",
     "text": [
      "[1, 2, 3, 4, 5, 6, 7, 8]\n"
     ]
    }
   ],
   "source": [
    "#26. Convert a list of strings to a list of integers.\n",
    "list1=[\"1\",\"2\",\"3\",\"4\",\"5\",\"6\",\"7\",\"8\"]\n",
    "list1=[int(x) for x in list1]\n",
    "print(list1)"
   ]
  },
  {
   "cell_type": "code",
   "execution_count": 2,
   "id": "6ab82eca",
   "metadata": {},
   "outputs": [
    {
     "name": "stdout",
     "output_type": "stream",
     "text": [
      "['1', '2', '3', '4', '5', '6', '7', '8']\n"
     ]
    }
   ],
   "source": [
    "#27. Convert a list of integers to a list of strings.\n",
    "list1=[1,2,3,4,5,6,7,8]\n",
    "list1=[str(x) for x in list1]\n",
    "print(list1)"
   ]
  },
  {
   "cell_type": "code",
   "execution_count": 6,
   "id": "ab898adb",
   "metadata": {},
   "outputs": [
    {
     "name": "stdout",
     "output_type": "stream",
     "text": [
      "[1, 2, 3, 4, 5, 6, 7, 8]\n"
     ]
    }
   ],
   "source": [
    "#28. Flatten a nested list.\n",
    "list1=[[1, 2, 3], [4, 5], [6, 7, 8]]\n",
    "new=[]\n",
    "for i in list1:\n",
    "    for j in i:\n",
    "        new.append(j)\n",
    "print(new)"
   ]
  },
  {
   "cell_type": "code",
   "execution_count": 15,
   "id": "a26237c5",
   "metadata": {},
   "outputs": [
    {
     "name": "stdout",
     "output_type": "stream",
     "text": [
      "[1, 2, 3, 5, 8, 13, 21, 34, 55, 89]\n"
     ]
    }
   ],
   "source": [
    "#29. Create a list of the first 10 Fibonacci numbers.\n",
    "x = 1\n",
    "y = 2\n",
    "fib = [x, y]\n",
    "for i in range(8): \n",
    "    z = x + y\n",
    "    fib.append(z)\n",
    "    x = y\n",
    "    y = z\n",
    "print(fib)"
   ]
  },
  {
   "cell_type": "code",
   "execution_count": 25,
   "id": "c43f5b09",
   "metadata": {},
   "outputs": [
    {
     "name": "stdout",
     "output_type": "stream",
     "text": [
      "Not sorted.\n"
     ]
    }
   ],
   "source": [
    "#30. Check if a list is sorted.\n",
    "list1 = [1,4,2,5,6,6,2]\n",
    "if list1 == sorted(list1):\n",
    "    print(\"Sorted.\")\n",
    "else:\n",
    "    print(\"Not sorted.\")"
   ]
  },
  {
   "cell_type": "code",
   "execution_count": 3,
   "id": "bc28be50",
   "metadata": {},
   "outputs": [
    {
     "name": "stdout",
     "output_type": "stream",
     "text": [
      "[3, 4, 5, 6, 1, 2]\n"
     ]
    }
   ],
   "source": [
    "#31. Rotate a list to the left by `n` positions.\n",
    "list1 = [1, 2, 3, 4, 5, 6]\n",
    "list2 = list1[2:] + list1[:2]\n",
    "print(list2)"
   ]
  },
  {
   "cell_type": "code",
   "execution_count": 4,
   "id": "5eb85f24",
   "metadata": {},
   "outputs": [
    {
     "name": "stdout",
     "output_type": "stream",
     "text": [
      "[1, 2, 3, 4, 5, 6]\n"
     ]
    }
   ],
   "source": [
    "#32. Rotate a list to the right by `n` positions.\n",
    "list1 = [1, 2, 3, 4, 5, 6]\n",
    "list2 = list1[:2] + list1[2:]\n",
    "print(list2)"
   ]
  },
  {
   "cell_type": "code",
   "execution_count": 1,
   "id": "0983a6f9",
   "metadata": {},
   "outputs": [
    {
     "name": "stdout",
     "output_type": "stream",
     "text": [
      "[2, 3, 5, 7, 11, 13, 17, 19, 23, 29, 31, 37, 41, 43, 47]\n"
     ]
    }
   ],
   "source": [
    "#33. Create a list of prime numbers up to 50.\n",
    "list1 = []\n",
    "num = 2\n",
    "while num <= 50:\n",
    "    prime = True\n",
    "    for i in range(2, num):\n",
    "        if num % i == 0:\n",
    "            prime = False\n",
    "            break\n",
    "    if prime:\n",
    "        list1.append(num)\n",
    "    num += 1\n",
    "print(list1)"
   ]
  },
  {
   "cell_type": "code",
   "execution_count": null,
   "id": "7f2d305f",
   "metadata": {},
   "outputs": [],
   "source": [
    "#34. Split a list into chunks of size `n`.\n",
    "list1 = [1, 2, 3, 4, 5, 6, 7, 8, 9]\n",
    "n = 3\n",
    "list2 = [list1[i:i+n] for i in range(0, len(list1), n)]\n",
    "print(list2)"
   ]
  },
  {
   "cell_type": "code",
   "execution_count": 6,
   "id": "b8d80e91",
   "metadata": {},
   "outputs": [
    {
     "name": "stdout",
     "output_type": "stream",
     "text": [
      "[1, 2, 3, 4, 5, 6, 7, 8, 9]\n",
      "8\n"
     ]
    }
   ],
   "source": [
    "#35. Find the second largest number in a list.\n",
    "list1 = [1,2,3,4,5,6,7,8,9]\n",
    "set1=set(sorted(list1))\n",
    "list1=list(set1)\n",
    "print(list1)\n",
    "list2=list1[-2]\n",
    "print(list2)"
   ]
  },
  {
   "cell_type": "code",
   "execution_count": 16,
   "id": "b7a140a4",
   "metadata": {},
   "outputs": [
    {
     "name": "stdout",
     "output_type": "stream",
     "text": [
      "[1, 4, 9, 16, 25, 36, 49, 64]\n"
     ]
    }
   ],
   "source": [
    "#36. Replace every element in a list with its square.\n",
    "list1=[1,2,3,4,5,6,7,8]\n",
    "list2=[x**2 for x in list1]\n",
    "list1=list2\n",
    "print(list1)"
   ]
  },
  {
   "cell_type": "code",
   "execution_count": 23,
   "id": "c44fdb6c",
   "metadata": {},
   "outputs": [
    {
     "name": "stdout",
     "output_type": "stream",
     "text": [
      "{'a': 0, 'b': 1, 'c': 2, 'd': 3}\n"
     ]
    }
   ],
   "source": [
    "#37. Convert a list to a dictionary where list elements become keys and their indices become values.\n",
    "list1 = [\"a\", \"b\", \"c\", \"d\"]\n",
    "key = tuple(list1)\n",
    "val = [list1.index(x) for x in list1]\n",
    "dict1 = {} \n",
    "for i in range(len(key)):\n",
    "    dict1[key[i]] = val[i]\n",
    "print(dict1)"
   ]
  },
  {
   "cell_type": "code",
   "execution_count": 32,
   "id": "40f7b213",
   "metadata": {},
   "outputs": [
    {
     "name": "stdout",
     "output_type": "stream",
     "text": [
      "Shuffled list: [6, 3, 4, 2, 5, 7, 8]\n"
     ]
    }
   ],
   "source": [
    "#38. Shuffle the elements of a list randomly.\n",
    "import random\n",
    "list1 = [2, 3, 4, 5, 6, 7, 8]\n",
    "random.shuffle(list1)\n",
    "print(\"Shuffled list:\", list1)"
   ]
  },
  {
   "cell_type": "code",
   "execution_count": 35,
   "id": "54ea940c",
   "metadata": {},
   "outputs": [
    {
     "name": "stdout",
     "output_type": "stream",
     "text": [
      "[1, 2, 6, 24, 120, 720, 5040, 40320, 362880, 3628800]\n"
     ]
    }
   ],
   "source": [
    "#39. Create a list of the first 10 factorial numbers.\n",
    "list1=[]\n",
    "fact=1\n",
    "for i in range(1,11):\n",
    "    fact=fact*i\n",
    "    list1.append(fact)\n",
    "print(list1)"
   ]
  },
  {
   "cell_type": "code",
   "execution_count": 46,
   "id": "d83dfcfe",
   "metadata": {},
   "outputs": [
    {
     "name": "stdout",
     "output_type": "stream",
     "text": [
      "Yes has common\n"
     ]
    }
   ],
   "source": [
    "#40. Check if two lists have at least one element in common.\n",
    "list1=[1,2,3,4,5]\n",
    "list2=[4,6,7,8]\n",
    "list3=[x for x in list1 if x in list2]\n",
    "if list3:\n",
    "    print(\"Yes has common\")\n",
    "else:\n",
    "    print(\"Nothing has common\")"
   ]
  },
  {
   "cell_type": "code",
   "execution_count": 53,
   "id": "e4d06ca8",
   "metadata": {},
   "outputs": [
    {
     "name": "stdout",
     "output_type": "stream",
     "text": [
      "[]\n"
     ]
    }
   ],
   "source": [
    "#41. Remove all elements from a list.\n",
    "list1=[1,2,3,4,5]\n",
    "list1.clear()\n",
    "print(list1)"
   ]
  },
  {
   "cell_type": "code",
   "execution_count": 55,
   "id": "89f48a54",
   "metadata": {},
   "outputs": [
    {
     "name": "stdout",
     "output_type": "stream",
     "text": [
      "[0, 0, 3, 4, 5]\n"
     ]
    }
   ],
   "source": [
    "#42. Replace negative numbers in a list with 0.\n",
    "list1=[-1,-2,3,4,5]\n",
    "list1=[0 if x<0 else x for x in list1]\n",
    "print(list1)"
   ]
  },
  {
   "cell_type": "code",
   "execution_count": 56,
   "id": "98cbfe8d",
   "metadata": {},
   "outputs": [
    {
     "name": "stdout",
     "output_type": "stream",
     "text": [
      "['hi', 'how', 'are', 'you']\n"
     ]
    }
   ],
   "source": [
    "#43. Convert a string into a list of words.\n",
    "string=\"hi how are you\"\n",
    "list1=[x for x in string.split(\" \")]\n",
    "print(list1)"
   ]
  },
  {
   "cell_type": "code",
   "execution_count": 57,
   "id": "1a503b9a",
   "metadata": {},
   "outputs": [
    {
     "name": "stdout",
     "output_type": "stream",
     "text": [
      "hi how are you\n"
     ]
    }
   ],
   "source": [
    "#44. Convert a list of words into a string.\n",
    "list1=['hi', 'how', 'are', 'you']\n",
    "string=\" \".join(list1)\n",
    "print(string)"
   ]
  },
  {
   "cell_type": "code",
   "execution_count": 58,
   "id": "5bbfd4f4",
   "metadata": {},
   "outputs": [
    {
     "name": "stdout",
     "output_type": "stream",
     "text": [
      "[1, 2, 4, 8, 16]\n"
     ]
    }
   ],
   "source": [
    "#45. Create a list of the first `n` powers of 2.\n",
    "n=5\n",
    "list1=[2**x for x in range(n)]\n",
    "print(list1)"
   ]
  },
  {
   "cell_type": "code",
   "execution_count": 59,
   "id": "f434e704",
   "metadata": {},
   "outputs": [
    {
     "name": "stdout",
     "output_type": "stream",
     "text": [
      "there\n"
     ]
    }
   ],
   "source": [
    "#46. Find the longest string in a list of strings.\n",
    "string = \"hi how are you there\"\n",
    "list1 = [x for x in string.split(\" \")]\n",
    "length = [len(x) for x in list1]\n",
    "max_length = max(length)\n",
    "index = length.index(max_length)\n",
    "print(list1[index])"
   ]
  },
  {
   "cell_type": "code",
   "execution_count": 60,
   "id": "574dc54a",
   "metadata": {},
   "outputs": [
    {
     "name": "stdout",
     "output_type": "stream",
     "text": [
      "hi\n"
     ]
    }
   ],
   "source": [
    "#47. Find the shortest string in a list of strings.\n",
    "string = \"hi how are you there\"\n",
    "list1 = [x for x in string.split(\" \")]\n",
    "length = [len(x) for x in list1]\n",
    "min_length = min(length)\n",
    "index = length.index(min_length)\n",
    "print(list1[index])"
   ]
  },
  {
   "cell_type": "code",
   "execution_count": 62,
   "id": "3ef5b5a0",
   "metadata": {},
   "outputs": [
    {
     "name": "stdout",
     "output_type": "stream",
     "text": [
      "[0, 1, 8, 27, 64, 125, 216, 343, 512, 729, 1000]\n"
     ]
    }
   ],
   "source": [
    "#48. Create a list of the first `n` triangular numbers.\n",
    "n=11\n",
    "list1=[x for x in range(n)]\n",
    "list2=[x**3 for x in list1]\n",
    "list1=list2\n",
    "print(list1)"
   ]
  },
  {
   "cell_type": "code",
   "execution_count": 63,
   "id": "aa6aa28b",
   "metadata": {},
   "outputs": [
    {
     "name": "stdout",
     "output_type": "stream",
     "text": [
      "Yes list1 contain list2 as subsequence\n"
     ]
    }
   ],
   "source": [
    "#49. Check if a list contains another list as a subsequence.\n",
    "list1=[1,2,3,4,5]\n",
    "list2=[1,2]\n",
    "\n",
    "subs=False\n",
    "for i in list2:\n",
    "    if i in list1:\n",
    "        subs=True\n",
    "if subs:\n",
    "    print(\"Yes list1 contain list2 as subsequence\")\n",
    "else:\n",
    "    print(\"No list1 has no subsequence\")"
   ]
  },
  {
   "cell_type": "code",
   "execution_count": 64,
   "id": "9a64564a",
   "metadata": {},
   "outputs": [
    {
     "name": "stdout",
     "output_type": "stream",
     "text": [
      "[1, 5, 3, 4, 2, 6, 7, 8, 9]\n"
     ]
    }
   ],
   "source": [
    "#50. Swap two elements in a list by their indices.\n",
    "list1=[1,2,3,4,5,6,7,8,9]\n",
    "list1[1],list1[4]=list1[4],list1[1]\n",
    "print(list1)"
   ]
  }
 ],
 "metadata": {
  "kernelspec": {
   "display_name": "Python 3 (ipykernel)",
   "language": "python",
   "name": "python3"
  },
  "language_info": {
   "codemirror_mode": {
    "name": "ipython",
    "version": 3
   },
   "file_extension": ".py",
   "mimetype": "text/x-python",
   "name": "python",
   "nbconvert_exporter": "python",
   "pygments_lexer": "ipython3",
   "version": "3.11.7"
  }
 },
 "nbformat": 4,
 "nbformat_minor": 5
}
