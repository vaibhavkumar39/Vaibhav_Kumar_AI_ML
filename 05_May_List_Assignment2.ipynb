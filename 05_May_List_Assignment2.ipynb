{
 "cells": [
  {
   "cell_type": "code",
   "execution_count": 4,
   "id": "f9b95f51",
   "metadata": {},
   "outputs": [
    {
     "name": "stdout",
     "output_type": "stream",
     "text": [
      "[1, 2, 3, 4, 5, 6, 7, 8, 9, 10]\n"
     ]
    }
   ],
   "source": [
    "#1. Create a list with integers from 1 to 10.\n",
    "lists=[i for i in range(1,11)]\n",
    "print(lists)"
   ]
  },
  {
   "cell_type": "code",
   "execution_count": 7,
   "id": "cdfa2692",
   "metadata": {},
   "outputs": [
    {
     "name": "stdout",
     "output_type": "stream",
     "text": [
      "Enter items in list (separated by commas): ss,s,s,s,s\n",
      "5\n"
     ]
    }
   ],
   "source": [
    "#2. Find the length of a list without using the `len()` function.\n",
    "lists = input(\"Enter items in list (separated by commas): \").split(\",\")\n",
    "length=0\n",
    "for i in lists:\n",
    "    length+=1\n",
    "print(length)"
   ]
  },
  {
   "cell_type": "code",
   "execution_count": 9,
   "id": "7f619fbf",
   "metadata": {},
   "outputs": [
    {
     "name": "stdout",
     "output_type": "stream",
     "text": [
      "Enter items in list (separated by commas): 1,2,3,4\n",
      "Insert items to list(separated by commas): 5,6\n",
      "['1', '2', '3', '4', '5', '6']\n"
     ]
    }
   ],
   "source": [
    "#3. Append an element to the end of a list.\n",
    "list1=input(\"Enter items in list (separated by commas): \").split(\",\")\n",
    "list2=input(\"Insert items to list(separated by commas): \").split(\",\")\n",
    "list1=list1+list2\n",
    "print(list1)"
   ]
  },
  {
   "cell_type": "code",
   "execution_count": 3,
   "id": "53d80847",
   "metadata": {},
   "outputs": [
    {
     "name": "stdout",
     "output_type": "stream",
     "text": [
      "Enter items in list (separated by commas): 1,2,4,5\n",
      "Enter index where you want to insert: 2\n",
      "Enter element what you want to insert: 3\n",
      "['1', '2', '3', '4', '5']\n"
     ]
    }
   ],
   "source": [
    "#4. Insert an element at a specific index in a list.\n",
    "lists = input(\"Enter items in list (separated by commas): \").split(\",\")\n",
    "index=int(input(\"Enter index where you want to insert: \"))\n",
    "element=input(\"Enter element what you want to insert: \")\n",
    "part1=lists[:index]\n",
    "part2=lists[index:]\n",
    "part1=part1+[element]\n",
    "lists=part1+part2\n",
    "print(lists)"
   ]
  },
  {
   "cell_type": "code",
   "execution_count": 11,
   "id": "0dd4c182",
   "metadata": {},
   "outputs": [
    {
     "name": "stdout",
     "output_type": "stream",
     "text": [
      "Enter items in list (separated by commas): 1,2,3,4,5\n",
      "Enter element you want to remove: 3\n",
      "['1', '2', '4', '5']\n"
     ]
    }
   ],
   "source": [
    "#5. Remove an element from a list by its value.\n",
    "lists = input(\"Enter items in list (separated by commas): \").split(\",\")\n",
    "element=input(\"Enter element you want to remove: \")\n",
    "index=lists.index(element)\n",
    "lists.pop(index)\n",
    "print(lists)"
   ]
  },
  {
   "cell_type": "code",
   "execution_count": 13,
   "id": "586086af",
   "metadata": {},
   "outputs": [
    {
     "name": "stdout",
     "output_type": "stream",
     "text": [
      "Enter items in list (separated by commas): 1,2,3,4,5,6\n",
      "Enter element you want to remove: 3\n",
      "['1', '2', '3', '5', '6']\n"
     ]
    }
   ],
   "source": [
    "#6. Remove an element from a list by its index.\n",
    "lists = input(\"Enter items in list (separated by commas): \").split(\",\")\n",
    "index=int(input(\"Enter element you want to remove: \"))\n",
    "lists.pop(index)\n",
    "print(lists)"
   ]
  },
  {
   "cell_type": "code",
   "execution_count": 16,
   "id": "5360cd0a",
   "metadata": {},
   "outputs": [
    {
     "name": "stdout",
     "output_type": "stream",
     "text": [
      "Enter items in list (separated by commas): w,e,r,T\n",
      "Enter element you want to check: t\n",
      "['w', 'e', 'r', 't']\n",
      "t\n",
      "Available\n"
     ]
    }
   ],
   "source": [
    "#7. Check if an element exists in a list.\n",
    "lists = input(\"Enter items in list (separated by commas): \").split(\",\")\n",
    "lists=[x.lower() for x in lists]\n",
    "element=input(\"Enter element you want to check: \")\n",
    "element=element.lower()\n",
    "print(lists)\n",
    "print(element)\n",
    "\n",
    "if element in lists:\n",
    "    print(\"Available\")\n",
    "else:\n",
    "    print(\"Not available\")"
   ]
  },
  {
   "cell_type": "code",
   "execution_count": 17,
   "id": "82565fa0",
   "metadata": {},
   "outputs": [
    {
     "name": "stdout",
     "output_type": "stream",
     "text": [
      "Enter items in list (separated by commas): 1,2,3,4\n",
      "Enter element you want to check: 3\n",
      "2\n"
     ]
    }
   ],
   "source": [
    "#8. Find the index of the first occurrence of an element in a list.\n",
    "lists = input(\"Enter items in list (separated by commas): \").split(\",\")\n",
    "element=input(\"Enter element you want to check: \")\n",
    "index=lists.index(element)\n",
    "print(f\"Index of first occurence of element you want to find: {index}\")"
   ]
  },
  {
   "cell_type": "code",
   "execution_count": 26,
   "id": "607e77e4",
   "metadata": {},
   "outputs": [
    {
     "name": "stdout",
     "output_type": "stream",
     "text": [
      "Enter items in list (separated by commas): e,e,e,r,r,r\n",
      "Enter element you want to check: r\n",
      "Number of occurence of element you want to find: 3\n"
     ]
    }
   ],
   "source": [
    "#9. Count the occurrences of an element in a list.\n",
    "lists = input(\"Enter items in list (separated by commas): \").split(\",\")\n",
    "lists=[x.lower() for x in lists]\n",
    "element=input(\"Enter element you want to check: \")\n",
    "element=element.lower()\n",
    "count=lists.count(element)\n",
    "print(f\"Number of occurence of element you want to find: {count}\")"
   ]
  },
  {
   "cell_type": "code",
   "execution_count": 28,
   "id": "e91a87b5",
   "metadata": {},
   "outputs": [
    {
     "name": "stdout",
     "output_type": "stream",
     "text": [
      "Enter items in list (separated by commas): 1,2,3,4\n",
      "Your reversed string is: ['4', '3', '2', '1']\n"
     ]
    }
   ],
   "source": [
    "#10. Reverse the order of elements in a list.\n",
    "lists = input(\"Enter items in list (separated by commas): \").split(\",\")\n",
    "lists=lists[::-1]\n",
    "print(f\"Your reversed string is: {lists}\")"
   ]
  },
  {
   "cell_type": "code",
   "execution_count": 33,
   "id": "6ba98b28",
   "metadata": {},
   "outputs": [
    {
     "name": "stdout",
     "output_type": "stream",
     "text": [
      "Enter items in list (separated by commas): 2,3,1,4\n",
      "['1', '2', '3', '4']\n"
     ]
    }
   ],
   "source": [
    "#11. Sort a list in ascending order.\n",
    "lists = input(\"Enter items in list (separated by commas): \").split(\",\")\n",
    "lists.sort()\n",
    "print(f\"List in ascending order: {lists})"
   ]
  },
  {
   "cell_type": "code",
   "execution_count": 34,
   "id": "c651fbc2",
   "metadata": {},
   "outputs": [
    {
     "name": "stdout",
     "output_type": "stream",
     "text": [
      "Enter items in list (separated by commas): 3,45,1\n",
      "['45', '3', '1']\n"
     ]
    }
   ],
   "source": [
    "#12. Sort a list in descending order.\n",
    "lists = input(\"Enter items in list (separated by commas): \").split(\",\")\n",
    "lists.sort(reverse=True)\n",
    "print(f\"List in descending order: {lists})"
   ]
  }
 ],
 "metadata": {
  "kernelspec": {
   "display_name": "Python 3 (ipykernel)",
   "language": "python",
   "name": "python3"
  },
  "language_info": {
   "codemirror_mode": {
    "name": "ipython",
    "version": 3
   },
   "file_extension": ".py",
   "mimetype": "text/x-python",
   "name": "python",
   "nbconvert_exporter": "python",
   "pygments_lexer": "ipython3",
   "version": "3.11.7"
  }
 },
 "nbformat": 4,
 "nbformat_minor": 5
}
