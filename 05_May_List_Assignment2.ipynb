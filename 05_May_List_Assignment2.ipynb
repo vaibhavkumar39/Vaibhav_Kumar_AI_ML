{
 "cells": [
  {
   "cell_type": "code",
   "execution_count": 4,
   "id": "8067c283",
   "metadata": {},
   "outputs": [
    {
     "name": "stdout",
     "output_type": "stream",
     "text": [
      "[1, 2, 3, 4, 5, 6, 7, 8, 9, 10]\n"
     ]
    }
   ],
   "source": [
    "#1. Create a list with integers from 1 to 10.\n",
    "lists=[i for i in range(1,11)]\n",
    "print(lists)"
   ]
  },
  {
   "cell_type": "code",
   "execution_count": 7,
   "id": "145ba19e",
   "metadata": {},
   "outputs": [
    {
     "name": "stdout",
     "output_type": "stream",
     "text": [
      "Enter items in list (separated by commas): ss,s,s,s,s\n",
      "5\n"
     ]
    }
   ],
   "source": [
    "#2. Find the length of a list without using the `len()` function.\n",
    "lists = input(\"Enter items in list (separated by commas): \").split(\",\")\n",
    "length=0\n",
    "for i in lists:\n",
    "    length+=1\n",
    "print(length)"
   ]
  },
  {
   "cell_type": "code",
   "execution_count": 9,
   "id": "fa0ca5b5",
   "metadata": {},
   "outputs": [
    {
     "name": "stdout",
     "output_type": "stream",
     "text": [
      "Enter items in list (separated by commas): 1,2,3,4\n",
      "Insert items to list(separated by commas): 5,6\n",
      "['1', '2', '3', '4', '5', '6']\n"
     ]
    }
   ],
   "source": [
    "#3. Append an element to the end of a list.\n",
    "list1=input(\"Enter items in list (separated by commas): \").split(\",\")\n",
    "list2=input(\"Insert items to list(separated by commas): \").split(\",\")\n",
    "list1=list1+list2\n",
    "print(list1)"
   ]
  },
  {
   "cell_type": "code",
   "execution_count": 3,
   "id": "64799d94",
   "metadata": {},
   "outputs": [
    {
     "name": "stdout",
     "output_type": "stream",
     "text": [
      "Enter items in list (separated by commas): 1,2,4,5\n",
      "Enter index where you want to insert: 2\n",
      "Enter element what you want to insert: 3\n",
      "['1', '2', '3', '4', '5']\n"
     ]
    }
   ],
   "source": [
    "#4. Insert an element at a specific index in a list.\n",
    "lists = input(\"Enter items in list (separated by commas): \").split(\",\")\n",
    "index=int(input(\"Enter index where you want to insert: \"))\n",
    "element=input(\"Enter element what you want to insert: \")\n",
    "part1=lists[:index]\n",
    "part2=lists[index:]\n",
    "part1=part1+[element]\n",
    "lists=part1+part2\n",
    "print(lists)"
   ]
  },
  {
   "cell_type": "code",
   "execution_count": 11,
   "id": "3b2d7ad5",
   "metadata": {},
   "outputs": [
    {
     "name": "stdout",
     "output_type": "stream",
     "text": [
      "Enter items in list (separated by commas): 1,2,3,4,5\n",
      "Enter element you want to remove: 3\n",
      "['1', '2', '4', '5']\n"
     ]
    }
   ],
   "source": [
    "#5. Remove an element from a list by its value.\n",
    "lists = input(\"Enter items in list (separated by commas): \").split(\",\")\n",
    "element=input(\"Enter element you want to remove: \")\n",
    "index=lists.index(element)\n",
    "lists.pop(index)\n",
    "print(lists)"
   ]
  },
  {
   "cell_type": "code",
   "execution_count": 13,
   "id": "e04bf773",
   "metadata": {},
   "outputs": [
    {
     "name": "stdout",
     "output_type": "stream",
     "text": [
      "Enter items in list (separated by commas): 1,2,3,4,5,6\n",
      "Enter element you want to remove: 3\n",
      "['1', '2', '3', '5', '6']\n"
     ]
    }
   ],
   "source": [
    "#6. Remove an element from a list by its index.\n",
    "lists = input(\"Enter items in list (separated by commas): \").split(\",\")\n",
    "index=int(input(\"Enter element you want to remove: \"))\n",
    "lists.pop(index)\n",
    "print(lists)"
   ]
  },
  {
   "cell_type": "code",
   "execution_count": 16,
   "id": "701adc42",
   "metadata": {},
   "outputs": [
    {
     "name": "stdout",
     "output_type": "stream",
     "text": [
      "Enter items in list (separated by commas): w,e,r,T\n",
      "Enter element you want to check: t\n",
      "['w', 'e', 'r', 't']\n",
      "t\n",
      "Available\n"
     ]
    }
   ],
   "source": [
    "#7. Check if an element exists in a list.\n",
    "lists = input(\"Enter items in list (separated by commas): \").split(\",\")\n",
    "lists=[x.lower() for x in lists]\n",
    "element=input(\"Enter element you want to check: \")\n",
    "element=element.lower()\n",
    "print(lists)\n",
    "print(element)\n",
    "\n",
    "if element in lists:\n",
    "    print(\"Available\")\n",
    "else:\n",
    "    print(\"Not available\")"
   ]
  },
  {
   "cell_type": "code",
   "execution_count": 17,
   "id": "6170e2de",
   "metadata": {},
   "outputs": [
    {
     "name": "stdout",
     "output_type": "stream",
     "text": [
      "Enter items in list (separated by commas): 1,2,3,4\n",
      "Enter element you want to check: 3\n",
      "2\n"
     ]
    }
   ],
   "source": [
    "#8. Find the index of the first occurrence of an element in a list.\n",
    "lists = input(\"Enter items in list (separated by commas): \").split(\",\")\n",
    "element=input(\"Enter element you want to check: \")\n",
    "index=lists.index(element)\n",
    "print(f\"Index of first occurence of element you want to find: {index}\")"
   ]
  },
  {
   "cell_type": "code",
   "execution_count": 26,
   "id": "5f7c3fa3",
   "metadata": {},
   "outputs": [
    {
     "name": "stdout",
     "output_type": "stream",
     "text": [
      "Enter items in list (separated by commas): e,e,e,r,r,r\n",
      "Enter element you want to check: r\n",
      "Number of occurence of element you want to find: 3\n"
     ]
    }
   ],
   "source": [
    "#9. Count the occurrences of an element in a list.\n",
    "lists = input(\"Enter items in list (separated by commas): \").split(\",\")\n",
    "lists=[x.lower() for x in lists]\n",
    "element=input(\"Enter element you want to check: \")\n",
    "element=element.lower()\n",
    "count=lists.count(element)\n",
    "print(f\"Number of occurence of element you want to find: {count}\")"
   ]
  },
  {
   "cell_type": "code",
   "execution_count": 28,
   "id": "3ea82931",
   "metadata": {},
   "outputs": [
    {
     "name": "stdout",
     "output_type": "stream",
     "text": [
      "Enter items in list (separated by commas): 1,2,3,4\n",
      "Your reversed string is: ['4', '3', '2', '1']\n"
     ]
    }
   ],
   "source": [
    "#10. Reverse the order of elements in a list.\n",
    "lists = input(\"Enter items in list (separated by commas): \").split(\",\")\n",
    "lists=lists[::-1]\n",
    "print(f\"Your reversed string is: {lists}\")"
   ]
  },
  {
   "cell_type": "code",
   "execution_count": 33,
   "id": "7a136c6f",
   "metadata": {},
   "outputs": [
    {
     "name": "stdout",
     "output_type": "stream",
     "text": [
      "Enter items in list (separated by commas): 2,3,1,4\n",
      "['1', '2', '3', '4']\n"
     ]
    }
   ],
   "source": [
    "#11. Sort a list in ascending order.\n",
    "lists = input(\"Enter items in list (separated by commas): \").split(\",\")\n",
    "lists.sort()\n",
    "print(f\"List in ascending order: {lists})"
   ]
  },
  {
   "cell_type": "code",
   "execution_count": 34,
   "id": "f192b921",
   "metadata": {},
   "outputs": [
    {
     "name": "stdout",
     "output_type": "stream",
     "text": [
      "Enter items in list (separated by commas): 3,45,1\n",
      "['45', '3', '1']\n"
     ]
    }
   ],
   "source": [
    "#12. Sort a list in descending order.\n",
    "lists = input(\"Enter items in list (separated by commas): \").split(\",\")\n",
    "lists.sort(reverse=True)\n",
    "print(f\"List in descending order: {lists})"
   ]
  },
  {
   "cell_type": "code",
   "execution_count": 36,
   "id": "e27582f7",
   "metadata": {},
   "outputs": [
    {
     "name": "stdout",
     "output_type": "stream",
     "text": [
      "[2, 4, 6, 8, 10, 12, 14, 16, 18, 20]\n"
     ]
    }
   ],
   "source": [
    "#13. Create a list of even numbers from 1 to 20.\n",
    "lists=[x for x in range(1, 21) if x % 2 == 0]\n",
    "print(lists)"
   ]
  },
  {
   "cell_type": "code",
   "execution_count": 38,
   "id": "971b195a",
   "metadata": {},
   "outputs": [
    {
     "name": "stdout",
     "output_type": "stream",
     "text": [
      "[1, 3, 5, 7, 9, 11, 13, 15, 17, 19]\n"
     ]
    }
   ],
   "source": [
    "#14. Create a list of odd numbers from 1 to 20.\n",
    "lists=[x for x in range(1, 21) if x % 2 != 0]\n",
    "print(lists)"
   ]
  },
  {
   "cell_type": "code",
   "execution_count": 45,
   "id": "0d3d700d",
   "metadata": {},
   "outputs": [
    {
     "name": "stdout",
     "output_type": "stream",
     "text": [
      "Enter items in list (separated by commas): 1,2,4\n",
      "7\n"
     ]
    }
   ],
   "source": [
    "#15. Find the sum of all elements in a list.\n",
    "lists = input(\"Enter items in list (separated by commas): \").split(\",\")\n",
    "lists=[int(x) for x in lists]\n",
    "lists=sum(lists)\n",
    "print(lists)"
   ]
  },
  {
   "cell_type": "code",
   "execution_count": 1,
   "id": "bc3aace8",
   "metadata": {},
   "outputs": [
    {
     "name": "stdout",
     "output_type": "stream",
     "text": [
      "Enter items in list (separated by commas): 3,4,2,5,6,6,6,44\n",
      "44\n"
     ]
    }
   ],
   "source": [
    "#16. Find the maximum value in a list.\n",
    "lists = input(\"Enter items in list (separated by commas): \").split(\",\")\n",
    "lists=[int(x) for x in lists]\n",
    "lists=max(lists)\n",
    "print(lists)"
   ]
  },
  {
   "cell_type": "code",
   "execution_count": 2,
   "id": "e1bdc519",
   "metadata": {},
   "outputs": [
    {
     "name": "stdout",
     "output_type": "stream",
     "text": [
      "Enter items in list (separated by commas): 4,5,6,3,7,8,1\n",
      "1\n"
     ]
    }
   ],
   "source": [
    "#17. Find the minimum value in a list.\n",
    "lists = input(\"Enter items in list (separated by commas): \").split(\",\")\n",
    "lists=[int(x) for x in lists]\n",
    "lists=min(lists)\n",
    "print(lists)"
   ]
  },
  {
   "cell_type": "code",
   "execution_count": 3,
   "id": "5d5ccee7",
   "metadata": {},
   "outputs": [
    {
     "name": "stdout",
     "output_type": "stream",
     "text": [
      "[1, 4, 9, 16, 25, 36, 49, 64, 81, 100]\n"
     ]
    }
   ],
   "source": [
    "#18. Create a list of squares of numbers from 1 to 10.\n",
    "lists=[x**2 for x in range(1,11)]\n",
    "print(lists)"
   ]
  },
  {
   "cell_type": "code",
   "execution_count": 19,
   "id": "9f7b396b",
   "metadata": {},
   "outputs": [
    {
     "name": "stdout",
     "output_type": "stream",
     "text": [
      "[73, 26, 100, 50, 55]\n"
     ]
    }
   ],
   "source": [
    "#19. Create a list of random numbers.\n",
    "import random\n",
    "lists=[random.randint(1, 100)  for x in range(5)]\n",
    "print(lists)"
   ]
  },
  {
   "cell_type": "code",
   "execution_count": 23,
   "id": "1da0e57a",
   "metadata": {},
   "outputs": [
    {
     "name": "stdout",
     "output_type": "stream",
     "text": [
      "[2, 3, 4, 5, 1]\n"
     ]
    }
   ],
   "source": [
    "#20. Remove duplicates from a list.\n",
    "lists=[2,3,4,5,1,4,4,3]\n",
    "new=[]\n",
    "for i in lists:\n",
    "    if i not in new:\n",
    "        new.append(i)\n",
    "print(new)"
   ]
  },
  {
   "cell_type": "code",
   "execution_count": 24,
   "id": "51ad6574",
   "metadata": {},
   "outputs": [
    {
     "name": "stdout",
     "output_type": "stream",
     "text": [
      "[4, 5]\n"
     ]
    }
   ],
   "source": [
    "#21. Find the common elements between two lists.\n",
    "list1=[1,2,3,4,5]\n",
    "list2=[4,5,6,7,8]\n",
    "new=[]\n",
    "for i in list1:\n",
    "    if i in list2:\n",
    "        new.append(i)\n",
    "print(new)"
   ]
  },
  {
   "cell_type": "code",
   "execution_count": 36,
   "id": "e85745ee",
   "metadata": {},
   "outputs": [
    {
     "name": "stdout",
     "output_type": "stream",
     "text": [
      "[1, 2, 3, 6, 7, 8]\n"
     ]
    }
   ],
   "source": [
    "#22. Find the difference between two lists.\n",
    "list1=[1,2,3,4,5]\n",
    "list2=[4,5,6,7,8]\n",
    "new=[]\n",
    "for i in list1:\n",
    "    if i not in list2:\n",
    "        new.append(i)\n",
    "for i in list2:\n",
    "    if i not in list1:\n",
    "        new.append(i)\n",
    "print(new)"
   ]
  },
  {
   "cell_type": "code",
   "execution_count": 39,
   "id": "678861eb",
   "metadata": {},
   "outputs": [
    {
     "name": "stdout",
     "output_type": "stream",
     "text": [
      "[1, 2, 3, 4, 5, 4, 5, 6, 7, 8]\n"
     ]
    }
   ],
   "source": [
    "#23. Merge two lists.\n",
    "list1=[1,2,3,4,5]\n",
    "list2=[4,5,6,7,8]\n",
    "new=list1+list2\n",
    "print(new)"
   ]
  },
  {
   "cell_type": "code",
   "execution_count": 44,
   "id": "8ca4205e",
   "metadata": {},
   "outputs": [
    {
     "name": "stdout",
     "output_type": "stream",
     "text": [
      "[2, 4, 6, 8, 10, 12, 14, 16]\n"
     ]
    }
   ],
   "source": [
    "#24. Multiply all elements in a list by 2.\n",
    "list1=[1,2,3,4,5,6,7,8]\n",
    "new=[x*2 for x in list1]\n",
    "print(new)"
   ]
  },
  {
   "cell_type": "code",
   "execution_count": 45,
   "id": "bf64a5b5",
   "metadata": {},
   "outputs": [
    {
     "name": "stdout",
     "output_type": "stream",
     "text": [
      "[2, 4, 6, 8]\n"
     ]
    }
   ],
   "source": [
    "#25. Filter out all even numbers from a list.\n",
    "list1=[1,2,3,4,5,6,7,8]\n",
    "new=[x for x in list1 if x%2==0]\n",
    "print(new)"
   ]
  }
 ],
 "metadata": {
  "kernelspec": {
   "display_name": "Python 3 (ipykernel)",
   "language": "python",
   "name": "python3"
  },
  "language_info": {
   "codemirror_mode": {
    "name": "ipython",
    "version": 3
   },
   "file_extension": ".py",
   "mimetype": "text/x-python",
   "name": "python",
   "nbconvert_exporter": "python",
   "pygments_lexer": "ipython3",
   "version": "3.11.7"
  }
 },
 "nbformat": 4,
 "nbformat_minor": 5
}
