{
 "cells": [
  {
   "cell_type": "code",
   "execution_count": 4,
   "id": "68d9c62c",
   "metadata": {},
   "outputs": [
    {
     "name": "stdout",
     "output_type": "stream",
     "text": [
      "[1, 2, 3, 4, 5, 6, 7, 8, 9, 10]\n"
     ]
    }
   ],
   "source": [
    "#1. Create a list with integers from 1 to 10.\n",
    "lists=[i for i in range(1,11)]\n",
    "print(lists)"
   ]
  },
  {
   "cell_type": "code",
   "execution_count": 7,
   "id": "99d7091e",
   "metadata": {},
   "outputs": [
    {
     "name": "stdout",
     "output_type": "stream",
     "text": [
      "Enter items in list (separated by commas): ss,s,s,s,s\n",
      "5\n"
     ]
    }
   ],
   "source": [
    "#2. Find the length of a list without using the `len()` function.\n",
    "lists = input(\"Enter items in list (separated by commas): \").split(\",\")\n",
    "length=0\n",
    "for i in lists:\n",
    "    length+=1\n",
    "print(length)"
   ]
  },
  {
   "cell_type": "code",
   "execution_count": 9,
   "id": "dcfe6b82",
   "metadata": {},
   "outputs": [
    {
     "name": "stdout",
     "output_type": "stream",
     "text": [
      "Enter items in list (separated by commas): 1,2,3,4\n",
      "Insert items to list(separated by commas): 5,6\n",
      "['1', '2', '3', '4', '5', '6']\n"
     ]
    }
   ],
   "source": [
    "#3. Append an element to the end of a list.\n",
    "list1=input(\"Enter items in list (separated by commas): \").split(\",\")\n",
    "list2=input(\"Insert items to list(separated by commas): \").split(\",\")\n",
    "list1=list1+list2\n",
    "print(list1)"
   ]
  },
  {
   "cell_type": "code",
   "execution_count": null,
   "id": "621c7dba",
   "metadata": {},
   "outputs": [],
   "source": [
    "#4. Insert an element at a specific index in a list.\n",
    "lists = input(\"Enter items in list (separated by commas): \").split(\",\")\n"
   ]
  }
 ],
 "metadata": {
  "kernelspec": {
   "display_name": "Python 3 (ipykernel)",
   "language": "python",
   "name": "python3"
  },
  "language_info": {
   "codemirror_mode": {
    "name": "ipython",
    "version": 3
   },
   "file_extension": ".py",
   "mimetype": "text/x-python",
   "name": "python",
   "nbconvert_exporter": "python",
   "pygments_lexer": "ipython3",
   "version": "3.11.7"
  }
 },
 "nbformat": 4,
 "nbformat_minor": 5
}
