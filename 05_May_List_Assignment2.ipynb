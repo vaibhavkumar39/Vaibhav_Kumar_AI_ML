{
 "cells": [
  {
   "cell_type": "code",
   "execution_count": 4,
   "id": "a8100e41",
   "metadata": {},
   "outputs": [
    {
     "name": "stdout",
     "output_type": "stream",
     "text": [
      "[1, 2, 3, 4, 5, 6, 7, 8, 9, 10]\n"
     ]
    }
   ],
   "source": [
    "#1. Create a list with integers from 1 to 10.\n",
    "lists=[i for i in range(1,11)]\n",
    "print(lists)"
   ]
  },
  {
   "cell_type": "code",
   "execution_count": 7,
   "id": "c23e6408",
   "metadata": {},
   "outputs": [
    {
     "name": "stdout",
     "output_type": "stream",
     "text": [
      "Enter items in list (separated by commas): ss,s,s,s,s\n",
      "5\n"
     ]
    }
   ],
   "source": [
    "#2. Find the length of a list without using the `len()` function.\n",
    "lists = input(\"Enter items in list (separated by commas): \").split(\",\")\n",
    "length=0\n",
    "for i in lists:\n",
    "    length+=1\n",
    "print(length)"
   ]
  },
  {
   "cell_type": "code",
   "execution_count": 9,
   "id": "c7db6389",
   "metadata": {},
   "outputs": [
    {
     "name": "stdout",
     "output_type": "stream",
     "text": [
      "Enter items in list (separated by commas): 1,2,3,4\n",
      "Insert items to list(separated by commas): 5,6\n",
      "['1', '2', '3', '4', '5', '6']\n"
     ]
    }
   ],
   "source": [
    "#3. Append an element to the end of a list.\n",
    "list1=input(\"Enter items in list (separated by commas): \").split(\",\")\n",
    "list2=input(\"Insert items to list(separated by commas): \").split(\",\")\n",
    "list1=list1+list2\n",
    "print(list1)"
   ]
  },
  {
   "cell_type": "code",
   "execution_count": 3,
   "id": "1c51fa04",
   "metadata": {},
   "outputs": [
    {
     "name": "stdout",
     "output_type": "stream",
     "text": [
      "Enter items in list (separated by commas): 1,2,4,5\n",
      "Enter index where you want to insert: 2\n",
      "Enter element what you want to insert: 3\n",
      "['1', '2', '3', '4', '5']\n"
     ]
    }
   ],
   "source": [
    "#4. Insert an element at a specific index in a list.\n",
    "lists = input(\"Enter items in list (separated by commas): \").split(\",\")\n",
    "index=int(input(\"Enter index where you want to insert: \"))\n",
    "element=input(\"Enter element what you want to insert: \")\n",
    "part1=lists[:index]\n",
    "part2=lists[index:]\n",
    "part1=part1+[element]\n",
    "lists=part1+part2\n",
    "print(lists)"
   ]
  },
  {
   "cell_type": "code",
   "execution_count": 11,
   "id": "341f6953",
   "metadata": {},
   "outputs": [
    {
     "name": "stdout",
     "output_type": "stream",
     "text": [
      "Enter items in list (separated by commas): 1,2,3,4,5\n",
      "Enter element you want to remove: 3\n",
      "['1', '2', '4', '5']\n"
     ]
    }
   ],
   "source": [
    "#5. Remove an element from a list by its value.\n",
    "lists = input(\"Enter items in list (separated by commas): \").split(\",\")\n",
    "element=input(\"Enter element you want to remove: \")\n",
    "index=lists.index(element)\n",
    "lists.pop(index)\n",
    "print(lists)"
   ]
  },
  {
   "cell_type": "code",
   "execution_count": 13,
   "id": "1b01eea2",
   "metadata": {},
   "outputs": [
    {
     "name": "stdout",
     "output_type": "stream",
     "text": [
      "Enter items in list (separated by commas): 1,2,3,4,5,6\n",
      "Enter element you want to remove: 3\n",
      "['1', '2', '3', '5', '6']\n"
     ]
    }
   ],
   "source": [
    "#6. Remove an element from a list by its index.\n",
    "lists = input(\"Enter items in list (separated by commas): \").split(\",\")\n",
    "index=int(input(\"Enter element you want to remove: \"))\n",
    "lists.pop(index)\n",
    "print(lists)"
   ]
  },
  {
   "cell_type": "code",
   "execution_count": 16,
   "id": "608ca820",
   "metadata": {},
   "outputs": [
    {
     "name": "stdout",
     "output_type": "stream",
     "text": [
      "Enter items in list (separated by commas): w,e,r,T\n",
      "Enter element you want to check: t\n",
      "['w', 'e', 'r', 't']\n",
      "t\n",
      "Available\n"
     ]
    }
   ],
   "source": [
    "#7. Check if an element exists in a list.\n",
    "lists = input(\"Enter items in list (separated by commas): \").split(\",\")\n",
    "lists=[x.lower() for x in lists]\n",
    "element=input(\"Enter element you want to check: \")\n",
    "element=element.lower()\n",
    "print(lists)\n",
    "print(element)\n",
    "\n",
    "if element in lists:\n",
    "    print(\"Available\")\n",
    "else:\n",
    "    print(\"Not available\")"
   ]
  },
  {
   "cell_type": "code",
   "execution_count": 17,
   "id": "122ffb44",
   "metadata": {},
   "outputs": [
    {
     "name": "stdout",
     "output_type": "stream",
     "text": [
      "Enter items in list (separated by commas): 1,2,3,4\n",
      "Enter element you want to check: 3\n",
      "2\n"
     ]
    }
   ],
   "source": [
    "#8. Find the index of the first occurrence of an element in a list.\n",
    "lists = input(\"Enter items in list (separated by commas): \").split(\",\")\n",
    "element=input(\"Enter element you want to check: \")\n",
    "index=lists.index(element)\n",
    "print(f\"Index of first occurence of element you want to find: {index}\")"
   ]
  },
  {
   "cell_type": "code",
   "execution_count": 26,
   "id": "c580935d",
   "metadata": {},
   "outputs": [
    {
     "name": "stdout",
     "output_type": "stream",
     "text": [
      "Enter items in list (separated by commas): e,e,e,r,r,r\n",
      "Enter element you want to check: r\n",
      "Number of occurence of element you want to find: 3\n"
     ]
    }
   ],
   "source": [
    "#9. Count the occurrences of an element in a list.\n",
    "lists = input(\"Enter items in list (separated by commas): \").split(\",\")\n",
    "lists=[x.lower() for x in lists]\n",
    "element=input(\"Enter element you want to check: \")\n",
    "element=element.lower()\n",
    "count=lists.count(element)\n",
    "print(f\"Number of occurence of element you want to find: {count}\")"
   ]
  },
  {
   "cell_type": "code",
   "execution_count": 28,
   "id": "f83f789c",
   "metadata": {},
   "outputs": [
    {
     "name": "stdout",
     "output_type": "stream",
     "text": [
      "Enter items in list (separated by commas): 1,2,3,4\n",
      "Your reversed string is: ['4', '3', '2', '1']\n"
     ]
    }
   ],
   "source": [
    "#10. Reverse the order of elements in a list.\n",
    "lists = input(\"Enter items in list (separated by commas): \").split(\",\")\n",
    "lists=lists[::-1]\n",
    "print(f\"Your reversed string is: {lists}\")"
   ]
  },
  {
   "cell_type": "code",
   "execution_count": 33,
   "id": "0385d5a8",
   "metadata": {},
   "outputs": [
    {
     "name": "stdout",
     "output_type": "stream",
     "text": [
      "Enter items in list (separated by commas): 2,3,1,4\n",
      "['1', '2', '3', '4']\n"
     ]
    }
   ],
   "source": [
    "#11. Sort a list in ascending order.\n",
    "lists = input(\"Enter items in list (separated by commas): \").split(\",\")\n",
    "lists.sort()\n",
    "print(f\"List in ascending order: {lists})"
   ]
  },
  {
   "cell_type": "code",
   "execution_count": 34,
   "id": "23c7e1de",
   "metadata": {},
   "outputs": [
    {
     "name": "stdout",
     "output_type": "stream",
     "text": [
      "Enter items in list (separated by commas): 3,45,1\n",
      "['45', '3', '1']\n"
     ]
    }
   ],
   "source": [
    "#12. Sort a list in descending order.\n",
    "lists = input(\"Enter items in list (separated by commas): \").split(\",\")\n",
    "lists.sort(reverse=True)\n",
    "print(f\"List in descending order: {lists})"
   ]
  },
  {
   "cell_type": "code",
   "execution_count": 36,
   "id": "8470127a",
   "metadata": {},
   "outputs": [
    {
     "name": "stdout",
     "output_type": "stream",
     "text": [
      "[2, 4, 6, 8, 10, 12, 14, 16, 18, 20]\n"
     ]
    }
   ],
   "source": [
    "#13. Create a list of even numbers from 1 to 20.\n",
    "lists=[x for x in range(1, 21) if x % 2 == 0]\n",
    "print(lists)"
   ]
  },
  {
   "cell_type": "code",
   "execution_count": 38,
   "id": "16c4e6eb",
   "metadata": {},
   "outputs": [
    {
     "name": "stdout",
     "output_type": "stream",
     "text": [
      "[1, 3, 5, 7, 9, 11, 13, 15, 17, 19]\n"
     ]
    }
   ],
   "source": [
    "#14. Create a list of odd numbers from 1 to 20.\n",
    "lists=[x for x in range(1, 21) if x % 2 != 0]\n",
    "print(lists)"
   ]
  },
  {
   "cell_type": "code",
   "execution_count": 44,
   "id": "cc1e125a",
   "metadata": {},
   "outputs": [
    {
     "name": "stdout",
     "output_type": "stream",
     "text": [
      "Enter items in list (separated by commas): 3,4,5\n"
     ]
    },
    {
     "ename": "TypeError",
     "evalue": "unsupported operand type(s) for +: 'int' and 'str'",
     "output_type": "error",
     "traceback": [
      "\u001b[1;31m---------------------------------------------------------------------------\u001b[0m",
      "\u001b[1;31mTypeError\u001b[0m                                 Traceback (most recent call last)",
      "Cell \u001b[1;32mIn[44], line 3\u001b[0m\n\u001b[0;32m      1\u001b[0m \u001b[38;5;66;03m#15. Find the sum of all elements in a list.\u001b[39;00m\n\u001b[0;32m      2\u001b[0m lists \u001b[38;5;241m=\u001b[39m \u001b[38;5;28minput\u001b[39m(\u001b[38;5;124m\"\u001b[39m\u001b[38;5;124mEnter items in list (separated by commas): \u001b[39m\u001b[38;5;124m\"\u001b[39m)\u001b[38;5;241m.\u001b[39msplit(\u001b[38;5;124m\"\u001b[39m\u001b[38;5;124m,\u001b[39m\u001b[38;5;124m\"\u001b[39m)\n\u001b[1;32m----> 3\u001b[0m lists\u001b[38;5;241m=\u001b[39m\u001b[38;5;28msum\u001b[39m(lists)\n\u001b[0;32m      4\u001b[0m \u001b[38;5;28mprint\u001b[39m(lists)\n",
      "\u001b[1;31mTypeError\u001b[0m: unsupported operand type(s) for +: 'int' and 'str'"
     ]
    }
   ],
   "source": [
    "#15. Find the sum of all elements in a list.\n",
    "lists = input(\"Enter items in list (separated by commas): \").split(\",\")\n",
    "lists=sum(lists)\n",
    "print(lists)"
   ]
  }
 ],
 "metadata": {
  "kernelspec": {
   "display_name": "Python 3 (ipykernel)",
   "language": "python",
   "name": "python3"
  },
  "language_info": {
   "codemirror_mode": {
    "name": "ipython",
    "version": 3
   },
   "file_extension": ".py",
   "mimetype": "text/x-python",
   "name": "python",
   "nbconvert_exporter": "python",
   "pygments_lexer": "ipython3",
   "version": "3.11.7"
  }
 },
 "nbformat": 4,
 "nbformat_minor": 5
}
