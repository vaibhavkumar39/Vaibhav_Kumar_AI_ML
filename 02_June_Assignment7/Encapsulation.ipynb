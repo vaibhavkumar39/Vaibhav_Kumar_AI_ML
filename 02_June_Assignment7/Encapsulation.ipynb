{
 "cells": [
  {
   "cell_type": "code",
   "execution_count": null,
   "id": "1368a8bd",
   "metadata": {},
   "outputs": [],
   "source": [
    "# 1. Explain the concept of encapsulation in Python. What is its role in object-oriented programming?\n",
    "Encapsulation hides the internal state of an object.\n",
    "It uses private attributes and public methods (like get_ and set_) to use methods and variables.\n",
    "It is used for data protection and get a controlled environment of working."
   ]
  },
  {
   "cell_type": "code",
   "execution_count": null,
   "id": "37ec4bfb",
   "metadata": {},
   "outputs": [],
   "source": [
    "# 2. Describe the key principles of encapsulation, including access control and data hiding.\n",
    "1. Data Hiding\n",
    "Encapsulation hides the internal state of an object from the outside access.\n",
    "External code cannot directly access or modify these hidden details.\n",
    "2.Access Control\n",
    "Encapsulation provides controlled access to the internal data through public methods.\n",
    "3. Improved Maintainability\n",
    "Since internal details are hidden, the class implementation can be changed without affecting external code."
   ]
  },
  {
   "cell_type": "code",
   "execution_count": 1,
   "id": "3533e4e8",
   "metadata": {},
   "outputs": [
    {
     "name": "stdout",
     "output_type": "stream",
     "text": [
      "Vaibhav\n",
      "Rahul\n"
     ]
    }
   ],
   "source": [
    "# 3. How can you achieve encapsulation in Python classes? Provide an example.\n",
    "'''To achieve encapsulation you need to make the variable protected or private using underscore_.\n",
    "protected _\n",
    "private __\n",
    "'''\n",
    "class Person:\n",
    "    def __init__(self, name):\n",
    "        self.__name = name\n",
    "    def get_name(self):\n",
    "        return self.__name  \n",
    "    def set_name(self, name):\n",
    "        self.__name = name  \n",
    "p = Person(\"Vaibhav\")\n",
    "print(p.get_name())  \n",
    "p.set_name(\"Rahul\")\n",
    "print(p.get_name()) "
   ]
  },
  {
   "cell_type": "code",
   "execution_count": null,
   "id": "8a6edc9a",
   "metadata": {},
   "outputs": [],
   "source": [
    "# 4. Discuss the difference between public, private, and protected access modifiers in Python.\n",
    "Public - Can be acces from anywhere\n",
    "Protected -  Accessible inside class and subclasses\n",
    "Private - Accessible only inside the class itself."
   ]
  },
  {
   "cell_type": "code",
   "execution_count": 2,
   "id": "f1462598",
   "metadata": {},
   "outputs": [
    {
     "name": "stdout",
     "output_type": "stream",
     "text": [
      "Vaibhav\n",
      "Rahul\n"
     ]
    }
   ],
   "source": [
    "'''5. Create a Python class called `Person` with a private attribute `__name`. Provide methods to get and set the\n",
    "name attribute.'''\n",
    "class Person:\n",
    "    def __init__(self, name):\n",
    "        self.__name = name\n",
    "    def get_name(self):\n",
    "        return self.__name  \n",
    "    def set_name(self, name):\n",
    "        self.__name = name  \n",
    "p = Person(\"Vaibhav\")\n",
    "print(p.get_name())  \n",
    "p.set_name(\"Rahul\")\n",
    "print(p.get_name()) "
   ]
  },
  {
   "cell_type": "code",
   "execution_count": 3,
   "id": "e067064e",
   "metadata": {},
   "outputs": [
    {
     "name": "stdout",
     "output_type": "stream",
     "text": [
      "Tiger\n",
      "Lilly\n"
     ]
    }
   ],
   "source": [
    "# 6. Explain the purpose of getter and setter methods in encapsulation. Provide examples.\n",
    "#Getter and setter are used to make a controlled acced way of using variables.\n",
    "class Dog:\n",
    "    def __init__(self, name):\n",
    "        self.__name = name \n",
    "    def get_name(self):\n",
    "        return self.__name\n",
    "    def set_name(self, name):\n",
    "        self.__name = name\n",
    "dog = Dog(\"Tiger\")\n",
    "print(dog.get_name())  \n",
    "dog.set_name(\"Lilly\")\n",
    "print(dog.get_name())"
   ]
  },
  {
   "cell_type": "code",
   "execution_count": null,
   "id": "ac73798b",
   "metadata": {},
   "outputs": [],
   "source": [
    "# 7. What is name mangling in Python, and how does it affect encapsulation?\n",
    "Python uses name mangling to make class attributes with private variables harder to access \n",
    "from outside the class.\n",
    "It avoids accidential modification or access.\n",
    "Also prevent name clashes in subclasses."
   ]
  },
  {
   "cell_type": "code",
   "execution_count": 7,
   "id": "d8a0e7c4",
   "metadata": {},
   "outputs": [
    {
     "name": "stdout",
     "output_type": "stream",
     "text": [
      "Deposited 500. New balance: 1500\n",
      "Withdrew 200. New balance: 1300\n",
      "1300\n"
     ]
    }
   ],
   "source": [
    "# 8. Create a Python class called `BankAccount` with private attributes for the account balance (`__balance`) and account number (`__account_number`). Provide methods for depositing and withdrawing money.\n",
    "class BankAccount:\n",
    "    def __init__(self, balance, account_number):\n",
    "        self.__balance = balance\n",
    "        self.account_number = account_number\n",
    "    def deposit(self, amount):\n",
    "        if amount > 0:\n",
    "            self.__balance += amount\n",
    "            print(f\"Deposited {amount}. New balance: {self.__balance}\")\n",
    "        else:\n",
    "            print(\"Amount must be positive\")\n",
    "    def withdraw(self, amount):\n",
    "        if amount > 0 and amount <= self.__balance:\n",
    "            self.__balance -= amount\n",
    "            print(f\"Withdrew {amount}. New balance: {self.__balance}\")\n",
    "        else:\n",
    "            print(\"Invalid amount or insufficient balance\")\n",
    "    def balance(self):\n",
    "        return self.__balance\n",
    "obj = BankAccount(1000, \"12re3AerfBfeeffC\")\n",
    "obj.deposit(500)\n",
    "obj.withdraw(200)\n",
    "print(obj.balance())"
   ]
  },
  {
   "cell_type": "code",
   "execution_count": null,
   "id": "c369eae8",
   "metadata": {},
   "outputs": [],
   "source": [
    "# 9. Discuss the advantages of encapsulation in terms of code maintainability and security.\n",
    "1. Improved Code Maintainability\n",
    "2. Enhanced Security\n",
    "3. Avoid direct or mis acces of a variable"
   ]
  },
  {
   "cell_type": "code",
   "execution_count": 9,
   "id": "ffbb8628",
   "metadata": {},
   "outputs": [
    {
     "name": "stdout",
     "output_type": "stream",
     "text": [
      "A\n"
     ]
    }
   ],
   "source": [
    "# 10. How can you access private attributes in Python? Provide an example demonstrating the use of name mangling.\n",
    "'''Private attributes are defined using double underscores, like __name. These attributes cannot be \n",
    "accessed directly from outside the class. \n",
    "Python internally changes the name using a process called name mangling.\n",
    "'''\n",
    "class Student:\n",
    "    def __init__(self):\n",
    "        self.__grade = \"A\"\n",
    "s = Student()\n",
    "#print(s.__grade)\n",
    "print(s._Student__grade)   "
   ]
  },
  {
   "cell_type": "code",
   "execution_count": 2,
   "id": "f726238e",
   "metadata": {},
   "outputs": [
    {
     "name": "stdout",
     "output_type": "stream",
     "text": [
      "Student ID: S123\n",
      "Teacher Salary: 50000\n",
      "Course: Math\n",
      "Taught by: Mr. RAhul\n"
     ]
    }
   ],
   "source": [
    "# 11. Create a Python class hierarchy for a school system, including classes for students, teachers, and courses,\n",
    "# and implement encapsulation principles to protect sensitive information.\n",
    "class Student:\n",
    "    def __init__(self, name, student_id):\n",
    "        self.name = name\n",
    "        self.__student_id = student_id \n",
    "    def get_student_id(self):\n",
    "        return self.__student_id\n",
    "class Teacher:\n",
    "    def __init__(self, name, salary):\n",
    "        self.name = name\n",
    "        self.__salary = salary\n",
    "    def get_salary(self):\n",
    "        return self.__salary\n",
    "class Course:\n",
    "    def __init__(self, course_name, teacher):\n",
    "        self.course_name = course_name\n",
    "        self.teacher = teacher\n",
    "    def show_course_info(self):\n",
    "        print(f\"Course: {self.course_name}\")\n",
    "        print(f\"Taught by: {self.teacher.name}\")\n",
    "s = Student(\"Vaibhav\", \"S123\")\n",
    "t = Teacher(\"Mr. RAhul\", 50000)\n",
    "c = Course(\"Math\", t)\n",
    "print(\"Student ID:\", s.get_student_id())\n",
    "print(\"Teacher Salary:\", t.get_salary())\n",
    "c.show_course_info()"
   ]
  },
  {
   "cell_type": "code",
   "execution_count": null,
   "id": "9e9a4d95",
   "metadata": {},
   "outputs": [],
   "source": [
    "# 12. Explain the concept of property decorators in Python and how they relate to encapsulation.\n",
    "Property decorators in Python (@property) allow you to access methods like attributes. \n",
    "They are used to encapsulate data by controlling how values are read, written, or deleted, without changing \n",
    "the way they're accessed."
   ]
  },
  {
   "cell_type": "code",
   "execution_count": null,
   "id": "f6fdf5cf",
   "metadata": {},
   "outputs": [],
   "source": [
    "# 13. What is data hiding, and why is it important in encapsulation? Provide examples.\n",
    "Data hiding means keeping internal details (like variables) of a class private so they can’t be accessed directly from outside the class.\n",
    "It is important in encapsulation to protects data from accidental changes."
   ]
  },
  {
   "cell_type": "code",
   "execution_count": 1,
   "id": "9bd30b54",
   "metadata": {},
   "outputs": [
    {
     "name": "stdout",
     "output_type": "stream",
     "text": [
      "Bonus: 5000.0\n"
     ]
    }
   ],
   "source": [
    "# 14. Create a Python class called `Employee` with private attributes for salary (`__salary`) and employee ID (`__employee_id`). Provide a method to calculate yearly bonuses.\n",
    "class Employee:\n",
    "    def __init__(self, employee_id, salary):\n",
    "        self.__employee_id = employee_id\n",
    "        self.__salary = salary\n",
    "    def calculate_bonus(self):\n",
    "        bonus = self.__salary * 0.10\n",
    "        return bonus\n",
    "emp = Employee(\"E123\", 50000)\n",
    "print(\"Bonus:\", emp.calculate_bonus())"
   ]
  },
  {
   "cell_type": "code",
   "execution_count": null,
   "id": "0486e7c4",
   "metadata": {},
   "outputs": [],
   "source": [
    "# 15. Discuss the use of accessors and mutators in encapsulation. How do they help maintain control over\n",
    "# attribute access?\n",
    "Accessors (also called getters) retrieve the value of a private attribute.\n",
    "Mutators (also called setters) update the value, often with checks or restrictions."
   ]
  },
  {
   "cell_type": "code",
   "execution_count": null,
   "id": "afd1e833",
   "metadata": {},
   "outputs": [],
   "source": [
    "# 16. What are the potential drawbacks or disadvantages of using encapsulation in Python?\n",
    "Slower acces\n",
    "Name mangling problem\n",
    "Increase in code"
   ]
  },
  {
   "cell_type": "code",
   "execution_count": 3,
   "id": "18219dca",
   "metadata": {},
   "outputs": [
    {
     "name": "stdout",
     "output_type": "stream",
     "text": [
      "Python by abc\n",
      "Book borrowed\n",
      "False\n",
      "Book returned\n"
     ]
    }
   ],
   "source": [
    "# 17. Create a Python class for a library system that encapsulates book information, including titles, authors,\n",
    "# and availability status.\n",
    "class Book:\n",
    "    def __init__(self, title, author):\n",
    "        self.__title = title\n",
    "        self.__author = author\n",
    "        self.__available = True\n",
    "    def get_info(self):\n",
    "        return f\"{self.__title} by {self.__author}\"\n",
    "    def is_available(self):\n",
    "        return self.__available\n",
    "    def borrow(self):\n",
    "        if self.__available:\n",
    "            self.__available = False\n",
    "            return \"Book borrowed\"\n",
    "        else:\n",
    "            return \"Book not available\"\n",
    "    def return_book(self):\n",
    "        self.__available = True\n",
    "        return \"Book returned\"\n",
    "b = Book(\"Python\", \"abc\")\n",
    "print(b.get_info())\n",
    "print(b.borrow())\n",
    "print(b.is_available())\n",
    "print(b.return_book())"
   ]
  },
  {
   "cell_type": "code",
   "execution_count": null,
   "id": "9808d663",
   "metadata": {},
   "outputs": [],
   "source": [
    "# 18. Explain how encapsulation enhances code reusability and modularity in Python programs.\n",
    "Encapsulation hides internal details, so classes can be reused without knowing how they work inside.\n",
    "Well-Defined Interfaces\n",
    "Independent Modules"
   ]
  },
  {
   "cell_type": "code",
   "execution_count": null,
   "id": "d49aa75c",
   "metadata": {},
   "outputs": [],
   "source": [
    "# 19. Describe the concept of information hiding in encapsulation. Why is it essential in software development?\n",
    "Information hiding is a key part of encapsulation where internal details of\n",
    "a class (like variables or logic) are kept private and only accessed through public methods."
   ]
  },
  {
   "cell_type": "code",
   "execution_count": 4,
   "id": "956756a2",
   "metadata": {},
   "outputs": [
    {
     "name": "stdout",
     "output_type": "stream",
     "text": [
      "VAIBHAV\n",
      "IPRM\n"
     ]
    }
   ],
   "source": [
    "# 20. Create a Python class called `Customer` with private attributes for customer details like name, address,\n",
    "# and contact information. Implement encapsulation to ensure data integrity and security.\n",
    "class Customer:\n",
    "    def __init__(self, name, address, contact):\n",
    "        self.__name = name\n",
    "        self.__address = address\n",
    "        self.__contact = contact\n",
    "    def get_name(self):\n",
    "        return self.__name\n",
    "    def set_name(self, name):\n",
    "        if name:\n",
    "            self.__name = name\n",
    "    def get_address(self):\n",
    "        return self.__address\n",
    "    def set_address(self, address):\n",
    "        if address:\n",
    "            self.__address = address\n",
    "    def get_contact(self):\n",
    "        return self.__contact\n",
    "    def set_contact(self, contact):\n",
    "        if contact:\n",
    "            self.__contact = contact\n",
    "c = Customer(\"VAIBHAV\", \"GZB\", \"95553451234\")\n",
    "print(c.get_name())\n",
    "c.set_address(\"IPRM\")\n",
    "print(c.get_address())\n"
   ]
  }
 ],
 "metadata": {
  "kernelspec": {
   "display_name": "Python 3 (ipykernel)",
   "language": "python",
   "name": "python3"
  },
  "language_info": {
   "codemirror_mode": {
    "name": "ipython",
    "version": 3
   },
   "file_extension": ".py",
   "mimetype": "text/x-python",
   "name": "python",
   "nbconvert_exporter": "python",
   "pygments_lexer": "ipython3",
   "version": "3.11.7"
  }
 },
 "nbformat": 4,
 "nbformat_minor": 5
}
