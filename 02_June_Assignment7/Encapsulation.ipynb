{
 "cells": [
  {
   "cell_type": "code",
   "execution_count": null,
   "id": "04032d6c",
   "metadata": {},
   "outputs": [],
   "source": [
    "# 11. Create a Python class hierarchy for a school system, including classes for students, teachers, and courses,\n",
    "# and implement encapsulation principles to protect sensitive information.\n",
    "# 12. Explain the concept of property decorators in Python and how they relate to encapsulation.\n",
    "# 13. What is data hiding, and why is it important in encapsulation? Provide examples.\n",
    "# 14. Create a Python class called `Employee` with private attributes for salary (`__salary`) and employee ID (`__employee_id`). Provide a method to calculate yearly bonuses.\n",
    "# 15. Discuss the use of accessors and mutators in encapsulation. How do they help maintain control over\n",
    "# attribute access?\n",
    "# 16. What are the potential drawbacks or disadvantages of using encapsulation in Python?\n",
    "# 17. Create a Python class for a library system that encapsulates book information, including titles, authors,\n",
    "# and availability status.\n",
    "# 18. Explain how encapsulation enhances code reusability and modularity in Python programs.\n",
    "# 19. Describe the concept of information hiding in encapsulation. Why is it essential in software development?\n",
    "# 20. Create a Python class called `Customer` with private attributes for customer details like name, address,\n",
    "# and contact information. Implement encapsulation to ensure data integrity and security.\n"
   ]
  },
  {
   "cell_type": "code",
   "execution_count": null,
   "id": "1368a8bd",
   "metadata": {},
   "outputs": [],
   "source": [
    "# 1. Explain the concept of encapsulation in Python. What is its role in object-oriented programming?\n",
    "Encapsulation hides the internal state of an object.\n",
    "It uses private attributes and public methods (like get_ and set_) to use methods and variables.\n",
    "It is used for data protection and get a controlled environment of working."
   ]
  },
  {
   "cell_type": "code",
   "execution_count": null,
   "id": "37ec4bfb",
   "metadata": {},
   "outputs": [],
   "source": [
    "# 2. Describe the key principles of encapsulation, including access control and data hiding.\n",
    "1. Data Hiding\n",
    "Encapsulation hides the internal state of an object from the outside access.\n",
    "External code cannot directly access or modify these hidden details.\n",
    "2.Access Control\n",
    "Encapsulation provides controlled access to the internal data through public methods.\n",
    "3. Improved Maintainability\n",
    "Since internal details are hidden, the class implementation can be changed without affecting external code."
   ]
  },
  {
   "cell_type": "code",
   "execution_count": 1,
   "id": "3533e4e8",
   "metadata": {},
   "outputs": [
    {
     "name": "stdout",
     "output_type": "stream",
     "text": [
      "Vaibhav\n",
      "Rahul\n"
     ]
    }
   ],
   "source": [
    "# 3. How can you achieve encapsulation in Python classes? Provide an example.\n",
    "'''To achieve encapsulation you need to make the variable protected or private using underscore_.\n",
    "protected _\n",
    "private __\n",
    "'''\n",
    "class Person:\n",
    "    def __init__(self, name):\n",
    "        self.__name = name\n",
    "    def get_name(self):\n",
    "        return self.__name  \n",
    "    def set_name(self, name):\n",
    "        self.__name = name  \n",
    "p = Person(\"Vaibhav\")\n",
    "print(p.get_name())  \n",
    "p.set_name(\"Rahul\")\n",
    "print(p.get_name()) "
   ]
  },
  {
   "cell_type": "code",
   "execution_count": null,
   "id": "8a6edc9a",
   "metadata": {},
   "outputs": [],
   "source": [
    "# 4. Discuss the difference between public, private, and protected access modifiers in Python.\n",
    "Public - Can be acces from anywhere\n",
    "Protected -  Accessible inside class and subclasses\n",
    "Private - Accessible only inside the class itself."
   ]
  },
  {
   "cell_type": "code",
   "execution_count": 2,
   "id": "f1462598",
   "metadata": {},
   "outputs": [
    {
     "name": "stdout",
     "output_type": "stream",
     "text": [
      "Vaibhav\n",
      "Rahul\n"
     ]
    }
   ],
   "source": [
    "'''5. Create a Python class called `Person` with a private attribute `__name`. Provide methods to get and set the\n",
    "name attribute.'''\n",
    "class Person:\n",
    "    def __init__(self, name):\n",
    "        self.__name = name\n",
    "    def get_name(self):\n",
    "        return self.__name  \n",
    "    def set_name(self, name):\n",
    "        self.__name = name  \n",
    "p = Person(\"Vaibhav\")\n",
    "print(p.get_name())  \n",
    "p.set_name(\"Rahul\")\n",
    "print(p.get_name()) "
   ]
  },
  {
   "cell_type": "code",
   "execution_count": 3,
   "id": "e067064e",
   "metadata": {},
   "outputs": [
    {
     "name": "stdout",
     "output_type": "stream",
     "text": [
      "Tiger\n",
      "Lilly\n"
     ]
    }
   ],
   "source": [
    "# 6. Explain the purpose of getter and setter methods in encapsulation. Provide examples.\n",
    "#Getter and setter are used to make a controlled acced way of using variables.\n",
    "class Dog:\n",
    "    def __init__(self, name):\n",
    "        self.__name = name \n",
    "    def get_name(self):\n",
    "        return self.__name\n",
    "    def set_name(self, name):\n",
    "        self.__name = name\n",
    "dog = Dog(\"Tiger\")\n",
    "print(dog.get_name())  \n",
    "dog.set_name(\"Lilly\")\n",
    "print(dog.get_name())"
   ]
  },
  {
   "cell_type": "code",
   "execution_count": null,
   "id": "ac73798b",
   "metadata": {},
   "outputs": [],
   "source": [
    "# 7. What is name mangling in Python, and how does it affect encapsulation?\n",
    "Python uses name mangling to make class attributes with private variables harder to access \n",
    "from outside the class.\n",
    "It avoids accidential modification or access.\n",
    "Also prevent name clashes in subclasses."
   ]
  },
  {
   "cell_type": "code",
   "execution_count": 7,
   "id": "d8a0e7c4",
   "metadata": {},
   "outputs": [
    {
     "name": "stdout",
     "output_type": "stream",
     "text": [
      "Deposited 500. New balance: 1500\n",
      "Withdrew 200. New balance: 1300\n",
      "1300\n"
     ]
    }
   ],
   "source": [
    "# 8. Create a Python class called `BankAccount` with private attributes for the account balance (`__balance`) and account number (`__account_number`). Provide methods for depositing and withdrawing money.\n",
    "class BankAccount:\n",
    "    def __init__(self, balance, account_number):\n",
    "        self.__balance = balance\n",
    "        self.account_number = account_number\n",
    "    def deposit(self, amount):\n",
    "        if amount > 0:\n",
    "            self.__balance += amount\n",
    "            print(f\"Deposited {amount}. New balance: {self.__balance}\")\n",
    "        else:\n",
    "            print(\"Amount must be positive\")\n",
    "    def withdraw(self, amount):\n",
    "        if amount > 0 and amount <= self.__balance:\n",
    "            self.__balance -= amount\n",
    "            print(f\"Withdrew {amount}. New balance: {self.__balance}\")\n",
    "        else:\n",
    "            print(\"Invalid amount or insufficient balance\")\n",
    "    def balance(self):\n",
    "        return self.__balance\n",
    "obj = BankAccount(1000, \"12re3AerfBfeeffC\")\n",
    "obj.deposit(500)\n",
    "obj.withdraw(200)\n",
    "print(obj.balance())"
   ]
  },
  {
   "cell_type": "code",
   "execution_count": null,
   "id": "c369eae8",
   "metadata": {},
   "outputs": [],
   "source": [
    "# 9. Discuss the advantages of encapsulation in terms of code maintainability and security.\n",
    "1. Improved Code Maintainability\n",
    "2. Enhanced Security\n",
    "3. Avoid direct or mis acces of a variable"
   ]
  },
  {
   "cell_type": "code",
   "execution_count": 9,
   "id": "ffbb8628",
   "metadata": {},
   "outputs": [
    {
     "name": "stdout",
     "output_type": "stream",
     "text": [
      "A\n"
     ]
    }
   ],
   "source": [
    "# 10. How can you access private attributes in Python? Provide an example demonstrating the use of name mangling.\n",
    "'''Private attributes are defined using double underscores, like __name. These attributes cannot be \n",
    "accessed directly from outside the class. \n",
    "Python internally changes the name using a process called name mangling.\n",
    "'''\n",
    "class Student:\n",
    "    def __init__(self):\n",
    "        self.__grade = \"A\"\n",
    "s = Student()\n",
    "#print(s.__grade)\n",
    "print(s._Student__grade)   "
   ]
  }
 ],
 "metadata": {
  "kernelspec": {
   "display_name": "Python 3 (ipykernel)",
   "language": "python",
   "name": "python3"
  },
  "language_info": {
   "codemirror_mode": {
    "name": "ipython",
    "version": 3
   },
   "file_extension": ".py",
   "mimetype": "text/x-python",
   "name": "python",
   "nbconvert_exporter": "python",
   "pygments_lexer": "ipython3",
   "version": "3.11.7"
  }
 },
 "nbformat": 4,
 "nbformat_minor": 5
}
