{
 "cells": [
  {
   "cell_type": "code",
   "execution_count": null,
   "id": "dcff00e7",
   "metadata": {},
   "outputs": [],
   "source": [
    "# 1. What is inheritance in Python? Explain its significance in object-oriented programming.\n",
    "Ans. Inheritence refers to inheriting methods from another classes.It makes a code reusability format and\n",
    "decrease the coding part wwhere you have to define function again and again."
   ]
  },
  {
   "cell_type": "code",
   "execution_count": 9,
   "id": "0e88a361",
   "metadata": {},
   "outputs": [
    {
     "name": "stdout",
     "output_type": "stream",
     "text": [
      "This is parent's characterstics\n",
      "\n",
      "\n",
      "This is father's characterstics\n",
      "This is mother's characterstics\n",
      "\n",
      "\n",
      "This is child's characterstics\n"
     ]
    }
   ],
   "source": [
    "# 2. Differentiate between single inheritance and multiple inheritance in Python. Provide examples for each.\n",
    "'''Ans. Single inheritence is when a class inherit from another single class while multiple inheritence is when\n",
    "a class inherit method from multiple classes.'''\n",
    "#Example (Single inheritence):\n",
    "class Parents:\n",
    "    def data(self):\n",
    "        print(\"This is parent's characterstics\")\n",
    "        \n",
    "class Child(Parents):\n",
    "    def child_data(self):\n",
    "        print(\"This is child's characterstics\")\n",
    "        \n",
    "obj=Child()\n",
    "obj.data()\n",
    "print(\"\\n\")\n",
    "#Example (Multiple inheritence):\n",
    "class Father:\n",
    "    def father_data(self):\n",
    "        print(\"This is father's characterstics\")\n",
    "class Mother:\n",
    "    def mother_data(self):\n",
    "        print(\"This is mother's characterstics\")\n",
    "class Child(Father,Mother):\n",
    "    def child_data(self):\n",
    "        print(\"This is child's characterstics\")\n",
    "obj1=Child()\n",
    "obj1.father_data()\n",
    "obj1.mother_data()\n",
    "print(\"\\n\")\n",
    "obj1.child_data()"
   ]
  },
  {
   "cell_type": "code",
   "execution_count": 10,
   "id": "9f35a48f",
   "metadata": {},
   "outputs": [
    {
     "name": "stdout",
     "output_type": "stream",
     "text": [
      "Red 120 Suzuki\n"
     ]
    }
   ],
   "source": [
    "'''3. Create a Python class called `Vehicle` with attributes `color` and `speed`. Then, create a child class\n",
    "called `Car` that inherits from `Vehicle` and adds a `brand` attribute. \n",
    "Provide an example of creating a `Car` object.'''\n",
    "class Vehicle:\n",
    "    def __init__(self,color,speed):\n",
    "        self.color = color\n",
    "        self.speed = speed\n",
    "class Car(Vehicle):\n",
    "    def  __init__(self,color,speed,brand):\n",
    "        super().__init__(color, speed)\n",
    "        self.brand=brand\n",
    "Car=Car(\"Red\",120,\"Suzuki\")\n",
    "print(Car.color,Car.speed,Car.brand)"
   ]
  },
  {
   "cell_type": "code",
   "execution_count": 12,
   "id": "bf2e8091",
   "metadata": {},
   "outputs": [
    {
     "name": "stdout",
     "output_type": "stream",
     "text": [
      "only positive number\n"
     ]
    }
   ],
   "source": [
    "# 4. Explain the concept of method overriding in inheritance. Provide a practical example.\n",
    "# Ans.Method overriding is when a child class inherits a method but changes it accordingly.\n",
    "class numbers:\n",
    "    def num(self):\n",
    "        print(\"All numbers\")\n",
    "class positive_numbers(numbers):\n",
    "    def num(self):\n",
    "        print(\"only positive number\")\n",
    "obj=positive_numbers()\n",
    "obj.num()"
   ]
  },
  {
   "cell_type": "code",
   "execution_count": 51,
   "id": "319aae0e",
   "metadata": {},
   "outputs": [
    {
     "name": "stdout",
     "output_type": "stream",
     "text": [
      "Red 120 Suzuki 24 March 1990\n"
     ]
    }
   ],
   "source": [
    "# 5. How can you access the methods and attributes of a parent class from a child class in Python? Give an example.\n",
    "#Ans.By using super method you can acces methods and attributes.\n",
    "class Vehicle:\n",
    "    def __init__(self, color, speed):\n",
    "        self.color = color\n",
    "        self.speed = speed\n",
    "    def day_launched(self):\n",
    "        date=\"24 March 1990\"\n",
    "        return date\n",
    "class Car(Vehicle):\n",
    "    def __init__(self, color, speed, brand):\n",
    "        super().__init__(color, speed)\n",
    "        self.brand = brand\n",
    "    def display_lauchdate(self):\n",
    "        return super().day_launched()\n",
    "car = Car(\"Red\", 120, \"Suzuki\")\n",
    "print(car.color, car.speed, car.brand,car.display_lauchdate())"
   ]
  },
  {
   "cell_type": "code",
   "execution_count": 55,
   "id": "d91c4c54",
   "metadata": {},
   "outputs": [
    {
     "name": "stdout",
     "output_type": "stream",
     "text": [
      "ar1 ar2 ar3\n"
     ]
    }
   ],
   "source": [
    "# 6. Discuss the use of the `super()` function in Python inheritance. When and why is it used? Provide an example.\n",
    "# Ans. Super function is used to call methods from parent class.\n",
    "class abc:\n",
    "    def __init__(self,a,b):\n",
    "        self.a=a\n",
    "        self.b=b\n",
    "class abc2(abc):\n",
    "    def __init__(self,a,b,c):\n",
    "        super().__init__(a,b)\n",
    "        self.c=c\n",
    "    def show(self):\n",
    "        print(self.a,self.b,self.c)\n",
    "obj=abc2(\"ar1\",\"ar2\",\"ar3\")\n",
    "obj.show()"
   ]
  },
  {
   "cell_type": "code",
   "execution_count": 56,
   "id": "11bec6eb",
   "metadata": {},
   "outputs": [
    {
     "name": "stdout",
     "output_type": "stream",
     "text": [
      "Animal speaks\n",
      "Dog Barks\n",
      "Cat meows\n"
     ]
    }
   ],
   "source": [
    "# 7. Create a Python class called `Animal` with a method `speak()`. Then, create child classes `Dog` and `Cat` that inherit from `Animal` and override the `speak()` method. Provide an example of using these classes.\n",
    "class Animal:\n",
    "    def speak(self):\n",
    "        print(\"Animal speaks\")\n",
    "        \n",
    "class dog(Animal):\n",
    "    def speak(self):\n",
    "        print(\"Dog Barks\")\n",
    "class cat(Animal):\n",
    "    def speak(self):\n",
    "        print(\"Cat meows\")\n",
    "obj1=Animal()\n",
    "obj2=dog()\n",
    "obj3=cat()\n",
    "obj1.speak()\n",
    "obj2.speak()\n",
    "obj3.speak()"
   ]
  },
  {
   "cell_type": "code",
   "execution_count": 66,
   "id": "3d572e44",
   "metadata": {},
   "outputs": [
    {
     "name": "stdout",
     "output_type": "stream",
     "text": [
      "True\n",
      "False\n"
     ]
    }
   ],
   "source": [
    "# 8. Explain the role of the `isinstance()` function in Python and how it relates to inheritance.\n",
    "#Ans. isinstance is used to check Is this object made from this class.\n",
    "#It helps you know what type of object you are working with.\n",
    "class abc:\n",
    "    pass\n",
    "class abc2(abc):\n",
    "    pass\n",
    "new = abc()\n",
    "print(isinstance(new, abc))     \n",
    "print(isinstance(new,abc2))  "
   ]
  },
  {
   "cell_type": "code",
   "execution_count": 67,
   "id": "1cb68ef6",
   "metadata": {},
   "outputs": [
    {
     "name": "stdout",
     "output_type": "stream",
     "text": [
      "True\n",
      "False\n"
     ]
    }
   ],
   "source": [
    "# 9. What is the purpose of the `issubclass()` function in Python? Provide an example.\n",
    "#Ans. The issubclass() function is used to check if a class is a child of another parent.\n",
    "class abc:\n",
    "    pass\n",
    "class abc2(abc):\n",
    "    pass\n",
    "print(issubclass(abc2, abc))   \n",
    "print(issubclass(abc, abc2))  "
   ]
  },
  {
   "cell_type": "code",
   "execution_count": null,
   "id": "9a02de05",
   "metadata": {},
   "outputs": [],
   "source": [
    "# 10. Discuss the concept of constructor inheritance in Python. How are constructors inherited in child classes?\n",
    "\"\"\"If the child do not have constructer it can inherit constructer from its parents.\n",
    "By using super as overiding constructer and sometimes directly you can inherit constructers.\"\"\"\n",
    "#Example\n",
    "class abc:\n",
    "    def __init__(self,a,b):\n",
    "        self.a=a\n",
    "        self.b=b\n",
    "class abc2(abc):\n",
    "    def __init__(self,a,b,c):\n",
    "        super().__init__(a,b)\n",
    "        self.c=c\n",
    "class abc3(abc):\n",
    "    pass"
   ]
  },
  {
   "cell_type": "code",
   "execution_count": 9,
   "id": "86dfc9dc",
   "metadata": {},
   "outputs": [
    {
     "name": "stdout",
     "output_type": "stream",
     "text": [
      "Circle area 28.259999999999998\n",
      "Rectangle area 12\n"
     ]
    }
   ],
   "source": [
    "\"\"\"11. Create a Python class called `Shape` with a method `area()` that calculates the area of a shape. \n",
    "Then, create child classes `Circle` and `Rectangle` that inherit from `Shape` and implement the `area()` method\n",
    "accordingly. Provide an example.\n",
    "\"\"\"\n",
    "class Shape:\n",
    "    def area(self):\n",
    "        return 0\n",
    "class Circle(Shape):\n",
    "    def __init__(self,radius):\n",
    "        self.radius=radius\n",
    "    def area(self):\n",
    "        return 3.14*self.radius*self.radius\n",
    "class Rectangle(Shape):\n",
    "    def __init__(self,length,breadth):\n",
    "        self.length=length\n",
    "        self.breadth=breadth\n",
    "    def area(self):\n",
    "        return self.length*self.breadth\n",
    "obj=Circle(3)\n",
    "print(\"Circle area\",obj.area())\n",
    "obj2=Rectangle(3,4)\n",
    "print(\"Rectangle area\",obj2.area())"
   ]
  },
  {
   "cell_type": "code",
   "execution_count": 11,
   "id": "72be0ee1",
   "metadata": {},
   "outputs": [
    {
     "name": "stdout",
     "output_type": "stream",
     "text": [
      "Area: 345\n",
      "Perimeter: 76\n"
     ]
    }
   ],
   "source": [
    "\"\"\"12. Explain the use of abstract base classes (ABCs) in Python and how they relate to inheritance. Provide an\n",
    "example using the `abc` module.\"\"\"\n",
    "\"\"\"Ans. Abstract classes are used as a blueprint for other classes.They tell other classes that what methods must \n",
    "be mandatory in evry method in which the classes is inherited.\"\"\"\n",
    "from abc import ABC, abstractmethod\n",
    "class Shape(ABC):\n",
    "    @abstractmethod\n",
    "    def area(self):\n",
    "        pass\n",
    "    @abstractmethod\n",
    "    def perimeter(self):\n",
    "        pass\n",
    "class Rectangle(Shape):\n",
    "    def __init__(self,length,width):\n",
    "        self.length=length\n",
    "        self.width=width\n",
    "    def area(self):\n",
    "        return self.length*self.width\n",
    "    def perimeter(self):\n",
    "        return 2*(self.length+self.width)\n",
    "rect = Rectangle(15,23)\n",
    "print(\"Area:\",rect.area())       \n",
    "print(\"Perimeter:\",rect.perimeter())"
   ]
  },
  {
   "cell_type": "code",
   "execution_count": null,
   "id": "3f50a15f",
   "metadata": {},
   "outputs": [],
   "source": [
    "\"\"\"13. How can you prevent a child class from modifying certain attributes or methods inherited from a parent\n",
    "class in Python?\"\"\"\n",
    "Ans. Making the variable private modifying the method becomes hidden for child class and by using @final which\n",
    "will prevent changing a method."
   ]
  },
  {
   "cell_type": "code",
   "execution_count": 18,
   "id": "bdedb914",
   "metadata": {},
   "outputs": [
    {
     "data": {
      "text/plain": [
       "('Vaibhav', 'Rs200000', 'AI/ML')"
      ]
     },
     "execution_count": 18,
     "metadata": {},
     "output_type": "execute_result"
    }
   ],
   "source": [
    "'''14. Create a Python class called `Employee` with attributes `name` and `salary`. Then, create a child class\n",
    "`Manager` that inherits from `Employee` and adds an attribute `department`. Provide an example.\n",
    "'''\n",
    "class Employee:\n",
    "    def __init__(self,name,salary):\n",
    "        self.name=name\n",
    "        self.salary=salary\n",
    "class Manager(Employee):\n",
    "    def __init__(self,name,salary,department):\n",
    "        super().__init__(name,salary)\n",
    "        self.department=department\n",
    "    def show(self):\n",
    "        return self.name,self.salary,self.department\n",
    "obj=Manager(\"Vaibhav\",\"Rs200000\",\"AI/ML\")\n",
    "obj.show()"
   ]
  },
  {
   "cell_type": "code",
   "execution_count": null,
   "id": "eb5a6080",
   "metadata": {},
   "outputs": [],
   "source": [
    "'''15. Discuss the concept of method overloading in Python inheritance. How does it differ from method\n",
    "overriding?\n",
    "'''\n",
    "Ans.Method overriding : Child class changes behaviour of parent class method.\n",
    "    Method overloading :Creating multiple methods with the same name but different number or types of parameters."
   ]
  },
  {
   "cell_type": "code",
   "execution_count": null,
   "id": "e147c184",
   "metadata": {},
   "outputs": [],
   "source": [
    "'''16. Explain the purpose of the `__init__()` method in Python inheritance and how it is utilized in child \n",
    "classes.\n",
    "'''\n",
    "Ans. It is use to initialize the values of object.\n",
    "In inheritence the child method uses parameters from parents classes using super() so no repetition declaration \n",
    "is there."
   ]
  },
  {
   "cell_type": "code",
   "execution_count": 19,
   "id": "f07d2859",
   "metadata": {},
   "outputs": [
    {
     "name": "stdout",
     "output_type": "stream",
     "text": [
      "Bird flies\n",
      "Eagle flies high\n",
      "Sparrow flies low\n"
     ]
    }
   ],
   "source": [
    "'''17. Create a Python class called `Bird` with a method `fly()`. Then, create child classes `Eagle` and `Sparrow` that inherit from `Bird` and implement the `fly()` method differently. \n",
    "Provide an example of using these classes.\n",
    "'''\n",
    "class Bird:\n",
    "    def fly(self):\n",
    "        print(\"Bird flies\")\n",
    "class Eagle(Bird):\n",
    "    def fly(self):\n",
    "        print(\"Eagle flies high\")\n",
    "class Sparrow(Bird):\n",
    "    def fly(self):\n",
    "        print(\"Sparrow flies low\")\n",
    "obj=Bird()\n",
    "obj2=Eagle()\n",
    "obj3=Sparrow()\n",
    "obj.fly()\n",
    "obj2.fly()\n",
    "obj3.fly()"
   ]
  },
  {
   "cell_type": "code",
   "execution_count": null,
   "id": "04de460a",
   "metadata": {},
   "outputs": [],
   "source": [
    "# 18. What is the \"diamond problem\" in multiple inheritance, and how does Python address it?\n",
    "Ans. Diamomd problem occurs when a class inherits from two class which inherits from same class.\n",
    "To solve this problem python uses left to right method to traverse or scan."
   ]
  },
  {
   "cell_type": "code",
   "execution_count": 21,
   "id": "567b47ca",
   "metadata": {},
   "outputs": [
    {
     "name": "stdout",
     "output_type": "stream",
     "text": [
      "Animal speaks\n",
      "Dog barks\n",
      "Student is studying.\n",
      "Writing notes in the notebook.\n"
     ]
    }
   ],
   "source": [
    "# 19. Discuss the concept of \"is-a\" and \"has-a\" relationships in inheritance, and provide examples of each.\n",
    "'''Ans. Is a refers gone class is a type of a other class.Inheritence is used here.\n",
    "While has a type refers when one class uses another class inside it.'''\n",
    "#is a\n",
    "class Animal:\n",
    "    def speak(self):\n",
    "        print(\"Animal speaks\")\n",
    "class Dog(Animal):  \n",
    "    def bark(self):\n",
    "        print(\"Dog barks\")\n",
    "d = Dog()\n",
    "d.speak()\n",
    "d.bark() \n",
    "#has a\n",
    "class Notebook:\n",
    "    def write_notes(self):\n",
    "        print(\"Writing notes in the notebook.\")\n",
    "class Student:\n",
    "    def __init__(self):\n",
    "        self.notebook = Notebook() \n",
    "    def study(self):\n",
    "        print(\"Student is studying.\")\n",
    "        self.notebook.write_notes()\n",
    "s = Student()\n",
    "s.study()"
   ]
  },
  {
   "cell_type": "code",
   "execution_count": 23,
   "id": "31d13ebf",
   "metadata": {},
   "outputs": [
    {
     "name": "stdout",
     "output_type": "stream",
     "text": [
      "I am Vaibhav, Gender: Male\n",
      "Vaibhav is studying AI/ML\n",
      "I am Mr. Rakesh, Gender: Male\n",
      "Mr. Rakesh teaches Machine Learning\n"
     ]
    }
   ],
   "source": [
    "\"\"\"20. Create a Python class hierarchy for a university system. Start with a base class `Person` and create child\n",
    "classes `Student` and `Professor`, each with their own attributes and methods. Provide an example of using\n",
    "these classes in a university context.\"\"\"\n",
    "class Person:\n",
    "    def __init__(self, name, gender):\n",
    "        self.name = name\n",
    "        self.gender = gender\n",
    "    def introduce(self):\n",
    "        return f\"I am {self.name},Gender: {self.gender}\"\n",
    "class Student(Person):\n",
    "    def __init__(self, name, gender, roll_number, course):\n",
    "        super().__init__(name, gender)\n",
    "        self.roll_number = roll_number\n",
    "        self.course = course\n",
    "    def study(self):\n",
    "        return f\"{self.name} is studying {self.course}\"\n",
    "class Professor(Person):\n",
    "    def __init__(self, name, gender, staff_id, subject):\n",
    "        super().__init__(name, gender)\n",
    "        self.staff_id = staff_id\n",
    "        self.subject = subject\n",
    "    def teach(self):\n",
    "        return f\"{self.name} teaches {self.subject}\"\n",
    "stu = Student(\"Vaibhav\", \"Male\", \"2023CS101\", \"AI/ML\")\n",
    "prof = Professor(\"Mr. Rakesh\", \"Male\", \"P234\", \"Machine Learning\")\n",
    "print(stu.introduce())\n",
    "print(stu.study())\n",
    "print(prof.introduce())\n",
    "print(prof.teach())"
   ]
  }
 ],
 "metadata": {
  "kernelspec": {
   "display_name": "Python 3 (ipykernel)",
   "language": "python",
   "name": "python3"
  },
  "language_info": {
   "codemirror_mode": {
    "name": "ipython",
    "version": 3
   },
   "file_extension": ".py",
   "mimetype": "text/x-python",
   "name": "python",
   "nbconvert_exporter": "python",
   "pygments_lexer": "ipython3",
   "version": "3.11.7"
  }
 },
 "nbformat": 4,
 "nbformat_minor": 5
}
