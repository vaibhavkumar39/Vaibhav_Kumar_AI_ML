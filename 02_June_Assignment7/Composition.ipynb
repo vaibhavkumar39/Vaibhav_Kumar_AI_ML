{
 "cells": [
  {
   "cell_type": "code",
   "execution_count": null,
   "id": "755b4cf8",
   "metadata": {},
   "outputs": [],
   "source": [
    "# 1. Explain the concept of composition in Python and how it is used to build complex objects from simpler ones.\n",
    "'''Composition means creating complex objects by combining simpler objects.\n",
    "Instead of a class inheriting from another, you put one class inside another as an attribute.'''"
   ]
  },
  {
   "cell_type": "code",
   "execution_count": null,
   "id": "14431cbf",
   "metadata": {},
   "outputs": [],
   "source": [
    "# 2. Describe the difference between composition and inheritance in object-oriented programming.\n",
    "Composition:\n",
    "    Class has an object of another class.\n",
    "    Has a relationship\n",
    "Inheritance:\n",
    "    A class is a type of another class.\n",
    "    Is a relationship"
   ]
  },
  {
   "cell_type": "code",
   "execution_count": 9,
   "id": "62705bc4",
   "metadata": {},
   "outputs": [
    {
     "name": "stdout",
     "output_type": "stream",
     "text": [
      "Book Title: New Book\n",
      "Author Name: ABC\n",
      "Author Birthdate: 2 JAN 2005\n"
     ]
    }
   ],
   "source": [
    "'''3. Create a Python class called `Author` with attributes for name and birthdate. Then, create a `Book` class\n",
    "that contains an instance of `Author` as a composition. Provide an example of creating a `Book` object.\n",
    "'''\n",
    "class Author:\n",
    "    def __init__(self, name, birthdate):\n",
    "        self.name = name\n",
    "        self.birthdate = birthdate\n",
    "class Book:\n",
    "    def __init__(self, title, author):\n",
    "        self.author = author\n",
    "        self.title = title\n",
    "    def show(self):\n",
    "        print(\"Book Title:\", self.title)\n",
    "        print(\"Author Name:\", self.author.name)\n",
    "        print(\"Author Birthdate:\", self.author.birthdate)\n",
    "obj = Author(\"ABC\", \"2 JAN 2005\")\n",
    "b = Book(\"New Book\", obj)\n",
    "b.show()"
   ]
  },
  {
   "cell_type": "code",
   "execution_count": null,
   "id": "61536422",
   "metadata": {},
   "outputs": [],
   "source": [
    "'''4. Discuss the benefits of using composition over inheritance in Python, especially in terms of code flexibility\n",
    "and reusability.\n",
    "'''\n",
    "Easier to Understand and Maintain\n",
    "More Flexible\n",
    "Inheritance tightly binds child classes to parent classes.Composition makes classes independent \n",
    "and easier to maintain."
   ]
  },
  {
   "cell_type": "code",
   "execution_count": 13,
   "id": "dd904f2b",
   "metadata": {},
   "outputs": [
    {
     "name": "stdout",
     "output_type": "stream",
     "text": [
      "Engine with 150 HP started.\n",
      "Maruti car is driving.\n"
     ]
    }
   ],
   "source": [
    "'''5. How can you implement composition in Python classes? Provide examples of using composition to create\n",
    "complex objects.'''\n",
    "class Engine:\n",
    "    def __init__(self, power):\n",
    "        self.power = power\n",
    "    def start(self):\n",
    "        print(f\"Engine with {self.power} HP started.\")\n",
    "class Car:\n",
    "    def __init__(self, make, engine):\n",
    "        self.make = make\n",
    "        self.engine = engine  \n",
    "    def drive(self):\n",
    "        self.engine.start()\n",
    "        print(f\"{self.make} car is driving.\")\n",
    "engine = Engine(150)\n",
    "car = Car(\"Maruti\", engine)\n",
    "car.drive()"
   ]
  },
  {
   "cell_type": "code",
   "execution_count": 1,
   "id": "837dfafc",
   "metadata": {},
   "outputs": [
    {
     "name": "stdout",
     "output_type": "stream",
     "text": [
      "Playlist: My Playlist\n",
      "Shape of You by Ed Sheeran\n",
      "Blinding Lights by The Weeknd\n"
     ]
    }
   ],
   "source": [
    "# 6. Create a Python class hierarchy for a music player system, using composition to represent playlists and\n",
    "# songs.\n",
    "class Song:\n",
    "    def __init__(self, title, artist):\n",
    "        self.title = title\n",
    "        self.artist = artist\n",
    "    def display(self):\n",
    "        print(f\"{self.title} by {self.artist}\")\n",
    "class Playlist:\n",
    "    def __init__(self, name):\n",
    "        self.name = name\n",
    "        self.songs = []\n",
    "    def add_song(self, song):\n",
    "        self.songs.append(song)\n",
    "    def show_songs(self):\n",
    "        print(f\"Playlist: {self.name}\")\n",
    "        for song in self.songs:\n",
    "            song.display()\n",
    "song1 = Song(\"Shape of You\", \"Ed Sheeran\")\n",
    "song2 = Song(\"Blinding Lights\", \"The Weeknd\")\n",
    "playlist = Playlist(\"My Playlist\")\n",
    "playlist.add_song(song1)\n",
    "playlist.add_song(song2)\n",
    "playlist.show_songs()"
   ]
  },
  {
   "cell_type": "code",
   "execution_count": null,
   "id": "2a1da010",
   "metadata": {},
   "outputs": [],
   "source": [
    "# 7. Explain the concept of \"has-a\" relationships in composition and how it helps design software systems.\n",
    "The \"has-a\" relationship means one object contains or owns another object.\n",
    "It’s also called composition because an object is composed of one or more other objects."
   ]
  },
  {
   "cell_type": "code",
   "execution_count": 2,
   "id": "286e8b9f",
   "metadata": {},
   "outputs": [
    {
     "name": "stdout",
     "output_type": "stream",
     "text": [
      "Computer Specs:\n",
      "CPU: Intel i5\n",
      "RAM: 8 GB\n",
      "Storage: 256 GB\n"
     ]
    }
   ],
   "source": [
    "# 8. Create a Python class for a computer system, using composition to represent components like CPU, RAM,\n",
    "# and storage devices.\n",
    "class CPU:\n",
    "    def __init__(self, brand):\n",
    "        self.brand = brand\n",
    "    def display(self):\n",
    "        print(\"CPU:\", self.brand)\n",
    "class RAM:\n",
    "    def __init__(self, size):\n",
    "        self.size = size  \n",
    "    def display(self):\n",
    "        print(\"RAM:\", self.size, \"GB\")\n",
    "class Storage:\n",
    "    def __init__(self, size):\n",
    "        self.size = size  \n",
    "    def display(self):\n",
    "        print(\"Storage:\", self.size, \"GB\")\n",
    "class ComputerSystem:\n",
    "    def __init__(self, cpu, ram, storage):\n",
    "        self.cpu = cpu\n",
    "        self.ram = ram\n",
    "        self.storage = storage\n",
    "    def show_specs(self):\n",
    "        print(\"Computer Specs:\")\n",
    "        self.cpu.display()\n",
    "        self.ram.display()\n",
    "        self.storage.display()\n",
    "cpu = CPU(\"Intel i5\")\n",
    "ram = RAM(8)\n",
    "storage = Storage(256)\n",
    "computer = ComputerSystem(cpu, ram, storage)\n",
    "computer.show_specs()"
   ]
  },
  {
   "cell_type": "code",
   "execution_count": null,
   "id": "00ab7809",
   "metadata": {},
   "outputs": [],
   "source": [
    "# 9. Describe the concept of \"delegation\" in composition and how it simplifies the design of complex systems.\n",
    "Delegation means one object asks another object inside it to do a job. Instead of doing everything itself, it passes work to its parts."
   ]
  },
  {
   "cell_type": "code",
   "execution_count": 4,
   "id": "0832ae91",
   "metadata": {},
   "outputs": [
    {
     "name": "stdout",
     "output_type": "stream",
     "text": [
      "Car details:\n",
      "Engine type: V8\n",
      "Number of wheels: 4\n",
      "Transmission: Automatic\n"
     ]
    }
   ],
   "source": [
    "# 10. Create a Python class for a car, using composition to represent components like the engine, wheels, and\n",
    "# transmission.\n",
    "class Engine:\n",
    "    def __init__(self, type):\n",
    "        self.type = type \n",
    "    def display(self):\n",
    "        print(\"Engine type:\", self.type)\n",
    "class Wheels:\n",
    "    def __init__(self, count):\n",
    "        self.count = count \n",
    "    def display(self):\n",
    "        print(\"Number of wheels:\", self.count)\n",
    "class Transmission:\n",
    "    def __init__(self, kind):\n",
    "        self.kind = kind\n",
    "    def display(self):\n",
    "        print(\"Transmission:\", self.kind)\n",
    "class Car:\n",
    "    def __init__(self, engine, wheels, transmission):\n",
    "        self.engine = engine\n",
    "        self.wheels = wheels\n",
    "        self.transmission = transmission\n",
    "    def show_details(self):\n",
    "        print(\"Car details:\")\n",
    "        self.engine.display()\n",
    "        self.wheels.display()\n",
    "        self.transmission.display()\n",
    "engine = Engine(\"V8\")\n",
    "wheels = Wheels(4)\n",
    "transmission = Transmission(\"Automatic\")\n",
    "car = Car(engine, wheels, transmission)\n",
    "car.show_details()\n"
   ]
  },
  {
   "cell_type": "code",
   "execution_count": null,
   "id": "5b16769e",
   "metadata": {},
   "outputs": [],
   "source": [
    "# 11. How can you encapsulate and hide the details of composed objects in Python classes to maintain\n",
    "# abstraction?\n",
    "In Python, you can encapsulate and hide the details of composed objects by using private attributes\n",
    "(with a single _ or double __ underscore) \n",
    "and by providing public methods to interact with them."
   ]
  },
  {
   "cell_type": "code",
   "execution_count": 6,
   "id": "d03a1c80",
   "metadata": {},
   "outputs": [
    {
     "name": "stdout",
     "output_type": "stream",
     "text": [
      "Course: Math 101\n",
      "Instructor: Dr. Mehta\n",
      "Students:\n",
      "- Vaibhav\n",
      "- Rahul\n",
      "Materials:\n",
      "- Syllabus\n",
      "- ABC\n"
     ]
    }
   ],
   "source": [
    "# 12. Create a Python class for a university course, using composition to represent students, instructors, and\n",
    "# course materials.\n",
    "class Student:\n",
    "    def __init__(self, name):\n",
    "        self.name = name\n",
    "class Instructor:\n",
    "    def __init__(self, name):\n",
    "        self.name = name\n",
    "class CourseMaterial:\n",
    "    def __init__(self, title):\n",
    "        self.title = title\n",
    "class UniversityCourse:\n",
    "    def __init__(self, course_name, instructor, students, materials):\n",
    "        self.course_name = course_name\n",
    "        self.instructor = instructor\n",
    "        self.students = students\n",
    "        self.materials = materials\n",
    "    def show_info(self):\n",
    "        print(\"Course:\", self.course_name)\n",
    "        print(\"Instructor:\", self.instructor.name)\n",
    "        print(\"Students:\")\n",
    "        for s in self.students:\n",
    "            print(\"-\", s.name)\n",
    "        print(\"Materials:\")\n",
    "        for m in self.materials:\n",
    "            print(\"-\", m.title)\n",
    "instructor = Instructor(\"Dr. Mehta\")\n",
    "students = [Student(\"Vaibhav\"), Student(\"Rahul\")]\n",
    "materials = [CourseMaterial(\"Syllabus\"), CourseMaterial(\"ABC\")]\n",
    "course = UniversityCourse(\"Math 101\", instructor, students, materials)\n",
    "course.show_info()"
   ]
  },
  {
   "cell_type": "code",
   "execution_count": null,
   "id": "82155bd7",
   "metadata": {},
   "outputs": [],
   "source": [
    "# 13. Discuss the challenges and drawbacks of composition, such as increased complexity and potential for\n",
    "# tight coupling between objects.\n",
    "Composition can increase complexity because a class contains many objects, making the design harder to manage. \n",
    "It may also lead to tight coupling, where one class depends too much on another, reducing flexibility and \n",
    "making changes more difficult."
   ]
  },
  {
   "cell_type": "code",
   "execution_count": 10,
   "id": "3cb0cd4a",
   "metadata": {},
   "outputs": [
    {
     "name": "stdout",
     "output_type": "stream",
     "text": [
      "Dish: Chicken Rice\n",
      "Ingredients:\n",
      "- Rice\n",
      "- Chicken\n"
     ]
    }
   ],
   "source": [
    "# 14. Create a Python class hierarchy for a restaurant system, using composition to represent menus, dishes,\n",
    "# and ingredients.\n",
    "class Ingredient:\n",
    "    def __init__(self, name):\n",
    "        self.name = name\n",
    "class Dish:\n",
    "    def __init__(self, name, ingredients):\n",
    "        self.name = name\n",
    "        self.ingredients = ingredients \n",
    "class Menu:\n",
    "    def __init__(self, dishes):\n",
    "        self.dishes = dishes \n",
    "    def show(self):\n",
    "        for dish in self.dishes:\n",
    "            print(\"Dish:\", dish.name)\n",
    "            print(\"Ingredients:\")\n",
    "            for ing in dish.ingredients:\n",
    "                print(\"-\", ing.name)\n",
    "ing1 = Ingredient(\"Rice\")\n",
    "ing2 = Ingredient(\"Chicken\")\n",
    "dish1 = Dish(\"Chicken Rice\", [ing1, ing2])\n",
    "menu = Menu([dish1])\n",
    "menu.show()"
   ]
  },
  {
   "cell_type": "code",
   "execution_count": null,
   "id": "83d12624",
   "metadata": {},
   "outputs": [],
   "source": [
    "# 15. Explain how composition enhances code maintainability and modularity in Python programs.\n",
    "Composition enhances code maintainability by breaking programs into smaller, manageable parts."
   ]
  },
  {
   "cell_type": "code",
   "execution_count": 11,
   "id": "13871319",
   "metadata": {},
   "outputs": [
    {
     "name": "stdout",
     "output_type": "stream",
     "text": [
      "Archer\n",
      "Bow\n",
      "Leather Armor\n",
      "['Arrow', 'Health Potion']\n"
     ]
    }
   ],
   "source": [
    "# 16. Create a Python class for a computer game character, using composition to represent attributes like\n",
    "# weapons, armor, and inventory.\n",
    "class Weapon:\n",
    "    def __init__(self, name):\n",
    "        self.name = name\n",
    "class Armor:\n",
    "    def __init__(self, name):\n",
    "        self.name = name\n",
    "class Inventory:\n",
    "    def __init__(self, items):\n",
    "        self.items = items \n",
    "class GameCharacter:\n",
    "    def __init__(self, name, weapon, armor, inventory):\n",
    "        self.name = name\n",
    "        self.weapon = weapon\n",
    "        self.armor = armor\n",
    "        self.inventory = inventory\n",
    "weapon = Weapon(\"Bow\")\n",
    "armor = Armor(\"Leather Armor\")\n",
    "inventory = Inventory([\"Arrow\", \"Health Potion\"])\n",
    "character = GameCharacter(\"Archer\", weapon, armor, inventory)\n",
    "print(character.name)\n",
    "print(character.weapon.name)\n",
    "print(character.armor.name)\n",
    "print(character.inventory.items)"
   ]
  },
  {
   "cell_type": "code",
   "execution_count": null,
   "id": "21b415fb",
   "metadata": {},
   "outputs": [],
   "source": [
    "# 17. Describe the concept of \"aggregation\" in composition and how it differs from simple composition.\n",
    "Aggregation is a special form of composition where one class uses another class, \n",
    "but both can exist independently. It represents a \"has-a\" relationship, but with weaker bonding."
   ]
  },
  {
   "cell_type": "code",
   "execution_count": 12,
   "id": "30945063",
   "metadata": {},
   "outputs": [
    {
     "name": "stdout",
     "output_type": "stream",
     "text": [
      "Room: Bedroom\n",
      "Furniture: Bed\n",
      "Appliance: Fan\n"
     ]
    }
   ],
   "source": [
    "# 18. Create a Python class for a house, using composition to represent rooms, furniture, and appliances.\n",
    "class Room:\n",
    "    def __init__(self, name):\n",
    "        self.name = name\n",
    "class Furniture:\n",
    "    def __init__(self, name):\n",
    "        self.name = name\n",
    "class Appliance:\n",
    "    def __init__(self, name):\n",
    "        self.name = name\n",
    "class House:\n",
    "    def __init__(self, room, furniture, appliance):\n",
    "        self.room = room\n",
    "        self.furniture = furniture\n",
    "        self.appliance = appliance\n",
    "room = Room(\"Bedroom\")\n",
    "furniture = Furniture(\"Bed\")\n",
    "appliance = Appliance(\"Fan\")\n",
    "house = House(room, furniture, appliance)\n",
    "print(\"Room:\", house.room.name)\n",
    "print(\"Furniture:\", house.furniture.name)\n",
    "print(\"Appliance:\", house.appliance.name)"
   ]
  },
  {
   "cell_type": "code",
   "execution_count": null,
   "id": "b1e54bd8",
   "metadata": {},
   "outputs": [],
   "source": [
    "# 19. How can you achieve flexibility in composed objects by allowing them to be replaced or modified\n",
    "# dynamically at runtime?\n",
    "Using setter methods or direct attribute assignment to update composed objects.\n",
    "Avoiding hard-coded dependencies inside classes."
   ]
  },
  {
   "cell_type": "code",
   "execution_count": 14,
   "id": "9615dea1",
   "metadata": {},
   "outputs": [
    {
     "name": "stdout",
     "output_type": "stream",
     "text": [
      "Vaibhav posted: Hello!\n",
      "Comments:\n",
      "Rahul: Nice!\n",
      "Vaibhav: Thanks!\n"
     ]
    }
   ],
   "source": [
    "# 20. Create a Python class for a social media application, using composition to represent users, posts, and\n",
    "# comments.\n",
    "class User:\n",
    "    def __init__(self, name):\n",
    "        self.name = name\n",
    "class Comment:\n",
    "    def __init__(self, user, text):\n",
    "        self.user = user\n",
    "        self.text = text\n",
    "class Post:\n",
    "    def __init__(self, user, content, comments):\n",
    "        self.user = user\n",
    "        self.content = content\n",
    "        self.comments = comments  \n",
    "user1 = User(\"Vaibhav\")\n",
    "user2 = User(\"Rahul\")\n",
    "comment1 = Comment(user2, \"Nice!\")\n",
    "comment2 = Comment(user1, \"Thanks!\")\n",
    "post = Post(user1, \"Hello!\", [comment1, comment2])\n",
    "print(post.user.name, \"posted:\", post.content)\n",
    "print(\"Comments:\")\n",
    "for c in post.comments:\n",
    "    print(c.user.name + \":\", c.text)"
   ]
  }
 ],
 "metadata": {
  "kernelspec": {
   "display_name": "Python 3 (ipykernel)",
   "language": "python",
   "name": "python3"
  },
  "language_info": {
   "codemirror_mode": {
    "name": "ipython",
    "version": 3
   },
   "file_extension": ".py",
   "mimetype": "text/x-python",
   "name": "python",
   "nbconvert_exporter": "python",
   "pygments_lexer": "ipython3",
   "version": "3.11.7"
  }
 },
 "nbformat": 4,
 "nbformat_minor": 5
}
