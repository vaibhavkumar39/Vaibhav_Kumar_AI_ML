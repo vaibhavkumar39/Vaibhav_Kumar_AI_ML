{
 "cells": [
  {
   "cell_type": "code",
   "execution_count": 2,
   "id": "fe742c53",
   "metadata": {},
   "outputs": [],
   "source": [
    "# 1. What is abstraction in Python, and how does it relate to object-oriented programming?\n",
    "Abstraction basically means hiding details of how something is working.\n",
    "Abstract classes can define methods without implementation, forcing subclasses to implement them.\n",
    "They also tells about the structure of other classes like what they should have mandatory in them."
   ]
  },
  {
   "cell_type": "code",
   "execution_count": null,
   "id": "0f3e50d9",
   "metadata": {},
   "outputs": [],
   "source": [
    "# 2. Describe the benefits of abstraction in terms of code organization and complexity reduction.\n",
    "It simplifies the interface for users.\n",
    "Users don’t need to know the inner workings, just how to use it.\n",
    "Helps focus on what an object does, not how it does it."
   ]
  },
  {
   "cell_type": "code",
   "execution_count": 3,
   "id": "a59dccc6",
   "metadata": {},
   "outputs": [
    {
     "name": "stdout",
     "output_type": "stream",
     "text": [
      "Circle area: 78.5\n",
      "Rectangle area: 24\n"
     ]
    }
   ],
   "source": [
    "'''3. Create a Python class called `Shape` with an abstract method `calculate_area()`. Then, create child classes (e.g., `Circle`, `Rectangle`) that implement the `calculate_area()` method. Provide an example of\n",
    "using these classes.\n",
    "'''\n",
    "from abc import ABC, abstractmethod\n",
    "class Shape(ABC):\n",
    "    @abstractmethod\n",
    "    def calculate_area(self):\n",
    "        pass\n",
    "class Circle(Shape):\n",
    "    def __init__(self, radius):\n",
    "        self.radius = radius\n",
    "    def calculate_area(self):\n",
    "        return 3.14* self.radius ** 2\n",
    "class Rectangle(Shape):\n",
    "    def __init__(self, width, height):\n",
    "        self.width = width\n",
    "        self.height = height\n",
    "    def calculate_area(self):\n",
    "        return self.width * self.height\n",
    "circle = Circle(5)\n",
    "rectangle = Rectangle(4, 6)\n",
    "print(\"Circle area:\", circle.calculate_area())\n",
    "print(\"Rectangle area:\", rectangle.calculate_area())"
   ]
  },
  {
   "cell_type": "code",
   "execution_count": 4,
   "id": "e8b04b9c",
   "metadata": {},
   "outputs": [
    {
     "name": "stdout",
     "output_type": "stream",
     "text": [
      "Bark\n",
      "Meow\n"
     ]
    }
   ],
   "source": [
    "'''4. Explain the concept of abstract classes in Python and how they are defined using the `abc` module. Provide\n",
    "an example.\n",
    "'''\n",
    "'''Abstract classes are classes that are not used directly they are used to provide a base to other classes.\n",
    "Use the abc module (Abstract Base Classes).\n",
    "Inherit from ABC class.\n",
    "Use @abstractmethod decorator for abstract methods.\n",
    "from abc import ABC, abstractmethod\n",
    "'''\n",
    "class Animal(ABC):\n",
    "    @abstractmethod\n",
    "    def make_sound(self):\n",
    "        pass\n",
    "class Dog(Animal):\n",
    "    def make_sound(self):\n",
    "        print(\"Bark\")\n",
    "class Cat(Animal):\n",
    "    def make_sound(self):\n",
    "        print(\"Meow\")\n",
    "dog = Dog()\n",
    "dog.make_sound()\n",
    "cat = Cat()\n",
    "cat.make_sound()"
   ]
  },
  {
   "cell_type": "code",
   "execution_count": null,
   "id": "0a856045",
   "metadata": {},
   "outputs": [],
   "source": [
    "# 5. How do abstract classes differ from regular classes in Python? Discuss their use cases.\n",
    "Abstract classes provide a base to other classes that what should be mandate in them and how they should\n",
    "work.\n",
    "While a normal class consists of function which we are going to use."
   ]
  },
  {
   "cell_type": "code",
   "execution_count": 5,
   "id": "e7643387",
   "metadata": {},
   "outputs": [
    {
     "name": "stdout",
     "output_type": "stream",
     "text": [
      "Deposited: 1000\n",
      "Withdrawn: 300\n",
      "Balance: 700\n"
     ]
    }
   ],
   "source": [
    "'''6. Create a Python class for a bank account and demonstrate abstraction by hiding the account balance and\n",
    "providing methods to deposit and withdraw funds.'''\n",
    "from abc import ABC, abstractmethod\n",
    "class Account(ABC):\n",
    "    @abstractmethod\n",
    "    def deposit(self, amount):\n",
    "        pass\n",
    "    @abstractmethod\n",
    "    def withdraw(self, amount):\n",
    "        pass\n",
    "    @abstractmethod\n",
    "    def get_balance(self):\n",
    "        pass\n",
    "class BankAccount(Account):\n",
    "    def __init__(self):\n",
    "        self.balance = 0\n",
    "    def deposit(self, amount):\n",
    "        if amount > 0:\n",
    "            self.balance += amount\n",
    "            print(f\"Deposited: {amount}\")\n",
    "    def withdraw(self, amount):\n",
    "        if 0 < amount <= self.balance:\n",
    "            self.balance -= amount\n",
    "            print(f\"Withdrawn: {amount}\")\n",
    "        else:\n",
    "            print(\"Insufficient funds\")\n",
    "    def get_balance(self):\n",
    "        return self.balance\n",
    "account = BankAccount()\n",
    "account.deposit(1000)\n",
    "account.withdraw(300)\n",
    "print(\"Balance:\", account.get_balance())"
   ]
  },
  {
   "cell_type": "code",
   "execution_count": null,
   "id": "199dd46e",
   "metadata": {},
   "outputs": [],
   "source": [
    "# 7. Discuss the concept of interface classes in Python and their role in achieving abstraction.\n",
    "Interface tells the cllases that what mwthods should they have but dont tell that how they will work.\n",
    "They show only mwthod names not how they will work so overriding can be done ,which can be\n",
    "seen in abstraction."
   ]
  },
  {
   "cell_type": "code",
   "execution_count": 1,
   "id": "c4460a13",
   "metadata": {},
   "outputs": [
    {
     "name": "stdout",
     "output_type": "stream",
     "text": [
      "Dog is eating dog food.\n",
      "Dog is sleeping in its kennel.\n",
      "Cat is eating fish.\n",
      "Cat is sleeping on the sofa.\n",
      "Bird is pecking seeds.\n",
      "Bird is sleeping on a tree branch.\n"
     ]
    }
   ],
   "source": [
    "# 8. Create a Python class hierarchy for animals and implement abstraction by defining common methods \n",
    "#(e.g., `eat()`, `sleep()`) in an abstract base class.\n",
    "from abc import ABC, abstractmethod\n",
    "class Hierarchy(ABC):\n",
    "    @abstractmethod\n",
    "    def eat(self):\n",
    "        pass \n",
    "    @abstractmethod\n",
    "    def sleep(self):\n",
    "        pass\n",
    "class Dog(Hierarchy):\n",
    "    def eat(self):\n",
    "        print(\"Dog is eating dog food.\")\n",
    "    def sleep(self):\n",
    "        print(\"Dog is sleeping in its kennel.\")\n",
    "class Cat(Hierarchy):\n",
    "    def eat(self):\n",
    "        print(\"Cat is eating fish.\")\n",
    "    def sleep(self):\n",
    "        print(\"Cat is sleeping on the sofa.\")\n",
    "class Bird(Hierarchy):\n",
    "    def eat(self):\n",
    "        print(\"Bird is pecking seeds.\")\n",
    "    def sleep(self):\n",
    "        print(\"Bird is sleeping on a tree branch.\")\n",
    "dog = Dog()\n",
    "dog.eat()\n",
    "dog.sleep()\n",
    "cat = Cat()\n",
    "cat.eat()\n",
    "cat.sleep()\n",
    "bird = Bird()\n",
    "bird.eat()\n",
    "bird.sleep()"
   ]
  },
  {
   "cell_type": "code",
   "execution_count": 3,
   "id": "87fe4c9d",
   "metadata": {},
   "outputs": [
    {
     "name": "stdout",
     "output_type": "stream",
     "text": [
      "Printer started\n",
      "on\n"
     ]
    }
   ],
   "source": [
    "# 9. Explain the significance of encapsulation in achieving abstraction. Provide examples.\n",
    "#Encapsulation means hiding the internal details of how something works and restricting direct access to some of an object's components.\n",
    "from abc import ABC, abstractmethod\n",
    "class Machine(ABC):\n",
    "    def __init__(self):\n",
    "        self.__status = \"off\"\n",
    "    @abstractmethod\n",
    "    def start(self):\n",
    "        pass\n",
    "    def get_status(self):\n",
    "        return self.__status\n",
    "    def _set_status(self, status):\n",
    "        self.__status = status\n",
    "class Printer(Machine):\n",
    "    def start(self):\n",
    "        self._set_status(\"on\")\n",
    "        print(\"Printer started\")\n",
    "p = Printer()\n",
    "p.start()\n",
    "print(p.get_status())  "
   ]
  },
  {
   "cell_type": "code",
   "execution_count": 2,
   "id": "54c981f8",
   "metadata": {},
   "outputs": [],
   "source": [
    "# 10. What is the purpose of abstract methods, and how do they enforce abstraction in Python classes?\n",
    "Abstract methods are methods that are declared but not implemented in a class.\n",
    "Abstract methods make a class abstract, meaning you cannot create objects from that class directly.\n",
    "You must create subclasses that implement all abstract methods."
   ]
  },
  {
   "cell_type": "code",
   "execution_count": 4,
   "id": "98a12a4e",
   "metadata": {},
   "outputs": [
    {
     "name": "stdout",
     "output_type": "stream",
     "text": [
      "Car started\n",
      "Car stopped\n",
      "Bike started\n",
      "Bike stopped\n"
     ]
    }
   ],
   "source": [
    "# 11. Create a Python class for a vehicle system and demonstrate abstraction by defining common methods (e.g., `start()`, `stop()`) in an abstract base class.\n",
    "from abc import ABC, abstractmethod\n",
    "class Vehicle(ABC):\n",
    "    @abstractmethod\n",
    "    def start(self):\n",
    "        pass \n",
    "    @abstractmethod\n",
    "    def stop(self):\n",
    "        pass\n",
    "class Car(Vehicle):\n",
    "    def start(self):\n",
    "        print(\"Car started\")\n",
    "    def stop(self):\n",
    "        print(\"Car stopped\")\n",
    "class Bike(Vehicle):\n",
    "    def start(self):\n",
    "        print(\"Bike started\")\n",
    "    def stop(self):\n",
    "        print(\"Bike stopped\")\n",
    "car = Car()\n",
    "car.start()\n",
    "car.stop()\n",
    "bike = Bike()\n",
    "bike.start()\n",
    "bike.stop()"
   ]
  },
  {
   "cell_type": "code",
   "execution_count": 5,
   "id": "88109352",
   "metadata": {},
   "outputs": [
    {
     "name": "stdout",
     "output_type": "stream",
     "text": [
      "25\n"
     ]
    }
   ],
   "source": [
    "# 12. Describe the use of abstract properties in Python and how they can be employed in abstract classes.\n",
    "#Abstract properties are like abstract methods, but for attributes (variables) instead of functions.\n",
    "#They let you define a property (like a variable) that subclasses must implement.\n",
    "#You declare them inside an abstract class to enforce that every subclass has to provide that property.\n",
    "from abc import ABC, abstractmethod\n",
    "class Shape(ABC):\n",
    "    @property\n",
    "    @abstractmethod\n",
    "    def area(self):\n",
    "        pass \n",
    "class Square(Shape):\n",
    "    def __init__(self, side):\n",
    "        self.side = side\n",
    "    @property\n",
    "    def area(self):\n",
    "        return self.side * self.side\n",
    "sq = Square(5)\n",
    "print(sq.area) "
   ]
  },
  {
   "cell_type": "code",
   "execution_count": 6,
   "id": "052fac2a",
   "metadata": {},
   "outputs": [
    {
     "name": "stdout",
     "output_type": "stream",
     "text": [
      "Vaibhav earns 80000\n",
      "Rahul earns 60000\n",
      "Raveen earns 50000\n"
     ]
    }
   ],
   "source": [
    "# 13. Create a Python class hierarchy for employees in a company (e.g., manager, developer, designer) and implement abstraction by defining a common `get_salary()` method.\n",
    "from abc import ABC, abstractmethod\n",
    "class Employee(ABC):\n",
    "    def __init__(self, name, salary):\n",
    "        self.name = name\n",
    "        self.salary = salary\n",
    "    @abstractmethod\n",
    "    def get_salary(self):\n",
    "        pass\n",
    "class Manager(Employee):\n",
    "    def get_salary(self):\n",
    "        return self.salary\n",
    "class Developer(Employee):\n",
    "    def get_salary(self):\n",
    "        return self.salary\n",
    "class Designer(Employee):\n",
    "    def get_salary(self):\n",
    "        return self.salary\n",
    "manager = Manager(\"Vaibhav\", 80000)\n",
    "developer = Developer(\"Rahul\", 60000)\n",
    "designer = Designer(\"Raveen\", 50000)\n",
    "print(f\"{manager.name} earns {manager.get_salary()}\")\n",
    "print(f\"{developer.name} earns {developer.get_salary()}\")\n",
    "print(f\"{designer.name} earns {designer.get_salary()}\")"
   ]
  },
  {
   "cell_type": "code",
   "execution_count": null,
   "id": "6989489e",
   "metadata": {},
   "outputs": [],
   "source": [
    "# 14. Discuss the differences between abstract classes and concrete classes in Python, including their instantiation.\n",
    "Concrete Classes\n",
    "Definition: Classes that implement all methods, including any abstract ones.\n",
    "Purpose: Represent actual objects you can create and use.\n",
    "Instantiation: You can create objects from concrete classes.\n",
    "Abstract Classes\n",
    "Definition: Classes that contain one or more abstract methods (methods declared but not implemented).\n",
    "Purpose: Serve as a blueprint or template for other classes.\n",
    "Instantiation: Cannot create objects (instances) directly from abstract classes."
   ]
  },
  {
   "cell_type": "code",
   "execution_count": null,
   "id": "f7e38a66",
   "metadata": {},
   "outputs": [],
   "source": [
    "# 15. Explain the concept of abstract data types (ADTs) and their role in achieving abstraction in Python.\n",
    "Abstract Data Types (ADTs) are data models defined by their behavior (operations) rather than \n",
    "implementation details.\n",
    "In Python, ADTs help achieve abstraction by allowing programmers to focus on what data does \n",
    "(like a list or stack) without worrying about how it's implemented"
   ]
  },
  {
   "cell_type": "code",
   "execution_count": 8,
   "id": "066080a4",
   "metadata": {},
   "outputs": [
    {
     "name": "stdout",
     "output_type": "stream",
     "text": [
      "Laptop on\n",
      "Laptop off\n"
     ]
    }
   ],
   "source": [
    "# 16. Create a Python class for a computer system, demonstrating abstraction by defining common methods (e.g., `power_on()`, `shutdown()`) in an abstract base class.\n",
    "from abc import ABC, abstractmethod\n",
    "class Computer(ABC):\n",
    "    @abstractmethod\n",
    "    def power_on(self):\n",
    "        pass\n",
    "    @abstractmethod\n",
    "    def shutdown(self):\n",
    "        pass\n",
    "class Laptop(Computer):\n",
    "    def power_on(self):\n",
    "        print(\"Laptop on\")\n",
    "    def shutdown(self):\n",
    "        print(\"Laptop off\")\n",
    "l = Laptop()\n",
    "l.power_on()\n",
    "l.shutdown()"
   ]
  },
  {
   "cell_type": "code",
   "execution_count": null,
   "id": "46750119",
   "metadata": {},
   "outputs": [],
   "source": [
    "# 17. Discuss the benefits of using abstraction in large-scale software development projects.\n",
    "Abstraction simplifies complex systems by hiding unnecessary details and exposing only essential features, \n",
    "making code easier to manage and understand."
   ]
  },
  {
   "cell_type": "code",
   "execution_count": null,
   "id": "af70f4ef",
   "metadata": {},
   "outputs": [],
   "source": [
    "# 18. Explain how abstraction enhances code reusability and modularity in Python programs.\n",
    "Abstraction allows programmers to create generalized interfaces or classes that hide implementation details,\n",
    "so different parts of a program can use these interfaces without knowing the inner workings. "
   ]
  },
  {
   "cell_type": "code",
   "execution_count": 7,
   "id": "fa01588e",
   "metadata": {},
   "outputs": [
    {
     "name": "stdout",
     "output_type": "stream",
     "text": [
      "Added \"Python Programming\"\n",
      "Borrowed \"Python Programming\"\n",
      "\"Data Science\" is not available\n"
     ]
    }
   ],
   "source": [
    "# 19. Create a Python class for a library system, implementing abstraction by defining common methods (e.g., `add_book()`, `borrow_book()`) in an abstract base class.\n",
    "from abc import ABC, abstractmethod\n",
    "class Library(ABC):\n",
    "    @abstractmethod\n",
    "    def add_book(self, book):\n",
    "        pass\n",
    "    @abstractmethod\n",
    "    def borrow_book(self, book):\n",
    "        pass\n",
    "class CityLibrary(Library):\n",
    "    def __init__(self):\n",
    "        self.books = []\n",
    "    def add_book(self, book):\n",
    "        self.books.append(book)\n",
    "        print(f'Added \"{book}\"')\n",
    "    def borrow_book(self, book):\n",
    "        if book in self.books:\n",
    "            self.books.remove(book)\n",
    "            print(f'Borrowed \"{book}\"')\n",
    "        else:\n",
    "            print(f'\"{book}\" is not available')\n",
    "library = CityLibrary()\n",
    "library.add_book(\"Python Programming\")\n",
    "library.borrow_book(\"Python Programming\")\n",
    "library.borrow_book(\"Data Science\")\n"
   ]
  },
  {
   "cell_type": "code",
   "execution_count": null,
   "id": "1e4ff01e",
   "metadata": {},
   "outputs": [],
   "source": [
    "# 20. Describe the concept of method abstraction in Python and how it relates to polymorphism.\n",
    "Abstraction in Python means hiding the complex details of a method’s implementation and showing only \n",
    "the method’s name and purpose. \n",
    "It lets different classes define the same method name with their own behavior.\n",
    "This relates to polymorphism, where objects of different classes can be used interchangeably through a \n",
    "common method interface, enabling the same method call to behave differently based on the object’s class."
   ]
  }
 ],
 "metadata": {
  "kernelspec": {
   "display_name": "Python 3 (ipykernel)",
   "language": "python",
   "name": "python3"
  },
  "language_info": {
   "codemirror_mode": {
    "name": "ipython",
    "version": 3
   },
   "file_extension": ".py",
   "mimetype": "text/x-python",
   "name": "python",
   "nbconvert_exporter": "python",
   "pygments_lexer": "ipython3",
   "version": "3.11.7"
  }
 },
 "nbformat": 4,
 "nbformat_minor": 5
}
