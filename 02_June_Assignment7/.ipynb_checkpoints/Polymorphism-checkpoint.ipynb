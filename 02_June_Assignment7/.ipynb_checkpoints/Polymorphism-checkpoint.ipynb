{
 "cells": [
  {
   "cell_type": "code",
   "execution_count": null,
   "id": "e72205b7",
   "metadata": {},
   "outputs": [],
   "source": [
    "\n",
    "# 7. Discuss the use of abstract methods and classes in achieving polymorphism in Python. Provide an example\n",
    "# using the `abc` module.\n",
    "# 8. Create a Python class hierarchy for a vehicle system (e.g., car, bicycle, boat) and implement a polymorphic `start()` method that prints a message specific to each vehicle type.\n",
    "# 9. Explain the significance of the `isinstance()` and `issubclass()` functions in Python polymorphism.\n",
    "# 10. What is the role of the `@abstractmethod` decorator in achieving polymorphism in Python? Provide an\n",
    "# example.\n",
    "# 11. Create a Python class called `Shape` with a polymorphic method `area()` that calculates the area of different shapes (e.g., circle, rectangle, triangle).\n",
    "# 12. Discuss the benefits of polymorphism in terms of code reusability and flexibility in Python programs.\n",
    "# 13. Explain the use of the `super()` function in Python polymorphism. How does it help call methods of parent\n",
    "# classes?\n",
    "# 14. Create a Python class hierarchy for a banking system with various account types (e.g., savings, checking, credit card) and demonstrate polymorphism by implementing a common `withdraw()` method.\n",
    "# 15. Describe the concept of operator overloading in Python and how it relates to polymorphism. Provide\n",
    "# examples using operators like `+` and `*`.\n",
    "# 16. What is dynamic polymorphism, and how is it achieved in Python?\n",
    "# 17. Create a Python class hierarchy for employees in a company (e.g., manager, developer, designer) and implement polymorphism through a common `calculate_salary()` method.\n",
    "# 18. Discuss the concept of function pointers and how they can be used to achieve polymorphism in Python.\n",
    "# 19. Explain the role of interfaces and abstract classes in polymorphism, drawing comparisons between them.\n",
    "# 20. Create a Python class for a zoo simulation, demonstrating polymorphism with different animal types (e.g., mammals, birds, reptiles) and their behavior (e.g., eating, sleeping, making sounds).\n"
   ]
  },
  {
   "cell_type": "code",
   "execution_count": null,
   "id": "9d7e4679",
   "metadata": {},
   "outputs": [],
   "source": [
    "# 1. What is polymorphism in Python? Explain how it is related to object-oriented programming.\n",
    "It allows the same method to work with different data types or classes.\n",
    "Different classes can have methods with the same name.\n",
    "When you call that method on an object, the correct version is executed.\n",
    "Enables method overriding and dynamic method dispatch."
   ]
  },
  {
   "cell_type": "code",
   "execution_count": null,
   "id": "23909bf5",
   "metadata": {},
   "outputs": [],
   "source": [
    "# 2. Describe the difference between compile-time polymorphism and runtime polymorphism in Python.\n",
    " Runtime Polymorphism:\n",
    "        Achieved using inheritance.\n",
    "        Child class overrides a method of the parent class.\n",
    "Compile-Time Polymorphism:\n",
    "    Not directly supported in Python.\n",
    "    But you can achieve similar behavior using default arguments."
   ]
  },
  {
   "cell_type": "code",
   "execution_count": 4,
   "id": "1ebe9e2c",
   "metadata": {},
   "outputs": [
    {
     "name": "stdout",
     "output_type": "stream",
     "text": [
      "12.56\n",
      "16\n"
     ]
    }
   ],
   "source": [
    "'''3. Create a Python class hierarchy for shapes (e.g., circle, square, triangle) and demonstrate polymorphism\n",
    " through a common method, such as `calculate_area()`.'''\n",
    "class Shape:\n",
    "    def calculate_area(self):\n",
    "        pass\n",
    "class circle(Shape):\n",
    "    def __init__(self,radius):\n",
    "        self.radius=radius\n",
    "    def calculate_area(self):\n",
    "        return 3.14 *self.radius*self.radius\n",
    "class square(Shape):\n",
    "    def __init__(self,length):\n",
    "        self.length=length\n",
    "    def calculate_area(self):\n",
    "        return self.length*self.length\n",
    "obj=circle(2)\n",
    "obj2=square(4)\n",
    "print(obj.calculate_area())\n",
    "print(obj2.calculate_area())"
   ]
  },
  {
   "cell_type": "code",
   "execution_count": 6,
   "id": "2c59fe01",
   "metadata": {},
   "outputs": [
    {
     "name": "stdout",
     "output_type": "stream",
     "text": [
      "Animal makes a sound\n",
      "Dog barks\n"
     ]
    }
   ],
   "source": [
    "# 4. Explain the concept of method overriding in polymorphism. Provide an example.\n",
    "'''Method overriding is when a child class changes behaviour of a method of parent class by rewriting functioning \n",
    "of it.'''\n",
    "class Animal:\n",
    "    def sound(self):\n",
    "        print(\"Animal makes a sound\")\n",
    "class Dog(Animal):\n",
    "    def sound(self):\n",
    "        print(\"Dog barks\")\n",
    "a = Animal()\n",
    "a.sound()  \n",
    "d = Dog()\n",
    "d.sound()"
   ]
  },
  {
   "cell_type": "code",
   "execution_count": 8,
   "id": "a2b0f20c",
   "metadata": {},
   "outputs": [
    {
     "name": "stdout",
     "output_type": "stream",
     "text": [
      "Animal makes a sound\n",
      "Dog barks\n",
      "2\n",
      "5\n",
      "9\n"
     ]
    }
   ],
   "source": [
    "# 5. How is polymorphism different from method overloading in Python? Provide examples for both.\n",
    "#Polymorphism is about different classes having the same method name with different behavior.\n",
    "#Method overloading is about using the same method name in one class with different parameters.\n",
    "class Animal:\n",
    "    def sound(self):\n",
    "        print(\"Animal makes a sound\")\n",
    "class Dog(Animal):\n",
    "    def sound(self):\n",
    "        print(\"Dog barks\")\n",
    "a = Animal()\n",
    "a.sound()  \n",
    "d = Dog()\n",
    "d.sound()\n",
    "\n",
    "class Calculator:\n",
    "    def add(self, a, b=0, c=0):\n",
    "        return a + b + c\n",
    "calc = Calculator()\n",
    "print(calc.add(2))        \n",
    "print(calc.add(2, 3))     \n",
    "print(calc.add(2, 3, 4))  \n"
   ]
  },
  {
   "cell_type": "code",
   "execution_count": 9,
   "id": "54851ad5",
   "metadata": {},
   "outputs": [
    {
     "name": "stdout",
     "output_type": "stream",
     "text": [
      "Dog barks\n",
      "Bird cheees\n",
      "Cat meow\n"
     ]
    }
   ],
   "source": [
    "'''6. Create a Python class called `Animal` with a method `speak()`. Then, create child classes like \n",
    "`Dog`, `Cat`, and `Bird`, each with their own `speak()` method. Demonstrate polymorphism by calling the \n",
    "`speak()` method on objects of different subclasses.'''\n",
    "\n",
    "class Animal:\n",
    "    def sound(self):\n",
    "        pass\n",
    "class Dog(Animal):\n",
    "    def sound(self):\n",
    "        print(\"Dog barks\")\n",
    "class Cat(Animal):\n",
    "    def sound(self):\n",
    "        print(\"Cat meow\")  \n",
    "class Bird(Animal):\n",
    "    def sound(self):\n",
    "        print(\"Bird cheees\")\n",
    "d = Dog()\n",
    "d.sound()\n",
    "b=Bird()\n",
    "b.sound()\n",
    "c=Cat()\n",
    "c.sound()"
   ]
  }
 ],
 "metadata": {
  "kernelspec": {
   "display_name": "Python 3 (ipykernel)",
   "language": "python",
   "name": "python3"
  },
  "language_info": {
   "codemirror_mode": {
    "name": "ipython",
    "version": 3
   },
   "file_extension": ".py",
   "mimetype": "text/x-python",
   "name": "python",
   "nbconvert_exporter": "python",
   "pygments_lexer": "ipython3",
   "version": "3.11.7"
  }
 },
 "nbformat": 4,
 "nbformat_minor": 5
}
