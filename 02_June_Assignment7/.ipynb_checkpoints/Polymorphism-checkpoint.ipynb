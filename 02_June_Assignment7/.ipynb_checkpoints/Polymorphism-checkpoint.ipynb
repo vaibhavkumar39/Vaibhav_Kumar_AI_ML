{
 "cells": [
  {
   "cell_type": "code",
   "execution_count": null,
   "id": "9d7e4679",
   "metadata": {},
   "outputs": [],
   "source": [
    "# 1. What is polymorphism in Python? Explain how it is related to object-oriented programming.\n",
    "It allows the same method to work with different data types or classes.\n",
    "Different classes can have methods with the same name.\n",
    "When you call that method on an object, the correct version is executed.\n",
    "Enables method overriding and dynamic method dispatch."
   ]
  },
  {
   "cell_type": "code",
   "execution_count": null,
   "id": "23909bf5",
   "metadata": {},
   "outputs": [],
   "source": [
    "# 2. Describe the difference between compile-time polymorphism and runtime polymorphism in Python.\n",
    " Runtime Polymorphism:\n",
    "        Achieved using inheritance.\n",
    "        Child class overrides a method of the parent class.\n",
    "Compile-Time Polymorphism:\n",
    "    Not directly supported in Python.\n",
    "    But you can achieve similar behavior using default arguments."
   ]
  },
  {
   "cell_type": "code",
   "execution_count": 4,
   "id": "1ebe9e2c",
   "metadata": {},
   "outputs": [
    {
     "name": "stdout",
     "output_type": "stream",
     "text": [
      "12.56\n",
      "16\n"
     ]
    }
   ],
   "source": [
    "'''3. Create a Python class hierarchy for shapes (e.g., circle, square, triangle) and demonstrate polymorphism\n",
    " through a common method, such as `calculate_area()`.'''\n",
    "class Shape:\n",
    "    def calculate_area(self):\n",
    "        pass\n",
    "class circle(Shape):\n",
    "    def __init__(self,radius):\n",
    "        self.radius=radius\n",
    "    def calculate_area(self):\n",
    "        return 3.14 *self.radius*self.radius\n",
    "class square(Shape):\n",
    "    def __init__(self,length):\n",
    "        self.length=length\n",
    "    def calculate_area(self):\n",
    "        return self.length*self.length\n",
    "obj=circle(2)\n",
    "obj2=square(4)\n",
    "print(obj.calculate_area())\n",
    "print(obj2.calculate_area())"
   ]
  },
  {
   "cell_type": "code",
   "execution_count": 6,
   "id": "2c59fe01",
   "metadata": {},
   "outputs": [
    {
     "name": "stdout",
     "output_type": "stream",
     "text": [
      "Animal makes a sound\n",
      "Dog barks\n"
     ]
    }
   ],
   "source": [
    "# 4. Explain the concept of method overriding in polymorphism. Provide an example.\n",
    "'''Method overriding is when a child class changes behaviour of a method of parent class by rewriting functioning \n",
    "of it.'''\n",
    "class Animal:\n",
    "    def sound(self):\n",
    "        print(\"Animal makes a sound\")\n",
    "class Dog(Animal):\n",
    "    def sound(self):\n",
    "        print(\"Dog barks\")\n",
    "a = Animal()\n",
    "a.sound()  \n",
    "d = Dog()\n",
    "d.sound()"
   ]
  },
  {
   "cell_type": "code",
   "execution_count": 8,
   "id": "a2b0f20c",
   "metadata": {},
   "outputs": [
    {
     "name": "stdout",
     "output_type": "stream",
     "text": [
      "Animal makes a sound\n",
      "Dog barks\n",
      "2\n",
      "5\n",
      "9\n"
     ]
    }
   ],
   "source": [
    "# 5. How is polymorphism different from method overloading in Python? Provide examples for both.\n",
    "#Polymorphism is about different classes having the same method name with different behavior.\n",
    "#Method overloading is about using the same method name in one class with different parameters.\n",
    "class Animal:\n",
    "    def sound(self):\n",
    "        print(\"Animal makes a sound\")\n",
    "class Dog(Animal):\n",
    "    def sound(self):\n",
    "        print(\"Dog barks\")\n",
    "a = Animal()\n",
    "a.sound()  \n",
    "d = Dog()\n",
    "d.sound()\n",
    "\n",
    "class Calculator:\n",
    "    def add(self, a, b=0, c=0):\n",
    "        return a + b + c\n",
    "calc = Calculator()\n",
    "print(calc.add(2))        \n",
    "print(calc.add(2, 3))     \n",
    "print(calc.add(2, 3, 4))  \n"
   ]
  },
  {
   "cell_type": "code",
   "execution_count": 9,
   "id": "54851ad5",
   "metadata": {},
   "outputs": [
    {
     "name": "stdout",
     "output_type": "stream",
     "text": [
      "Dog barks\n",
      "Bird cheees\n",
      "Cat meow\n"
     ]
    }
   ],
   "source": [
    "'''6. Create a Python class called `Animal` with a method `speak()`. Then, create child classes like \n",
    "`Dog`, `Cat`, and `Bird`, each with their own `speak()` method. Demonstrate polymorphism by calling the \n",
    "`speak()` method on objects of different subclasses.'''\n",
    "\n",
    "class Animal:\n",
    "    def sound(self):\n",
    "        pass\n",
    "class Dog(Animal):\n",
    "    def sound(self):\n",
    "        print(\"Dog barks\")\n",
    "class Cat(Animal):\n",
    "    def sound(self):\n",
    "        print(\"Cat meow\")  \n",
    "class Bird(Animal):\n",
    "    def sound(self):\n",
    "        print(\"Bird cheees\")\n",
    "d = Dog()\n",
    "d.sound()\n",
    "b=Bird()\n",
    "b.sound()\n",
    "c=Cat()\n",
    "c.sound()"
   ]
  },
  {
   "cell_type": "code",
   "execution_count": 1,
   "id": "89ba5e18",
   "metadata": {},
   "outputs": [
    {
     "name": "stdout",
     "output_type": "stream",
     "text": [
      "Bark\n",
      "Meow\n"
     ]
    }
   ],
   "source": [
    "# 7. Discuss the use of abstract methods and classes in achieving polymorphism in Python. Provide an example\n",
    "# using the `abc` module.\n",
    "from abc import ABC, abstractmethod\n",
    "class Animal(ABC):\n",
    "    @abstractmethod\n",
    "    def sound(self):\n",
    "        pass\n",
    "class Dog(Animal):\n",
    "    def sound(self):\n",
    "        return \"Bark\"\n",
    "class Cat(Animal):\n",
    "    def sound(self):\n",
    "        return \"Meow\"\n",
    "def animal_sound(animal):\n",
    "    print(animal.sound())\n",
    "dog = Dog()\n",
    "cat = Cat()\n",
    "animal_sound(dog)  \n",
    "animal_sound(cat)  "
   ]
  },
  {
   "cell_type": "code",
   "execution_count": 12,
   "id": "1afc5d2d",
   "metadata": {},
   "outputs": [
    {
     "name": "stdout",
     "output_type": "stream",
     "text": [
      "Car engine is starting with a roar!\n",
      "Bicycle is ready to pedal!\n",
      "Boat engine is starting on the water!\n"
     ]
    }
   ],
   "source": [
    "# 8. Create a Python class hierarchy for a vehicle system (e.g., car, bicycle, boat) and implement a polymorphic `start()` method that prints a message specific to each vehicle type.\n",
    "class Vehicle:\n",
    "    def start(self):\n",
    "        print(\"Starting the vehicle\")\n",
    "class Car(Vehicle):\n",
    "    def start(self):\n",
    "        print(\"Car engine is starting with a roar!\")\n",
    "class Bicycle(Vehicle):\n",
    "    def start(self):\n",
    "        print(\"Bicycle is ready to pedal!\")\n",
    "class Boat(Vehicle):\n",
    "    def start(self):\n",
    "        print(\"Boat engine is starting on the water!\")\n",
    "Car().start()\n",
    "Bicycle().start()\n",
    "Boat().start()"
   ]
  },
  {
   "cell_type": "code",
   "execution_count": null,
   "id": "7f874812",
   "metadata": {},
   "outputs": [],
   "source": [
    "# 9. Explain the significance of the `isinstance()` and `issubclass()` functions in Python polymorphism.\n",
    "isinstance() checks if an object is an instance of a class or its subclass.\n",
    "issubclass() checks if a class inherits from another class."
   ]
  },
  {
   "cell_type": "code",
   "execution_count": 14,
   "id": "407be19a",
   "metadata": {},
   "outputs": [
    {
     "name": "stdout",
     "output_type": "stream",
     "text": [
      "Drawing a circle\n",
      "Drawing a square\n"
     ]
    }
   ],
   "source": [
    "# 10. What is the role of the `@abstractmethod` decorator in achieving polymorphism in Python? Provide an example.\n",
    "#The @abstractmethod decorator makes a method in an abstract base class that must be implemented by any subclass.\n",
    "from abc import ABC, abstractmethod\n",
    "class Shape(ABC):\n",
    "    @abstractmethod\n",
    "    def draw(self):\n",
    "        pass\n",
    "class Circle(Shape):\n",
    "    def draw(self):\n",
    "        print(\"Drawing a circle\")\n",
    "class Square(Shape):\n",
    "    def draw(self):\n",
    "        print(\"Drawing a square\")\n",
    "Circle().draw()\n",
    "Square().draw()"
   ]
  },
  {
   "cell_type": "code",
   "execution_count": 23,
   "id": "ce9f1e3d",
   "metadata": {},
   "outputs": [
    {
     "data": {
      "text/plain": [
       "3.0"
      ]
     },
     "execution_count": 23,
     "metadata": {},
     "output_type": "execute_result"
    }
   ],
   "source": [
    "# 11. Create a Python class called `Shape` with a polymorphic method `area()` that calculates the area of different shapes (e.g., circle, rectangle, triangle).\n",
    "class Shape:\n",
    "    def area(self):\n",
    "        pass  \n",
    "class Circle(Shape):\n",
    "    def __init__(self, radius):\n",
    "        self.radius = radius\n",
    "    def area(self):\n",
    "        return 3.14 * self.radius ** 2\n",
    "class Rectangle(Shape):\n",
    "    def __init__(self, width, height):\n",
    "        self.width = width\n",
    "        self.height = height\n",
    "    def area(self):\n",
    "        return self.width * self.height\n",
    "class Triangle(Shape):\n",
    "    def __init__(self, base, height):\n",
    "        self.base = base\n",
    "        self.height = height\n",
    "    def area(self):\n",
    "        return 0.5 * self.base * self.height\n",
    "Circle(2).area()\n",
    "Rectangle(3,4).area()\n",
    "Triangle(2,3).area()"
   ]
  },
  {
   "cell_type": "code",
   "execution_count": null,
   "id": "54699095",
   "metadata": {},
   "outputs": [],
   "source": [
    "# 12. Discuss the benefits of polymorphism in terms of code reusability and flexibility in Python programs.\n",
    "Polymorphism allows different objects to be treated through a common interface, enabling the same code to work with various data types."
   ]
  },
  {
   "cell_type": "code",
   "execution_count": null,
   "id": "b8af5bb8",
   "metadata": {},
   "outputs": [],
   "source": [
    "# 13. Explain the use of the `super()` function in Python polymorphism. How does it help call methods of parent\n",
    "# classes?\n",
    "The super() function allows a subclass to call a method from its parent class. In polymorphism, \n",
    "it helps extend or modify parent behavior without rewriting it entirely,"
   ]
  },
  {
   "cell_type": "code",
   "execution_count": 24,
   "id": "cddf5d4c",
   "metadata": {},
   "outputs": [
    {
     "name": "stdout",
     "output_type": "stream",
     "text": [
      "Savings: Withdrawn 300. New balance: 700\n",
      "Checking: Withdrawn 300. New balance: 200\n",
      "Credit Card: Charged 300. New balance: 1700\n"
     ]
    }
   ],
   "source": [
    "# 14. Create a Python class hierarchy for a banking system with various account types (e.g., savings, checking, credit card) and demonstrate polymorphism by implementing a common `withdraw()` method.\n",
    "class BankAccount:\n",
    "    def __init__(self, owner, balance):\n",
    "        self.owner = owner\n",
    "        self.balance = balance\n",
    "    def withdraw(self, amount):\n",
    "        print(\"Withdrawing from bank account\")\n",
    "class SavingsAccount(BankAccount):\n",
    "    def withdraw(self, amount):\n",
    "        if amount <= self.balance:\n",
    "            self.balance -= amount\n",
    "            print(f\"Savings: Withdrawn {amount}. New balance: {self.balance}\")\n",
    "        else:\n",
    "            print(\"Savings: Insufficient funds\")\n",
    "class CheckingAccount(BankAccount):\n",
    "    def withdraw(self, amount):\n",
    "        self.balance -= amount\n",
    "        print(f\"Checking: Withdrawn {amount}. New balance: {self.balance}\")\n",
    "class CreditCardAccount(BankAccount):\n",
    "    def withdraw(self, amount):\n",
    "        self.balance -= amount\n",
    "        print(f\"Credit Card: Charged {amount}. New balance: {self.balance}\")\n",
    "savings = SavingsAccount(\"Vaibhav\", 1000)\n",
    "savings.withdraw(300)\n",
    "checking = CheckingAccount(\"Rahul\", 500)\n",
    "checking.withdraw(300)\n",
    "credit = CreditCardAccount(\"Sumit\", 2000)\n",
    "credit.withdraw(300)"
   ]
  },
  {
   "cell_type": "code",
   "execution_count": 25,
   "id": "c9fd2b67",
   "metadata": {},
   "outputs": [
    {
     "name": "stdout",
     "output_type": "stream",
     "text": [
      "8\n",
      "15\n"
     ]
    }
   ],
   "source": [
    "# 15. Describe the concept of operator overloading in Python and how it relates to polymorphism. Provide\n",
    "# examples using operators like `+` and `*`.\n",
    "#Operator overloading lets you use normal operators like + or * with your own objects. \n",
    "class Number:\n",
    "    def __init__(self, value):\n",
    "        self.value = value\n",
    "    def add(self, other):\n",
    "        return Number(self.value + other.value)\n",
    "    def multiply(self, other):\n",
    "        return Number(self.value * other.value)\n",
    "    def show(self):\n",
    "        print(self.value)\n",
    "a = Number(5)\n",
    "b = Number(3)\n",
    "result_add = a.add(b)\n",
    "result_mul = a.multiply(b)\n",
    "result_add.show() \n",
    "result_mul.show() "
   ]
  },
  {
   "cell_type": "code",
   "execution_count": null,
   "id": "f6ebf845",
   "metadata": {},
   "outputs": [],
   "source": [
    "# 16. What is dynamic polymorphism, and how is it achieved in Python?\n",
    "Dynamic polymorphism means that the method that gets called is determined at runtime based on the object’s actual type. \n",
    "In Python, it’s achieved through method overriding in subclasses. "
   ]
  },
  {
   "cell_type": "code",
   "execution_count": 26,
   "id": "c677d657",
   "metadata": {},
   "outputs": [
    {
     "name": "stdout",
     "output_type": "stream",
     "text": [
      "Vaibhav: Manager salary is 8000\n",
      "Rahul: Developer salary is 6000\n",
      "Sumit: Designer salary is 5000\n"
     ]
    }
   ],
   "source": [
    "# 17. Create a Python class hierarchy for employees in a company (e.g., manager, developer, designer) and implement polymorphism through a common `calculate_salary()` method.\n",
    "class Employee:\n",
    "    def __init__(self, name):\n",
    "        self.name = name\n",
    "    def calculate_salary(self):\n",
    "        print(\"Calculating salary for employee\")\n",
    "class Manager(Employee):\n",
    "    def calculate_salary(self):\n",
    "        print(f\"{self.name}: Manager salary is 8000\")\n",
    "class Developer(Employee):\n",
    "    def calculate_salary(self):\n",
    "        print(f\"{self.name}: Developer salary is 6000\")\n",
    "class Designer(Employee):\n",
    "    def calculate_salary(self):\n",
    "        print(f\"{self.name}: Designer salary is 5000\")\n",
    "manager = Manager(\"Vaibhav\")\n",
    "developer = Developer(\"Rahul\")\n",
    "designer = Designer(\"Sumit\")\n",
    "manager.calculate_salary()\n",
    "developer.calculate_salary()\n",
    "designer.calculate_salary()"
   ]
  },
  {
   "cell_type": "code",
   "execution_count": null,
   "id": "27d700fd",
   "metadata": {},
   "outputs": [],
   "source": [
    "# 18. Discuss the concept of function pointers and how they can be used to achieve polymorphism in Python.\n",
    "Function pointers are references to functions that can be stored in variables and passed around like any other object. \n",
    "In Python, since functions are first-class objects, \n",
    "you can assign functions to variables or object attributes. "
   ]
  },
  {
   "cell_type": "code",
   "execution_count": null,
   "id": "5fa72905",
   "metadata": {},
   "outputs": [],
   "source": [
    "#19. Explain the role of interfaces and abstract classes in polymorphism, drawing comparisons between them.\n",
    "Interfaces only say what methods a class should have, but don’t give any code.\n",
    "Abstract classes can have some methods with code and some without."
   ]
  },
  {
   "cell_type": "code",
   "execution_count": 27,
   "id": "f1f07b72",
   "metadata": {},
   "outputs": [
    {
     "name": "stdout",
     "output_type": "stream",
     "text": [
      "Animal is eating\n",
      "Mammal sound\n",
      "Animal is sleeping\n",
      "Bird chirps\n",
      "Animal is eating\n",
      "Reptile hisses\n"
     ]
    }
   ],
   "source": [
    "# 20. Create a Python class for a zoo simulation, demonstrating polymorphism with different animal types (e.g., mammals, birds, reptiles) and their behavior (e.g., eating, sleeping, making sounds).\n",
    "class Animal:\n",
    "    def eat(self):\n",
    "        print(\"Animal is eating\")\n",
    "    def sleep(self):\n",
    "        print(\"Animal is sleeping\")\n",
    "    def make_sound(self):\n",
    "        print(\"Animal sound\")\n",
    "class Mammal(Animal):\n",
    "    def make_sound(self):\n",
    "        print(\"Mammal sound\")\n",
    "class Bird(Animal):\n",
    "    def make_sound(self):\n",
    "        print(\"Bird chirps\")\n",
    "class Reptile(Animal):\n",
    "    def make_sound(self):\n",
    "        print(\"Reptile hisses\")\n",
    "m = Mammal()\n",
    "b = Bird()\n",
    "r = Reptile()\n",
    "m.eat()\n",
    "m.make_sound()\n",
    "b.sleep()\n",
    "b.make_sound()\n",
    "r.eat()\n",
    "r.make_sound()"
   ]
  }
 ],
 "metadata": {
  "kernelspec": {
   "display_name": "Python 3 (ipykernel)",
   "language": "python",
   "name": "python3"
  },
  "language_info": {
   "codemirror_mode": {
    "name": "ipython",
    "version": 3
   },
   "file_extension": ".py",
   "mimetype": "text/x-python",
   "name": "python",
   "nbconvert_exporter": "python",
   "pygments_lexer": "ipython3",
   "version": "3.11.7"
  }
 },
 "nbformat": 4,
 "nbformat_minor": 5
}
