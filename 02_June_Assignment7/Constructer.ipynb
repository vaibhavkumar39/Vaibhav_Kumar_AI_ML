{
 "cells": [
  {
   "cell_type": "code",
   "execution_count": null,
   "id": "0b836381",
   "metadata": {},
   "outputs": [],
   "source": [
    "# 1. What is a constructor in Python? Explain its purpose and usage.\n",
    "Ans. Constructor is a method to initiate object in a class.Constructor method is names as \"__init__\".\n",
    "Its purpose is to set initial state of an object.It allows to assign vlaue to object data member.\n",
    "example:\n",
    "Class abc:\n",
    "    def __init__(self,number):\n",
    "        self.number=number"
   ]
  },
  {
   "cell_type": "code",
   "execution_count": null,
   "id": "409be8af",
   "metadata": {},
   "outputs": [],
   "source": [
    "# 2. Differentiate between a parameterless constructor and a parameterized constructor in Python.\n",
    "Ans. When there is an arguement passed in a constructer it is called parameterised constructer while when there\n",
    "is no arguement passed it is called parameterless constructor.\n",
    "example:\n",
    "Parameterised (Used for making default values)-\n",
    "   Class abc:\n",
    "    def __init__(self,number):\n",
    "        self.number=number \n",
    "Parameterless (Used for making values during object creation)-\n",
    "Class abc:\n",
    "    def __init__(self,number):\n",
    "        self.number=number"
   ]
  },
  {
   "cell_type": "code",
   "execution_count": null,
   "id": "69051b5a",
   "metadata": {},
   "outputs": [],
   "source": [
    "# 3. How do you define a constructor in a Python class? Provide an example.\n",
    "Ans. In python constructer are defined using special method __init__ .\n",
    "Example:\n",
    "Class abc:\n",
    "    def __init__(self,number):\n",
    "        self.number=number"
   ]
  },
  {
   "cell_type": "code",
   "execution_count": null,
   "id": "e015ba03",
   "metadata": {},
   "outputs": [],
   "source": [
    "# 4. Explain the `__init__` method in Python and its role in constructors.\n",
    "Ans.__init__ method is a special method used to make a constructer.It is automatically called when an object\n",
    "is created from a class."
   ]
  },
  {
   "cell_type": "code",
   "execution_count": 2,
   "id": "1e508b41",
   "metadata": {},
   "outputs": [
    {
     "name": "stdout",
     "output_type": "stream",
     "text": [
      "('Vaibhav', 22)\n"
     ]
    }
   ],
   "source": [
    "# 5. In a class named `Person`, create a constructor that initializes the `name` and `age` attributes. Provide an example of creating an object of this class.\n",
    "class Person:\n",
    "    def data(self,name,age):\n",
    "        self.name=name\n",
    "        self.age=age\n",
    "        return self.name,self.age\n",
    "output=Person()\n",
    "data=output.data(\"Vaibhav\",22)\n",
    "print(data)"
   ]
  },
  {
   "cell_type": "code",
   "execution_count": 12,
   "id": "dff58f01",
   "metadata": {},
   "outputs": [],
   "source": [
    "# 6. How can you call a constructor explicitly in Python? Give an example.\n",
    "#Ans. You can call a constructor directly by using class name.\n",
    "class Person:\n",
    "    def data(self,name):\n",
    "        self.name=name\n",
    "        return self.name\n",
    "output=Person(\"Vaibhav\")\n",
    "print(output.name)"
   ]
  },
  {
   "cell_type": "code",
   "execution_count": null,
   "id": "686ddd0b",
   "metadata": {},
   "outputs": [],
   "source": [
    "# 7. What is the significance of the `self` parameter in Python constructors? Explain with an example.\n",
    "Ans. It helps to know that on which python object you are working.It diffrentiate between class variable and local variable.\n",
    "Class abc:\n",
    "    def __init__(self,number):\n",
    "        self.number=number"
   ]
  },
  {
   "cell_type": "code",
   "execution_count": null,
   "id": "c4798196",
   "metadata": {},
   "outputs": [],
   "source": [
    "# 8. Discuss the concept of default constructors in Python. When are they used?\n",
    "Ans. A default constructor is a constructor that takes no areguement except self.It is used when you have to\n",
    "initialize object but has no attribute or when you have to initialize an object when there are no user defined\n",
    "constructer.\n",
    "Example: \n",
    "Class Person:\n",
    "    pass\n",
    "a=Person()\n",
    "print(a)"
   ]
  },
  {
   "cell_type": "code",
   "execution_count": 17,
   "id": "e03bed23",
   "metadata": {},
   "outputs": [
    {
     "name": "stdout",
     "output_type": "stream",
     "text": [
      "16\n"
     ]
    }
   ],
   "source": [
    "'''9. Create a Python class called `Rectangle` with a constructor that initializes the `width` and `height`\n",
    "attributes. Provide a method to calculate the area of the rectangle.'''\n",
    "class Rectangle:\n",
    "    def __init__(self,width,height):\n",
    "        self.width=width\n",
    "        self.height=height\n",
    "    def area(self):\n",
    "        return self.width*self.height\n",
    "obj=Rectangle(4,4)\n",
    "print(obj.area())"
   ]
  },
  {
   "cell_type": "code",
   "execution_count": null,
   "id": "263db0f9",
   "metadata": {},
   "outputs": [],
   "source": [
    "# 10. How can you have multiple constructors in a Python class? Explain with an example.\n",
    "Ans. By using default arguements in python we caan do this.\n",
    "Example:\n",
    "class Person:\n",
    "    def data(self,name=none,age=none):\n",
    "        self.name=name\n",
    "        self.age=age\n",
    "        \n",
    "output=Person()\n",
    "data=output.data(\"Vaibhav\",22)\n",
    "data2=output.data(\"Vaibhav\")"
   ]
  },
  {
   "cell_type": "code",
   "execution_count": null,
   "id": "d69046cc",
   "metadata": {},
   "outputs": [],
   "source": [
    "# 11. What is method overloading, and how is it related to constructors in Python?\n",
    "#Ans. Method overloading is when two methods with Sametime but different parameter.\n",
    "#Python cannit achieve tradirional overloading so defaault parameter is used with constructor to achieve so."
   ]
  },
  {
   "cell_type": "code",
   "execution_count": 2,
   "id": "d861c300",
   "metadata": {},
   "outputs": [
    {
     "data": {
      "text/plain": [
       "('a', 'b', 'c')"
      ]
     },
     "execution_count": 2,
     "metadata": {},
     "output_type": "execute_result"
    }
   ],
   "source": [
    "# 12. Explain the use of the `super()` function in Python constructors. Provide an example.\n",
    "#Ans. Super is used to inherit methods and variable from parents class without redecorating them.\n",
    "class abc:\n",
    "    def __init__(self,a,b):\n",
    "        self.a=a\n",
    "        self.b=b\n",
    "class abc2(abc):\n",
    "    def __init__(self,a,b,c):\n",
    "        super().__init__(a,b)\n",
    "        self.c=c\n",
    "    def show(self):\n",
    "        return self.a,self.b,self.c\n",
    "obj=abc2(\"a\",\"b\",\"c\")\n",
    "obj.show()"
   ]
  },
  {
   "cell_type": "code",
   "execution_count": 15,
   "id": "e4dc1009",
   "metadata": {},
   "outputs": [
    {
     "data": {
      "text/plain": [
       "('ABCD', 'Newman', 1978)"
      ]
     },
     "execution_count": 15,
     "metadata": {},
     "output_type": "execute_result"
    }
   ],
   "source": [
    "'''13. Create a class called `Book` with a constructor that initializes the `title`, `author`, and `published_year`\n",
    "attributes. Provide a method to display book details.\n",
    "'''\n",
    "class Book:\n",
    "    def __init__(self,title,author,published_year):\n",
    "        self.title=\"ABCD\"\n",
    "        self.author=\"Newman\"\n",
    "        self.published_year=1978\n",
    "    def show(self):\n",
    "        return self.title,self.author,self.published_year\n",
    "obj=Book(_,_,_)\n",
    "obj.show()"
   ]
  },
  {
   "cell_type": "code",
   "execution_count": null,
   "id": "97a0da7e",
   "metadata": {},
   "outputs": [],
   "source": [
    "# 14. Discuss the differences between constructors and regular methods in Python classes.\n",
    "Ans.Constructor are used to initialize object when created used with __init__ while regular methods are used\n",
    "to perform action or give output."
   ]
  },
  {
   "cell_type": "code",
   "execution_count": null,
   "id": "b65155be",
   "metadata": {},
   "outputs": [],
   "source": [
    "# 15. Explain the role of the `self` parameter in instance variable initialization within a constructor.\n",
    "self refers to the current object of the class.\n",
    "It is used to store values inside the object."
   ]
  },
  {
   "cell_type": "code",
   "execution_count": null,
   "id": "63515a3a",
   "metadata": {},
   "outputs": [],
   "source": [
    "# 16. How do you prevent a class from having multiple instances by using constructors in Python? Provide an example.\n"
   ]
  },
  {
   "cell_type": "code",
   "execution_count": 1,
   "id": "39bb2950",
   "metadata": {},
   "outputs": [
    {
     "data": {
      "text/plain": [
       "['maths', 'hindi', 'english']"
      ]
     },
     "execution_count": 1,
     "metadata": {},
     "output_type": "execute_result"
    }
   ],
   "source": [
    "'''17. Create a Python class called `Student` with a constructor that takes a list of subjects as a parameter and\n",
    "initializes the `subjects` attribute.\n",
    "'''\n",
    "class Student:\n",
    "    def __init__(self,subjects):\n",
    "        self.subjects=subjects\n",
    "    def show(self):\n",
    "        return self.subjects\n",
    "obj=Student([\"maths\",\"hindi\",\"english\"])\n",
    "obj.show()     "
   ]
  },
  {
   "cell_type": "code",
   "execution_count": 7,
   "id": "ef4c843d",
   "metadata": {},
   "outputs": [
    {
     "name": "stdout",
     "output_type": "stream",
     "text": [
      "hindi\n",
      "hindi\n",
      "hindi\n"
     ]
    }
   ],
   "source": [
    "# 18. What is the purpose of the `__del__` method in Python classes, and how does it relate to constructors?\n",
    "# Ans. __del__ is a destructor and is used when object is destroyed used to clean up resources.\n",
    "class Student:\n",
    "    def __init__(self,subjects):\n",
    "        self.subjects=subjects\n",
    "        print(self.subjects)\n",
    "    def __del__(self):\n",
    "        print(self.subjects)\n",
    "obj=Student(\"hindi\")\n",
    "del obj"
   ]
  },
  {
   "cell_type": "code",
   "execution_count": 8,
   "id": "0fa59d4c",
   "metadata": {},
   "outputs": [
    {
     "name": "stdout",
     "output_type": "stream",
     "text": [
      "Vaibhav\n",
      "71\n"
     ]
    }
   ],
   "source": [
    "# 19. Explain the use of constructor chaining in Python. Provide a practical example.\n",
    "'''Ans. Constructor chaining in Python refers to calling a constructor of a parent class from a \n",
    "child class constructor.'''\n",
    "class Person:\n",
    "    def __init__(self, name):\n",
    "        self.name = name\n",
    "        print(self.name)\n",
    "class Student(Person):\n",
    "    def __init__(self, name, roll_no):\n",
    "        super().__init__(name)\n",
    "        self.roll_no = roll_no\n",
    "        print(self.roll_no)\n",
    "s = Student(\"Vaibhav\", 71)"
   ]
  },
  {
   "cell_type": "code",
   "execution_count": 10,
   "id": "5eaf1d42",
   "metadata": {},
   "outputs": [
    {
     "name": "stdout",
     "output_type": "stream",
     "text": [
      "Company: Suzuki\n",
      "Model: Jimny\n"
     ]
    }
   ],
   "source": [
    "'''20. Create a Python class called `Car` with a default constructor that initializes the `make` and `model`\n",
    "attributes. Provide a method to display car information.'''\n",
    "class Car:\n",
    "    def __init__(self):\n",
    "        self.make=\"Suzuki\"\n",
    "        self.model=\"Jimny\"\n",
    "    def show(self):\n",
    "        print(f\"Company: {self.make}\")\n",
    "        print(f\"Model: {self.model}\")\n",
    "obj=Car()\n",
    "obj.show()"
   ]
  }
 ],
 "metadata": {
  "kernelspec": {
   "display_name": "Python 3 (ipykernel)",
   "language": "python",
   "name": "python3"
  },
  "language_info": {
   "codemirror_mode": {
    "name": "ipython",
    "version": 3
   },
   "file_extension": ".py",
   "mimetype": "text/x-python",
   "name": "python",
   "nbconvert_exporter": "python",
   "pygments_lexer": "ipython3",
   "version": "3.11.7"
  }
 },
 "nbformat": 4,
 "nbformat_minor": 5
}
