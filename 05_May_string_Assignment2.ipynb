{
 "cells": [
  {
   "cell_type": "code",
   "execution_count": 2,
   "id": "6dbb5329",
   "metadata": {},
   "outputs": [
    {
     "name": "stdout",
     "output_type": "stream",
     "text": [
      "Enter a string to be reversedjjjjkk\n",
      "kkjjjj\n"
     ]
    }
   ],
   "source": [
    "#1. Write a program to reverse a string.\n",
    "string=input(\"Enter a string to be reversed :)\n",
    "string2=string[::-1]\n",
    "print(string2)"
   ]
  },
  {
   "cell_type": "code",
   "execution_count": 4,
   "id": "3550ecbe",
   "metadata": {},
   "outputs": [
    {
     "name": "stdout",
     "output_type": "stream",
     "text": [
      "Enter a string to be reversedHHJJ\n",
      "Not a palindrome\n"
     ]
    }
   ],
   "source": [
    "#2. Check if a string is a palindrome.\n",
    "string=input(\"Enter a string to check :\")\n",
    "string2=string[::-1]\n",
    "if string==string2:\n",
    "    print(\"It is a palindrome\")\n",
    "else:\n",
    "    print(\"Not a palindrome\")"
   ]
  },
  {
   "cell_type": "code",
   "execution_count": 7,
   "id": "e9b0f829",
   "metadata": {},
   "outputs": [
    {
     "name": "stdout",
     "output_type": "stream",
     "text": [
      "Enter a string to be reversed :sc\n",
      "SC\n"
     ]
    }
   ],
   "source": [
    "#3. Convert a string to uppercase.\n",
    "string=input(\"Enter a string to covert in uppercase :\")\n",
    "print(string.upper())"
   ]
  },
  {
   "cell_type": "code",
   "execution_count": null,
   "id": "e396aa28",
   "metadata": {},
   "outputs": [
    {
     "name": "stdout",
     "output_type": "stream",
     "text": [
      "Enter a string to covert in lowercase :GG\n"
     ]
    }
   ],
   "source": [
    "#4. Convert a string to lowercase.\n",
    "string=input(\"Enter a string to covert in lowercase :\")\n",
    "print(string.lower())"
   ]
  },
  {
   "cell_type": "code",
   "execution_count": 33,
   "id": "f88abf02",
   "metadata": {},
   "outputs": [
    {
     "name": "stdout",
     "output_type": "stream",
     "text": [
      "Enter a string to count :eee\n",
      "3\n"
     ]
    }
   ],
   "source": [
    "#5. Count the number of vowels in a string.\n",
    "vowel=\"aeiou\"\n",
    "count=0\n",
    "string=str(input(\"Enter a string to count :\"))\n",
    "string.lower()\n",
    "for i in string:\n",
    "    if i in vowel:\n",
    "        count+=1\n",
    "print(count)"
   ]
  },
  {
   "cell_type": "code",
   "execution_count": 36,
   "id": "77657626",
   "metadata": {},
   "outputs": [
    {
     "name": "stdout",
     "output_type": "stream",
     "text": [
      "Enter a string to count :eerrt\n",
      "3\n"
     ]
    }
   ],
   "source": [
    "#6. Count the number of consonants in a string.\n",
    "vowel=\"aeiou\"\n",
    "count=0\n",
    "string=str(input(\"Enter a string to count :\"))\n",
    "string.lower()\n",
    "for i in string:\n",
    "    if i not in vowel:\n",
    "        count+=1\n",
    "print(count)"
   ]
  },
  {
   "cell_type": "code",
   "execution_count": 52,
   "id": "2f1e633e",
   "metadata": {},
   "outputs": [
    {
     "name": "stdout",
     "output_type": "stream",
     "text": [
      "Enter a string to remove space: f f f\n",
      "String without spaces: fff\n"
     ]
    }
   ],
   "source": [
    "#7. Remove all whitespaces from a string.\n",
    "string = input(\"Enter a string to remove space: \")\n",
    "string2 = \"\"\n",
    "space = \" \"\n",
    "for i in string:\n",
    "    if i != space: \n",
    "        string2 += i  \n",
    "print(\"String without spaces:\", string2)"
   ]
  },
  {
   "cell_type": "code",
   "execution_count": 6,
   "id": "708e1514",
   "metadata": {},
   "outputs": [
    {
     "name": "stdout",
     "output_type": "stream",
     "text": [
      "Enter a string to find length: sss\n",
      "The length of the string is 3\n"
     ]
    }
   ],
   "source": [
    "#8. Find the length of a string without using the `len()` function.\n",
    "length=0\n",
    "string = str(input(\"Enter a string to find length: \"))\n",
    "for i in string:\n",
    "    length+=1\n",
    "print(f\"The length of the string is {length}\")"
   ]
  },
  {
   "cell_type": "code",
   "execution_count": 21,
   "id": "99b4d94b",
   "metadata": {},
   "outputs": [
    {
     "name": "stdout",
     "output_type": "stream",
     "text": [
      "Enter a string: How are you\n",
      "Enter word you want to find: ARE\n",
      "available\n"
     ]
    }
   ],
   "source": [
    "#9. Check if a string contains a specific word.\n",
    "string = str(input(\"Enter a string: \"))\n",
    "string2= str(input(\"Enter word you want to find: \"))\n",
    "string=string.lower()\n",
    "string2=string2.lower()\n",
    "if string2 in string:\n",
    "    print(\"available\")\n",
    "else:\n",
    "    print(\"Not available\")"
   ]
  },
  {
   "cell_type": "code",
   "execution_count": null,
   "id": "594f9c54",
   "metadata": {},
   "outputs": [],
   "source": [
    "#10. Replace a word in a string with another word.\n",
    "string = str(input(\"Enter a string: \"))\n",
    "string2= str(input(\"Enter word you want to replace: \"))\n",
    "string3= str(input(\"Enter word you want to insert: \"))\n"
   ]
  }
 ],
 "metadata": {
  "kernelspec": {
   "display_name": "Python 3 (ipykernel)",
   "language": "python",
   "name": "python3"
  },
  "language_info": {
   "codemirror_mode": {
    "name": "ipython",
    "version": 3
   },
   "file_extension": ".py",
   "mimetype": "text/x-python",
   "name": "python",
   "nbconvert_exporter": "python",
   "pygments_lexer": "ipython3",
   "version": "3.11.7"
  }
 },
 "nbformat": 4,
 "nbformat_minor": 5
}
